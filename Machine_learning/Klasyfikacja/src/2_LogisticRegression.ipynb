{
 "cells": [
  {
   "cell_type": "markdown",
   "metadata": {
    "id": "DN1V1CgEgq_a"
   },
   "source": [
    "Sklonujmy sobie najpierw repozytorium z danymi"
   ]
  },
  {
   "cell_type": "code",
   "execution_count": 1,
   "metadata": {
    "colab": {
     "base_uri": "https://localhost:8080/"
    },
    "executionInfo": {
     "elapsed": 4751,
     "status": "ok",
     "timestamp": 1616243756945,
     "user": {
      "displayName": "Oskar Duda",
      "photoUrl": "",
      "userId": "06088257986685215787"
     },
     "user_tz": -60
    },
    "id": "wBFyDWHqgq_a",
    "outputId": "b756a76a-0bf5-425f-9abe-e15d844e8fdb"
   },
   "outputs": [
    {
     "name": "stderr",
     "output_type": "stream",
     "text": [
      "fatal: destination path 'ML-datasets' already exists and is not an empty directory.\n"
     ]
    }
   ],
   "source": [
    "!git clone https://github.com/matzim95/ML-datasets"
   ]
  },
  {
   "cell_type": "markdown",
   "metadata": {
    "colab": {
     "base_uri": "https://localhost:8080/"
    },
    "executionInfo": {
     "elapsed": 582,
     "status": "ok",
     "timestamp": 1616243763563,
     "user": {
      "displayName": "Oskar Duda",
      "photoUrl": "",
      "userId": "06088257986685215787"
     },
     "user_tz": -60
    },
    "id": "WG8QguNaonip",
    "outputId": "33b5a52f-c626-4e63-d5b2-400390e027bc"
   },
   "source": [
    "!ls ML-dataset"
   ]
  },
  {
   "cell_type": "markdown",
   "metadata": {
    "id": "X7AbBWrXgq_h"
   },
   "source": [
    "# Budowa modelu na danych rzeczywistych"
   ]
  },
  {
   "cell_type": "code",
   "execution_count": 2,
   "metadata": {
    "executionInfo": {
     "elapsed": 736,
     "status": "ok",
     "timestamp": 1616244862738,
     "user": {
      "displayName": "Oskar Duda",
      "photoUrl": "",
      "userId": "06088257986685215787"
     },
     "user_tz": -60
    },
    "id": "OFU1eEkjgq_h"
   },
   "outputs": [],
   "source": [
    "import pandas as pd\n",
    "import numpy as np\n",
    "import matplotlib.pyplot as plt\n",
    "\n",
    "def load_dataset(filename, class_column, index_col=None):\n",
    "    dataset = pd.read_csv(f'ML-datasets/{filename}.csv', index_col=index_col)\n",
    "    dataset['class'] = dataset[class_column].astype('category').cat.codes\n",
    "    classes = dataset.pop(class_column).unique()\n",
    "    return dataset, classes\n",
    "\n",
    "def prepare_dataset(dataset_name):\n",
    "    params = {'iris': {'class_column': 'species', 'index_col': None},\n",
    "              'wine': {'class_column': 'Class', 'index_col': None},\n",
    "              'glass': {'class_column': 'Type', 'index_col': 'ID'},\n",
    "              'diabetes': {'class_column': 'Class', 'index_col': None}}\n",
    "    dataset, classes = load_dataset(dataset_name,\n",
    "                                    **params[dataset_name])\n",
    "    y = dataset.pop('class')\n",
    "    X = dataset\n",
    "    return X, y, classes"
   ]
  },
  {
   "cell_type": "markdown",
   "metadata": {},
   "source": [
    "Skorzystamy ze zbioru diabets"
   ]
  },
  {
   "cell_type": "code",
   "execution_count": 3,
   "metadata": {},
   "outputs": [],
   "source": [
    "X,y,classes = prepare_dataset('diabetes')"
   ]
  },
  {
   "cell_type": "code",
   "execution_count": 4,
   "metadata": {},
   "outputs": [
    {
     "data": {
      "text/html": [
       "<div>\n",
       "<style scoped>\n",
       "    .dataframe tbody tr th:only-of-type {\n",
       "        vertical-align: middle;\n",
       "    }\n",
       "\n",
       "    .dataframe tbody tr th {\n",
       "        vertical-align: top;\n",
       "    }\n",
       "\n",
       "    .dataframe thead th {\n",
       "        text-align: right;\n",
       "    }\n",
       "</style>\n",
       "<table border=\"1\" class=\"dataframe\">\n",
       "  <thead>\n",
       "    <tr style=\"text-align: right;\">\n",
       "      <th></th>\n",
       "      <th>Number of times pregnant</th>\n",
       "      <th>Plasma glucose concentration</th>\n",
       "      <th>Diastolic blood pressure</th>\n",
       "      <th>Triceps skin fold thickness</th>\n",
       "      <th>2-Hour serum insulin</th>\n",
       "      <th>Body mass index</th>\n",
       "      <th>Diabetes pedigree function</th>\n",
       "      <th>Age</th>\n",
       "    </tr>\n",
       "  </thead>\n",
       "  <tbody>\n",
       "    <tr>\n",
       "      <th>0</th>\n",
       "      <td>6</td>\n",
       "      <td>148</td>\n",
       "      <td>72</td>\n",
       "      <td>35</td>\n",
       "      <td>0</td>\n",
       "      <td>33.6</td>\n",
       "      <td>0.627</td>\n",
       "      <td>50</td>\n",
       "    </tr>\n",
       "    <tr>\n",
       "      <th>1</th>\n",
       "      <td>1</td>\n",
       "      <td>85</td>\n",
       "      <td>66</td>\n",
       "      <td>29</td>\n",
       "      <td>0</td>\n",
       "      <td>26.6</td>\n",
       "      <td>0.351</td>\n",
       "      <td>31</td>\n",
       "    </tr>\n",
       "    <tr>\n",
       "      <th>2</th>\n",
       "      <td>8</td>\n",
       "      <td>183</td>\n",
       "      <td>64</td>\n",
       "      <td>0</td>\n",
       "      <td>0</td>\n",
       "      <td>23.3</td>\n",
       "      <td>0.672</td>\n",
       "      <td>32</td>\n",
       "    </tr>\n",
       "    <tr>\n",
       "      <th>3</th>\n",
       "      <td>1</td>\n",
       "      <td>89</td>\n",
       "      <td>66</td>\n",
       "      <td>23</td>\n",
       "      <td>94</td>\n",
       "      <td>28.1</td>\n",
       "      <td>0.167</td>\n",
       "      <td>21</td>\n",
       "    </tr>\n",
       "    <tr>\n",
       "      <th>4</th>\n",
       "      <td>0</td>\n",
       "      <td>137</td>\n",
       "      <td>40</td>\n",
       "      <td>35</td>\n",
       "      <td>168</td>\n",
       "      <td>43.1</td>\n",
       "      <td>2.288</td>\n",
       "      <td>33</td>\n",
       "    </tr>\n",
       "  </tbody>\n",
       "</table>\n",
       "</div>"
      ],
      "text/plain": [
       "   Number of times pregnant  Plasma glucose concentration  \\\n",
       "0                         6                           148   \n",
       "1                         1                            85   \n",
       "2                         8                           183   \n",
       "3                         1                            89   \n",
       "4                         0                           137   \n",
       "\n",
       "   Diastolic blood pressure  Triceps skin fold thickness  \\\n",
       "0                        72                           35   \n",
       "1                        66                           29   \n",
       "2                        64                            0   \n",
       "3                        66                           23   \n",
       "4                        40                           35   \n",
       "\n",
       "   2-Hour serum insulin  Body mass index  Diabetes pedigree function  Age  \n",
       "0                     0             33.6                       0.627   50  \n",
       "1                     0             26.6                       0.351   31  \n",
       "2                     0             23.3                       0.672   32  \n",
       "3                    94             28.1                       0.167   21  \n",
       "4                   168             43.1                       2.288   33  "
      ]
     },
     "execution_count": 4,
     "metadata": {},
     "output_type": "execute_result"
    }
   ],
   "source": [
    "X.head()"
   ]
  },
  {
   "cell_type": "code",
   "execution_count": 5,
   "metadata": {},
   "outputs": [
    {
     "data": {
      "text/plain": [
       "0    500\n",
       "1    268\n",
       "Name: class, dtype: int64"
      ]
     },
     "execution_count": 5,
     "metadata": {},
     "output_type": "execute_result"
    }
   ],
   "source": [
    "y.value_counts()"
   ]
  },
  {
   "cell_type": "markdown",
   "metadata": {},
   "source": [
    "Podejrzyjmy co to za zbór"
   ]
  },
  {
   "cell_type": "code",
   "execution_count": 6,
   "metadata": {},
   "outputs": [
    {
     "data": {
      "text/plain": [
       "array(['positive', 'negative'], dtype=object)"
      ]
     },
     "execution_count": 6,
     "metadata": {},
     "output_type": "execute_result"
    }
   ],
   "source": [
    "classes"
   ]
  },
  {
   "cell_type": "code",
   "execution_count": 7,
   "metadata": {
    "scrolled": true
   },
   "outputs": [
    {
     "data": {
      "text/html": [
       "<div>\n",
       "<style scoped>\n",
       "    .dataframe tbody tr th:only-of-type {\n",
       "        vertical-align: middle;\n",
       "    }\n",
       "\n",
       "    .dataframe tbody tr th {\n",
       "        vertical-align: top;\n",
       "    }\n",
       "\n",
       "    .dataframe thead th {\n",
       "        text-align: right;\n",
       "    }\n",
       "</style>\n",
       "<table border=\"1\" class=\"dataframe\">\n",
       "  <thead>\n",
       "    <tr style=\"text-align: right;\">\n",
       "      <th></th>\n",
       "      <th>Number of times pregnant</th>\n",
       "      <th>Plasma glucose concentration</th>\n",
       "      <th>Diastolic blood pressure</th>\n",
       "      <th>Triceps skin fold thickness</th>\n",
       "      <th>2-Hour serum insulin</th>\n",
       "      <th>Body mass index</th>\n",
       "      <th>Diabetes pedigree function</th>\n",
       "      <th>Age</th>\n",
       "    </tr>\n",
       "  </thead>\n",
       "  <tbody>\n",
       "    <tr>\n",
       "      <th>count</th>\n",
       "      <td>768.000000</td>\n",
       "      <td>768.000000</td>\n",
       "      <td>768.000000</td>\n",
       "      <td>768.000000</td>\n",
       "      <td>768.000000</td>\n",
       "      <td>768.000000</td>\n",
       "      <td>768.000000</td>\n",
       "      <td>768.000000</td>\n",
       "    </tr>\n",
       "    <tr>\n",
       "      <th>mean</th>\n",
       "      <td>3.845052</td>\n",
       "      <td>120.894531</td>\n",
       "      <td>69.105469</td>\n",
       "      <td>20.536458</td>\n",
       "      <td>79.799479</td>\n",
       "      <td>31.992578</td>\n",
       "      <td>0.471876</td>\n",
       "      <td>33.240885</td>\n",
       "    </tr>\n",
       "    <tr>\n",
       "      <th>std</th>\n",
       "      <td>3.369578</td>\n",
       "      <td>31.972618</td>\n",
       "      <td>19.355807</td>\n",
       "      <td>15.952218</td>\n",
       "      <td>115.244002</td>\n",
       "      <td>7.884160</td>\n",
       "      <td>0.331329</td>\n",
       "      <td>11.760232</td>\n",
       "    </tr>\n",
       "    <tr>\n",
       "      <th>min</th>\n",
       "      <td>0.000000</td>\n",
       "      <td>0.000000</td>\n",
       "      <td>0.000000</td>\n",
       "      <td>0.000000</td>\n",
       "      <td>0.000000</td>\n",
       "      <td>0.000000</td>\n",
       "      <td>0.078000</td>\n",
       "      <td>21.000000</td>\n",
       "    </tr>\n",
       "    <tr>\n",
       "      <th>25%</th>\n",
       "      <td>1.000000</td>\n",
       "      <td>99.000000</td>\n",
       "      <td>62.000000</td>\n",
       "      <td>0.000000</td>\n",
       "      <td>0.000000</td>\n",
       "      <td>27.300000</td>\n",
       "      <td>0.243750</td>\n",
       "      <td>24.000000</td>\n",
       "    </tr>\n",
       "    <tr>\n",
       "      <th>50%</th>\n",
       "      <td>3.000000</td>\n",
       "      <td>117.000000</td>\n",
       "      <td>72.000000</td>\n",
       "      <td>23.000000</td>\n",
       "      <td>30.500000</td>\n",
       "      <td>32.000000</td>\n",
       "      <td>0.372500</td>\n",
       "      <td>29.000000</td>\n",
       "    </tr>\n",
       "    <tr>\n",
       "      <th>75%</th>\n",
       "      <td>6.000000</td>\n",
       "      <td>140.250000</td>\n",
       "      <td>80.000000</td>\n",
       "      <td>32.000000</td>\n",
       "      <td>127.250000</td>\n",
       "      <td>36.600000</td>\n",
       "      <td>0.626250</td>\n",
       "      <td>41.000000</td>\n",
       "    </tr>\n",
       "    <tr>\n",
       "      <th>max</th>\n",
       "      <td>17.000000</td>\n",
       "      <td>199.000000</td>\n",
       "      <td>122.000000</td>\n",
       "      <td>99.000000</td>\n",
       "      <td>846.000000</td>\n",
       "      <td>67.100000</td>\n",
       "      <td>2.420000</td>\n",
       "      <td>81.000000</td>\n",
       "    </tr>\n",
       "  </tbody>\n",
       "</table>\n",
       "</div>"
      ],
      "text/plain": [
       "       Number of times pregnant  Plasma glucose concentration  \\\n",
       "count                768.000000                    768.000000   \n",
       "mean                   3.845052                    120.894531   \n",
       "std                    3.369578                     31.972618   \n",
       "min                    0.000000                      0.000000   \n",
       "25%                    1.000000                     99.000000   \n",
       "50%                    3.000000                    117.000000   \n",
       "75%                    6.000000                    140.250000   \n",
       "max                   17.000000                    199.000000   \n",
       "\n",
       "       Diastolic blood pressure  Triceps skin fold thickness  \\\n",
       "count                768.000000                   768.000000   \n",
       "mean                  69.105469                    20.536458   \n",
       "std                   19.355807                    15.952218   \n",
       "min                    0.000000                     0.000000   \n",
       "25%                   62.000000                     0.000000   \n",
       "50%                   72.000000                    23.000000   \n",
       "75%                   80.000000                    32.000000   \n",
       "max                  122.000000                    99.000000   \n",
       "\n",
       "       2-Hour serum insulin  Body mass index  Diabetes pedigree function  \\\n",
       "count            768.000000       768.000000                  768.000000   \n",
       "mean              79.799479        31.992578                    0.471876   \n",
       "std              115.244002         7.884160                    0.331329   \n",
       "min                0.000000         0.000000                    0.078000   \n",
       "25%                0.000000        27.300000                    0.243750   \n",
       "50%               30.500000        32.000000                    0.372500   \n",
       "75%              127.250000        36.600000                    0.626250   \n",
       "max              846.000000        67.100000                    2.420000   \n",
       "\n",
       "              Age  \n",
       "count  768.000000  \n",
       "mean    33.240885  \n",
       "std     11.760232  \n",
       "min     21.000000  \n",
       "25%     24.000000  \n",
       "50%     29.000000  \n",
       "75%     41.000000  \n",
       "max     81.000000  "
      ]
     },
     "execution_count": 7,
     "metadata": {},
     "output_type": "execute_result"
    }
   ],
   "source": [
    "X.describe()"
   ]
  },
  {
   "cell_type": "code",
   "execution_count": 8,
   "metadata": {},
   "outputs": [
    {
     "data": {
      "text/plain": [
       "Number of times pregnant        0\n",
       "Plasma glucose concentration    0\n",
       "Diastolic blood pressure        0\n",
       "Triceps skin fold thickness     0\n",
       "2-Hour serum insulin            0\n",
       "Body mass index                 0\n",
       "Diabetes pedigree function      0\n",
       "Age                             0\n",
       "dtype: int64"
      ]
     },
     "execution_count": 8,
     "metadata": {},
     "output_type": "execute_result"
    }
   ],
   "source": [
    "X.isna().sum()"
   ]
  },
  {
   "cell_type": "markdown",
   "metadata": {
    "id": "1oF3uBDMgq_h"
   },
   "source": [
    "Dzielimy dataset na zbiory treningowy i testowy"
   ]
  },
  {
   "cell_type": "code",
   "execution_count": 9,
   "metadata": {},
   "outputs": [],
   "source": [
    "from sklearn.model_selection import train_test_split\n",
    "\n",
    "X_train, X_test, y_train, y_test = train_test_split(X,y, stratify = y)\n",
    "\n",
    "# stratify podbny udzial 0 i 1 w zbiorach testowych i treningowych"
   ]
  },
  {
   "cell_type": "code",
   "execution_count": 10,
   "metadata": {},
   "outputs": [
    {
     "name": "stdout",
     "output_type": "stream",
     "text": [
      "0    375\n",
      "1    201\n",
      "Name: class, dtype: int64\n",
      "0    125\n",
      "1     67\n",
      "Name: class, dtype: int64\n"
     ]
    }
   ],
   "source": [
    "print(y_train.value_counts())\n",
    "print(y_test.value_counts())"
   ]
  },
  {
   "cell_type": "markdown",
   "metadata": {
    "id": "IekQwULKgq_h"
   },
   "source": [
    "Trenujemy model na danych treningowych"
   ]
  },
  {
   "cell_type": "code",
   "execution_count": 11,
   "metadata": {},
   "outputs": [
    {
     "data": {
      "text/html": [
       "<style>#sk-container-id-1 {color: black;background-color: white;}#sk-container-id-1 pre{padding: 0;}#sk-container-id-1 div.sk-toggleable {background-color: white;}#sk-container-id-1 label.sk-toggleable__label {cursor: pointer;display: block;width: 100%;margin-bottom: 0;padding: 0.3em;box-sizing: border-box;text-align: center;}#sk-container-id-1 label.sk-toggleable__label-arrow:before {content: \"▸\";float: left;margin-right: 0.25em;color: #696969;}#sk-container-id-1 label.sk-toggleable__label-arrow:hover:before {color: black;}#sk-container-id-1 div.sk-estimator:hover label.sk-toggleable__label-arrow:before {color: black;}#sk-container-id-1 div.sk-toggleable__content {max-height: 0;max-width: 0;overflow: hidden;text-align: left;background-color: #f0f8ff;}#sk-container-id-1 div.sk-toggleable__content pre {margin: 0.2em;color: black;border-radius: 0.25em;background-color: #f0f8ff;}#sk-container-id-1 input.sk-toggleable__control:checked~div.sk-toggleable__content {max-height: 200px;max-width: 100%;overflow: auto;}#sk-container-id-1 input.sk-toggleable__control:checked~label.sk-toggleable__label-arrow:before {content: \"▾\";}#sk-container-id-1 div.sk-estimator input.sk-toggleable__control:checked~label.sk-toggleable__label {background-color: #d4ebff;}#sk-container-id-1 div.sk-label input.sk-toggleable__control:checked~label.sk-toggleable__label {background-color: #d4ebff;}#sk-container-id-1 input.sk-hidden--visually {border: 0;clip: rect(1px 1px 1px 1px);clip: rect(1px, 1px, 1px, 1px);height: 1px;margin: -1px;overflow: hidden;padding: 0;position: absolute;width: 1px;}#sk-container-id-1 div.sk-estimator {font-family: monospace;background-color: #f0f8ff;border: 1px dotted black;border-radius: 0.25em;box-sizing: border-box;margin-bottom: 0.5em;}#sk-container-id-1 div.sk-estimator:hover {background-color: #d4ebff;}#sk-container-id-1 div.sk-parallel-item::after {content: \"\";width: 100%;border-bottom: 1px solid gray;flex-grow: 1;}#sk-container-id-1 div.sk-label:hover label.sk-toggleable__label {background-color: #d4ebff;}#sk-container-id-1 div.sk-serial::before {content: \"\";position: absolute;border-left: 1px solid gray;box-sizing: border-box;top: 0;bottom: 0;left: 50%;z-index: 0;}#sk-container-id-1 div.sk-serial {display: flex;flex-direction: column;align-items: center;background-color: white;padding-right: 0.2em;padding-left: 0.2em;position: relative;}#sk-container-id-1 div.sk-item {position: relative;z-index: 1;}#sk-container-id-1 div.sk-parallel {display: flex;align-items: stretch;justify-content: center;background-color: white;position: relative;}#sk-container-id-1 div.sk-item::before, #sk-container-id-1 div.sk-parallel-item::before {content: \"\";position: absolute;border-left: 1px solid gray;box-sizing: border-box;top: 0;bottom: 0;left: 50%;z-index: -1;}#sk-container-id-1 div.sk-parallel-item {display: flex;flex-direction: column;z-index: 1;position: relative;background-color: white;}#sk-container-id-1 div.sk-parallel-item:first-child::after {align-self: flex-end;width: 50%;}#sk-container-id-1 div.sk-parallel-item:last-child::after {align-self: flex-start;width: 50%;}#sk-container-id-1 div.sk-parallel-item:only-child::after {width: 0;}#sk-container-id-1 div.sk-dashed-wrapped {border: 1px dashed gray;margin: 0 0.4em 0.5em 0.4em;box-sizing: border-box;padding-bottom: 0.4em;background-color: white;}#sk-container-id-1 div.sk-label label {font-family: monospace;font-weight: bold;display: inline-block;line-height: 1.2em;}#sk-container-id-1 div.sk-label-container {text-align: center;}#sk-container-id-1 div.sk-container {/* jupyter's `normalize.less` sets `[hidden] { display: none; }` but bootstrap.min.css set `[hidden] { display: none !important; }` so we also need the `!important` here to be able to override the default hidden behavior on the sphinx rendered scikit-learn.org. See: https://github.com/scikit-learn/scikit-learn/issues/21755 */display: inline-block !important;position: relative;}#sk-container-id-1 div.sk-text-repr-fallback {display: none;}</style><div id=\"sk-container-id-1\" class=\"sk-top-container\"><div class=\"sk-text-repr-fallback\"><pre>LogisticRegression(max_iter=500, random_state=30)</pre><b>In a Jupyter environment, please rerun this cell to show the HTML representation or trust the notebook. <br />On GitHub, the HTML representation is unable to render, please try loading this page with nbviewer.org.</b></div><div class=\"sk-container\" hidden><div class=\"sk-item\"><div class=\"sk-estimator sk-toggleable\"><input class=\"sk-toggleable__control sk-hidden--visually\" id=\"sk-estimator-id-1\" type=\"checkbox\" checked><label for=\"sk-estimator-id-1\" class=\"sk-toggleable__label sk-toggleable__label-arrow\">LogisticRegression</label><div class=\"sk-toggleable__content\"><pre>LogisticRegression(max_iter=500, random_state=30)</pre></div></div></div></div></div>"
      ],
      "text/plain": [
       "LogisticRegression(max_iter=500, random_state=30)"
      ]
     },
     "execution_count": 11,
     "metadata": {},
     "output_type": "execute_result"
    }
   ],
   "source": [
    "from sklearn.linear_model import LogisticRegression\n",
    "\n",
    "model = LogisticRegression(random_state=30, max_iter=500)\n",
    "model.fit(X_train, y_train)"
   ]
  },
  {
   "cell_type": "code",
   "execution_count": 12,
   "metadata": {},
   "outputs": [
    {
     "data": {
      "text/html": [
       "<div>\n",
       "<style scoped>\n",
       "    .dataframe tbody tr th:only-of-type {\n",
       "        vertical-align: middle;\n",
       "    }\n",
       "\n",
       "    .dataframe tbody tr th {\n",
       "        vertical-align: top;\n",
       "    }\n",
       "\n",
       "    .dataframe thead th {\n",
       "        text-align: right;\n",
       "    }\n",
       "</style>\n",
       "<table border=\"1\" class=\"dataframe\">\n",
       "  <thead>\n",
       "    <tr style=\"text-align: right;\">\n",
       "      <th></th>\n",
       "      <th>Number of times pregnant</th>\n",
       "      <th>Plasma glucose concentration</th>\n",
       "      <th>Diastolic blood pressure</th>\n",
       "      <th>Triceps skin fold thickness</th>\n",
       "      <th>2-Hour serum insulin</th>\n",
       "      <th>Body mass index</th>\n",
       "      <th>Diabetes pedigree function</th>\n",
       "      <th>Age</th>\n",
       "    </tr>\n",
       "  </thead>\n",
       "  <tbody>\n",
       "    <tr>\n",
       "      <th>388</th>\n",
       "      <td>5</td>\n",
       "      <td>144</td>\n",
       "      <td>82</td>\n",
       "      <td>26</td>\n",
       "      <td>285</td>\n",
       "      <td>32.0</td>\n",
       "      <td>0.452</td>\n",
       "      <td>58</td>\n",
       "    </tr>\n",
       "    <tr>\n",
       "      <th>715</th>\n",
       "      <td>7</td>\n",
       "      <td>187</td>\n",
       "      <td>50</td>\n",
       "      <td>33</td>\n",
       "      <td>392</td>\n",
       "      <td>33.9</td>\n",
       "      <td>0.826</td>\n",
       "      <td>34</td>\n",
       "    </tr>\n",
       "    <tr>\n",
       "      <th>250</th>\n",
       "      <td>9</td>\n",
       "      <td>106</td>\n",
       "      <td>52</td>\n",
       "      <td>0</td>\n",
       "      <td>0</td>\n",
       "      <td>31.2</td>\n",
       "      <td>0.380</td>\n",
       "      <td>42</td>\n",
       "    </tr>\n",
       "    <tr>\n",
       "      <th>94</th>\n",
       "      <td>2</td>\n",
       "      <td>142</td>\n",
       "      <td>82</td>\n",
       "      <td>18</td>\n",
       "      <td>64</td>\n",
       "      <td>24.7</td>\n",
       "      <td>0.761</td>\n",
       "      <td>21</td>\n",
       "    </tr>\n",
       "    <tr>\n",
       "      <th>235</th>\n",
       "      <td>4</td>\n",
       "      <td>171</td>\n",
       "      <td>72</td>\n",
       "      <td>0</td>\n",
       "      <td>0</td>\n",
       "      <td>43.6</td>\n",
       "      <td>0.479</td>\n",
       "      <td>26</td>\n",
       "    </tr>\n",
       "  </tbody>\n",
       "</table>\n",
       "</div>"
      ],
      "text/plain": [
       "     Number of times pregnant  Plasma glucose concentration  \\\n",
       "388                         5                           144   \n",
       "715                         7                           187   \n",
       "250                         9                           106   \n",
       "94                          2                           142   \n",
       "235                         4                           171   \n",
       "\n",
       "     Diastolic blood pressure  Triceps skin fold thickness  \\\n",
       "388                        82                           26   \n",
       "715                        50                           33   \n",
       "250                        52                            0   \n",
       "94                         82                           18   \n",
       "235                        72                            0   \n",
       "\n",
       "     2-Hour serum insulin  Body mass index  Diabetes pedigree function  Age  \n",
       "388                   285             32.0                       0.452   58  \n",
       "715                   392             33.9                       0.826   34  \n",
       "250                     0             31.2                       0.380   42  \n",
       "94                     64             24.7                       0.761   21  \n",
       "235                     0             43.6                       0.479   26  "
      ]
     },
     "execution_count": 12,
     "metadata": {},
     "output_type": "execute_result"
    }
   ],
   "source": [
    "X_test.head()"
   ]
  },
  {
   "cell_type": "code",
   "execution_count": 13,
   "metadata": {},
   "outputs": [],
   "source": [
    "y_pred = model.predict(X_test)\n",
    "y_pred_train = model.predict(X_train)"
   ]
  },
  {
   "cell_type": "code",
   "execution_count": 14,
   "metadata": {
    "scrolled": true
   },
   "outputs": [
    {
     "name": "stdout",
     "output_type": "stream",
     "text": [
      "[1 1 0 0 1 1 1 0 0 0]\n"
     ]
    }
   ],
   "source": [
    "print(y_pred[:10])"
   ]
  },
  {
   "cell_type": "markdown",
   "metadata": {},
   "source": [
    "Stwórzmy następnie macierz pomyłek i wyliczmy miary jakości klasyfikacji"
   ]
  },
  {
   "cell_type": "code",
   "execution_count": 15,
   "metadata": {},
   "outputs": [],
   "source": [
    "from sklearn.metrics import confusion_matrix\n",
    "\n",
    "cm = confusion_matrix(y_test, y_pred)\n",
    "cm_train = confusion_matrix(y_train, y_pred_train)"
   ]
  },
  {
   "cell_type": "code",
   "execution_count": 16,
   "metadata": {},
   "outputs": [
    {
     "name": "stdout",
     "output_type": "stream",
     "text": [
      "[[111  14]\n",
      " [ 22  45]]\n"
     ]
    }
   ],
   "source": [
    "print(cm)"
   ]
  },
  {
   "cell_type": "code",
   "execution_count": 17,
   "metadata": {},
   "outputs": [
    {
     "data": {
      "image/png": "[encoded data removed]",
      "text/plain": [
       "<Figure size 640x480 with 2 Axes>"
      ]
     },
     "metadata": {},
     "output_type": "display_data"
    },
    {
     "data": {
      "image/png": "[encoded data removed]",
      "text/plain": [
       "<Figure size 640x480 with 2 Axes>"
      ]
     },
     "metadata": {},
     "output_type": "display_data"
    }
   ],
   "source": [
    "import matplotlib.pyplot as plt\n",
    "import seaborn as sns\n",
    "\n",
    "sns.heatmap(cm_train, annot = True, fmt = 'd')\n",
    "plt.show()\n",
    "\n",
    "sns.heatmap(cm, annot = True, fmt = 'd')\n",
    "plt.show()"
   ]
  },
  {
   "cell_type": "code",
   "execution_count": 18,
   "metadata": {},
   "outputs": [
    {
     "name": "stdout",
     "output_type": "stream",
     "text": [
      "F-score train: 0.6312849162011174, F-score test: 0.7142857142857143\n"
     ]
    }
   ],
   "source": [
    "from sklearn.metrics import f1_score\n",
    "\n",
    "print(f'F-score train: {f1_score(y_train,y_pred_train)}, F-score test: {f1_score(y_test,y_pred)}')"
   ]
  },
  {
   "cell_type": "markdown",
   "metadata": {
    "id": "DbdpY_8wgq_j"
   },
   "source": [
    "Możemy też obliczyć wartości pozostałych metryk klasyfikacji korzystając z wbudowanych funkcji."
   ]
  },
  {
   "cell_type": "markdown",
   "metadata": {},
   "source": [
    "Sprawdzenie czy model jest przetrenowany:"
   ]
  },
  {
   "cell_type": "code",
   "execution_count": 19,
   "metadata": {},
   "outputs": [],
   "source": [
    "from sklearn.metrics import accuracy_score, recall_score, precision_score\n",
    "\n",
    "accuracy_train = accuracy_score(y_train, y_pred_train)\n",
    "accuracy_test = accuracy_score(y_test, y_pred)\n",
    "\n",
    "recall_train = recall_score(y_train, y_pred_train)\n",
    "recall_test = recall_score(y_test, y_pred)\n",
    "\n",
    "precision_train = precision_score(y_train, y_pred_train)\n",
    "precision_test = precision_score(y_test, y_pred)\n",
    "\n",
    "f1_train = f1_score(y_train, y_pred_train)\n",
    "f1_test = f1_score(y_test, y_pred)"
   ]
  },
  {
   "cell_type": "code",
   "execution_count": 20,
   "metadata": {},
   "outputs": [],
   "source": [
    "df_dict = {'train':[accuracy_train, precision_train, recall_train, f1_train],\n",
    "          'test':[accuracy_test, precision_test, recall_test, f1_test]}"
   ]
  },
  {
   "cell_type": "code",
   "execution_count": 21,
   "metadata": {},
   "outputs": [],
   "source": [
    "df = pd.DataFrame\\\n",
    ".from_dict(df_dict, \n",
    "           orient = 'index',\n",
    "           columns = ['accuracy', 'precision', 'recall', 'f-score'])\\\n",
    ".reset_index()\\\n",
    ".melt(id_vars = 'index', var_name = 'metric')"
   ]
  },
  {
   "cell_type": "code",
   "execution_count": 22,
   "metadata": {},
   "outputs": [
    {
     "data": {
      "text/html": [
       "<div>\n",
       "<style scoped>\n",
       "    .dataframe tbody tr th:only-of-type {\n",
       "        vertical-align: middle;\n",
       "    }\n",
       "\n",
       "    .dataframe tbody tr th {\n",
       "        vertical-align: top;\n",
       "    }\n",
       "\n",
       "    .dataframe thead th {\n",
       "        text-align: right;\n",
       "    }\n",
       "</style>\n",
       "<table border=\"1\" class=\"dataframe\">\n",
       "  <thead>\n",
       "    <tr style=\"text-align: right;\">\n",
       "      <th></th>\n",
       "      <th>index</th>\n",
       "      <th>metric</th>\n",
       "      <th>value</th>\n",
       "    </tr>\n",
       "  </thead>\n",
       "  <tbody>\n",
       "    <tr>\n",
       "      <th>0</th>\n",
       "      <td>train</td>\n",
       "      <td>accuracy</td>\n",
       "      <td>0.770833</td>\n",
       "    </tr>\n",
       "    <tr>\n",
       "      <th>1</th>\n",
       "      <td>test</td>\n",
       "      <td>accuracy</td>\n",
       "      <td>0.812500</td>\n",
       "    </tr>\n",
       "    <tr>\n",
       "      <th>2</th>\n",
       "      <td>train</td>\n",
       "      <td>precision</td>\n",
       "      <td>0.719745</td>\n",
       "    </tr>\n",
       "    <tr>\n",
       "      <th>3</th>\n",
       "      <td>test</td>\n",
       "      <td>precision</td>\n",
       "      <td>0.762712</td>\n",
       "    </tr>\n",
       "    <tr>\n",
       "      <th>4</th>\n",
       "      <td>train</td>\n",
       "      <td>recall</td>\n",
       "      <td>0.562189</td>\n",
       "    </tr>\n",
       "    <tr>\n",
       "      <th>5</th>\n",
       "      <td>test</td>\n",
       "      <td>recall</td>\n",
       "      <td>0.671642</td>\n",
       "    </tr>\n",
       "    <tr>\n",
       "      <th>6</th>\n",
       "      <td>train</td>\n",
       "      <td>f-score</td>\n",
       "      <td>0.631285</td>\n",
       "    </tr>\n",
       "    <tr>\n",
       "      <th>7</th>\n",
       "      <td>test</td>\n",
       "      <td>f-score</td>\n",
       "      <td>0.714286</td>\n",
       "    </tr>\n",
       "  </tbody>\n",
       "</table>\n",
       "</div>"
      ],
      "text/plain": [
       "   index     metric     value\n",
       "0  train   accuracy  0.770833\n",
       "1   test   accuracy  0.812500\n",
       "2  train  precision  0.719745\n",
       "3   test  precision  0.762712\n",
       "4  train     recall  0.562189\n",
       "5   test     recall  0.671642\n",
       "6  train    f-score  0.631285\n",
       "7   test    f-score  0.714286"
      ]
     },
     "execution_count": 22,
     "metadata": {},
     "output_type": "execute_result"
    }
   ],
   "source": [
    "df"
   ]
  },
  {
   "cell_type": "markdown",
   "metadata": {
    "id": "qDd9Padsgq_k"
   },
   "source": [
    "Możemy jeszcze spróbować wyświetlić to w formie wykresu."
   ]
  },
  {
   "cell_type": "code",
   "execution_count": 23,
   "metadata": {},
   "outputs": [
    {
     "data": {
      "image/png": "[encoded data removed]",
      "text/plain": [
       "<Figure size 640x480 with 1 Axes>"
      ]
     },
     "metadata": {},
     "output_type": "display_data"
    }
   ],
   "source": [
    "sns.barplot(x='metric', y='value', hue='index', data=df);\n",
    "\n",
    "# Użycie średnika da sam wykres bez kawałków wyniku tekstowego wykonania kodu"
   ]
  },
  {
   "cell_type": "markdown",
   "metadata": {
    "id": "9APIzov6gq_l"
   },
   "source": [
    "Możemy też regresję logistyczną zastosować dla zbiorów o wielu etykietach. Stosujemy wówczas strategię One versus Rest (trenujemy tyle klasyfikatorów, ile mamy klas) - sklearn robi to automatycznie."
   ]
  },
  {
   "cell_type": "code",
   "execution_count": 24,
   "metadata": {},
   "outputs": [],
   "source": [
    "X, y, classes = prepare_dataset('iris')\n",
    "X_train, X_test, y_train, y_test = train_test_split(X,y,stratify=y,test_size=0.3,random_state=30)"
   ]
  },
  {
   "cell_type": "code",
   "execution_count": 25,
   "metadata": {},
   "outputs": [
    {
     "data": {
      "text/plain": [
       "0    50\n",
       "1    50\n",
       "2    50\n",
       "Name: class, dtype: int64"
      ]
     },
     "execution_count": 25,
     "metadata": {},
     "output_type": "execute_result"
    }
   ],
   "source": [
    "y.value_counts()"
   ]
  },
  {
   "cell_type": "code",
   "execution_count": 26,
   "metadata": {},
   "outputs": [
    {
     "data": {
      "text/html": [
       "<div>\n",
       "<style scoped>\n",
       "    .dataframe tbody tr th:only-of-type {\n",
       "        vertical-align: middle;\n",
       "    }\n",
       "\n",
       "    .dataframe tbody tr th {\n",
       "        vertical-align: top;\n",
       "    }\n",
       "\n",
       "    .dataframe thead th {\n",
       "        text-align: right;\n",
       "    }\n",
       "</style>\n",
       "<table border=\"1\" class=\"dataframe\">\n",
       "  <thead>\n",
       "    <tr style=\"text-align: right;\">\n",
       "      <th></th>\n",
       "      <th>sepal length</th>\n",
       "      <th>sepal width</th>\n",
       "      <th>petal length</th>\n",
       "      <th>petal width</th>\n",
       "    </tr>\n",
       "  </thead>\n",
       "  <tbody>\n",
       "    <tr>\n",
       "      <th>0</th>\n",
       "      <td>5.1</td>\n",
       "      <td>3.5</td>\n",
       "      <td>1.4</td>\n",
       "      <td>0.2</td>\n",
       "    </tr>\n",
       "    <tr>\n",
       "      <th>1</th>\n",
       "      <td>4.9</td>\n",
       "      <td>3.0</td>\n",
       "      <td>1.4</td>\n",
       "      <td>0.2</td>\n",
       "    </tr>\n",
       "    <tr>\n",
       "      <th>2</th>\n",
       "      <td>4.7</td>\n",
       "      <td>3.2</td>\n",
       "      <td>1.3</td>\n",
       "      <td>0.2</td>\n",
       "    </tr>\n",
       "    <tr>\n",
       "      <th>3</th>\n",
       "      <td>4.6</td>\n",
       "      <td>3.1</td>\n",
       "      <td>1.5</td>\n",
       "      <td>0.2</td>\n",
       "    </tr>\n",
       "    <tr>\n",
       "      <th>4</th>\n",
       "      <td>5.0</td>\n",
       "      <td>3.6</td>\n",
       "      <td>1.4</td>\n",
       "      <td>0.2</td>\n",
       "    </tr>\n",
       "  </tbody>\n",
       "</table>\n",
       "</div>"
      ],
      "text/plain": [
       "   sepal length  sepal width  petal length  petal width\n",
       "0           5.1          3.5           1.4          0.2\n",
       "1           4.9          3.0           1.4          0.2\n",
       "2           4.7          3.2           1.3          0.2\n",
       "3           4.6          3.1           1.5          0.2\n",
       "4           5.0          3.6           1.4          0.2"
      ]
     },
     "execution_count": 26,
     "metadata": {},
     "output_type": "execute_result"
    }
   ],
   "source": [
    "X.head()"
   ]
  },
  {
   "cell_type": "code",
   "execution_count": 27,
   "metadata": {},
   "outputs": [
    {
     "data": {
      "text/html": [
       "<style>#sk-container-id-2 {color: black;background-color: white;}#sk-container-id-2 pre{padding: 0;}#sk-container-id-2 div.sk-toggleable {background-color: white;}#sk-container-id-2 label.sk-toggleable__label {cursor: pointer;display: block;width: 100%;margin-bottom: 0;padding: 0.3em;box-sizing: border-box;text-align: center;}#sk-container-id-2 label.sk-toggleable__label-arrow:before {content: \"▸\";float: left;margin-right: 0.25em;color: #696969;}#sk-container-id-2 label.sk-toggleable__label-arrow:hover:before {color: black;}#sk-container-id-2 div.sk-estimator:hover label.sk-toggleable__label-arrow:before {color: black;}#sk-container-id-2 div.sk-toggleable__content {max-height: 0;max-width: 0;overflow: hidden;text-align: left;background-color: #f0f8ff;}#sk-container-id-2 div.sk-toggleable__content pre {margin: 0.2em;color: black;border-radius: 0.25em;background-color: #f0f8ff;}#sk-container-id-2 input.sk-toggleable__control:checked~div.sk-toggleable__content {max-height: 200px;max-width: 100%;overflow: auto;}#sk-container-id-2 input.sk-toggleable__control:checked~label.sk-toggleable__label-arrow:before {content: \"▾\";}#sk-container-id-2 div.sk-estimator input.sk-toggleable__control:checked~label.sk-toggleable__label {background-color: #d4ebff;}#sk-container-id-2 div.sk-label input.sk-toggleable__control:checked~label.sk-toggleable__label {background-color: #d4ebff;}#sk-container-id-2 input.sk-hidden--visually {border: 0;clip: rect(1px 1px 1px 1px);clip: rect(1px, 1px, 1px, 1px);height: 1px;margin: -1px;overflow: hidden;padding: 0;position: absolute;width: 1px;}#sk-container-id-2 div.sk-estimator {font-family: monospace;background-color: #f0f8ff;border: 1px dotted black;border-radius: 0.25em;box-sizing: border-box;margin-bottom: 0.5em;}#sk-container-id-2 div.sk-estimator:hover {background-color: #d4ebff;}#sk-container-id-2 div.sk-parallel-item::after {content: \"\";width: 100%;border-bottom: 1px solid gray;flex-grow: 1;}#sk-container-id-2 div.sk-label:hover label.sk-toggleable__label {background-color: #d4ebff;}#sk-container-id-2 div.sk-serial::before {content: \"\";position: absolute;border-left: 1px solid gray;box-sizing: border-box;top: 0;bottom: 0;left: 50%;z-index: 0;}#sk-container-id-2 div.sk-serial {display: flex;flex-direction: column;align-items: center;background-color: white;padding-right: 0.2em;padding-left: 0.2em;position: relative;}#sk-container-id-2 div.sk-item {position: relative;z-index: 1;}#sk-container-id-2 div.sk-parallel {display: flex;align-items: stretch;justify-content: center;background-color: white;position: relative;}#sk-container-id-2 div.sk-item::before, #sk-container-id-2 div.sk-parallel-item::before {content: \"\";position: absolute;border-left: 1px solid gray;box-sizing: border-box;top: 0;bottom: 0;left: 50%;z-index: -1;}#sk-container-id-2 div.sk-parallel-item {display: flex;flex-direction: column;z-index: 1;position: relative;background-color: white;}#sk-container-id-2 div.sk-parallel-item:first-child::after {align-self: flex-end;width: 50%;}#sk-container-id-2 div.sk-parallel-item:last-child::after {align-self: flex-start;width: 50%;}#sk-container-id-2 div.sk-parallel-item:only-child::after {width: 0;}#sk-container-id-2 div.sk-dashed-wrapped {border: 1px dashed gray;margin: 0 0.4em 0.5em 0.4em;box-sizing: border-box;padding-bottom: 0.4em;background-color: white;}#sk-container-id-2 div.sk-label label {font-family: monospace;font-weight: bold;display: inline-block;line-height: 1.2em;}#sk-container-id-2 div.sk-label-container {text-align: center;}#sk-container-id-2 div.sk-container {/* jupyter's `normalize.less` sets `[hidden] { display: none; }` but bootstrap.min.css set `[hidden] { display: none !important; }` so we also need the `!important` here to be able to override the default hidden behavior on the sphinx rendered scikit-learn.org. See: https://github.com/scikit-learn/scikit-learn/issues/21755 */display: inline-block !important;position: relative;}#sk-container-id-2 div.sk-text-repr-fallback {display: none;}</style><div id=\"sk-container-id-2\" class=\"sk-top-container\"><div class=\"sk-text-repr-fallback\"><pre>LogisticRegression()</pre><b>In a Jupyter environment, please rerun this cell to show the HTML representation or trust the notebook. <br />On GitHub, the HTML representation is unable to render, please try loading this page with nbviewer.org.</b></div><div class=\"sk-container\" hidden><div class=\"sk-item\"><div class=\"sk-estimator sk-toggleable\"><input class=\"sk-toggleable__control sk-hidden--visually\" id=\"sk-estimator-id-2\" type=\"checkbox\" checked><label for=\"sk-estimator-id-2\" class=\"sk-toggleable__label sk-toggleable__label-arrow\">LogisticRegression</label><div class=\"sk-toggleable__content\"><pre>LogisticRegression()</pre></div></div></div></div></div>"
      ],
      "text/plain": [
       "LogisticRegression()"
      ]
     },
     "execution_count": 27,
     "metadata": {},
     "output_type": "execute_result"
    }
   ],
   "source": [
    "model = LogisticRegression()\n",
    "model.fit(X_train,y_train)"
   ]
  },
  {
   "cell_type": "code",
   "execution_count": 28,
   "metadata": {},
   "outputs": [],
   "source": [
    "y_pred = model.predict(X_test)\n",
    "y_pred_train = model.predict(X_train)"
   ]
  },
  {
   "cell_type": "code",
   "execution_count": 29,
   "metadata": {},
   "outputs": [
    {
     "data": {
      "image/png": "[encoded data removed]",
      "text/plain": [
       "<Figure size 640x480 with 2 Axes>"
      ]
     },
     "metadata": {},
     "output_type": "display_data"
    },
    {
     "data": {
      "image/png": "[encoded data removed]",
      "text/plain": [
       "<Figure size 640x480 with 2 Axes>"
      ]
     },
     "metadata": {},
     "output_type": "display_data"
    }
   ],
   "source": [
    "from sklearn.metrics import confusion_matrix\n",
    "\n",
    "cm = confusion_matrix(y_test, y_pred)\n",
    "cm_train = confusion_matrix(y_train, y_pred_train)\n",
    "\n",
    "import matplotlib.pyplot as plt\n",
    "import seaborn as sns\n",
    "\n",
    "sns.heatmap(cm_train, annot = True, fmt = 'd')\n",
    "plt.show()\n",
    "\n",
    "sns.heatmap(cm, annot = True, fmt = 'd')\n",
    "plt.show()"
   ]
  },
  {
   "cell_type": "code",
   "execution_count": 30,
   "metadata": {},
   "outputs": [],
   "source": [
    "accuracy_train = accuracy_score(y_train, y_pred_train)\n",
    "accuracy_test = accuracy_score(y_test, y_pred)\n",
    "\n",
    "recall_train = recall_score(y_train, y_pred_train, average='macro')\n",
    "recall_test = recall_score(y_test, y_pred, average='macro')\n",
    "\n",
    "precision_train = precision_score(y_train, y_pred_train, average='macro')\n",
    "precision_test = precision_score(y_test, y_pred, average='macro')\n",
    "\n",
    "f1_train = f1_score(y_train, y_pred_train, average='macro')\n",
    "f1_test = f1_score(y_test, y_pred, average='macro')"
   ]
  },
  {
   "cell_type": "code",
   "execution_count": 31,
   "metadata": {},
   "outputs": [],
   "source": [
    "df_dict = {'train':[accuracy_train, precision_train, recall_train, f1_train],\n",
    "          'test':[accuracy_test, precision_test, recall_test, f1_test]}\n",
    "\n",
    "df = pd.DataFrame\\\n",
    ".from_dict(df_dict, \n",
    "           orient = 'index',\n",
    "           columns = ['accuracy', 'precision', 'recall', 'f-score'])\\\n",
    ".reset_index()\\\n",
    ".melt(id_vars = 'index', var_name = 'metric')"
   ]
  },
  {
   "cell_type": "code",
   "execution_count": 32,
   "metadata": {},
   "outputs": [
    {
     "data": {
      "image/png": "[encoded data removed]",
      "text/plain": [
       "<Figure size 640x480 with 1 Axes>"
      ]
     },
     "metadata": {},
     "output_type": "display_data"
    }
   ],
   "source": [
    "sns.barplot(x='metric', y='value', hue='index', data=df);"
   ]
  },
  {
   "cell_type": "markdown",
   "metadata": {
    "id": "S4p6LlSLgq_l"
   },
   "source": [
    "**Zadanie:**\n",
    "\n",
    "Dla zbioru danych diabets wytrenuj model regresji logistycznej i narysuj krzywą ROC. Zwróć uwagę na różnice w funkcjach:\n",
    "* predict()\n",
    "* predict_proba()\n",
    "\n",
    "Patrząc na krzywą ROC zastanów się czy model jest dobrze wytrenowany, przetrenowany czy wytrenowany niewystarczająco dobrze."
   ]
  },
  {
   "cell_type": "code",
   "execution_count": 33,
   "metadata": {},
   "outputs": [],
   "source": [
    "X,y,classes = prepare_dataset('diabetes')"
   ]
  },
  {
   "cell_type": "code",
   "execution_count": 34,
   "metadata": {},
   "outputs": [
    {
     "data": {
      "text/html": [
       "<div>\n",
       "<style scoped>\n",
       "    .dataframe tbody tr th:only-of-type {\n",
       "        vertical-align: middle;\n",
       "    }\n",
       "\n",
       "    .dataframe tbody tr th {\n",
       "        vertical-align: top;\n",
       "    }\n",
       "\n",
       "    .dataframe thead th {\n",
       "        text-align: right;\n",
       "    }\n",
       "</style>\n",
       "<table border=\"1\" class=\"dataframe\">\n",
       "  <thead>\n",
       "    <tr style=\"text-align: right;\">\n",
       "      <th></th>\n",
       "      <th>Number of times pregnant</th>\n",
       "      <th>Plasma glucose concentration</th>\n",
       "      <th>Diastolic blood pressure</th>\n",
       "      <th>Triceps skin fold thickness</th>\n",
       "      <th>2-Hour serum insulin</th>\n",
       "      <th>Body mass index</th>\n",
       "      <th>Diabetes pedigree function</th>\n",
       "      <th>Age</th>\n",
       "    </tr>\n",
       "  </thead>\n",
       "  <tbody>\n",
       "    <tr>\n",
       "      <th>0</th>\n",
       "      <td>6</td>\n",
       "      <td>148</td>\n",
       "      <td>72</td>\n",
       "      <td>35</td>\n",
       "      <td>0</td>\n",
       "      <td>33.6</td>\n",
       "      <td>0.627</td>\n",
       "      <td>50</td>\n",
       "    </tr>\n",
       "    <tr>\n",
       "      <th>1</th>\n",
       "      <td>1</td>\n",
       "      <td>85</td>\n",
       "      <td>66</td>\n",
       "      <td>29</td>\n",
       "      <td>0</td>\n",
       "      <td>26.6</td>\n",
       "      <td>0.351</td>\n",
       "      <td>31</td>\n",
       "    </tr>\n",
       "    <tr>\n",
       "      <th>2</th>\n",
       "      <td>8</td>\n",
       "      <td>183</td>\n",
       "      <td>64</td>\n",
       "      <td>0</td>\n",
       "      <td>0</td>\n",
       "      <td>23.3</td>\n",
       "      <td>0.672</td>\n",
       "      <td>32</td>\n",
       "    </tr>\n",
       "    <tr>\n",
       "      <th>3</th>\n",
       "      <td>1</td>\n",
       "      <td>89</td>\n",
       "      <td>66</td>\n",
       "      <td>23</td>\n",
       "      <td>94</td>\n",
       "      <td>28.1</td>\n",
       "      <td>0.167</td>\n",
       "      <td>21</td>\n",
       "    </tr>\n",
       "    <tr>\n",
       "      <th>4</th>\n",
       "      <td>0</td>\n",
       "      <td>137</td>\n",
       "      <td>40</td>\n",
       "      <td>35</td>\n",
       "      <td>168</td>\n",
       "      <td>43.1</td>\n",
       "      <td>2.288</td>\n",
       "      <td>33</td>\n",
       "    </tr>\n",
       "  </tbody>\n",
       "</table>\n",
       "</div>"
      ],
      "text/plain": [
       "   Number of times pregnant  Plasma glucose concentration  \\\n",
       "0                         6                           148   \n",
       "1                         1                            85   \n",
       "2                         8                           183   \n",
       "3                         1                            89   \n",
       "4                         0                           137   \n",
       "\n",
       "   Diastolic blood pressure  Triceps skin fold thickness  \\\n",
       "0                        72                           35   \n",
       "1                        66                           29   \n",
       "2                        64                            0   \n",
       "3                        66                           23   \n",
       "4                        40                           35   \n",
       "\n",
       "   2-Hour serum insulin  Body mass index  Diabetes pedigree function  Age  \n",
       "0                     0             33.6                       0.627   50  \n",
       "1                     0             26.6                       0.351   31  \n",
       "2                     0             23.3                       0.672   32  \n",
       "3                    94             28.1                       0.167   21  \n",
       "4                   168             43.1                       2.288   33  "
      ]
     },
     "execution_count": 34,
     "metadata": {},
     "output_type": "execute_result"
    }
   ],
   "source": [
    "X.head()"
   ]
  },
  {
   "cell_type": "code",
   "execution_count": 35,
   "metadata": {
    "scrolled": true
   },
   "outputs": [
    {
     "data": {
      "text/plain": [
       "0    500\n",
       "1    268\n",
       "Name: class, dtype: int64"
      ]
     },
     "execution_count": 35,
     "metadata": {},
     "output_type": "execute_result"
    }
   ],
   "source": [
    "y.value_counts()"
   ]
  },
  {
   "cell_type": "code",
   "execution_count": 36,
   "metadata": {},
   "outputs": [
    {
     "name": "stdout",
     "output_type": "stream",
     "text": [
      "0    375\n",
      "1    201\n",
      "Name: class, dtype: int64\n",
      "0    125\n",
      "1     67\n",
      "Name: class, dtype: int64\n"
     ]
    }
   ],
   "source": [
    "from sklearn.model_selection import train_test_split\n",
    "\n",
    "X_train, X_test, y_train, y_test = train_test_split(X,y, stratify = y)\n",
    "\n",
    "# stratify podbny udzial 0 i 1 w zbiorach testowych i treningowych\n",
    "\n",
    "print(y_train.value_counts())\n",
    "print(y_test.value_counts())"
   ]
  },
  {
   "cell_type": "code",
   "execution_count": 37,
   "metadata": {},
   "outputs": [
    {
     "data": {
      "text/html": [
       "<style>#sk-container-id-3 {color: black;background-color: white;}#sk-container-id-3 pre{padding: 0;}#sk-container-id-3 div.sk-toggleable {background-color: white;}#sk-container-id-3 label.sk-toggleable__label {cursor: pointer;display: block;width: 100%;margin-bottom: 0;padding: 0.3em;box-sizing: border-box;text-align: center;}#sk-container-id-3 label.sk-toggleable__label-arrow:before {content: \"▸\";float: left;margin-right: 0.25em;color: #696969;}#sk-container-id-3 label.sk-toggleable__label-arrow:hover:before {color: black;}#sk-container-id-3 div.sk-estimator:hover label.sk-toggleable__label-arrow:before {color: black;}#sk-container-id-3 div.sk-toggleable__content {max-height: 0;max-width: 0;overflow: hidden;text-align: left;background-color: #f0f8ff;}#sk-container-id-3 div.sk-toggleable__content pre {margin: 0.2em;color: black;border-radius: 0.25em;background-color: #f0f8ff;}#sk-container-id-3 input.sk-toggleable__control:checked~div.sk-toggleable__content {max-height: 200px;max-width: 100%;overflow: auto;}#sk-container-id-3 input.sk-toggleable__control:checked~label.sk-toggleable__label-arrow:before {content: \"▾\";}#sk-container-id-3 div.sk-estimator input.sk-toggleable__control:checked~label.sk-toggleable__label {background-color: #d4ebff;}#sk-container-id-3 div.sk-label input.sk-toggleable__control:checked~label.sk-toggleable__label {background-color: #d4ebff;}#sk-container-id-3 input.sk-hidden--visually {border: 0;clip: rect(1px 1px 1px 1px);clip: rect(1px, 1px, 1px, 1px);height: 1px;margin: -1px;overflow: hidden;padding: 0;position: absolute;width: 1px;}#sk-container-id-3 div.sk-estimator {font-family: monospace;background-color: #f0f8ff;border: 1px dotted black;border-radius: 0.25em;box-sizing: border-box;margin-bottom: 0.5em;}#sk-container-id-3 div.sk-estimator:hover {background-color: #d4ebff;}#sk-container-id-3 div.sk-parallel-item::after {content: \"\";width: 100%;border-bottom: 1px solid gray;flex-grow: 1;}#sk-container-id-3 div.sk-label:hover label.sk-toggleable__label {background-color: #d4ebff;}#sk-container-id-3 div.sk-serial::before {content: \"\";position: absolute;border-left: 1px solid gray;box-sizing: border-box;top: 0;bottom: 0;left: 50%;z-index: 0;}#sk-container-id-3 div.sk-serial {display: flex;flex-direction: column;align-items: center;background-color: white;padding-right: 0.2em;padding-left: 0.2em;position: relative;}#sk-container-id-3 div.sk-item {position: relative;z-index: 1;}#sk-container-id-3 div.sk-parallel {display: flex;align-items: stretch;justify-content: center;background-color: white;position: relative;}#sk-container-id-3 div.sk-item::before, #sk-container-id-3 div.sk-parallel-item::before {content: \"\";position: absolute;border-left: 1px solid gray;box-sizing: border-box;top: 0;bottom: 0;left: 50%;z-index: -1;}#sk-container-id-3 div.sk-parallel-item {display: flex;flex-direction: column;z-index: 1;position: relative;background-color: white;}#sk-container-id-3 div.sk-parallel-item:first-child::after {align-self: flex-end;width: 50%;}#sk-container-id-3 div.sk-parallel-item:last-child::after {align-self: flex-start;width: 50%;}#sk-container-id-3 div.sk-parallel-item:only-child::after {width: 0;}#sk-container-id-3 div.sk-dashed-wrapped {border: 1px dashed gray;margin: 0 0.4em 0.5em 0.4em;box-sizing: border-box;padding-bottom: 0.4em;background-color: white;}#sk-container-id-3 div.sk-label label {font-family: monospace;font-weight: bold;display: inline-block;line-height: 1.2em;}#sk-container-id-3 div.sk-label-container {text-align: center;}#sk-container-id-3 div.sk-container {/* jupyter's `normalize.less` sets `[hidden] { display: none; }` but bootstrap.min.css set `[hidden] { display: none !important; }` so we also need the `!important` here to be able to override the default hidden behavior on the sphinx rendered scikit-learn.org. See: https://github.com/scikit-learn/scikit-learn/issues/21755 */display: inline-block !important;position: relative;}#sk-container-id-3 div.sk-text-repr-fallback {display: none;}</style><div id=\"sk-container-id-3\" class=\"sk-top-container\"><div class=\"sk-text-repr-fallback\"><pre>LogisticRegression(max_iter=500, random_state=30)</pre><b>In a Jupyter environment, please rerun this cell to show the HTML representation or trust the notebook. <br />On GitHub, the HTML representation is unable to render, please try loading this page with nbviewer.org.</b></div><div class=\"sk-container\" hidden><div class=\"sk-item\"><div class=\"sk-estimator sk-toggleable\"><input class=\"sk-toggleable__control sk-hidden--visually\" id=\"sk-estimator-id-3\" type=\"checkbox\" checked><label for=\"sk-estimator-id-3\" class=\"sk-toggleable__label sk-toggleable__label-arrow\">LogisticRegression</label><div class=\"sk-toggleable__content\"><pre>LogisticRegression(max_iter=500, random_state=30)</pre></div></div></div></div></div>"
      ],
      "text/plain": [
       "LogisticRegression(max_iter=500, random_state=30)"
      ]
     },
     "execution_count": 37,
     "metadata": {},
     "output_type": "execute_result"
    }
   ],
   "source": [
    "model = LogisticRegression(random_state=30,max_iter=500)\n",
    "model.fit(X_train,y_train)"
   ]
  },
  {
   "cell_type": "code",
   "execution_count": 38,
   "metadata": {},
   "outputs": [],
   "source": [
    "y_pred = model.predict(X_test)\n",
    "y_pred_train = model.predict(X_train)\n",
    "\n",
    "y_pred_proba = model.predict_proba(X_test)\n",
    "y_pred_train_proba = model.predict_proba(X_train) # proba - sotajemy prawdopodbienstwo"
   ]
  },
  {
   "cell_type": "code",
   "execution_count": 39,
   "metadata": {
    "scrolled": true
   },
   "outputs": [
    {
     "data": {
      "text/plain": [
       "array([1, 0, 0, 0, 1, 1, 0, 0, 0, 1, 1, 0, 0, 0, 0, 0, 0, 1, 1, 0, 1, 0,\n",
       "       1, 0, 0, 0, 0, 0, 1, 0, 0, 1, 0, 0, 1, 0, 0, 0, 0, 0, 1, 0, 0, 1,\n",
       "       0, 0, 1, 1, 0, 1, 1, 0, 0, 0, 0, 1, 0, 0, 1, 0, 0, 0, 1, 0, 0, 0,\n",
       "       0, 0, 0, 0, 0, 1, 0, 0, 0, 1, 0, 1, 0, 0, 1, 0, 1, 1, 0, 1, 0, 0,\n",
       "       0, 0, 0, 1, 1, 0, 0, 1, 0, 0, 0, 0, 1, 1, 0, 0, 0, 0, 0, 0, 0, 0,\n",
       "       0, 0, 0, 1, 0, 0, 1, 0, 1, 0, 0, 0, 1, 0, 1, 0, 0, 1, 0, 0, 0, 0,\n",
       "       0, 0, 1, 0, 1, 0, 0, 1, 0, 0, 0, 0, 0, 0, 0, 0, 0, 0, 0, 1, 0, 0,\n",
       "       0, 0, 1, 0, 0, 0, 0, 0, 0, 0, 1, 0, 0, 0, 0, 0, 0, 0, 1, 0, 0, 1,\n",
       "       1, 0, 1, 0, 0, 1, 0, 0, 1, 0, 1, 0, 0, 0, 0, 0], dtype=int8)"
      ]
     },
     "execution_count": 39,
     "metadata": {},
     "output_type": "execute_result"
    }
   ],
   "source": [
    "y_pred"
   ]
  },
  {
   "cell_type": "code",
   "execution_count": 40,
   "metadata": {},
   "outputs": [
    {
     "data": {
      "text/plain": [
       "array([[0.21415673, 0.78584327],\n",
       "       [0.98691144, 0.01308856],\n",
       "       [0.96099481, 0.03900519],\n",
       "       [0.56380569, 0.43619431],\n",
       "       [0.05812343, 0.94187657],\n",
       "       [0.48536341, 0.51463659],\n",
       "       [0.72983647, 0.27016353],\n",
       "       [0.74793674, 0.25206326],\n",
       "       [0.86518318, 0.13481682],\n",
       "       [0.43293684, 0.56706316],\n",
       "       [0.19855598, 0.80144402],\n",
       "       [0.81233636, 0.18766364],\n",
       "       [0.6760969 , 0.3239031 ],\n",
       "       [0.84812566, 0.15187434],\n",
       "       [0.60015767, 0.39984233],\n",
       "       [0.69535578, 0.30464422],\n",
       "       [0.95458953, 0.04541047],\n",
       "       [0.02941845, 0.97058155],\n",
       "       [0.25240397, 0.74759603],\n",
       "       [0.95447917, 0.04552083],\n",
       "       [0.4250259 , 0.5749741 ],\n",
       "       [0.80102659, 0.19897341],\n",
       "       [0.12647384, 0.87352616],\n",
       "       [0.80159797, 0.19840203],\n",
       "       [0.64342112, 0.35657888],\n",
       "       [0.89267938, 0.10732062],\n",
       "       [0.85095391, 0.14904609],\n",
       "       [0.68502532, 0.31497468],\n",
       "       [0.28512663, 0.71487337],\n",
       "       [0.58467755, 0.41532245],\n",
       "       [0.81457042, 0.18542958],\n",
       "       [0.12676407, 0.87323593],\n",
       "       [0.59512293, 0.40487707],\n",
       "       [0.99449275, 0.00550725],\n",
       "       [0.34701448, 0.65298552],\n",
       "       [0.57500438, 0.42499562],\n",
       "       [0.64000386, 0.35999614],\n",
       "       [0.89900986, 0.10099014],\n",
       "       [0.83115221, 0.16884779],\n",
       "       [0.85028885, 0.14971115],\n",
       "       [0.15160846, 0.84839154],\n",
       "       [0.64480875, 0.35519125],\n",
       "       [0.96525332, 0.03474668],\n",
       "       [0.24375669, 0.75624331],\n",
       "       [0.62702335, 0.37297665],\n",
       "       [0.76899234, 0.23100766],\n",
       "       [0.21138008, 0.78861992],\n",
       "       [0.3010607 , 0.6989393 ],\n",
       "       [0.89044504, 0.10955496],\n",
       "       [0.08682239, 0.91317761],\n",
       "       [0.17116493, 0.82883507],\n",
       "       [0.85041999, 0.14958001],\n",
       "       [0.59090368, 0.40909632],\n",
       "       [0.59475256, 0.40524744],\n",
       "       [0.75204106, 0.24795894],\n",
       "       [0.4735715 , 0.5264285 ],\n",
       "       [0.88389332, 0.11610668],\n",
       "       [0.66241143, 0.33758857],\n",
       "       [0.30839656, 0.69160344],\n",
       "       [0.67731441, 0.32268559],\n",
       "       [0.89224671, 0.10775329],\n",
       "       [0.93214007, 0.06785993],\n",
       "       [0.07722575, 0.92277425],\n",
       "       [0.62955004, 0.37044996],\n",
       "       [0.7663388 , 0.2336612 ],\n",
       "       [0.66369703, 0.33630297],\n",
       "       [0.98620605, 0.01379395],\n",
       "       [0.9454024 , 0.0545976 ],\n",
       "       [0.88392528, 0.11607472],\n",
       "       [0.75560869, 0.24439131],\n",
       "       [0.86191065, 0.13808935],\n",
       "       [0.33095623, 0.66904377],\n",
       "       [0.76517555, 0.23482445],\n",
       "       [0.72821351, 0.27178649],\n",
       "       [0.83279215, 0.16720785],\n",
       "       [0.23264988, 0.76735012],\n",
       "       [0.96777331, 0.03222669],\n",
       "       [0.25143237, 0.74856763],\n",
       "       [0.90770813, 0.09229187],\n",
       "       [0.85052455, 0.14947545],\n",
       "       [0.18666386, 0.81333614],\n",
       "       [0.94548684, 0.05451316],\n",
       "       [0.09971814, 0.90028186],\n",
       "       [0.27181663, 0.72818337],\n",
       "       [0.72357932, 0.27642068],\n",
       "       [0.38252486, 0.61747514],\n",
       "       [0.86362542, 0.13637458],\n",
       "       [0.92074402, 0.07925598],\n",
       "       [0.91325383, 0.08674617],\n",
       "       [0.87227786, 0.12772214],\n",
       "       [0.88477496, 0.11522504],\n",
       "       [0.07962929, 0.92037071],\n",
       "       [0.16564625, 0.83435375],\n",
       "       [0.73019132, 0.26980868],\n",
       "       [0.79535961, 0.20464039],\n",
       "       [0.05630574, 0.94369426],\n",
       "       [0.94502975, 0.05497025],\n",
       "       [0.88814101, 0.11185899],\n",
       "       [0.73240435, 0.26759565],\n",
       "       [0.86246577, 0.13753423],\n",
       "       [0.13232911, 0.86767089],\n",
       "       [0.0217171 , 0.9782829 ],\n",
       "       [0.92145546, 0.07854454],\n",
       "       [0.89541639, 0.10458361],\n",
       "       [0.75886056, 0.24113944],\n",
       "       [0.89348472, 0.10651528],\n",
       "       [0.84358442, 0.15641558],\n",
       "       [0.96575341, 0.03424659],\n",
       "       [0.84050406, 0.15949594],\n",
       "       [0.67440532, 0.32559468],\n",
       "       [0.6287621 , 0.3712379 ],\n",
       "       [0.95693099, 0.04306901],\n",
       "       [0.68183787, 0.31816213],\n",
       "       [0.28999492, 0.71000508],\n",
       "       [0.59860111, 0.40139889],\n",
       "       [0.74632217, 0.25367783],\n",
       "       [0.47880074, 0.52119926],\n",
       "       [0.7502452 , 0.2497548 ],\n",
       "       [0.49565263, 0.50434737],\n",
       "       [0.9118707 , 0.0881293 ],\n",
       "       [0.797073  , 0.202927  ],\n",
       "       [0.93210103, 0.06789897],\n",
       "       [0.4954505 , 0.5045495 ],\n",
       "       [0.88583889, 0.11416111],\n",
       "       [0.37379385, 0.62620615],\n",
       "       [0.78291121, 0.21708879],\n",
       "       [0.92535478, 0.07464522],\n",
       "       [0.41821695, 0.58178305],\n",
       "       [0.96426286, 0.03573714],\n",
       "       [0.89411401, 0.10588599],\n",
       "       [0.53426531, 0.46573469],\n",
       "       [0.89246093, 0.10753907],\n",
       "       [0.89542075, 0.10457925],\n",
       "       [0.86677845, 0.13322155],\n",
       "       [0.22973509, 0.77026491],\n",
       "       [0.56998605, 0.43001395],\n",
       "       [0.47861997, 0.52138003],\n",
       "       [0.83115433, 0.16884567],\n",
       "       [0.70290694, 0.29709306],\n",
       "       [0.36895909, 0.63104091],\n",
       "       [0.9057804 , 0.0942196 ],\n",
       "       [0.8302861 , 0.1697139 ],\n",
       "       [0.96254233, 0.03745767],\n",
       "       [0.91270997, 0.08729003],\n",
       "       [0.90211839, 0.09788161],\n",
       "       [0.89157717, 0.10842283],\n",
       "       [0.92295533, 0.07704467],\n",
       "       [0.72571557, 0.27428443],\n",
       "       [0.66420236, 0.33579764],\n",
       "       [0.64333612, 0.35666388],\n",
       "       [0.65660189, 0.34339811],\n",
       "       [0.05369905, 0.94630095],\n",
       "       [0.93497495, 0.06502505],\n",
       "       [0.85551099, 0.14448901],\n",
       "       [0.83848898, 0.16151102],\n",
       "       [0.89112013, 0.10887987],\n",
       "       [0.08719417, 0.91280583],\n",
       "       [0.95510104, 0.04489896],\n",
       "       [0.74263842, 0.25736158],\n",
       "       [0.92313818, 0.07686182],\n",
       "       [0.77090394, 0.22909606],\n",
       "       [0.95388606, 0.04611394],\n",
       "       [0.95972451, 0.04027549],\n",
       "       [0.63595041, 0.36404959],\n",
       "       [0.31503305, 0.68496695],\n",
       "       [0.88478253, 0.11521747],\n",
       "       [0.58126939, 0.41873061],\n",
       "       [0.62318761, 0.37681239],\n",
       "       [0.83992258, 0.16007742],\n",
       "       [0.89040558, 0.10959442],\n",
       "       [0.65963286, 0.34036714],\n",
       "       [0.99172932, 0.00827068],\n",
       "       [0.08158465, 0.91841535],\n",
       "       [0.93184937, 0.06815063],\n",
       "       [0.81900099, 0.18099901],\n",
       "       [0.05708247, 0.94291753],\n",
       "       [0.12734759, 0.87265241],\n",
       "       [0.65087173, 0.34912827],\n",
       "       [0.46112186, 0.53887814],\n",
       "       [0.88100862, 0.11899138],\n",
       "       [0.58440333, 0.41559667],\n",
       "       [0.40217395, 0.59782605],\n",
       "       [0.98264188, 0.01735812],\n",
       "       [0.95447145, 0.04552855],\n",
       "       [0.35221712, 0.64778288],\n",
       "       [0.61313845, 0.38686155],\n",
       "       [0.23596248, 0.76403752],\n",
       "       [0.85463399, 0.14536601],\n",
       "       [0.53515994, 0.46484006],\n",
       "       [0.92821597, 0.07178403],\n",
       "       [0.89741425, 0.10258575],\n",
       "       [0.81924197, 0.18075803]])"
      ]
     },
     "execution_count": 40,
     "metadata": {},
     "output_type": "execute_result"
    }
   ],
   "source": [
    "y_pred_proba"
   ]
  },
  {
   "cell_type": "code",
   "execution_count": 41,
   "metadata": {},
   "outputs": [],
   "source": [
    "from sklearn.metrics import confusion_matrix\n",
    "\n",
    "cm = confusion_matrix(y_test, y_pred)\n",
    "cm_train = confusion_matrix(y_train, y_pred_train)\n",
    "\n",
    "cm_proba = confusion_matrix(y_test, y_pred)\n",
    "cm_train_proba = confusion_matrix(y_train, y_pred_train)"
   ]
  },
  {
   "cell_type": "code",
   "execution_count": 42,
   "metadata": {},
   "outputs": [],
   "source": [
    "import matplotlib.pyplot as plt\n",
    "from sklearn.metrics import RocCurveDisplay, roc_curve\n",
    "\n",
    "fpr, tpr, treshold = roc_curve(y_test,y_pred_proba[:,1], drop_intermediate=False)\n",
    "fpr_t, tpr_t, treshold_t = roc_curve(y_train,y_pred_train_proba[:,1], drop_intermediate=False)\n"
   ]
  },
  {
   "cell_type": "code",
   "execution_count": 43,
   "metadata": {},
   "outputs": [],
   "source": [
    "def plot_roc(fpr_t,tpr_t,fpr,tpr):\n",
    "    plt.figure(figsize=(10,6))\n",
    "    plt.plot(fpr_t,tpr_t, c = 'red', label = 'train')\n",
    "    plt.plot(fpr,tpr, c = 'blue', label = 'test')\n",
    "    plt.axis([0,1,0,1])\n",
    "    plt.plot([0,1], [0,1])\n",
    "    plt.title('ROC')\n",
    "    plt.legend()"
   ]
  },
  {
   "cell_type": "code",
   "execution_count": 44,
   "metadata": {},
   "outputs": [
    {
     "data": {
      "image/png": "[encoded data removed]",
      "text/plain": [
       "<Figure size 1000x600 with 1 Axes>"
      ]
     },
     "metadata": {},
     "output_type": "display_data"
    }
   ],
   "source": [
    "plot_roc(fpr_t, tpr_t, fpr, tpr)"
   ]
  },
  {
   "cell_type": "code",
   "execution_count": 45,
   "metadata": {},
   "outputs": [
    {
     "data": {
      "image/png": "[encoded data removed]",
      "text/plain": [
       "<Figure size 640x480 with 2 Axes>"
      ]
     },
     "metadata": {},
     "output_type": "display_data"
    },
    {
     "data": {
      "image/png": "[encoded data removed]",
      "text/plain": [
       "<Figure size 640x480 with 2 Axes>"
      ]
     },
     "metadata": {},
     "output_type": "display_data"
    },
    {
     "data": {
      "image/png": "[encoded data removed]",
      "text/plain": [
       "<Figure size 640x480 with 2 Axes>"
      ]
     },
     "metadata": {},
     "output_type": "display_data"
    },
    {
     "data": {
      "image/png": "[encoded data removed]",
      "text/plain": [
       "<Figure size 640x480 with 2 Axes>"
      ]
     },
     "metadata": {},
     "output_type": "display_data"
    }
   ],
   "source": [
    "tresholds = [0.2, 0.4, 0.6, 0.8]\n",
    "\n",
    "for treshold in tresholds:\n",
    "    y_pred = []\n",
    "    for y in y_pred_proba[:,1]:\n",
    "        if y > treshold:\n",
    "            y_pred.append(1)\n",
    "        else:\n",
    "            y_pred.append(0)\n",
    "    cm = confusion_matrix(y_test, y_pred)\n",
    "    f = f1_score(y_test, y_pred)\n",
    "    sns.heatmap(cm, annot = True, fmt = 'd')\n",
    "    title = f'treshold: {treshold}, f-score: {f}'\n",
    "    plt.title(title)\n",
    "    plt.show()\n",
    "    \n",
    "    "
   ]
  },
  {
   "cell_type": "code",
   "execution_count": null,
   "metadata": {},
   "outputs": [],
   "source": []
  },
  {
   "cell_type": "markdown",
   "metadata": {},
   "source": [
    "Korzystając z wbudwanej funkcji sklearn roc_auc_score importowanej podobnie jak accuracy_score, precision_score, recall_score, f1_score z modułu sklearn.metrics oblicz pole pod krzywą ROC:"
   ]
  },
  {
   "cell_type": "code",
   "execution_count": 46,
   "metadata": {},
   "outputs": [
    {
     "name": "stdout",
     "output_type": "stream",
     "text": [
      "Pole pod krzywą ROC dla zestawu treningowego: 0.84\n",
      "Pole pod krzywą ROC dla zestawu testowwego: 0.83\n"
     ]
    }
   ],
   "source": [
    "from sklearn.metrics import roc_auc_score\n",
    "\n",
    "auc_train = roc_auc_score(y_train, y_pred_train_proba[:, 1])\n",
    "auc_test = roc_auc_score(y_test, y_pred_proba[:, 1])\n",
    "\n",
    "print(f'Pole pod krzywą ROC dla zestawu treningowego: {round(auc_train,2)}')\n",
    "print(f'Pole pod krzywą ROC dla zestawu testowwego: {round(auc_test,2)}')"
   ]
  },
  {
   "cell_type": "code",
   "execution_count": 47,
   "metadata": {},
   "outputs": [
    {
     "data": {
      "image/png": "[encoded data removed]",
      "text/plain": [
       "<Figure size 640x480 with 1 Axes>"
      ]
     },
     "metadata": {},
     "output_type": "display_data"
    }
   ],
   "source": [
    "sns.barplot(x='metric', y='value', hue='index', data=df);"
   ]
  },
  {
   "cell_type": "markdown",
   "metadata": {},
   "source": [
    "**Zadanie:** Przetestuj walidację krzyżową na analizowanym wcześniej zbiorze:"
   ]
  },
  {
   "cell_type": "code",
   "execution_count": 48,
   "metadata": {},
   "outputs": [],
   "source": [
    "from sklearn.model_selection import cross_val_score"
   ]
  },
  {
   "cell_type": "markdown",
   "metadata": {},
   "source": [
    "iteracja 1: trening: a,b,c,d, test: e <br>\n",
    "iteracja 2: trening: a,b,c,e, test: d <br>\n",
    "iteracja 3: trening: a,b,d,e, test: c <br>\n",
    "iteracja 4: trening: a,c,d,e, test: b <br>\n",
    "iteracja 5: trening: b,c,d,e, test: a <br>"
   ]
  },
  {
   "cell_type": "code",
   "execution_count": 49,
   "metadata": {},
   "outputs": [],
   "source": [
    "from sklearn.model_selection import cross_val_score"
   ]
  },
  {
   "cell_type": "code",
   "execution_count": 50,
   "metadata": {},
   "outputs": [
    {
     "ename": "TypeError",
     "evalue": "Singleton array 0.18075802887552717 cannot be considered a valid collection.",
     "output_type": "error",
     "traceback": [
      "\u001b[1;31m---------------------------------------------------------------------------\u001b[0m",
      "\u001b[1;31mTypeError\u001b[0m                                 Traceback (most recent call last)",
      "Cell \u001b[1;32mIn[50], line 1\u001b[0m\n\u001b[1;32m----> 1\u001b[0m X_train, X_test, y_train, y_test \u001b[38;5;241m=\u001b[39m \u001b[43mtrain_test_split\u001b[49m\u001b[43m(\u001b[49m\u001b[43mX\u001b[49m\u001b[43m,\u001b[49m\u001b[43my\u001b[49m\u001b[43m,\u001b[49m\u001b[43m \u001b[49m\u001b[43mstratify\u001b[49m\u001b[38;5;241;43m=\u001b[39;49m\u001b[43my\u001b[49m\u001b[43m,\u001b[49m\u001b[43m \u001b[49m\u001b[43mrandom_state\u001b[49m\u001b[38;5;241;43m=\u001b[39;49m\u001b[38;5;241;43m30\u001b[39;49m\u001b[43m)\u001b[49m\n\u001b[0;32m      3\u001b[0m model \u001b[38;5;241m=\u001b[39m LogisticRegression(random_state \u001b[38;5;241m=\u001b[39m \u001b[38;5;241m30\u001b[39m,max_iter\u001b[38;5;241m=\u001b[39m\u001b[38;5;241m500\u001b[39m)\n\u001b[0;32m      5\u001b[0m scores \u001b[38;5;241m=\u001b[39m cross_val_score(model, X_train, y_train, cv\u001b[38;5;241m=\u001b[39m\u001b[38;5;241m5\u001b[39m, scoring \u001b[38;5;241m=\u001b[39m \u001b[38;5;124m'\u001b[39m\u001b[38;5;124mprecision_macro\u001b[39m\u001b[38;5;124m'\u001b[39m)\n",
      "File \u001b[1;32m~\\AppData\\Local\\Programs\\Python\\Python310\\lib\\site-packages\\sklearn\\model_selection\\_split.py:2559\u001b[0m, in \u001b[0;36mtrain_test_split\u001b[1;34m(test_size, train_size, random_state, shuffle, stratify, *arrays)\u001b[0m\n\u001b[0;32m   2556\u001b[0m \u001b[38;5;28;01mif\u001b[39;00m n_arrays \u001b[38;5;241m==\u001b[39m \u001b[38;5;241m0\u001b[39m:\n\u001b[0;32m   2557\u001b[0m     \u001b[38;5;28;01mraise\u001b[39;00m \u001b[38;5;167;01mValueError\u001b[39;00m(\u001b[38;5;124m\"\u001b[39m\u001b[38;5;124mAt least one array required as input\u001b[39m\u001b[38;5;124m\"\u001b[39m)\n\u001b[1;32m-> 2559\u001b[0m arrays \u001b[38;5;241m=\u001b[39m \u001b[43mindexable\u001b[49m\u001b[43m(\u001b[49m\u001b[38;5;241;43m*\u001b[39;49m\u001b[43marrays\u001b[49m\u001b[43m)\u001b[49m\n\u001b[0;32m   2561\u001b[0m n_samples \u001b[38;5;241m=\u001b[39m _num_samples(arrays[\u001b[38;5;241m0\u001b[39m])\n\u001b[0;32m   2562\u001b[0m n_train, n_test \u001b[38;5;241m=\u001b[39m _validate_shuffle_split(\n\u001b[0;32m   2563\u001b[0m     n_samples, test_size, train_size, default_test_size\u001b[38;5;241m=\u001b[39m\u001b[38;5;241m0.25\u001b[39m\n\u001b[0;32m   2564\u001b[0m )\n",
      "File \u001b[1;32m~\\AppData\\Local\\Programs\\Python\\Python310\\lib\\site-packages\\sklearn\\utils\\validation.py:443\u001b[0m, in \u001b[0;36mindexable\u001b[1;34m(*iterables)\u001b[0m\n\u001b[0;32m    424\u001b[0m \u001b[38;5;250m\u001b[39m\u001b[38;5;124;03m\"\"\"Make arrays indexable for cross-validation.\u001b[39;00m\n\u001b[0;32m    425\u001b[0m \n\u001b[0;32m    426\u001b[0m \u001b[38;5;124;03mChecks consistent length, passes through None, and ensures that everything\u001b[39;00m\n\u001b[1;32m   (...)\u001b[0m\n\u001b[0;32m    439\u001b[0m \u001b[38;5;124;03m    sparse matrix, or dataframe) or `None`.\u001b[39;00m\n\u001b[0;32m    440\u001b[0m \u001b[38;5;124;03m\"\"\"\u001b[39;00m\n\u001b[0;32m    442\u001b[0m result \u001b[38;5;241m=\u001b[39m [_make_indexable(X) \u001b[38;5;28;01mfor\u001b[39;00m X \u001b[38;5;129;01min\u001b[39;00m iterables]\n\u001b[1;32m--> 443\u001b[0m \u001b[43mcheck_consistent_length\u001b[49m\u001b[43m(\u001b[49m\u001b[38;5;241;43m*\u001b[39;49m\u001b[43mresult\u001b[49m\u001b[43m)\u001b[49m\n\u001b[0;32m    444\u001b[0m \u001b[38;5;28;01mreturn\u001b[39;00m result\n",
      "File \u001b[1;32m~\\AppData\\Local\\Programs\\Python\\Python310\\lib\\site-packages\\sklearn\\utils\\validation.py:394\u001b[0m, in \u001b[0;36mcheck_consistent_length\u001b[1;34m(*arrays)\u001b[0m\n\u001b[0;32m    383\u001b[0m \u001b[38;5;28;01mdef\u001b[39;00m \u001b[38;5;21mcheck_consistent_length\u001b[39m(\u001b[38;5;241m*\u001b[39marrays):\n\u001b[0;32m    384\u001b[0m \u001b[38;5;250m    \u001b[39m\u001b[38;5;124;03m\"\"\"Check that all arrays have consistent first dimensions.\u001b[39;00m\n\u001b[0;32m    385\u001b[0m \n\u001b[0;32m    386\u001b[0m \u001b[38;5;124;03m    Checks whether all objects in arrays have the same shape or length.\u001b[39;00m\n\u001b[1;32m   (...)\u001b[0m\n\u001b[0;32m    391\u001b[0m \u001b[38;5;124;03m        Objects that will be checked for consistent length.\u001b[39;00m\n\u001b[0;32m    392\u001b[0m \u001b[38;5;124;03m    \"\"\"\u001b[39;00m\n\u001b[1;32m--> 394\u001b[0m     lengths \u001b[38;5;241m=\u001b[39m [_num_samples(X) \u001b[38;5;28;01mfor\u001b[39;00m X \u001b[38;5;129;01min\u001b[39;00m arrays \u001b[38;5;28;01mif\u001b[39;00m X \u001b[38;5;129;01mis\u001b[39;00m \u001b[38;5;129;01mnot\u001b[39;00m \u001b[38;5;28;01mNone\u001b[39;00m]\n\u001b[0;32m    395\u001b[0m     uniques \u001b[38;5;241m=\u001b[39m np\u001b[38;5;241m.\u001b[39munique(lengths)\n\u001b[0;32m    396\u001b[0m     \u001b[38;5;28;01mif\u001b[39;00m \u001b[38;5;28mlen\u001b[39m(uniques) \u001b[38;5;241m>\u001b[39m \u001b[38;5;241m1\u001b[39m:\n",
      "File \u001b[1;32m~\\AppData\\Local\\Programs\\Python\\Python310\\lib\\site-packages\\sklearn\\utils\\validation.py:394\u001b[0m, in \u001b[0;36m<listcomp>\u001b[1;34m(.0)\u001b[0m\n\u001b[0;32m    383\u001b[0m \u001b[38;5;28;01mdef\u001b[39;00m \u001b[38;5;21mcheck_consistent_length\u001b[39m(\u001b[38;5;241m*\u001b[39marrays):\n\u001b[0;32m    384\u001b[0m \u001b[38;5;250m    \u001b[39m\u001b[38;5;124;03m\"\"\"Check that all arrays have consistent first dimensions.\u001b[39;00m\n\u001b[0;32m    385\u001b[0m \n\u001b[0;32m    386\u001b[0m \u001b[38;5;124;03m    Checks whether all objects in arrays have the same shape or length.\u001b[39;00m\n\u001b[1;32m   (...)\u001b[0m\n\u001b[0;32m    391\u001b[0m \u001b[38;5;124;03m        Objects that will be checked for consistent length.\u001b[39;00m\n\u001b[0;32m    392\u001b[0m \u001b[38;5;124;03m    \"\"\"\u001b[39;00m\n\u001b[1;32m--> 394\u001b[0m     lengths \u001b[38;5;241m=\u001b[39m [\u001b[43m_num_samples\u001b[49m\u001b[43m(\u001b[49m\u001b[43mX\u001b[49m\u001b[43m)\u001b[49m \u001b[38;5;28;01mfor\u001b[39;00m X \u001b[38;5;129;01min\u001b[39;00m arrays \u001b[38;5;28;01mif\u001b[39;00m X \u001b[38;5;129;01mis\u001b[39;00m \u001b[38;5;129;01mnot\u001b[39;00m \u001b[38;5;28;01mNone\u001b[39;00m]\n\u001b[0;32m    395\u001b[0m     uniques \u001b[38;5;241m=\u001b[39m np\u001b[38;5;241m.\u001b[39munique(lengths)\n\u001b[0;32m    396\u001b[0m     \u001b[38;5;28;01mif\u001b[39;00m \u001b[38;5;28mlen\u001b[39m(uniques) \u001b[38;5;241m>\u001b[39m \u001b[38;5;241m1\u001b[39m:\n",
      "File \u001b[1;32m~\\AppData\\Local\\Programs\\Python\\Python310\\lib\\site-packages\\sklearn\\utils\\validation.py:335\u001b[0m, in \u001b[0;36m_num_samples\u001b[1;34m(x)\u001b[0m\n\u001b[0;32m    333\u001b[0m \u001b[38;5;28;01mif\u001b[39;00m \u001b[38;5;28mhasattr\u001b[39m(x, \u001b[38;5;124m\"\u001b[39m\u001b[38;5;124mshape\u001b[39m\u001b[38;5;124m\"\u001b[39m) \u001b[38;5;129;01mand\u001b[39;00m x\u001b[38;5;241m.\u001b[39mshape \u001b[38;5;129;01mis\u001b[39;00m \u001b[38;5;129;01mnot\u001b[39;00m \u001b[38;5;28;01mNone\u001b[39;00m:\n\u001b[0;32m    334\u001b[0m     \u001b[38;5;28;01mif\u001b[39;00m \u001b[38;5;28mlen\u001b[39m(x\u001b[38;5;241m.\u001b[39mshape) \u001b[38;5;241m==\u001b[39m \u001b[38;5;241m0\u001b[39m:\n\u001b[1;32m--> 335\u001b[0m         \u001b[38;5;28;01mraise\u001b[39;00m \u001b[38;5;167;01mTypeError\u001b[39;00m(\n\u001b[0;32m    336\u001b[0m             \u001b[38;5;124m\"\u001b[39m\u001b[38;5;124mSingleton array \u001b[39m\u001b[38;5;132;01m%r\u001b[39;00m\u001b[38;5;124m cannot be considered a valid collection.\u001b[39m\u001b[38;5;124m\"\u001b[39m \u001b[38;5;241m%\u001b[39m x\n\u001b[0;32m    337\u001b[0m         )\n\u001b[0;32m    338\u001b[0m     \u001b[38;5;66;03m# Check that shape is returning an integer or default to len\u001b[39;00m\n\u001b[0;32m    339\u001b[0m     \u001b[38;5;66;03m# Dask dataframes may not return numeric shape[0] value\u001b[39;00m\n\u001b[0;32m    340\u001b[0m     \u001b[38;5;28;01mif\u001b[39;00m \u001b[38;5;28misinstance\u001b[39m(x\u001b[38;5;241m.\u001b[39mshape[\u001b[38;5;241m0\u001b[39m], numbers\u001b[38;5;241m.\u001b[39mIntegral):\n",
      "\u001b[1;31mTypeError\u001b[0m: Singleton array 0.18075802887552717 cannot be considered a valid collection."
     ]
    }
   ],
   "source": [
    "X_train, X_test, y_train, y_test = train_test_split(X,y, stratify=y, random_state=30)\n",
    "\n",
    "model = LogisticRegression(random_state = 30,max_iter=500)\n",
    "\n",
    "scores = cross_val_score(model, X_train, y_train, cv=5, scoring = 'precision_macro')"
   ]
  },
  {
   "cell_type": "code",
   "execution_count": null,
   "metadata": {},
   "outputs": [],
   "source": [
    "scores"
   ]
  },
  {
   "cell_type": "markdown",
   "metadata": {},
   "source": [
    "# Regularyzacja, czyli jak przeciwdziałać overfittingowi. Czy to jest w ogóle problem? Sprawdźmy!"
   ]
  },
  {
   "cell_type": "code",
   "execution_count": 51,
   "metadata": {},
   "outputs": [],
   "source": [
    "wine, wine_classes = load_dataset('wine','Class')"
   ]
  },
  {
   "cell_type": "code",
   "execution_count": 52,
   "metadata": {},
   "outputs": [
    {
     "data": {
      "text/html": [
       "<div>\n",
       "<style scoped>\n",
       "    .dataframe tbody tr th:only-of-type {\n",
       "        vertical-align: middle;\n",
       "    }\n",
       "\n",
       "    .dataframe tbody tr th {\n",
       "        vertical-align: top;\n",
       "    }\n",
       "\n",
       "    .dataframe thead th {\n",
       "        text-align: right;\n",
       "    }\n",
       "</style>\n",
       "<table border=\"1\" class=\"dataframe\">\n",
       "  <thead>\n",
       "    <tr style=\"text-align: right;\">\n",
       "      <th></th>\n",
       "      <th>Alcohol</th>\n",
       "      <th>Malic acid</th>\n",
       "      <th>Ash</th>\n",
       "      <th>Alcalinity of ash</th>\n",
       "      <th>Magnesium</th>\n",
       "      <th>Total phenols</th>\n",
       "      <th>Flavanoids</th>\n",
       "      <th>Nonflavanoid phenols</th>\n",
       "      <th>Proanthocyanins</th>\n",
       "      <th>Color intensity</th>\n",
       "      <th>Hue</th>\n",
       "      <th>OD280/OD315 of diluted wines</th>\n",
       "      <th>Proline</th>\n",
       "      <th>class</th>\n",
       "    </tr>\n",
       "  </thead>\n",
       "  <tbody>\n",
       "    <tr>\n",
       "      <th>0</th>\n",
       "      <td>14.23</td>\n",
       "      <td>1.71</td>\n",
       "      <td>2.43</td>\n",
       "      <td>15.6</td>\n",
       "      <td>127</td>\n",
       "      <td>2.80</td>\n",
       "      <td>3.06</td>\n",
       "      <td>0.28</td>\n",
       "      <td>2.29</td>\n",
       "      <td>5.64</td>\n",
       "      <td>1.04</td>\n",
       "      <td>3.92</td>\n",
       "      <td>1065</td>\n",
       "      <td>0</td>\n",
       "    </tr>\n",
       "    <tr>\n",
       "      <th>1</th>\n",
       "      <td>13.20</td>\n",
       "      <td>1.78</td>\n",
       "      <td>2.14</td>\n",
       "      <td>11.2</td>\n",
       "      <td>100</td>\n",
       "      <td>2.65</td>\n",
       "      <td>2.76</td>\n",
       "      <td>0.26</td>\n",
       "      <td>1.28</td>\n",
       "      <td>4.38</td>\n",
       "      <td>1.05</td>\n",
       "      <td>3.40</td>\n",
       "      <td>1050</td>\n",
       "      <td>0</td>\n",
       "    </tr>\n",
       "    <tr>\n",
       "      <th>2</th>\n",
       "      <td>13.16</td>\n",
       "      <td>2.36</td>\n",
       "      <td>2.67</td>\n",
       "      <td>18.6</td>\n",
       "      <td>101</td>\n",
       "      <td>2.80</td>\n",
       "      <td>3.24</td>\n",
       "      <td>0.30</td>\n",
       "      <td>2.81</td>\n",
       "      <td>5.68</td>\n",
       "      <td>1.03</td>\n",
       "      <td>3.17</td>\n",
       "      <td>1185</td>\n",
       "      <td>0</td>\n",
       "    </tr>\n",
       "    <tr>\n",
       "      <th>3</th>\n",
       "      <td>14.37</td>\n",
       "      <td>1.95</td>\n",
       "      <td>2.50</td>\n",
       "      <td>16.8</td>\n",
       "      <td>113</td>\n",
       "      <td>3.85</td>\n",
       "      <td>3.49</td>\n",
       "      <td>0.24</td>\n",
       "      <td>2.18</td>\n",
       "      <td>7.80</td>\n",
       "      <td>0.86</td>\n",
       "      <td>3.45</td>\n",
       "      <td>1480</td>\n",
       "      <td>0</td>\n",
       "    </tr>\n",
       "    <tr>\n",
       "      <th>4</th>\n",
       "      <td>13.24</td>\n",
       "      <td>2.59</td>\n",
       "      <td>2.87</td>\n",
       "      <td>21.0</td>\n",
       "      <td>118</td>\n",
       "      <td>2.80</td>\n",
       "      <td>2.69</td>\n",
       "      <td>0.39</td>\n",
       "      <td>1.82</td>\n",
       "      <td>4.32</td>\n",
       "      <td>1.04</td>\n",
       "      <td>2.93</td>\n",
       "      <td>735</td>\n",
       "      <td>0</td>\n",
       "    </tr>\n",
       "  </tbody>\n",
       "</table>\n",
       "</div>"
      ],
      "text/plain": [
       "   Alcohol  Malic acid   Ash  Alcalinity of ash  Magnesium  Total phenols  \\\n",
       "0    14.23        1.71  2.43               15.6        127           2.80   \n",
       "1    13.20        1.78  2.14               11.2        100           2.65   \n",
       "2    13.16        2.36  2.67               18.6        101           2.80   \n",
       "3    14.37        1.95  2.50               16.8        113           3.85   \n",
       "4    13.24        2.59  2.87               21.0        118           2.80   \n",
       "\n",
       "   Flavanoids  Nonflavanoid phenols  Proanthocyanins  Color intensity   Hue  \\\n",
       "0        3.06                  0.28             2.29             5.64  1.04   \n",
       "1        2.76                  0.26             1.28             4.38  1.05   \n",
       "2        3.24                  0.30             2.81             5.68  1.03   \n",
       "3        3.49                  0.24             2.18             7.80  0.86   \n",
       "4        2.69                  0.39             1.82             4.32  1.04   \n",
       "\n",
       "   OD280/OD315 of diluted wines  Proline  class  \n",
       "0                          3.92     1065      0  \n",
       "1                          3.40     1050      0  \n",
       "2                          3.17     1185      0  \n",
       "3                          3.45     1480      0  \n",
       "4                          2.93      735      0  "
      ]
     },
     "execution_count": 52,
     "metadata": {},
     "output_type": "execute_result"
    }
   ],
   "source": [
    "wine.head()"
   ]
  },
  {
   "cell_type": "code",
   "execution_count": 53,
   "metadata": {},
   "outputs": [],
   "source": [
    "y = wine.pop('class')"
   ]
  },
  {
   "cell_type": "code",
   "execution_count": 54,
   "metadata": {},
   "outputs": [],
   "source": [
    "X = wine"
   ]
  },
  {
   "cell_type": "code",
   "execution_count": 55,
   "metadata": {},
   "outputs": [
    {
     "data": {
      "text/plain": [
       "2    71\n",
       "0    59\n",
       "1    48\n",
       "Name: class, dtype: int64"
      ]
     },
     "execution_count": 55,
     "metadata": {},
     "output_type": "execute_result"
    }
   ],
   "source": [
    "y.value_counts()"
   ]
  },
  {
   "cell_type": "code",
   "execution_count": 56,
   "metadata": {},
   "outputs": [],
   "source": [
    "X_train, X_test, y_train, y_test = train_test_split(X,y,test_size=30,stratify=y,random_state=30)"
   ]
  },
  {
   "cell_type": "code",
   "execution_count": 57,
   "metadata": {
    "scrolled": true
   },
   "outputs": [
    {
     "name": "stderr",
     "output_type": "stream",
     "text": [
      "C:\\Users\\Kacper\\AppData\\Local\\Programs\\Python\\Python310\\lib\\site-packages\\sklearn\\linear_model\\_logistic.py:458: ConvergenceWarning: lbfgs failed to converge (status=1):\n",
      "STOP: TOTAL NO. of ITERATIONS REACHED LIMIT.\n",
      "\n",
      "Increase the number of iterations (max_iter) or scale the data as shown in:\n",
      "    https://scikit-learn.org/stable/modules/preprocessing.html\n",
      "Please also refer to the documentation for alternative solver options:\n",
      "    https://scikit-learn.org/stable/modules/linear_model.html#logistic-regression\n",
      "  n_iter_i = _check_optimize_result(\n",
      "C:\\Users\\Kacper\\AppData\\Local\\Programs\\Python\\Python310\\lib\\site-packages\\sklearn\\linear_model\\_logistic.py:458: ConvergenceWarning: lbfgs failed to converge (status=1):\n",
      "STOP: TOTAL NO. of ITERATIONS REACHED LIMIT.\n",
      "\n",
      "Increase the number of iterations (max_iter) or scale the data as shown in:\n",
      "    https://scikit-learn.org/stable/modules/preprocessing.html\n",
      "Please also refer to the documentation for alternative solver options:\n",
      "    https://scikit-learn.org/stable/modules/linear_model.html#logistic-regression\n",
      "  n_iter_i = _check_optimize_result(\n",
      "C:\\Users\\Kacper\\AppData\\Local\\Programs\\Python\\Python310\\lib\\site-packages\\sklearn\\linear_model\\_logistic.py:458: ConvergenceWarning: lbfgs failed to converge (status=1):\n",
      "STOP: TOTAL NO. of ITERATIONS REACHED LIMIT.\n",
      "\n",
      "Increase the number of iterations (max_iter) or scale the data as shown in:\n",
      "    https://scikit-learn.org/stable/modules/preprocessing.html\n",
      "Please also refer to the documentation for alternative solver options:\n",
      "    https://scikit-learn.org/stable/modules/linear_model.html#logistic-regression\n",
      "  n_iter_i = _check_optimize_result(\n",
      "C:\\Users\\Kacper\\AppData\\Local\\Programs\\Python\\Python310\\lib\\site-packages\\sklearn\\linear_model\\_logistic.py:458: ConvergenceWarning: lbfgs failed to converge (status=1):\n",
      "STOP: TOTAL NO. of ITERATIONS REACHED LIMIT.\n",
      "\n",
      "Increase the number of iterations (max_iter) or scale the data as shown in:\n",
      "    https://scikit-learn.org/stable/modules/preprocessing.html\n",
      "Please also refer to the documentation for alternative solver options:\n",
      "    https://scikit-learn.org/stable/modules/linear_model.html#logistic-regression\n",
      "  n_iter_i = _check_optimize_result(\n",
      "C:\\Users\\Kacper\\AppData\\Local\\Programs\\Python\\Python310\\lib\\site-packages\\sklearn\\linear_model\\_logistic.py:458: ConvergenceWarning: lbfgs failed to converge (status=1):\n",
      "STOP: TOTAL NO. of ITERATIONS REACHED LIMIT.\n",
      "\n",
      "Increase the number of iterations (max_iter) or scale the data as shown in:\n",
      "    https://scikit-learn.org/stable/modules/preprocessing.html\n",
      "Please also refer to the documentation for alternative solver options:\n",
      "    https://scikit-learn.org/stable/modules/linear_model.html#logistic-regression\n",
      "  n_iter_i = _check_optimize_result(\n",
      "C:\\Users\\Kacper\\AppData\\Local\\Programs\\Python\\Python310\\lib\\site-packages\\sklearn\\linear_model\\_logistic.py:458: ConvergenceWarning: lbfgs failed to converge (status=1):\n",
      "STOP: TOTAL NO. of ITERATIONS REACHED LIMIT.\n",
      "\n",
      "Increase the number of iterations (max_iter) or scale the data as shown in:\n",
      "    https://scikit-learn.org/stable/modules/preprocessing.html\n",
      "Please also refer to the documentation for alternative solver options:\n",
      "    https://scikit-learn.org/stable/modules/linear_model.html#logistic-regression\n",
      "  n_iter_i = _check_optimize_result(\n",
      "C:\\Users\\Kacper\\AppData\\Local\\Programs\\Python\\Python310\\lib\\site-packages\\sklearn\\linear_model\\_logistic.py:458: ConvergenceWarning: lbfgs failed to converge (status=1):\n",
      "STOP: TOTAL NO. of ITERATIONS REACHED LIMIT.\n",
      "\n",
      "Increase the number of iterations (max_iter) or scale the data as shown in:\n",
      "    https://scikit-learn.org/stable/modules/preprocessing.html\n",
      "Please also refer to the documentation for alternative solver options:\n",
      "    https://scikit-learn.org/stable/modules/linear_model.html#logistic-regression\n",
      "  n_iter_i = _check_optimize_result(\n",
      "C:\\Users\\Kacper\\AppData\\Local\\Programs\\Python\\Python310\\lib\\site-packages\\sklearn\\linear_model\\_logistic.py:458: ConvergenceWarning: lbfgs failed to converge (status=1):\n",
      "STOP: TOTAL NO. of ITERATIONS REACHED LIMIT.\n",
      "\n",
      "Increase the number of iterations (max_iter) or scale the data as shown in:\n",
      "    https://scikit-learn.org/stable/modules/preprocessing.html\n",
      "Please also refer to the documentation for alternative solver options:\n",
      "    https://scikit-learn.org/stable/modules/linear_model.html#logistic-regression\n",
      "  n_iter_i = _check_optimize_result(\n",
      "C:\\Users\\Kacper\\AppData\\Local\\Programs\\Python\\Python310\\lib\\site-packages\\sklearn\\linear_model\\_logistic.py:458: ConvergenceWarning: lbfgs failed to converge (status=1):\n",
      "STOP: TOTAL NO. of ITERATIONS REACHED LIMIT.\n",
      "\n",
      "Increase the number of iterations (max_iter) or scale the data as shown in:\n",
      "    https://scikit-learn.org/stable/modules/preprocessing.html\n",
      "Please also refer to the documentation for alternative solver options:\n",
      "    https://scikit-learn.org/stable/modules/linear_model.html#logistic-regression\n",
      "  n_iter_i = _check_optimize_result(\n",
      "C:\\Users\\Kacper\\AppData\\Local\\Programs\\Python\\Python310\\lib\\site-packages\\sklearn\\linear_model\\_logistic.py:458: ConvergenceWarning: lbfgs failed to converge (status=1):\n",
      "STOP: TOTAL NO. of ITERATIONS REACHED LIMIT.\n",
      "\n",
      "Increase the number of iterations (max_iter) or scale the data as shown in:\n",
      "    https://scikit-learn.org/stable/modules/preprocessing.html\n",
      "Please also refer to the documentation for alternative solver options:\n",
      "    https://scikit-learn.org/stable/modules/linear_model.html#logistic-regression\n",
      "  n_iter_i = _check_optimize_result(\n",
      "C:\\Users\\Kacper\\AppData\\Local\\Programs\\Python\\Python310\\lib\\site-packages\\sklearn\\linear_model\\_logistic.py:458: ConvergenceWarning: lbfgs failed to converge (status=1):\n",
      "STOP: TOTAL NO. of ITERATIONS REACHED LIMIT.\n",
      "\n",
      "Increase the number of iterations (max_iter) or scale the data as shown in:\n",
      "    https://scikit-learn.org/stable/modules/preprocessing.html\n",
      "Please also refer to the documentation for alternative solver options:\n",
      "    https://scikit-learn.org/stable/modules/linear_model.html#logistic-regression\n",
      "  n_iter_i = _check_optimize_result(\n"
     ]
    }
   ],
   "source": [
    "model = LogisticRegression(random_state=30, max_iter=1500)\n",
    "model.fit(X_train,y_train)\n",
    "\n",
    "scores_precision = cross_val_score(model, X_train, y_train, cv=5, scoring=\"precision_macro\")\n",
    "scores_recall = cross_val_score(model, X_train, y_train, cv=5, scoring=\"recall_macro\")"
   ]
  },
  {
   "cell_type": "code",
   "execution_count": 58,
   "metadata": {},
   "outputs": [
    {
     "name": "stdout",
     "output_type": "stream",
     "text": [
      "[0.97435897 0.96296296 0.91538462 0.96296296 0.89469697]\n",
      "[0.96666667 0.97222222 0.89722222 0.97222222 0.89772727]\n"
     ]
    }
   ],
   "source": [
    "print(scores_precision)\n",
    "print(scores_recall)"
   ]
  },
  {
   "cell_type": "code",
   "execution_count": 59,
   "metadata": {},
   "outputs": [
    {
     "name": "stdout",
     "output_type": "stream",
     "text": [
      "f-score na zbiorze treningowym: 0.9932368043344393\n",
      "f-score na zbiorze testowym: 1.0\n"
     ]
    }
   ],
   "source": [
    "y_pred_train = model.predict(X_train)\n",
    "y_pred = model.predict(X_test)\n",
    "\n",
    "f_train = f1_score(y_train, y_pred_train, average='weighted')\n",
    "f_test = f1_score(y_test, y_pred, average='weighted')\n",
    "\n",
    "print(f'f-score na zbiorze treningowym: {f_train}')\n",
    "print(f'f-score na zbiorze testowym: {f_test}')"
   ]
  },
  {
   "cell_type": "markdown",
   "metadata": {},
   "source": [
    "Regularyzacja:"
   ]
  },
  {
   "cell_type": "code",
   "execution_count": 60,
   "metadata": {},
   "outputs": [
    {
     "name": "stdout",
     "output_type": "stream",
     "text": [
      "f-score na zbiorze treningowym: 0.9730574324324324\n",
      "f-score na zbiorze testowym: 0.9667356797791581\n"
     ]
    }
   ],
   "source": [
    "model = LogisticRegression(random_state=30, max_iter=1500, penalty='l2', C=0.1)\n",
    "model.fit(X_train,y_train)\n",
    "\n",
    "y_pred_train = model.predict(X_train)\n",
    "y_pred = model.predict(X_test)\n",
    "\n",
    "f_train = f1_score(y_train, y_pred_train, average='weighted')\n",
    "f_test = f1_score(y_test, y_pred, average='weighted')\n",
    "\n",
    "print(f'f-score na zbiorze treningowym: {f_train}')\n",
    "print(f'f-score na zbiorze testowym: {f_test}')"
   ]
  },
  {
   "cell_type": "markdown",
   "metadata": {},
   "source": [
    "Przetestujmy teraz jednocześnie wiele wartości parametru regularyzacji"
   ]
  },
  {
   "cell_type": "code",
   "execution_count": 61,
   "metadata": {},
   "outputs": [
    {
     "name": "stdout",
     "output_type": "stream",
     "text": [
      "[0.001, 0.01, 0.1, 1.0, 10.0]\n"
     ]
    }
   ],
   "source": [
    "import numpy as np\n",
    "\n",
    "C_values = [10.0**x for x in np.arange(-3,2,1)]\n",
    "\n",
    "print(C_values)"
   ]
  },
  {
   "cell_type": "code",
   "execution_count": 62,
   "metadata": {},
   "outputs": [
    {
     "name": "stderr",
     "output_type": "stream",
     "text": [
      "C:\\Users\\Kacper\\AppData\\Local\\Programs\\Python\\Python310\\lib\\site-packages\\sklearn\\linear_model\\_logistic.py:458: ConvergenceWarning: lbfgs failed to converge (status=1):\n",
      "STOP: TOTAL NO. of ITERATIONS REACHED LIMIT.\n",
      "\n",
      "Increase the number of iterations (max_iter) or scale the data as shown in:\n",
      "    https://scikit-learn.org/stable/modules/preprocessing.html\n",
      "Please also refer to the documentation for alternative solver options:\n",
      "    https://scikit-learn.org/stable/modules/linear_model.html#logistic-regression\n",
      "  n_iter_i = _check_optimize_result(\n",
      "C:\\Users\\Kacper\\AppData\\Local\\Programs\\Python\\Python310\\lib\\site-packages\\sklearn\\linear_model\\_logistic.py:458: ConvergenceWarning: lbfgs failed to converge (status=1):\n",
      "STOP: TOTAL NO. of ITERATIONS REACHED LIMIT.\n",
      "\n",
      "Increase the number of iterations (max_iter) or scale the data as shown in:\n",
      "    https://scikit-learn.org/stable/modules/preprocessing.html\n",
      "Please also refer to the documentation for alternative solver options:\n",
      "    https://scikit-learn.org/stable/modules/linear_model.html#logistic-regression\n",
      "  n_iter_i = _check_optimize_result(\n",
      "C:\\Users\\Kacper\\AppData\\Local\\Programs\\Python\\Python310\\lib\\site-packages\\sklearn\\linear_model\\_logistic.py:458: ConvergenceWarning: lbfgs failed to converge (status=1):\n",
      "STOP: TOTAL NO. of ITERATIONS REACHED LIMIT.\n",
      "\n",
      "Increase the number of iterations (max_iter) or scale the data as shown in:\n",
      "    https://scikit-learn.org/stable/modules/preprocessing.html\n",
      "Please also refer to the documentation for alternative solver options:\n",
      "    https://scikit-learn.org/stable/modules/linear_model.html#logistic-regression\n",
      "  n_iter_i = _check_optimize_result(\n",
      "C:\\Users\\Kacper\\AppData\\Local\\Programs\\Python\\Python310\\lib\\site-packages\\sklearn\\linear_model\\_logistic.py:458: ConvergenceWarning: lbfgs failed to converge (status=1):\n",
      "STOP: TOTAL NO. of ITERATIONS REACHED LIMIT.\n",
      "\n",
      "Increase the number of iterations (max_iter) or scale the data as shown in:\n",
      "    https://scikit-learn.org/stable/modules/preprocessing.html\n",
      "Please also refer to the documentation for alternative solver options:\n",
      "    https://scikit-learn.org/stable/modules/linear_model.html#logistic-regression\n",
      "  n_iter_i = _check_optimize_result(\n",
      "C:\\Users\\Kacper\\AppData\\Local\\Programs\\Python\\Python310\\lib\\site-packages\\sklearn\\linear_model\\_logistic.py:458: ConvergenceWarning: lbfgs failed to converge (status=1):\n",
      "STOP: TOTAL NO. of ITERATIONS REACHED LIMIT.\n",
      "\n",
      "Increase the number of iterations (max_iter) or scale the data as shown in:\n",
      "    https://scikit-learn.org/stable/modules/preprocessing.html\n",
      "Please also refer to the documentation for alternative solver options:\n",
      "    https://scikit-learn.org/stable/modules/linear_model.html#logistic-regression\n",
      "  n_iter_i = _check_optimize_result(\n"
     ]
    }
   ],
   "source": [
    "train_err = []\n",
    "valid_err = []\n",
    "\n",
    "for C_value in C_values:\n",
    "    model = LogisticRegression(random_state=30, max_iter=100, penalty='l2', C=C_value)\n",
    "    model.fit(X_train,y_train)\n",
    "    \n",
    "    train_err.append(model.score(X_train,y_train))\n",
    "    valid_err.append(model.score(X_test,y_test))"
   ]
  },
  {
   "cell_type": "code",
   "execution_count": 63,
   "metadata": {
    "scrolled": true
   },
   "outputs": [
    {
     "data": {
      "text/plain": [
       "[0.8108108108108109,\n",
       " 0.9459459459459459,\n",
       " 0.9594594594594594,\n",
       " 0.972972972972973,\n",
       " 0.9797297297297297]"
      ]
     },
     "execution_count": 63,
     "metadata": {},
     "output_type": "execute_result"
    }
   ],
   "source": [
    "train_err"
   ]
  },
  {
   "cell_type": "code",
   "execution_count": 64,
   "metadata": {},
   "outputs": [
    {
     "data": {
      "image/png": "[encoded data removed]",
      "text/plain": [
       "<Figure size 640x480 with 1 Axes>"
      ]
     },
     "metadata": {},
     "output_type": "display_data"
    }
   ],
   "source": [
    "plt.semilogx(C_values, train_err, C_values, valid_err)\n",
    "plt.legend(('train','validation'))\n",
    "plt.show()"
   ]
  },
  {
   "cell_type": "markdown",
   "metadata": {},
   "source": [
    "Skorzystajmy teraz z metody Grid Search. Regularyzacja l1 udostępnia selekcję cech, o możemy zobaczyć tu:"
   ]
  },
  {
   "cell_type": "code",
   "execution_count": 65,
   "metadata": {},
   "outputs": [],
   "source": [
    "from sklearn.model_selection import GridSearchCV"
   ]
  },
  {
   "cell_type": "code",
   "execution_count": 66,
   "metadata": {},
   "outputs": [],
   "source": [
    "lr = LogisticRegression(solver='liblinear',random_state=30)\n",
    "\n",
    "params = {'C':[10.0**x for x in np.arange(-3,2,1)],\n",
    "         'penalty':['l1','l2'],\n",
    "         'max_iter':[100,300,500]}"
   ]
  },
  {
   "cell_type": "code",
   "execution_count": 67,
   "metadata": {},
   "outputs": [
    {
     "data": {
      "text/html": [
       "<style>#sk-container-id-4 {color: black;background-color: white;}#sk-container-id-4 pre{padding: 0;}#sk-container-id-4 div.sk-toggleable {background-color: white;}#sk-container-id-4 label.sk-toggleable__label {cursor: pointer;display: block;width: 100%;margin-bottom: 0;padding: 0.3em;box-sizing: border-box;text-align: center;}#sk-container-id-4 label.sk-toggleable__label-arrow:before {content: \"▸\";float: left;margin-right: 0.25em;color: #696969;}#sk-container-id-4 label.sk-toggleable__label-arrow:hover:before {color: black;}#sk-container-id-4 div.sk-estimator:hover label.sk-toggleable__label-arrow:before {color: black;}#sk-container-id-4 div.sk-toggleable__content {max-height: 0;max-width: 0;overflow: hidden;text-align: left;background-color: #f0f8ff;}#sk-container-id-4 div.sk-toggleable__content pre {margin: 0.2em;color: black;border-radius: 0.25em;background-color: #f0f8ff;}#sk-container-id-4 input.sk-toggleable__control:checked~div.sk-toggleable__content {max-height: 200px;max-width: 100%;overflow: auto;}#sk-container-id-4 input.sk-toggleable__control:checked~label.sk-toggleable__label-arrow:before {content: \"▾\";}#sk-container-id-4 div.sk-estimator input.sk-toggleable__control:checked~label.sk-toggleable__label {background-color: #d4ebff;}#sk-container-id-4 div.sk-label input.sk-toggleable__control:checked~label.sk-toggleable__label {background-color: #d4ebff;}#sk-container-id-4 input.sk-hidden--visually {border: 0;clip: rect(1px 1px 1px 1px);clip: rect(1px, 1px, 1px, 1px);height: 1px;margin: -1px;overflow: hidden;padding: 0;position: absolute;width: 1px;}#sk-container-id-4 div.sk-estimator {font-family: monospace;background-color: #f0f8ff;border: 1px dotted black;border-radius: 0.25em;box-sizing: border-box;margin-bottom: 0.5em;}#sk-container-id-4 div.sk-estimator:hover {background-color: #d4ebff;}#sk-container-id-4 div.sk-parallel-item::after {content: \"\";width: 100%;border-bottom: 1px solid gray;flex-grow: 1;}#sk-container-id-4 div.sk-label:hover label.sk-toggleable__label {background-color: #d4ebff;}#sk-container-id-4 div.sk-serial::before {content: \"\";position: absolute;border-left: 1px solid gray;box-sizing: border-box;top: 0;bottom: 0;left: 50%;z-index: 0;}#sk-container-id-4 div.sk-serial {display: flex;flex-direction: column;align-items: center;background-color: white;padding-right: 0.2em;padding-left: 0.2em;position: relative;}#sk-container-id-4 div.sk-item {position: relative;z-index: 1;}#sk-container-id-4 div.sk-parallel {display: flex;align-items: stretch;justify-content: center;background-color: white;position: relative;}#sk-container-id-4 div.sk-item::before, #sk-container-id-4 div.sk-parallel-item::before {content: \"\";position: absolute;border-left: 1px solid gray;box-sizing: border-box;top: 0;bottom: 0;left: 50%;z-index: -1;}#sk-container-id-4 div.sk-parallel-item {display: flex;flex-direction: column;z-index: 1;position: relative;background-color: white;}#sk-container-id-4 div.sk-parallel-item:first-child::after {align-self: flex-end;width: 50%;}#sk-container-id-4 div.sk-parallel-item:last-child::after {align-self: flex-start;width: 50%;}#sk-container-id-4 div.sk-parallel-item:only-child::after {width: 0;}#sk-container-id-4 div.sk-dashed-wrapped {border: 1px dashed gray;margin: 0 0.4em 0.5em 0.4em;box-sizing: border-box;padding-bottom: 0.4em;background-color: white;}#sk-container-id-4 div.sk-label label {font-family: monospace;font-weight: bold;display: inline-block;line-height: 1.2em;}#sk-container-id-4 div.sk-label-container {text-align: center;}#sk-container-id-4 div.sk-container {/* jupyter's `normalize.less` sets `[hidden] { display: none; }` but bootstrap.min.css set `[hidden] { display: none !important; }` so we also need the `!important` here to be able to override the default hidden behavior on the sphinx rendered scikit-learn.org. See: https://github.com/scikit-learn/scikit-learn/issues/21755 */display: inline-block !important;position: relative;}#sk-container-id-4 div.sk-text-repr-fallback {display: none;}</style><div id=\"sk-container-id-4\" class=\"sk-top-container\"><div class=\"sk-text-repr-fallback\"><pre>GridSearchCV(cv=3,\n",
       "             estimator=LogisticRegression(random_state=30, solver=&#x27;liblinear&#x27;),\n",
       "             n_jobs=-1,\n",
       "             param_grid={&#x27;C&#x27;: [0.001, 0.01, 0.1, 1.0, 10.0],\n",
       "                         &#x27;max_iter&#x27;: [100, 300, 500], &#x27;penalty&#x27;: [&#x27;l1&#x27;, &#x27;l2&#x27;]})</pre><b>In a Jupyter environment, please rerun this cell to show the HTML representation or trust the notebook. <br />On GitHub, the HTML representation is unable to render, please try loading this page with nbviewer.org.</b></div><div class=\"sk-container\" hidden><div class=\"sk-item sk-dashed-wrapped\"><div class=\"sk-label-container\"><div class=\"sk-label sk-toggleable\"><input class=\"sk-toggleable__control sk-hidden--visually\" id=\"sk-estimator-id-4\" type=\"checkbox\" ><label for=\"sk-estimator-id-4\" class=\"sk-toggleable__label sk-toggleable__label-arrow\">GridSearchCV</label><div class=\"sk-toggleable__content\"><pre>GridSearchCV(cv=3,\n",
       "             estimator=LogisticRegression(random_state=30, solver=&#x27;liblinear&#x27;),\n",
       "             n_jobs=-1,\n",
       "             param_grid={&#x27;C&#x27;: [0.001, 0.01, 0.1, 1.0, 10.0],\n",
       "                         &#x27;max_iter&#x27;: [100, 300, 500], &#x27;penalty&#x27;: [&#x27;l1&#x27;, &#x27;l2&#x27;]})</pre></div></div></div><div class=\"sk-parallel\"><div class=\"sk-parallel-item\"><div class=\"sk-item\"><div class=\"sk-label-container\"><div class=\"sk-label sk-toggleable\"><input class=\"sk-toggleable__control sk-hidden--visually\" id=\"sk-estimator-id-5\" type=\"checkbox\" ><label for=\"sk-estimator-id-5\" class=\"sk-toggleable__label sk-toggleable__label-arrow\">estimator: LogisticRegression</label><div class=\"sk-toggleable__content\"><pre>LogisticRegression(random_state=30, solver=&#x27;liblinear&#x27;)</pre></div></div></div><div class=\"sk-serial\"><div class=\"sk-item\"><div class=\"sk-estimator sk-toggleable\"><input class=\"sk-toggleable__control sk-hidden--visually\" id=\"sk-estimator-id-6\" type=\"checkbox\" ><label for=\"sk-estimator-id-6\" class=\"sk-toggleable__label sk-toggleable__label-arrow\">LogisticRegression</label><div class=\"sk-toggleable__content\"><pre>LogisticRegression(random_state=30, solver=&#x27;liblinear&#x27;)</pre></div></div></div></div></div></div></div></div></div></div>"
      ],
      "text/plain": [
       "GridSearchCV(cv=3,\n",
       "             estimator=LogisticRegression(random_state=30, solver='liblinear'),\n",
       "             n_jobs=-1,\n",
       "             param_grid={'C': [0.001, 0.01, 0.1, 1.0, 10.0],\n",
       "                         'max_iter': [100, 300, 500], 'penalty': ['l1', 'l2']})"
      ]
     },
     "execution_count": 67,
     "metadata": {},
     "output_type": "execute_result"
    }
   ],
   "source": [
    "searcher = GridSearchCV(lr, param_grid=params,cv=3,n_jobs=-1)\n",
    "searcher.fit(X_train,y_train)"
   ]
  },
  {
   "cell_type": "code",
   "execution_count": 68,
   "metadata": {},
   "outputs": [
    {
     "data": {
      "text/plain": [
       "{'C': 0.1, 'max_iter': 100, 'penalty': 'l2'}"
      ]
     },
     "execution_count": 68,
     "metadata": {},
     "output_type": "execute_result"
    }
   ],
   "source": [
    "best_lr = searcher.best_estimator_\n",
    "best_lr\n",
    "best_params = searcher.best_params_\n",
    "best_params"
   ]
  },
  {
   "cell_type": "code",
   "execution_count": 69,
   "metadata": {},
   "outputs": [],
   "source": [
    "coefs = best_lr.coef_"
   ]
  },
  {
   "cell_type": "code",
   "execution_count": 70,
   "metadata": {},
   "outputs": [
    {
     "data": {
      "text/plain": [
       "array([[-1.41163964e-01,  1.39206235e-01,  1.31606370e-01,\n",
       "        -4.41857367e-01, -4.27735385e-02,  1.90438260e-01,\n",
       "         4.47679216e-01, -2.96643449e-02,  1.04343639e-01,\n",
       "        -1.08606529e-01, -1.23387479e-02,  2.98661852e-01,\n",
       "         1.51025533e-02],\n",
       "       [-1.52568737e-01,  3.74196921e-01,  1.46272864e-02,\n",
       "         6.24525868e-02,  3.72547336e-03, -3.28771946e-01,\n",
       "        -7.49339888e-01,  3.59379519e-05, -3.20350039e-01,\n",
       "         7.42968877e-01, -1.69847206e-01, -5.40153209e-01,\n",
       "        -2.24026805e-03],\n",
       "       [ 2.73268530e-01, -4.87516258e-01, -1.31775982e-01,\n",
       "         1.79426810e-01,  2.22246919e-02,  1.39446332e-01,\n",
       "         2.44629328e-01,  5.66099083e-02,  1.33228642e-01,\n",
       "        -9.40003948e-01,  2.04549988e-01,  2.65911888e-01,\n",
       "        -9.00409188e-03]])"
      ]
     },
     "execution_count": 70,
     "metadata": {},
     "output_type": "execute_result"
    }
   ],
   "source": [
    "coefs"
   ]
  },
  {
   "cell_type": "code",
   "execution_count": 71,
   "metadata": {},
   "outputs": [
    {
     "data": {
      "text/plain": [
       "{'C': 0.1, 'max_iter': 100, 'penalty': 'l2'}"
      ]
     },
     "execution_count": 71,
     "metadata": {},
     "output_type": "execute_result"
    }
   ],
   "source": [
    "best_params"
   ]
  },
  {
   "cell_type": "markdown",
   "metadata": {},
   "source": [
    "best_lr= model = LogisticRegression('C'= 0.1, 'max_iter'= 100, 'penalty' = 'l2', solver='liblinear',random_state=30)"
   ]
  },
  {
   "cell_type": "markdown",
   "metadata": {},
   "source": [
    "# Granice decyzyjne na sztucznie wygenerowanym zbiorze:"
   ]
  },
  {
   "cell_type": "markdown",
   "metadata": {},
   "source": [
    "Zaczniemy od wygenerowania sztucznego zbioru do klasyfikacji, składającego się z dwóch zbiorów punktów z rozkładu normalnego."
   ]
  },
  {
   "cell_type": "code",
   "execution_count": 72,
   "metadata": {},
   "outputs": [],
   "source": [
    "import numpy as np\n",
    "import matplotlib.pyplot as plt\n",
    "%matplotlib inline\n",
    "\n",
    "# losowe dane dla dwóch klas, przy przesunięciu środka rozkładu\n",
    "train_data = np.vstack((np.random.normal(size=(100, 2)),\n",
    "                        np.random.normal(size=(100, 2), loc=2)))\n",
    "train_labels = np.hstack((np.zeros(100), np.ones(100)))\n",
    "\n",
    "\n",
    "# np.vstack - połaczenie tablic wertykalne\n",
    "# np.hstack - połączenie tablic horyzontalne"
   ]
  },
  {
   "cell_type": "code",
   "execution_count": 73,
   "metadata": {},
   "outputs": [
    {
     "data": {
      "text/plain": [
       "array([[ 0.68865752, -1.24361277],\n",
       "       [-0.18128992, -3.02130681],\n",
       "       [-0.92798892, -0.90603665],\n",
       "       [-0.24625226,  0.07256732],\n",
       "       [-0.30285748, -0.81255623],\n",
       "       [ 0.20449752, -1.29511171],\n",
       "       [ 0.65043263, -1.75261172],\n",
       "       [-1.35677977, -0.6785019 ],\n",
       "       [ 1.68062366,  2.07055274],\n",
       "       [-1.06616474, -0.77272548]])"
      ]
     },
     "execution_count": 73,
     "metadata": {},
     "output_type": "execute_result"
    }
   ],
   "source": [
    "train_data[:10]"
   ]
  },
  {
   "cell_type": "code",
   "execution_count": 74,
   "metadata": {},
   "outputs": [
    {
     "data": {
      "text/plain": [
       "array([0., 0., 0., 0., 0., 0., 0., 0., 0., 0.])"
      ]
     },
     "execution_count": 74,
     "metadata": {},
     "output_type": "execute_result"
    }
   ],
   "source": [
    "train_labels[:10]"
   ]
  },
  {
   "cell_type": "markdown",
   "metadata": {},
   "source": [
    "Wyświetlimy je w postaci wykresu punktowego, wraz z linią dokładnie pomiędzy środkami obu rozkładów:"
   ]
  },
  {
   "cell_type": "code",
   "execution_count": 75,
   "metadata": {},
   "outputs": [
    {
     "data": {
      "text/plain": [
       "<matplotlib.collections.PathCollection at 0x283da1170d0>"
      ]
     },
     "execution_count": 75,
     "metadata": {},
     "output_type": "execute_result"
    },
    {
     "data": {
      "image/png": "[encoded data removed]",
      "text/plain": [
       "<Figure size 640x480 with 1 Axes>"
      ]
     },
     "metadata": {},
     "output_type": "display_data"
    }
   ],
   "source": [
    "fig, ax = plt.subplots()\n",
    "\n",
    "ax.scatter (train_data[:,0], train_data[:,1], c=train_labels)"
   ]
  },
  {
   "cell_type": "markdown",
   "metadata": {},
   "source": [
    "Na tak utworzonym zbiorze wytrenujemy model regresji logistycznej"
   ]
  },
  {
   "cell_type": "code",
   "execution_count": 76,
   "metadata": {},
   "outputs": [
    {
     "data": {
      "text/html": [
       "<style>#sk-container-id-5 {color: black;background-color: white;}#sk-container-id-5 pre{padding: 0;}#sk-container-id-5 div.sk-toggleable {background-color: white;}#sk-container-id-5 label.sk-toggleable__label {cursor: pointer;display: block;width: 100%;margin-bottom: 0;padding: 0.3em;box-sizing: border-box;text-align: center;}#sk-container-id-5 label.sk-toggleable__label-arrow:before {content: \"▸\";float: left;margin-right: 0.25em;color: #696969;}#sk-container-id-5 label.sk-toggleable__label-arrow:hover:before {color: black;}#sk-container-id-5 div.sk-estimator:hover label.sk-toggleable__label-arrow:before {color: black;}#sk-container-id-5 div.sk-toggleable__content {max-height: 0;max-width: 0;overflow: hidden;text-align: left;background-color: #f0f8ff;}#sk-container-id-5 div.sk-toggleable__content pre {margin: 0.2em;color: black;border-radius: 0.25em;background-color: #f0f8ff;}#sk-container-id-5 input.sk-toggleable__control:checked~div.sk-toggleable__content {max-height: 200px;max-width: 100%;overflow: auto;}#sk-container-id-5 input.sk-toggleable__control:checked~label.sk-toggleable__label-arrow:before {content: \"▾\";}#sk-container-id-5 div.sk-estimator input.sk-toggleable__control:checked~label.sk-toggleable__label {background-color: #d4ebff;}#sk-container-id-5 div.sk-label input.sk-toggleable__control:checked~label.sk-toggleable__label {background-color: #d4ebff;}#sk-container-id-5 input.sk-hidden--visually {border: 0;clip: rect(1px 1px 1px 1px);clip: rect(1px, 1px, 1px, 1px);height: 1px;margin: -1px;overflow: hidden;padding: 0;position: absolute;width: 1px;}#sk-container-id-5 div.sk-estimator {font-family: monospace;background-color: #f0f8ff;border: 1px dotted black;border-radius: 0.25em;box-sizing: border-box;margin-bottom: 0.5em;}#sk-container-id-5 div.sk-estimator:hover {background-color: #d4ebff;}#sk-container-id-5 div.sk-parallel-item::after {content: \"\";width: 100%;border-bottom: 1px solid gray;flex-grow: 1;}#sk-container-id-5 div.sk-label:hover label.sk-toggleable__label {background-color: #d4ebff;}#sk-container-id-5 div.sk-serial::before {content: \"\";position: absolute;border-left: 1px solid gray;box-sizing: border-box;top: 0;bottom: 0;left: 50%;z-index: 0;}#sk-container-id-5 div.sk-serial {display: flex;flex-direction: column;align-items: center;background-color: white;padding-right: 0.2em;padding-left: 0.2em;position: relative;}#sk-container-id-5 div.sk-item {position: relative;z-index: 1;}#sk-container-id-5 div.sk-parallel {display: flex;align-items: stretch;justify-content: center;background-color: white;position: relative;}#sk-container-id-5 div.sk-item::before, #sk-container-id-5 div.sk-parallel-item::before {content: \"\";position: absolute;border-left: 1px solid gray;box-sizing: border-box;top: 0;bottom: 0;left: 50%;z-index: -1;}#sk-container-id-5 div.sk-parallel-item {display: flex;flex-direction: column;z-index: 1;position: relative;background-color: white;}#sk-container-id-5 div.sk-parallel-item:first-child::after {align-self: flex-end;width: 50%;}#sk-container-id-5 div.sk-parallel-item:last-child::after {align-self: flex-start;width: 50%;}#sk-container-id-5 div.sk-parallel-item:only-child::after {width: 0;}#sk-container-id-5 div.sk-dashed-wrapped {border: 1px dashed gray;margin: 0 0.4em 0.5em 0.4em;box-sizing: border-box;padding-bottom: 0.4em;background-color: white;}#sk-container-id-5 div.sk-label label {font-family: monospace;font-weight: bold;display: inline-block;line-height: 1.2em;}#sk-container-id-5 div.sk-label-container {text-align: center;}#sk-container-id-5 div.sk-container {/* jupyter's `normalize.less` sets `[hidden] { display: none; }` but bootstrap.min.css set `[hidden] { display: none !important; }` so we also need the `!important` here to be able to override the default hidden behavior on the sphinx rendered scikit-learn.org. See: https://github.com/scikit-learn/scikit-learn/issues/21755 */display: inline-block !important;position: relative;}#sk-container-id-5 div.sk-text-repr-fallback {display: none;}</style><div id=\"sk-container-id-5\" class=\"sk-top-container\"><div class=\"sk-text-repr-fallback\"><pre>LogisticRegression()</pre><b>In a Jupyter environment, please rerun this cell to show the HTML representation or trust the notebook. <br />On GitHub, the HTML representation is unable to render, please try loading this page with nbviewer.org.</b></div><div class=\"sk-container\" hidden><div class=\"sk-item\"><div class=\"sk-estimator sk-toggleable\"><input class=\"sk-toggleable__control sk-hidden--visually\" id=\"sk-estimator-id-7\" type=\"checkbox\" checked><label for=\"sk-estimator-id-7\" class=\"sk-toggleable__label sk-toggleable__label-arrow\">LogisticRegression</label><div class=\"sk-toggleable__content\"><pre>LogisticRegression()</pre></div></div></div></div></div>"
      ],
      "text/plain": [
       "LogisticRegression()"
      ]
     },
     "execution_count": 76,
     "metadata": {},
     "output_type": "execute_result"
    }
   ],
   "source": [
    "model = LogisticRegression()\n",
    "model.fit(train_data, train_labels)"
   ]
  },
  {
   "cell_type": "markdown",
   "metadata": {},
   "source": [
    "Stwórzmy zbiór testowy poprzez rozszerzenie zakresu zbioru treningowego."
   ]
  },
  {
   "cell_type": "markdown",
   "metadata": {},
   "source": [
    "Funkcja ta zwraca meshgrid (czyli listę indeksów punktów z zadanego przedziału) na podstawie wygenerowanego zbioru danych."
   ]
  },
  {
   "cell_type": "code",
   "execution_count": 77,
   "metadata": {},
   "outputs": [],
   "source": [
    "x_min, x_max = train_data[:,0].min() -1, train_data[:,0].max() +1\n",
    "y_min, y_max = train_data[:,1].min() -1, train_data[:,1].max() +1\n",
    "\n",
    "xs, ys = np.meshgrid(np.arange(x_min, x_max, 0.01), np.arange(y_min, y_max, 0.01))"
   ]
  },
  {
   "cell_type": "code",
   "execution_count": 78,
   "metadata": {},
   "outputs": [
    {
     "name": "stdout",
     "output_type": "stream",
     "text": [
      "(948, 902)\n",
      "(948, 902)\n"
     ]
    }
   ],
   "source": [
    "print(xs.shape)\n",
    "print(ys.shape)"
   ]
  },
  {
   "cell_type": "code",
   "execution_count": 79,
   "metadata": {},
   "outputs": [],
   "source": [
    "y_pred = model.predict(np.column_stack((xs.flatten(),\n",
    "                                       ys.flatten())))"
   ]
  },
  {
   "cell_type": "code",
   "execution_count": 80,
   "metadata": {},
   "outputs": [
    {
     "name": "stdout",
     "output_type": "stream",
     "text": [
      "(855096,)\n"
     ]
    }
   ],
   "source": [
    "print(y_pred.shape)"
   ]
  },
  {
   "cell_type": "code",
   "execution_count": 81,
   "metadata": {},
   "outputs": [],
   "source": [
    "y_pred_matrix = y_pred.reshape(xs.shape)"
   ]
  },
  {
   "cell_type": "code",
   "execution_count": 83,
   "metadata": {},
   "outputs": [
    {
     "name": "stdout",
     "output_type": "stream",
     "text": [
      "[-3.70575681e+00 -3.69575681e+00 -3.68575681e+00 -3.67575681e+00\n",
      " -3.66575681e+00 -3.65575681e+00 -3.64575681e+00 -3.63575681e+00\n",
      " -3.62575681e+00 -3.61575681e+00 -3.60575681e+00 -3.59575681e+00\n",
      " -3.58575681e+00 -3.57575681e+00 -3.56575681e+00 -3.55575681e+00\n",
      " -3.54575681e+00 -3.53575681e+00 -3.52575681e+00 -3.51575681e+00\n",
      " -3.50575681e+00 -3.49575681e+00 -3.48575681e+00 -3.47575681e+00\n",
      " -3.46575681e+00 -3.45575681e+00 -3.44575681e+00 -3.43575681e+00\n",
      " -3.42575681e+00 -3.41575681e+00 -3.40575681e+00 -3.39575681e+00\n",
      " -3.38575681e+00 -3.37575681e+00 -3.36575681e+00 -3.35575681e+00\n",
      " -3.34575681e+00 -3.33575681e+00 -3.32575681e+00 -3.31575681e+00\n",
      " -3.30575681e+00 -3.29575681e+00 -3.28575681e+00 -3.27575681e+00\n",
      " -3.26575681e+00 -3.25575681e+00 -3.24575681e+00 -3.23575681e+00\n",
      " -3.22575681e+00 -3.21575681e+00 -3.20575681e+00 -3.19575681e+00\n",
      " -3.18575681e+00 -3.17575681e+00 -3.16575681e+00 -3.15575681e+00\n",
      " -3.14575681e+00 -3.13575681e+00 -3.12575681e+00 -3.11575681e+00\n",
      " -3.10575681e+00 -3.09575681e+00 -3.08575681e+00 -3.07575681e+00\n",
      " -3.06575681e+00 -3.05575681e+00 -3.04575681e+00 -3.03575681e+00\n",
      " -3.02575681e+00 -3.01575681e+00 -3.00575681e+00 -2.99575681e+00\n",
      " -2.98575681e+00 -2.97575681e+00 -2.96575681e+00 -2.95575681e+00\n",
      " -2.94575681e+00 -2.93575681e+00 -2.92575681e+00 -2.91575681e+00\n",
      " -2.90575681e+00 -2.89575681e+00 -2.88575681e+00 -2.87575681e+00\n",
      " -2.86575681e+00 -2.85575681e+00 -2.84575681e+00 -2.83575681e+00\n",
      " -2.82575681e+00 -2.81575681e+00 -2.80575681e+00 -2.79575681e+00\n",
      " -2.78575681e+00 -2.77575681e+00 -2.76575681e+00 -2.75575681e+00\n",
      " -2.74575681e+00 -2.73575681e+00 -2.72575681e+00 -2.71575681e+00\n",
      " -2.70575681e+00 -2.69575681e+00 -2.68575681e+00 -2.67575681e+00\n",
      " -2.66575681e+00 -2.65575681e+00 -2.64575681e+00 -2.63575681e+00\n",
      " -2.62575681e+00 -2.61575681e+00 -2.60575681e+00 -2.59575681e+00\n",
      " -2.58575681e+00 -2.57575681e+00 -2.56575681e+00 -2.55575681e+00\n",
      " -2.54575681e+00 -2.53575681e+00 -2.52575681e+00 -2.51575681e+00\n",
      " -2.50575681e+00 -2.49575681e+00 -2.48575681e+00 -2.47575681e+00\n",
      " -2.46575681e+00 -2.45575681e+00 -2.44575681e+00 -2.43575681e+00\n",
      " -2.42575681e+00 -2.41575681e+00 -2.40575681e+00 -2.39575681e+00\n",
      " -2.38575681e+00 -2.37575681e+00 -2.36575681e+00 -2.35575681e+00\n",
      " -2.34575681e+00 -2.33575681e+00 -2.32575681e+00 -2.31575681e+00\n",
      " -2.30575681e+00 -2.29575681e+00 -2.28575681e+00 -2.27575681e+00\n",
      " -2.26575681e+00 -2.25575681e+00 -2.24575681e+00 -2.23575681e+00\n",
      " -2.22575681e+00 -2.21575681e+00 -2.20575681e+00 -2.19575681e+00\n",
      " -2.18575681e+00 -2.17575681e+00 -2.16575681e+00 -2.15575681e+00\n",
      " -2.14575681e+00 -2.13575681e+00 -2.12575681e+00 -2.11575681e+00\n",
      " -2.10575681e+00 -2.09575681e+00 -2.08575681e+00 -2.07575681e+00\n",
      " -2.06575681e+00 -2.05575681e+00 -2.04575681e+00 -2.03575681e+00\n",
      " -2.02575681e+00 -2.01575681e+00 -2.00575681e+00 -1.99575681e+00\n",
      " -1.98575681e+00 -1.97575681e+00 -1.96575681e+00 -1.95575681e+00\n",
      " -1.94575681e+00 -1.93575681e+00 -1.92575681e+00 -1.91575681e+00\n",
      " -1.90575681e+00 -1.89575681e+00 -1.88575681e+00 -1.87575681e+00\n",
      " -1.86575681e+00 -1.85575681e+00 -1.84575681e+00 -1.83575681e+00\n",
      " -1.82575681e+00 -1.81575681e+00 -1.80575681e+00 -1.79575681e+00\n",
      " -1.78575681e+00 -1.77575681e+00 -1.76575681e+00 -1.75575681e+00\n",
      " -1.74575681e+00 -1.73575681e+00 -1.72575681e+00 -1.71575681e+00\n",
      " -1.70575681e+00 -1.69575681e+00 -1.68575681e+00 -1.67575681e+00\n",
      " -1.66575681e+00 -1.65575681e+00 -1.64575681e+00 -1.63575681e+00\n",
      " -1.62575681e+00 -1.61575681e+00 -1.60575681e+00 -1.59575681e+00\n",
      " -1.58575681e+00 -1.57575681e+00 -1.56575681e+00 -1.55575681e+00\n",
      " -1.54575681e+00 -1.53575681e+00 -1.52575681e+00 -1.51575681e+00\n",
      " -1.50575681e+00 -1.49575681e+00 -1.48575681e+00 -1.47575681e+00\n",
      " -1.46575681e+00 -1.45575681e+00 -1.44575681e+00 -1.43575681e+00\n",
      " -1.42575681e+00 -1.41575681e+00 -1.40575681e+00 -1.39575681e+00\n",
      " -1.38575681e+00 -1.37575681e+00 -1.36575681e+00 -1.35575681e+00\n",
      " -1.34575681e+00 -1.33575681e+00 -1.32575681e+00 -1.31575681e+00\n",
      " -1.30575681e+00 -1.29575681e+00 -1.28575681e+00 -1.27575681e+00\n",
      " -1.26575681e+00 -1.25575681e+00 -1.24575681e+00 -1.23575681e+00\n",
      " -1.22575681e+00 -1.21575681e+00 -1.20575681e+00 -1.19575681e+00\n",
      " -1.18575681e+00 -1.17575681e+00 -1.16575681e+00 -1.15575681e+00\n",
      " -1.14575681e+00 -1.13575681e+00 -1.12575681e+00 -1.11575681e+00\n",
      " -1.10575681e+00 -1.09575681e+00 -1.08575681e+00 -1.07575681e+00\n",
      " -1.06575681e+00 -1.05575681e+00 -1.04575681e+00 -1.03575681e+00\n",
      " -1.02575681e+00 -1.01575681e+00 -1.00575681e+00 -9.95756811e-01\n",
      " -9.85756811e-01 -9.75756811e-01 -9.65756811e-01 -9.55756811e-01\n",
      " -9.45756811e-01 -9.35756811e-01 -9.25756811e-01 -9.15756811e-01\n",
      " -9.05756811e-01 -8.95756811e-01 -8.85756811e-01 -8.75756811e-01\n",
      " -8.65756811e-01 -8.55756811e-01 -8.45756811e-01 -8.35756811e-01\n",
      " -8.25756811e-01 -8.15756811e-01 -8.05756811e-01 -7.95756811e-01\n",
      " -7.85756811e-01 -7.75756811e-01 -7.65756811e-01 -7.55756811e-01\n",
      " -7.45756811e-01 -7.35756811e-01 -7.25756811e-01 -7.15756811e-01\n",
      " -7.05756811e-01 -6.95756811e-01 -6.85756811e-01 -6.75756811e-01\n",
      " -6.65756811e-01 -6.55756811e-01 -6.45756811e-01 -6.35756811e-01\n",
      " -6.25756811e-01 -6.15756811e-01 -6.05756811e-01 -5.95756811e-01\n",
      " -5.85756811e-01 -5.75756811e-01 -5.65756811e-01 -5.55756811e-01\n",
      " -5.45756811e-01 -5.35756811e-01 -5.25756811e-01 -5.15756811e-01\n",
      " -5.05756811e-01 -4.95756811e-01 -4.85756811e-01 -4.75756811e-01\n",
      " -4.65756811e-01 -4.55756811e-01 -4.45756811e-01 -4.35756811e-01\n",
      " -4.25756811e-01 -4.15756811e-01 -4.05756811e-01 -3.95756811e-01\n",
      " -3.85756811e-01 -3.75756811e-01 -3.65756811e-01 -3.55756811e-01\n",
      " -3.45756811e-01 -3.35756811e-01 -3.25756811e-01 -3.15756811e-01\n",
      " -3.05756811e-01 -2.95756811e-01 -2.85756811e-01 -2.75756811e-01\n",
      " -2.65756811e-01 -2.55756811e-01 -2.45756811e-01 -2.35756811e-01\n",
      " -2.25756811e-01 -2.15756811e-01 -2.05756811e-01 -1.95756811e-01\n",
      " -1.85756811e-01 -1.75756811e-01 -1.65756811e-01 -1.55756811e-01\n",
      " -1.45756811e-01 -1.35756811e-01 -1.25756811e-01 -1.15756811e-01\n",
      " -1.05756811e-01 -9.57568107e-02 -8.57568107e-02 -7.57568107e-02\n",
      " -6.57568107e-02 -5.57568107e-02 -4.57568107e-02 -3.57568107e-02\n",
      " -2.57568107e-02 -1.57568107e-02 -5.75681070e-03  4.24318930e-03\n",
      "  1.42431893e-02  2.42431893e-02  3.42431893e-02  4.42431893e-02\n",
      "  5.42431893e-02  6.42431893e-02  7.42431893e-02  8.42431893e-02\n",
      "  9.42431893e-02  1.04243189e-01  1.14243189e-01  1.24243189e-01\n",
      "  1.34243189e-01  1.44243189e-01  1.54243189e-01  1.64243189e-01\n",
      "  1.74243189e-01  1.84243189e-01  1.94243189e-01  2.04243189e-01\n",
      "  2.14243189e-01  2.24243189e-01  2.34243189e-01  2.44243189e-01\n",
      "  2.54243189e-01  2.64243189e-01  2.74243189e-01  2.84243189e-01\n",
      "  2.94243189e-01  3.04243189e-01  3.14243189e-01  3.24243189e-01\n",
      "  3.34243189e-01  3.44243189e-01  3.54243189e-01  3.64243189e-01\n",
      "  3.74243189e-01  3.84243189e-01  3.94243189e-01  4.04243189e-01\n",
      "  4.14243189e-01  4.24243189e-01  4.34243189e-01  4.44243189e-01\n",
      "  4.54243189e-01  4.64243189e-01  4.74243189e-01  4.84243189e-01\n",
      "  4.94243189e-01  5.04243189e-01  5.14243189e-01  5.24243189e-01\n",
      "  5.34243189e-01  5.44243189e-01  5.54243189e-01  5.64243189e-01\n",
      "  5.74243189e-01  5.84243189e-01  5.94243189e-01  6.04243189e-01\n",
      "  6.14243189e-01  6.24243189e-01  6.34243189e-01  6.44243189e-01\n",
      "  6.54243189e-01  6.64243189e-01  6.74243189e-01  6.84243189e-01\n",
      "  6.94243189e-01  7.04243189e-01  7.14243189e-01  7.24243189e-01\n",
      "  7.34243189e-01  7.44243189e-01  7.54243189e-01  7.64243189e-01\n",
      "  7.74243189e-01  7.84243189e-01  7.94243189e-01  8.04243189e-01\n",
      "  8.14243189e-01  8.24243189e-01  8.34243189e-01  8.44243189e-01\n",
      "  8.54243189e-01  8.64243189e-01  8.74243189e-01  8.84243189e-01\n",
      "  8.94243189e-01  9.04243189e-01  9.14243189e-01  9.24243189e-01\n",
      "  9.34243189e-01  9.44243189e-01  9.54243189e-01  9.64243189e-01\n",
      "  9.74243189e-01  9.84243189e-01  9.94243189e-01  1.00424319e+00\n",
      "  1.01424319e+00  1.02424319e+00  1.03424319e+00  1.04424319e+00\n",
      "  1.05424319e+00  1.06424319e+00  1.07424319e+00  1.08424319e+00\n",
      "  1.09424319e+00  1.10424319e+00  1.11424319e+00  1.12424319e+00\n",
      "  1.13424319e+00  1.14424319e+00  1.15424319e+00  1.16424319e+00\n",
      "  1.17424319e+00  1.18424319e+00  1.19424319e+00  1.20424319e+00\n",
      "  1.21424319e+00  1.22424319e+00  1.23424319e+00  1.24424319e+00\n",
      "  1.25424319e+00  1.26424319e+00  1.27424319e+00  1.28424319e+00\n",
      "  1.29424319e+00  1.30424319e+00  1.31424319e+00  1.32424319e+00\n",
      "  1.33424319e+00  1.34424319e+00  1.35424319e+00  1.36424319e+00\n",
      "  1.37424319e+00  1.38424319e+00  1.39424319e+00  1.40424319e+00\n",
      "  1.41424319e+00  1.42424319e+00  1.43424319e+00  1.44424319e+00\n",
      "  1.45424319e+00  1.46424319e+00  1.47424319e+00  1.48424319e+00\n",
      "  1.49424319e+00  1.50424319e+00  1.51424319e+00  1.52424319e+00\n",
      "  1.53424319e+00  1.54424319e+00  1.55424319e+00  1.56424319e+00\n",
      "  1.57424319e+00  1.58424319e+00  1.59424319e+00  1.60424319e+00\n",
      "  1.61424319e+00  1.62424319e+00  1.63424319e+00  1.64424319e+00\n",
      "  1.65424319e+00  1.66424319e+00  1.67424319e+00  1.68424319e+00\n",
      "  1.69424319e+00  1.70424319e+00  1.71424319e+00  1.72424319e+00\n",
      "  1.73424319e+00  1.74424319e+00  1.75424319e+00  1.76424319e+00\n",
      "  1.77424319e+00  1.78424319e+00  1.79424319e+00  1.80424319e+00\n",
      "  1.81424319e+00  1.82424319e+00  1.83424319e+00  1.84424319e+00\n",
      "  1.85424319e+00  1.86424319e+00  1.87424319e+00  1.88424319e+00\n",
      "  1.89424319e+00  1.90424319e+00  1.91424319e+00  1.92424319e+00\n",
      "  1.93424319e+00  1.94424319e+00  1.95424319e+00  1.96424319e+00\n",
      "  1.97424319e+00  1.98424319e+00  1.99424319e+00  2.00424319e+00\n",
      "  2.01424319e+00  2.02424319e+00  2.03424319e+00  2.04424319e+00\n",
      "  2.05424319e+00  2.06424319e+00  2.07424319e+00  2.08424319e+00\n",
      "  2.09424319e+00  2.10424319e+00  2.11424319e+00  2.12424319e+00\n",
      "  2.13424319e+00  2.14424319e+00  2.15424319e+00  2.16424319e+00\n",
      "  2.17424319e+00  2.18424319e+00  2.19424319e+00  2.20424319e+00\n",
      "  2.21424319e+00  2.22424319e+00  2.23424319e+00  2.24424319e+00\n",
      "  2.25424319e+00  2.26424319e+00  2.27424319e+00  2.28424319e+00\n",
      "  2.29424319e+00  2.30424319e+00  2.31424319e+00  2.32424319e+00\n",
      "  2.33424319e+00  2.34424319e+00  2.35424319e+00  2.36424319e+00\n",
      "  2.37424319e+00  2.38424319e+00  2.39424319e+00  2.40424319e+00\n",
      "  2.41424319e+00  2.42424319e+00  2.43424319e+00  2.44424319e+00\n",
      "  2.45424319e+00  2.46424319e+00  2.47424319e+00  2.48424319e+00\n",
      "  2.49424319e+00  2.50424319e+00  2.51424319e+00  2.52424319e+00\n",
      "  2.53424319e+00  2.54424319e+00  2.55424319e+00  2.56424319e+00\n",
      "  2.57424319e+00  2.58424319e+00  2.59424319e+00  2.60424319e+00\n",
      "  2.61424319e+00  2.62424319e+00  2.63424319e+00  2.64424319e+00\n",
      "  2.65424319e+00  2.66424319e+00  2.67424319e+00  2.68424319e+00\n",
      "  2.69424319e+00  2.70424319e+00  2.71424319e+00  2.72424319e+00\n",
      "  2.73424319e+00  2.74424319e+00  2.75424319e+00  2.76424319e+00\n",
      "  2.77424319e+00  2.78424319e+00  2.79424319e+00  2.80424319e+00\n",
      "  2.81424319e+00  2.82424319e+00  2.83424319e+00  2.84424319e+00\n",
      "  2.85424319e+00  2.86424319e+00  2.87424319e+00  2.88424319e+00\n",
      "  2.89424319e+00  2.90424319e+00  2.91424319e+00  2.92424319e+00\n",
      "  2.93424319e+00  2.94424319e+00  2.95424319e+00  2.96424319e+00\n",
      "  2.97424319e+00  2.98424319e+00  2.99424319e+00  3.00424319e+00\n",
      "  3.01424319e+00  3.02424319e+00  3.03424319e+00  3.04424319e+00\n",
      "  3.05424319e+00  3.06424319e+00  3.07424319e+00  3.08424319e+00\n",
      "  3.09424319e+00  3.10424319e+00  3.11424319e+00  3.12424319e+00\n",
      "  3.13424319e+00  3.14424319e+00  3.15424319e+00  3.16424319e+00\n",
      "  3.17424319e+00  3.18424319e+00  3.19424319e+00  3.20424319e+00\n",
      "  3.21424319e+00  3.22424319e+00  3.23424319e+00  3.24424319e+00\n",
      "  3.25424319e+00  3.26424319e+00  3.27424319e+00  3.28424319e+00\n",
      "  3.29424319e+00  3.30424319e+00  3.31424319e+00  3.32424319e+00\n",
      "  3.33424319e+00  3.34424319e+00  3.35424319e+00  3.36424319e+00\n",
      "  3.37424319e+00  3.38424319e+00  3.39424319e+00  3.40424319e+00\n",
      "  3.41424319e+00  3.42424319e+00  3.43424319e+00  3.44424319e+00\n",
      "  3.45424319e+00  3.46424319e+00  3.47424319e+00  3.48424319e+00\n",
      "  3.49424319e+00  3.50424319e+00  3.51424319e+00  3.52424319e+00\n",
      "  3.53424319e+00  3.54424319e+00  3.55424319e+00  3.56424319e+00\n",
      "  3.57424319e+00  3.58424319e+00  3.59424319e+00  3.60424319e+00\n",
      "  3.61424319e+00  3.62424319e+00  3.63424319e+00  3.64424319e+00\n",
      "  3.65424319e+00  3.66424319e+00  3.67424319e+00  3.68424319e+00\n",
      "  3.69424319e+00  3.70424319e+00  3.71424319e+00  3.72424319e+00\n",
      "  3.73424319e+00  3.74424319e+00  3.75424319e+00  3.76424319e+00\n",
      "  3.77424319e+00  3.78424319e+00  3.79424319e+00  3.80424319e+00\n",
      "  3.81424319e+00  3.82424319e+00  3.83424319e+00  3.84424319e+00\n",
      "  3.85424319e+00  3.86424319e+00  3.87424319e+00  3.88424319e+00\n",
      "  3.89424319e+00  3.90424319e+00  3.91424319e+00  3.92424319e+00\n",
      "  3.93424319e+00  3.94424319e+00  3.95424319e+00  3.96424319e+00\n",
      "  3.97424319e+00  3.98424319e+00  3.99424319e+00  4.00424319e+00\n",
      "  4.01424319e+00  4.02424319e+00  4.03424319e+00  4.04424319e+00\n",
      "  4.05424319e+00  4.06424319e+00  4.07424319e+00  4.08424319e+00\n",
      "  4.09424319e+00  4.10424319e+00  4.11424319e+00  4.12424319e+00\n",
      "  4.13424319e+00  4.14424319e+00  4.15424319e+00  4.16424319e+00\n",
      "  4.17424319e+00  4.18424319e+00  4.19424319e+00  4.20424319e+00\n",
      "  4.21424319e+00  4.22424319e+00  4.23424319e+00  4.24424319e+00\n",
      "  4.25424319e+00  4.26424319e+00  4.27424319e+00  4.28424319e+00\n",
      "  4.29424319e+00  4.30424319e+00  4.31424319e+00  4.32424319e+00\n",
      "  4.33424319e+00  4.34424319e+00  4.35424319e+00  4.36424319e+00\n",
      "  4.37424319e+00  4.38424319e+00  4.39424319e+00  4.40424319e+00\n",
      "  4.41424319e+00  4.42424319e+00  4.43424319e+00  4.44424319e+00\n",
      "  4.45424319e+00  4.46424319e+00  4.47424319e+00  4.48424319e+00\n",
      "  4.49424319e+00  4.50424319e+00  4.51424319e+00  4.52424319e+00\n",
      "  4.53424319e+00  4.54424319e+00  4.55424319e+00  4.56424319e+00\n",
      "  4.57424319e+00  4.58424319e+00  4.59424319e+00  4.60424319e+00\n",
      "  4.61424319e+00  4.62424319e+00  4.63424319e+00  4.64424319e+00\n",
      "  4.65424319e+00  4.66424319e+00  4.67424319e+00  4.68424319e+00\n",
      "  4.69424319e+00  4.70424319e+00  4.71424319e+00  4.72424319e+00\n",
      "  4.73424319e+00  4.74424319e+00  4.75424319e+00  4.76424319e+00\n",
      "  4.77424319e+00  4.78424319e+00  4.79424319e+00  4.80424319e+00\n",
      "  4.81424319e+00  4.82424319e+00  4.83424319e+00  4.84424319e+00\n",
      "  4.85424319e+00  4.86424319e+00  4.87424319e+00  4.88424319e+00\n",
      "  4.89424319e+00  4.90424319e+00  4.91424319e+00  4.92424319e+00\n",
      "  4.93424319e+00  4.94424319e+00  4.95424319e+00  4.96424319e+00\n",
      "  4.97424319e+00  4.98424319e+00  4.99424319e+00  5.00424319e+00\n",
      "  5.01424319e+00  5.02424319e+00  5.03424319e+00  5.04424319e+00\n",
      "  5.05424319e+00  5.06424319e+00  5.07424319e+00  5.08424319e+00\n",
      "  5.09424319e+00  5.10424319e+00  5.11424319e+00  5.12424319e+00\n",
      "  5.13424319e+00  5.14424319e+00  5.15424319e+00  5.16424319e+00\n",
      "  5.17424319e+00  5.18424319e+00  5.19424319e+00  5.20424319e+00\n",
      "  5.21424319e+00  5.22424319e+00  5.23424319e+00  5.24424319e+00\n",
      "  5.25424319e+00  5.26424319e+00  5.27424319e+00  5.28424319e+00\n",
      "  5.29424319e+00  5.30424319e+00] [-4.02130681 -4.02130681 -4.02130681 -4.02130681 -4.02130681 -4.02130681\n",
      " -4.02130681 -4.02130681 -4.02130681 -4.02130681 -4.02130681 -4.02130681\n",
      " -4.02130681 -4.02130681 -4.02130681 -4.02130681 -4.02130681 -4.02130681\n",
      " -4.02130681 -4.02130681 -4.02130681 -4.02130681 -4.02130681 -4.02130681\n",
      " -4.02130681 -4.02130681 -4.02130681 -4.02130681 -4.02130681 -4.02130681\n",
      " -4.02130681 -4.02130681 -4.02130681 -4.02130681 -4.02130681 -4.02130681\n",
      " -4.02130681 -4.02130681 -4.02130681 -4.02130681 -4.02130681 -4.02130681\n",
      " -4.02130681 -4.02130681 -4.02130681 -4.02130681 -4.02130681 -4.02130681\n",
      " -4.02130681 -4.02130681 -4.02130681 -4.02130681 -4.02130681 -4.02130681\n",
      " -4.02130681 -4.02130681 -4.02130681 -4.02130681 -4.02130681 -4.02130681\n",
      " -4.02130681 -4.02130681 -4.02130681 -4.02130681 -4.02130681 -4.02130681\n",
      " -4.02130681 -4.02130681 -4.02130681 -4.02130681 -4.02130681 -4.02130681\n",
      " -4.02130681 -4.02130681 -4.02130681 -4.02130681 -4.02130681 -4.02130681\n",
      " -4.02130681 -4.02130681 -4.02130681 -4.02130681 -4.02130681 -4.02130681\n",
      " -4.02130681 -4.02130681 -4.02130681 -4.02130681 -4.02130681 -4.02130681\n",
      " -4.02130681 -4.02130681 -4.02130681 -4.02130681 -4.02130681 -4.02130681\n",
      " -4.02130681 -4.02130681 -4.02130681 -4.02130681 -4.02130681 -4.02130681\n",
      " -4.02130681 -4.02130681 -4.02130681 -4.02130681 -4.02130681 -4.02130681\n",
      " -4.02130681 -4.02130681 -4.02130681 -4.02130681 -4.02130681 -4.02130681\n",
      " -4.02130681 -4.02130681 -4.02130681 -4.02130681 -4.02130681 -4.02130681\n",
      " -4.02130681 -4.02130681 -4.02130681 -4.02130681 -4.02130681 -4.02130681\n",
      " -4.02130681 -4.02130681 -4.02130681 -4.02130681 -4.02130681 -4.02130681\n",
      " -4.02130681 -4.02130681 -4.02130681 -4.02130681 -4.02130681 -4.02130681\n",
      " -4.02130681 -4.02130681 -4.02130681 -4.02130681 -4.02130681 -4.02130681\n",
      " -4.02130681 -4.02130681 -4.02130681 -4.02130681 -4.02130681 -4.02130681\n",
      " -4.02130681 -4.02130681 -4.02130681 -4.02130681 -4.02130681 -4.02130681\n",
      " -4.02130681 -4.02130681 -4.02130681 -4.02130681 -4.02130681 -4.02130681\n",
      " -4.02130681 -4.02130681 -4.02130681 -4.02130681 -4.02130681 -4.02130681\n",
      " -4.02130681 -4.02130681 -4.02130681 -4.02130681 -4.02130681 -4.02130681\n",
      " -4.02130681 -4.02130681 -4.02130681 -4.02130681 -4.02130681 -4.02130681\n",
      " -4.02130681 -4.02130681 -4.02130681 -4.02130681 -4.02130681 -4.02130681\n",
      " -4.02130681 -4.02130681 -4.02130681 -4.02130681 -4.02130681 -4.02130681\n",
      " -4.02130681 -4.02130681 -4.02130681 -4.02130681 -4.02130681 -4.02130681\n",
      " -4.02130681 -4.02130681 -4.02130681 -4.02130681 -4.02130681 -4.02130681\n",
      " -4.02130681 -4.02130681 -4.02130681 -4.02130681 -4.02130681 -4.02130681\n",
      " -4.02130681 -4.02130681 -4.02130681 -4.02130681 -4.02130681 -4.02130681\n",
      " -4.02130681 -4.02130681 -4.02130681 -4.02130681 -4.02130681 -4.02130681\n",
      " -4.02130681 -4.02130681 -4.02130681 -4.02130681 -4.02130681 -4.02130681\n",
      " -4.02130681 -4.02130681 -4.02130681 -4.02130681 -4.02130681 -4.02130681\n",
      " -4.02130681 -4.02130681 -4.02130681 -4.02130681 -4.02130681 -4.02130681\n",
      " -4.02130681 -4.02130681 -4.02130681 -4.02130681 -4.02130681 -4.02130681\n",
      " -4.02130681 -4.02130681 -4.02130681 -4.02130681 -4.02130681 -4.02130681\n",
      " -4.02130681 -4.02130681 -4.02130681 -4.02130681 -4.02130681 -4.02130681\n",
      " -4.02130681 -4.02130681 -4.02130681 -4.02130681 -4.02130681 -4.02130681\n",
      " -4.02130681 -4.02130681 -4.02130681 -4.02130681 -4.02130681 -4.02130681\n",
      " -4.02130681 -4.02130681 -4.02130681 -4.02130681 -4.02130681 -4.02130681\n",
      " -4.02130681 -4.02130681 -4.02130681 -4.02130681 -4.02130681 -4.02130681\n",
      " -4.02130681 -4.02130681 -4.02130681 -4.02130681 -4.02130681 -4.02130681\n",
      " -4.02130681 -4.02130681 -4.02130681 -4.02130681 -4.02130681 -4.02130681\n",
      " -4.02130681 -4.02130681 -4.02130681 -4.02130681 -4.02130681 -4.02130681\n",
      " -4.02130681 -4.02130681 -4.02130681 -4.02130681 -4.02130681 -4.02130681\n",
      " -4.02130681 -4.02130681 -4.02130681 -4.02130681 -4.02130681 -4.02130681\n",
      " -4.02130681 -4.02130681 -4.02130681 -4.02130681 -4.02130681 -4.02130681\n",
      " -4.02130681 -4.02130681 -4.02130681 -4.02130681 -4.02130681 -4.02130681\n",
      " -4.02130681 -4.02130681 -4.02130681 -4.02130681 -4.02130681 -4.02130681\n",
      " -4.02130681 -4.02130681 -4.02130681 -4.02130681 -4.02130681 -4.02130681\n",
      " -4.02130681 -4.02130681 -4.02130681 -4.02130681 -4.02130681 -4.02130681\n",
      " -4.02130681 -4.02130681 -4.02130681 -4.02130681 -4.02130681 -4.02130681\n",
      " -4.02130681 -4.02130681 -4.02130681 -4.02130681 -4.02130681 -4.02130681\n",
      " -4.02130681 -4.02130681 -4.02130681 -4.02130681 -4.02130681 -4.02130681\n",
      " -4.02130681 -4.02130681 -4.02130681 -4.02130681 -4.02130681 -4.02130681\n",
      " -4.02130681 -4.02130681 -4.02130681 -4.02130681 -4.02130681 -4.02130681\n",
      " -4.02130681 -4.02130681 -4.02130681 -4.02130681 -4.02130681 -4.02130681\n",
      " -4.02130681 -4.02130681 -4.02130681 -4.02130681 -4.02130681 -4.02130681\n",
      " -4.02130681 -4.02130681 -4.02130681 -4.02130681 -4.02130681 -4.02130681\n",
      " -4.02130681 -4.02130681 -4.02130681 -4.02130681 -4.02130681 -4.02130681\n",
      " -4.02130681 -4.02130681 -4.02130681 -4.02130681 -4.02130681 -4.02130681\n",
      " -4.02130681 -4.02130681 -4.02130681 -4.02130681 -4.02130681 -4.02130681\n",
      " -4.02130681 -4.02130681 -4.02130681 -4.02130681 -4.02130681 -4.02130681\n",
      " -4.02130681 -4.02130681 -4.02130681 -4.02130681 -4.02130681 -4.02130681\n",
      " -4.02130681 -4.02130681 -4.02130681 -4.02130681 -4.02130681 -4.02130681\n",
      " -4.02130681 -4.02130681 -4.02130681 -4.02130681 -4.02130681 -4.02130681\n",
      " -4.02130681 -4.02130681 -4.02130681 -4.02130681 -4.02130681 -4.02130681\n",
      " -4.02130681 -4.02130681 -4.02130681 -4.02130681 -4.02130681 -4.02130681\n",
      " -4.02130681 -4.02130681 -4.02130681 -4.02130681 -4.02130681 -4.02130681\n",
      " -4.02130681 -4.02130681 -4.02130681 -4.02130681 -4.02130681 -4.02130681\n",
      " -4.02130681 -4.02130681 -4.02130681 -4.02130681 -4.02130681 -4.02130681\n",
      " -4.02130681 -4.02130681 -4.02130681 -4.02130681 -4.02130681 -4.02130681\n",
      " -4.02130681 -4.02130681 -4.02130681 -4.02130681 -4.02130681 -4.02130681\n",
      " -4.02130681 -4.02130681 -4.02130681 -4.02130681 -4.02130681 -4.02130681\n",
      " -4.02130681 -4.02130681 -4.02130681 -4.02130681 -4.02130681 -4.02130681\n",
      " -4.02130681 -4.02130681 -4.02130681 -4.02130681 -4.02130681 -4.02130681\n",
      " -4.02130681 -4.02130681 -4.02130681 -4.02130681 -4.02130681 -4.02130681\n",
      " -4.02130681 -4.02130681 -4.02130681 -4.02130681 -4.02130681 -4.02130681\n",
      " -4.02130681 -4.02130681 -4.02130681 -4.02130681 -4.02130681 -4.02130681\n",
      " -4.02130681 -4.02130681 -4.02130681 -4.02130681 -4.02130681 -4.02130681\n",
      " -4.02130681 -4.02130681 -4.02130681 -4.02130681 -4.02130681 -4.02130681\n",
      " -4.02130681 -4.02130681 -4.02130681 -4.02130681 -4.02130681 -4.02130681\n",
      " -4.02130681 -4.02130681 -4.02130681 -4.02130681 -4.02130681 -4.02130681\n",
      " -4.02130681 -4.02130681 -4.02130681 -4.02130681 -4.02130681 -4.02130681\n",
      " -4.02130681 -4.02130681 -4.02130681 -4.02130681 -4.02130681 -4.02130681\n",
      " -4.02130681 -4.02130681 -4.02130681 -4.02130681 -4.02130681 -4.02130681\n",
      " -4.02130681 -4.02130681 -4.02130681 -4.02130681 -4.02130681 -4.02130681\n",
      " -4.02130681 -4.02130681 -4.02130681 -4.02130681 -4.02130681 -4.02130681\n",
      " -4.02130681 -4.02130681 -4.02130681 -4.02130681 -4.02130681 -4.02130681\n",
      " -4.02130681 -4.02130681 -4.02130681 -4.02130681 -4.02130681 -4.02130681\n",
      " -4.02130681 -4.02130681 -4.02130681 -4.02130681 -4.02130681 -4.02130681\n",
      " -4.02130681 -4.02130681 -4.02130681 -4.02130681 -4.02130681 -4.02130681\n",
      " -4.02130681 -4.02130681 -4.02130681 -4.02130681 -4.02130681 -4.02130681\n",
      " -4.02130681 -4.02130681 -4.02130681 -4.02130681 -4.02130681 -4.02130681\n",
      " -4.02130681 -4.02130681 -4.02130681 -4.02130681 -4.02130681 -4.02130681\n",
      " -4.02130681 -4.02130681 -4.02130681 -4.02130681 -4.02130681 -4.02130681\n",
      " -4.02130681 -4.02130681 -4.02130681 -4.02130681 -4.02130681 -4.02130681\n",
      " -4.02130681 -4.02130681 -4.02130681 -4.02130681 -4.02130681 -4.02130681\n",
      " -4.02130681 -4.02130681 -4.02130681 -4.02130681 -4.02130681 -4.02130681\n",
      " -4.02130681 -4.02130681 -4.02130681 -4.02130681 -4.02130681 -4.02130681\n",
      " -4.02130681 -4.02130681 -4.02130681 -4.02130681 -4.02130681 -4.02130681\n",
      " -4.02130681 -4.02130681 -4.02130681 -4.02130681 -4.02130681 -4.02130681\n",
      " -4.02130681 -4.02130681 -4.02130681 -4.02130681 -4.02130681 -4.02130681\n",
      " -4.02130681 -4.02130681 -4.02130681 -4.02130681 -4.02130681 -4.02130681\n",
      " -4.02130681 -4.02130681 -4.02130681 -4.02130681 -4.02130681 -4.02130681\n",
      " -4.02130681 -4.02130681 -4.02130681 -4.02130681 -4.02130681 -4.02130681\n",
      " -4.02130681 -4.02130681 -4.02130681 -4.02130681 -4.02130681 -4.02130681\n",
      " -4.02130681 -4.02130681 -4.02130681 -4.02130681 -4.02130681 -4.02130681\n",
      " -4.02130681 -4.02130681 -4.02130681 -4.02130681 -4.02130681 -4.02130681\n",
      " -4.02130681 -4.02130681 -4.02130681 -4.02130681 -4.02130681 -4.02130681\n",
      " -4.02130681 -4.02130681 -4.02130681 -4.02130681 -4.02130681 -4.02130681\n",
      " -4.02130681 -4.02130681 -4.02130681 -4.02130681 -4.02130681 -4.02130681\n",
      " -4.02130681 -4.02130681 -4.02130681 -4.02130681 -4.02130681 -4.02130681\n",
      " -4.02130681 -4.02130681 -4.02130681 -4.02130681 -4.02130681 -4.02130681\n",
      " -4.02130681 -4.02130681 -4.02130681 -4.02130681 -4.02130681 -4.02130681\n",
      " -4.02130681 -4.02130681 -4.02130681 -4.02130681 -4.02130681 -4.02130681\n",
      " -4.02130681 -4.02130681 -4.02130681 -4.02130681 -4.02130681 -4.02130681\n",
      " -4.02130681 -4.02130681 -4.02130681 -4.02130681 -4.02130681 -4.02130681\n",
      " -4.02130681 -4.02130681 -4.02130681 -4.02130681 -4.02130681 -4.02130681\n",
      " -4.02130681 -4.02130681 -4.02130681 -4.02130681 -4.02130681 -4.02130681\n",
      " -4.02130681 -4.02130681 -4.02130681 -4.02130681 -4.02130681 -4.02130681\n",
      " -4.02130681 -4.02130681 -4.02130681 -4.02130681 -4.02130681 -4.02130681\n",
      " -4.02130681 -4.02130681 -4.02130681 -4.02130681 -4.02130681 -4.02130681\n",
      " -4.02130681 -4.02130681 -4.02130681 -4.02130681 -4.02130681 -4.02130681\n",
      " -4.02130681 -4.02130681 -4.02130681 -4.02130681 -4.02130681 -4.02130681\n",
      " -4.02130681 -4.02130681 -4.02130681 -4.02130681 -4.02130681 -4.02130681\n",
      " -4.02130681 -4.02130681 -4.02130681 -4.02130681 -4.02130681 -4.02130681\n",
      " -4.02130681 -4.02130681 -4.02130681 -4.02130681 -4.02130681 -4.02130681\n",
      " -4.02130681 -4.02130681 -4.02130681 -4.02130681 -4.02130681 -4.02130681\n",
      " -4.02130681 -4.02130681 -4.02130681 -4.02130681 -4.02130681 -4.02130681\n",
      " -4.02130681 -4.02130681 -4.02130681 -4.02130681 -4.02130681 -4.02130681\n",
      " -4.02130681 -4.02130681 -4.02130681 -4.02130681 -4.02130681 -4.02130681\n",
      " -4.02130681 -4.02130681 -4.02130681 -4.02130681 -4.02130681 -4.02130681\n",
      " -4.02130681 -4.02130681 -4.02130681 -4.02130681 -4.02130681 -4.02130681\n",
      " -4.02130681 -4.02130681 -4.02130681 -4.02130681 -4.02130681 -4.02130681\n",
      " -4.02130681 -4.02130681 -4.02130681 -4.02130681 -4.02130681 -4.02130681\n",
      " -4.02130681 -4.02130681 -4.02130681 -4.02130681 -4.02130681 -4.02130681\n",
      " -4.02130681 -4.02130681 -4.02130681 -4.02130681 -4.02130681 -4.02130681\n",
      " -4.02130681 -4.02130681 -4.02130681 -4.02130681 -4.02130681 -4.02130681\n",
      " -4.02130681 -4.02130681 -4.02130681 -4.02130681 -4.02130681 -4.02130681\n",
      " -4.02130681 -4.02130681 -4.02130681 -4.02130681 -4.02130681 -4.02130681\n",
      " -4.02130681 -4.02130681 -4.02130681 -4.02130681 -4.02130681 -4.02130681\n",
      " -4.02130681 -4.02130681 -4.02130681 -4.02130681 -4.02130681 -4.02130681\n",
      " -4.02130681 -4.02130681 -4.02130681 -4.02130681 -4.02130681 -4.02130681\n",
      " -4.02130681 -4.02130681] [0. 0. 0. 0. 0. 0. 0. 0. 0. 0. 0. 0. 0. 0. 0. 0. 0. 0. 0. 0. 0. 0. 0. 0.\n",
      " 0. 0. 0. 0. 0. 0. 0. 0. 0. 0. 0. 0. 0. 0. 0. 0. 0. 0. 0. 0. 0. 0. 0. 0.\n",
      " 0. 0. 0. 0. 0. 0. 0. 0. 0. 0. 0. 0. 0. 0. 0. 0. 0. 0. 0. 0. 0. 0. 0. 0.\n",
      " 0. 0. 0. 0. 0. 0. 0. 0. 0. 0. 0. 0. 0. 0. 0. 0. 0. 0. 0. 0. 0. 0. 0. 0.\n",
      " 0. 0. 0. 0. 0. 0. 0. 0. 0. 0. 0. 0. 0. 0. 0. 0. 0. 0. 0. 0. 0. 0. 0. 0.\n",
      " 0. 0. 0. 0. 0. 0. 0. 0. 0. 0. 0. 0. 0. 0. 0. 0. 0. 0. 0. 0. 0. 0. 0. 0.\n",
      " 0. 0. 0. 0. 0. 0. 0. 0. 0. 0. 0. 0. 0. 0. 0. 0. 0. 0. 0. 0. 0. 0. 0. 0.\n",
      " 0. 0. 0. 0. 0. 0. 0. 0. 0. 0. 0. 0. 0. 0. 0. 0. 0. 0. 0. 0. 0. 0. 0. 0.\n",
      " 0. 0. 0. 0. 0. 0. 0. 0. 0. 0. 0. 0. 0. 0. 0. 0. 0. 0. 0. 0. 0. 0. 0. 0.\n",
      " 0. 0. 0. 0. 0. 0. 0. 0. 0. 0. 0. 0. 0. 0. 0. 0. 0. 0. 0. 0. 0. 0. 0. 0.\n",
      " 0. 0. 0. 0. 0. 0. 0. 0. 0. 0. 0. 0. 0. 0. 0. 0. 0. 0. 0. 0. 0. 0. 0. 0.\n",
      " 0. 0. 0. 0. 0. 0. 0. 0. 0. 0. 0. 0. 0. 0. 0. 0. 0. 0. 0. 0. 0. 0. 0. 0.\n",
      " 0. 0. 0. 0. 0. 0. 0. 0. 0. 0. 0. 0. 0. 0. 0. 0. 0. 0. 0. 0. 0. 0. 0. 0.\n",
      " 0. 0. 0. 0. 0. 0. 0. 0. 0. 0. 0. 0. 0. 0. 0. 0. 0. 0. 0. 0. 0. 0. 0. 0.\n",
      " 0. 0. 0. 0. 0. 0. 0. 0. 0. 0. 0. 0. 0. 0. 0. 0. 0. 0. 0. 0. 0. 0. 0. 0.\n",
      " 0. 0. 0. 0. 0. 0. 0. 0. 0. 0. 0. 0. 0. 0. 0. 0. 0. 0. 0. 0. 0. 0. 0. 0.\n",
      " 0. 0. 0. 0. 0. 0. 0. 0. 0. 0. 0. 0. 0. 0. 0. 0. 0. 0. 0. 0. 0. 0. 0. 0.\n",
      " 0. 0. 0. 0. 0. 0. 0. 0. 0. 0. 0. 0. 0. 0. 0. 0. 0. 0. 0. 0. 0. 0. 0. 0.\n",
      " 0. 0. 0. 0. 0. 0. 0. 0. 0. 0. 0. 0. 0. 0. 0. 0. 0. 0. 0. 0. 0. 0. 0. 0.\n",
      " 0. 0. 0. 0. 0. 0. 0. 0. 0. 0. 0. 0. 0. 0. 0. 0. 0. 0. 0. 0. 0. 0. 0. 0.\n",
      " 0. 0. 0. 0. 0. 0. 0. 0. 0. 0. 0. 0. 0. 0. 0. 0. 0. 0. 0. 0. 0. 0. 0. 0.\n",
      " 0. 0. 0. 0. 0. 0. 0. 0. 0. 0. 0. 0. 0. 0. 0. 0. 0. 0. 0. 0. 0. 0. 0. 0.\n",
      " 0. 0. 0. 0. 0. 0. 0. 0. 0. 0. 0. 0. 0. 0. 0. 0. 0. 0. 0. 0. 0. 0. 0. 0.\n",
      " 0. 0. 0. 0. 0. 0. 0. 0. 0. 0. 0. 0. 0. 0. 0. 0. 0. 0. 0. 0. 0. 0. 0. 0.\n",
      " 0. 0. 0. 0. 0. 0. 0. 0. 0. 0. 0. 0. 0. 0. 0. 0. 0. 0. 0. 0. 0. 0. 0. 0.\n",
      " 0. 0. 0. 0. 0. 0. 0. 0. 0. 0. 0. 0. 0. 0. 0. 0. 0. 0. 0. 0. 0. 0. 0. 0.\n",
      " 0. 0. 0. 0. 0. 0. 0. 0. 0. 0. 0. 0. 0. 0. 0. 0. 0. 0. 0. 0. 0. 0. 0. 0.\n",
      " 0. 0. 0. 0. 0. 0. 0. 0. 0. 0. 0. 0. 0. 0. 0. 0. 0. 0. 0. 0. 0. 0. 0. 0.\n",
      " 0. 0. 0. 0. 0. 0. 0. 0. 0. 0. 0. 0. 0. 0. 0. 0. 0. 0. 0. 0. 0. 0. 0. 0.\n",
      " 0. 0. 0. 0. 0. 0. 0. 0. 0. 0. 0. 0. 0. 0. 0. 0. 0. 0. 0. 0. 0. 0. 0. 0.\n",
      " 0. 0. 0. 0. 0. 0. 0. 0. 0. 0. 0. 0. 0. 0. 0. 0. 0. 0. 0. 0. 0. 0. 0. 0.\n",
      " 0. 0. 0. 0. 0. 0. 0. 0. 0. 0. 0. 0. 0. 0. 0. 0. 0. 0. 0. 0. 0. 0. 0. 0.\n",
      " 0. 0. 0. 0. 0. 0. 0. 0. 0. 0. 0. 0. 0. 0. 0. 0. 0. 0. 0. 0. 0. 0. 0. 0.\n",
      " 0. 0. 0. 0. 0. 0. 0. 0. 0. 0. 0. 0. 0. 0. 0. 0. 0. 0. 0. 0. 0. 0. 0. 0.\n",
      " 0. 0. 0. 0. 0. 0. 0. 0. 0. 0. 0. 0. 0. 0. 0. 0. 0. 0. 0. 0. 0. 0. 0. 0.\n",
      " 0. 0. 0. 0. 0. 0. 0. 0. 0. 0. 0. 0. 0. 0. 0. 0. 0. 0. 0. 0. 0. 0. 0. 0.\n",
      " 0. 0. 0. 0. 0. 0. 0. 0. 0. 0. 0. 0. 0. 0. 0. 0. 0. 0. 0. 0. 0. 0. 0. 0.\n",
      " 0. 0. 0. 0. 0. 0. 0. 0. 0. 0. 0. 0. 0. 0.]\n"
     ]
    }
   ],
   "source": [
    "for x,y, pred in zip(xs, ys, y_pred_matrix):\n",
    "    print(x, y, pred)\n",
    "    \n",
    "    break"
   ]
  },
  {
   "cell_type": "markdown",
   "metadata": {},
   "source": [
    "Dokonujemy predykcji oraz wyświetlamy wszystkie punkty pcolormeshem, żeby zobaczyć w jaki sposób regresja logistyczna dokonała podziału przestrzeni."
   ]
  },
  {
   "cell_type": "code",
   "execution_count": 84,
   "metadata": {},
   "outputs": [
    {
     "data": {
      "image/png": "[encoded data removed]",
      "text/plain": [
       "<Figure size 640x480 with 1 Axes>"
      ]
     },
     "metadata": {},
     "output_type": "display_data"
    }
   ],
   "source": [
    "fig, ax = plt.subplots()\n",
    "ax.pcolormesh(xs, ys, y_pred_matrix)\n",
    "ax.scatter(train_data[:,0], train_data[:,1], c=train_labels, edgecolors = 'k')\n",
    "plt.show()"
   ]
  },
  {
   "cell_type": "markdown",
   "metadata": {},
   "source": [
    "Zwróćmy uwagę na fakt, że jest tutaj linia prosta."
   ]
  }
 ],
 "metadata": {
  "colab": {
   "name": "LogisticRegression.ipynb",
   "provenance": []
  },
  "kernelspec": {
   "display_name": "Python 3 (ipykernel)",
   "language": "python",
   "name": "python3"
  },
  "language_info": {
   "codemirror_mode": {
    "name": "ipython",
    "version": 3
   },
   "file_extension": ".py",
   "mimetype": "text/x-python",
   "name": "python",
   "nbconvert_exporter": "python",
   "pygments_lexer": "ipython3",
   "version": "3.10.10"
  }
 },
 "nbformat": 4,
 "nbformat_minor": 1
}
