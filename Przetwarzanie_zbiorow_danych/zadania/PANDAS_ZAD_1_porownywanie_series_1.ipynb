{
 "cells": [
  {
   "cell_type": "markdown",
   "id": "65f04276",
   "metadata": {},
   "source": [
    "\"\"\"\n",
    "**1. Porównywanie pd.Series**\n",
    "\n",
    "Utwórz dwa obiekty typu `pd.Series`, zawierające 100 wartości 0 lub 1. Wykorzystaj w tym celu generator liczb losowych z biblioteki NumPy [np.random.randint](https://docs.scipy.org/doc/numpy-1.15.1/reference/generated/numpy.random.randint.html#numpy-random-randint).\n",
    "\n",
    "Następnie wyświetl wszystkie indeksy, na których wartości w obu Series się zgadzają.\n",
    "\"\"\""
   ]
  },
  {
   "cell_type": "code",
   "execution_count": 47,
   "id": "3dbbe12d",
   "metadata": {},
   "outputs": [],
   "source": [
    "### wczytaj biblioteki\n",
    "import pandas as pd\n",
    "import numpy as np"
   ]
  },
  {
   "cell_type": "code",
   "execution_count": 48,
   "id": "ebddbd7c",
   "metadata": {},
   "outputs": [
    {
     "data": {
      "text/plain": [
       "0     0\n",
       "1     0\n",
       "2     0\n",
       "3     1\n",
       "4     1\n",
       "     ..\n",
       "95    1\n",
       "96    0\n",
       "97    1\n",
       "98    1\n",
       "99    1\n",
       "Length: 100, dtype: int32"
      ]
     },
     "execution_count": 48,
     "metadata": {},
     "output_type": "execute_result"
    }
   ],
   "source": [
    "### przypisz do obiektu a za pomoca pd.Series z funkcja w srodku \n",
    "a = pd.Series(np.random.randint(2 , size=100, dtype=int))\n",
    "a"
   ]
  },
  {
   "cell_type": "code",
   "execution_count": 49,
   "id": "145186c3",
   "metadata": {},
   "outputs": [
    {
     "data": {
      "text/plain": [
       "0     0\n",
       "1     1\n",
       "2     0\n",
       "3     0\n",
       "4     1\n",
       "     ..\n",
       "95    0\n",
       "96    1\n",
       "97    1\n",
       "98    1\n",
       "99    1\n",
       "Length: 100, dtype: int32"
      ]
     },
     "execution_count": 49,
     "metadata": {},
     "output_type": "execute_result"
    }
   ],
   "source": [
    "### przypisz do obiektu b za pomoca pd.Series z funkcja w srodku\n",
    "b = pd.Series(np.random.randint(2, size=100, dtype=int))\n",
    "b"
   ]
  },
  {
   "cell_type": "code",
   "execution_count": 50,
   "id": "d450495e",
   "metadata": {},
   "outputs": [
    {
     "data": {
      "text/plain": [
       "Int64Index([ 0,  2,  4,  9, 11, 14, 16, 18, 19, 20, 22, 23, 25, 28, 31, 34, 37,\n",
       "            39, 41, 44, 45, 54, 55, 56, 60, 62, 65, 66, 68, 70, 73, 74, 78, 80,\n",
       "            81, 84, 86, 87, 90, 91, 92, 94, 97, 98, 99],\n",
       "           dtype='int64')"
      ]
     },
     "execution_count": 50,
     "metadata": {},
     "output_type": "execute_result"
    }
   ],
   "source": [
    "### dla obiektu a wpisz w nawiasach kwadratowych warunek rowności a i b oraz dodaj atrybut index\n",
    "a[(a == b)].index"
   ]
  },
  {
   "cell_type": "code",
   "execution_count": null,
   "id": "30dff82b",
   "metadata": {},
   "outputs": [],
   "source": []
  }
 ],
 "metadata": {
  "kernelspec": {
   "display_name": "Python 3 (ipykernel)",
   "language": "python",
   "name": "python3"
  },
  "language_info": {
   "codemirror_mode": {
    "name": "ipython",
    "version": 3
   },
   "file_extension": ".py",
   "mimetype": "text/x-python",
   "name": "python",
   "nbconvert_exporter": "python",
   "pygments_lexer": "ipython3",
   "version": "3.11.2"
  }
 },
 "nbformat": 4,
 "nbformat_minor": 5
}
