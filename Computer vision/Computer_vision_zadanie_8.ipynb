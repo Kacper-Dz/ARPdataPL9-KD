{
  "nbformat": 4,
  "nbformat_minor": 0,
  "metadata": {
    "colab": {
      "provenance": [],
      "gpuType": "T4"
    },
    "kernelspec": {
      "name": "python3",
      "display_name": "Python 3"
    },
    "language_info": {
      "name": "python"
    },
    "accelerator": "GPU"
  },
  "cells": [
    {
      "cell_type": "markdown",
      "source": [
        "Zadanie 8. Oszukiwanie CNN\n",
        "1. Weź zdjęcie ze zbioru walidacyjnego CIFAR10.\n",
        "2. Dodaj do zdjęcia szum (np. szum gaussowski).\n",
        "3. Wykorzystaj sieć wyuczoną w którymś z poprzednich kroków (lub wyucz sieć od nowa) i sprawdź, jak sobie radzi ze zdjęciem z szumem - zwraca tę samą klasę czy inną?\n",
        "4. Sprawdź, jak na sieć zadziała słabszy/mocniejszy szum.\n",
        "5. *Dodaj szum do wszystkich zdjęć w zbiorze walidacyjnym i sprawdź różnicę w accuracy."
      ],
      "metadata": {
        "id": "1OL3NOJn24iJ"
      }
    },
    {
      "cell_type": "code",
      "source": [
        "import tensorflow as tf\n",
        "import numpy as np\n",
        "from tensorflow.keras.datasets import cifar10\n",
        "from tensorflow.keras.models import load_model\n",
        "from tensorflow.keras.models import Sequential\n",
        "from tensorflow.keras.layers import Conv2D, MaxPooling2D, Flatten, Dense, BatchNormalization, Dropout\n",
        "from tensorflow.keras.optimizers import Adam"
      ],
      "metadata": {
        "id": "438AF1_F26nr"
      },
      "execution_count": 1,
      "outputs": []
    },
    {
      "cell_type": "code",
      "source": [
        "# Wczytanie danych CIFAR-10\n",
        "(x_train, y_train), (x_test, y_test) = cifar10.load_data()\n",
        "\n",
        "# Normalizacja danych wejściowych\n",
        "x_train = x_train / 255.0\n",
        "x_test = x_test / 255.0"
      ],
      "metadata": {
        "colab": {
          "base_uri": "https://localhost:8080/"
        },
        "id": "xcl0vIHP28_O",
        "outputId": "fa062e6a-a749-4189-f287-540fb68cb261"
      },
      "execution_count": 2,
      "outputs": [
        {
          "output_type": "stream",
          "name": "stdout",
          "text": [
            "Downloading data from https://www.cs.toronto.edu/~kriz/cifar-10-python.tar.gz\n",
            "170498071/170498071 [==============================] - 2s 0us/step\n"
          ]
        }
      ]
    },
    {
      "cell_type": "code",
      "source": [
        "# Przygotowanie funkcji do dodawania szumu gaussowskiego do obrazu\n",
        "def add_gaussian_noise(image, mean, stddev):\n",
        "    noise = np.random.normal(mean, stddev, image.shape)\n",
        "    noisy_image = image + noise\n",
        "    return np.clip(noisy_image, 0, 255).astype(np.uint8)"
      ],
      "metadata": {
        "id": "KwjgMZjQ3DF8"
      },
      "execution_count": 3,
      "outputs": []
    },
    {
      "cell_type": "code",
      "source": [
        "# Definicja modelu CNN z Batch Normalization i Dropout\n",
        "model = Sequential([\n",
        "    Conv2D(32, (3, 3), activation='relu', padding='same', input_shape=(32, 32, 3)),\n",
        "    BatchNormalization(),\n",
        "    Conv2D(32, (3, 3), activation='relu', padding='same'),\n",
        "    BatchNormalization(),\n",
        "    MaxPooling2D((2, 2)),\n",
        "    Dropout(0.25),\n",
        "    Conv2D(64, (3, 3), activation='relu', padding='same'),\n",
        "    BatchNormalization(),\n",
        "    Conv2D(64, (3, 3), activation='relu', padding='same'),\n",
        "    BatchNormalization(),\n",
        "    MaxPooling2D((2, 2)),\n",
        "    Dropout(0.25),\n",
        "    Flatten(),\n",
        "    Dense(512, activation='relu'),\n",
        "    BatchNormalization(),\n",
        "    Dropout(0.5),\n",
        "    Dense(10, activation='softmax')\n",
        "])"
      ],
      "metadata": {
        "id": "cHYOHmc43FfA"
      },
      "execution_count": 4,
      "outputs": []
    },
    {
      "cell_type": "code",
      "source": [
        "# Kompilacja modelu\n",
        "model.compile(optimizer=Adam(), loss='sparse_categorical_crossentropy', metrics=['accuracy'])"
      ],
      "metadata": {
        "id": "JfeXwOwm3HZ4"
      },
      "execution_count": 5,
      "outputs": []
    },
    {
      "cell_type": "code",
      "source": [
        "# Trening modelu\n",
        "model.fit(x_train, y_train, epochs=20, validation_data=(x_test, y_test))"
      ],
      "metadata": {
        "colab": {
          "base_uri": "https://localhost:8080/"
        },
        "id": "9ARJLG3f3JDr",
        "outputId": "420cfc1e-f23f-46e9-843d-cdf80e5a9d25"
      },
      "execution_count": 6,
      "outputs": [
        {
          "output_type": "stream",
          "name": "stdout",
          "text": [
            "Epoch 1/20\n",
            "1563/1563 [==============================] - 27s 8ms/step - loss: 1.4391 - accuracy: 0.5112 - val_loss: 1.0950 - val_accuracy: 0.6196\n",
            "Epoch 2/20\n",
            "1563/1563 [==============================] - 13s 8ms/step - loss: 0.9885 - accuracy: 0.6550 - val_loss: 0.9323 - val_accuracy: 0.6843\n",
            "Epoch 3/20\n",
            "1563/1563 [==============================] - 16s 10ms/step - loss: 0.8805 - accuracy: 0.6918 - val_loss: 0.8278 - val_accuracy: 0.7171\n",
            "Epoch 4/20\n",
            "1563/1563 [==============================] - 21s 13ms/step - loss: 0.7783 - accuracy: 0.7292 - val_loss: 1.2227 - val_accuracy: 0.6106\n",
            "Epoch 5/20\n",
            "1563/1563 [==============================] - 13s 8ms/step - loss: 0.7099 - accuracy: 0.7526 - val_loss: 0.6548 - val_accuracy: 0.7714\n",
            "Epoch 6/20\n",
            "1563/1563 [==============================] - 13s 8ms/step - loss: 0.6662 - accuracy: 0.7685 - val_loss: 0.6468 - val_accuracy: 0.7789\n",
            "Epoch 7/20\n",
            "1563/1563 [==============================] - 13s 8ms/step - loss: 0.6113 - accuracy: 0.7870 - val_loss: 0.9289 - val_accuracy: 0.6896\n",
            "Epoch 8/20\n",
            "1563/1563 [==============================] - 13s 8ms/step - loss: 0.5603 - accuracy: 0.8070 - val_loss: 0.5678 - val_accuracy: 0.8073\n",
            "Epoch 9/20\n",
            "1563/1563 [==============================] - 13s 8ms/step - loss: 0.5365 - accuracy: 0.8118 - val_loss: 0.6069 - val_accuracy: 0.7856\n",
            "Epoch 10/20\n",
            "1563/1563 [==============================] - 14s 9ms/step - loss: 0.4960 - accuracy: 0.8261 - val_loss: 0.8003 - val_accuracy: 0.7351\n",
            "Epoch 11/20\n",
            "1563/1563 [==============================] - 13s 8ms/step - loss: 0.4639 - accuracy: 0.8365 - val_loss: 0.5823 - val_accuracy: 0.8048\n",
            "Epoch 12/20\n",
            "1563/1563 [==============================] - 13s 8ms/step - loss: 0.4442 - accuracy: 0.8438 - val_loss: 0.5952 - val_accuracy: 0.8032\n",
            "Epoch 13/20\n",
            "1563/1563 [==============================] - 12s 8ms/step - loss: 0.4221 - accuracy: 0.8518 - val_loss: 0.5904 - val_accuracy: 0.8024\n",
            "Epoch 14/20\n",
            "1563/1563 [==============================] - 13s 8ms/step - loss: 0.3900 - accuracy: 0.8621 - val_loss: 0.5651 - val_accuracy: 0.8118\n",
            "Epoch 15/20\n",
            "1563/1563 [==============================] - 13s 8ms/step - loss: 0.3750 - accuracy: 0.8680 - val_loss: 0.6218 - val_accuracy: 0.8004\n",
            "Epoch 16/20\n",
            "1563/1563 [==============================] - 12s 8ms/step - loss: 0.3555 - accuracy: 0.8744 - val_loss: 0.5419 - val_accuracy: 0.8241\n",
            "Epoch 17/20\n",
            "1563/1563 [==============================] - 13s 8ms/step - loss: 0.3423 - accuracy: 0.8788 - val_loss: 0.5396 - val_accuracy: 0.8274\n",
            "Epoch 18/20\n",
            "1563/1563 [==============================] - 12s 8ms/step - loss: 0.3348 - accuracy: 0.8823 - val_loss: 0.5243 - val_accuracy: 0.8326\n",
            "Epoch 19/20\n",
            "1563/1563 [==============================] - 13s 8ms/step - loss: 0.3159 - accuracy: 0.8867 - val_loss: 0.5350 - val_accuracy: 0.8305\n",
            "Epoch 20/20\n",
            "1563/1563 [==============================] - 12s 8ms/step - loss: 0.3024 - accuracy: 0.8924 - val_loss: 0.5798 - val_accuracy: 0.8285\n"
          ]
        },
        {
          "output_type": "execute_result",
          "data": {
            "text/plain": [
              "<keras.callbacks.History at 0x7f0280556fb0>"
            ]
          },
          "metadata": {},
          "execution_count": 6
        }
      ]
    },
    {
      "cell_type": "code",
      "source": [
        "# Zapisanie wytrenowanego modelu\n",
        "model.save('trained_model.h5')"
      ],
      "metadata": {
        "id": "7fwMOD2v3KoQ"
      },
      "execution_count": 7,
      "outputs": []
    },
    {
      "cell_type": "code",
      "source": [
        "# Wczytanie danych CIFAR-10\n",
        "(_, _), (x_val, y_val) = cifar10.load_data()\n",
        "\n",
        "# Wybór jednego zdjęcia z zestawu walidacyjnego\n",
        "image = x_val[0]\n",
        "label = y_val[0]"
      ],
      "metadata": {
        "id": "w5Fawz3L3Qhk"
      },
      "execution_count": 9,
      "outputs": []
    },
    {
      "cell_type": "code",
      "source": [
        "# Dodanie szumu gaussowskiego do zdjęcia\n",
        "noisy_image = add_gaussian_noise(image, mean=0, stddev=30)"
      ],
      "metadata": {
        "id": "fUIakmfa3S8B"
      },
      "execution_count": 10,
      "outputs": []
    },
    {
      "cell_type": "code",
      "source": [
        "# Wyświetlenie obrazów przed i po dodaniu szumu\n",
        "import matplotlib.pyplot as plt\n",
        "\n",
        "plt.subplot(1, 2, 1)\n",
        "plt.imshow(image)\n",
        "plt.title(\"Original Image\")\n",
        "plt.axis('off')\n",
        "\n",
        "plt.subplot(1, 2, 2)\n",
        "plt.imshow(noisy_image)\n",
        "plt.title(\"Noisy Image\")\n",
        "plt.axis('off')\n",
        "\n",
        "plt.show()"
      ],
      "metadata": {
        "colab": {
          "base_uri": "https://localhost:8080/",
          "height": 284
        },
        "id": "Wvq6q1r_3U5b",
        "outputId": "51db42ac-ed2f-4578-de30-cf6eed9ac150"
      },
      "execution_count": 11,
      "outputs": [
        {
          "output_type": "display_data",
          "data": {
            "text/plain": [
              "<Figure size 640x480 with 2 Axes>"
            ],
            "image/png": "[encoded data removed]"
          },
          "metadata": {}
        }
      ]
    },
    {
      "cell_type": "code",
      "source": [
        "# Normalizacja danych wejściowych\n",
        "noisy_image = noisy_image / 255.0"
      ],
      "metadata": {
        "id": "YWsTY2uE3W07"
      },
      "execution_count": 12,
      "outputs": []
    },
    {
      "cell_type": "code",
      "source": [
        "# Wczytanie wytrenowanego modelu CNN\n",
        "model = load_model('trained_model.h5')"
      ],
      "metadata": {
        "id": "vyLYCbnc3Z95"
      },
      "execution_count": 13,
      "outputs": []
    },
    {
      "cell_type": "code",
      "source": [
        "# Przewidywanie klasy dla obrazu z szumem\n",
        "prediction = model.predict(np.expand_dims(noisy_image, axis=0))\n",
        "predicted_class = np.argmax(prediction)\n",
        "\n",
        "# Wyświetlenie wyników\n",
        "print(\"Przewidywana klasa dla obrazu z szumem:\", predicted_class)\n",
        "print(\"Prawdziwa klasa obrazu:\", label)"
      ],
      "metadata": {
        "colab": {
          "base_uri": "https://localhost:8080/"
        },
        "id": "rxVr-lRf3cFt",
        "outputId": "88e4e648-d212-4632-8f47-44751a9d707a"
      },
      "execution_count": 14,
      "outputs": [
        {
          "output_type": "stream",
          "name": "stdout",
          "text": [
            "1/1 [==============================] - 1s 835ms/step\n",
            "Przewidywana klasa dla obrazu z szumem: 3\n",
            "Prawdziwa klasa obrazu: [3]\n"
          ]
        }
      ]
    }
  ]
}