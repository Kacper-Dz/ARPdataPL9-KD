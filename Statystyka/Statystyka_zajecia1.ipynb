{
  "nbformat": 4,
  "nbformat_minor": 0,
  "metadata": {
    "colab": {
      "provenance": [],
      "toc_visible": true,
      "authorship_tag": "ABX9TyMg1r0uQt8wpLA7K6AOH5Bs",
      "include_colab_link": true
    },
    "kernelspec": {
      "name": "python3",
      "display_name": "Python 3"
    },
    "language_info": {
      "name": "python"
    }
  },
  "cells": [
    {
      "cell_type": "markdown",
      "metadata": {
        "id": "view-in-github",
        "colab_type": "text"
      },
      "source": [
        "<a href=\"https://colab.research.google.com/github/Kacper-Dz/APRdataPL9-KD/blob/main/Statystyka_zajecia1.ipynb\" target=\"_parent\"><img src=\"https://colab.research.google.com/assets/colab-badge.svg\" alt=\"Open In Colab\"/></a>"
      ]
    },
    {
      "cell_type": "code",
      "source": [
        "import numpy as np"
      ],
      "metadata": {
        "id": "Y1DGWXnS90WZ"
      },
      "execution_count": 2,
      "outputs": []
    },
    {
      "cell_type": "code",
      "source": [
        "wektor = np.array([1, 2, 3])\n",
        "wektor"
      ],
      "metadata": {
        "colab": {
          "base_uri": "https://localhost:8080/"
        },
        "id": "4fA5bvRtDENx",
        "outputId": "3e891418-e766-40d3-c391-eb8474a1c4dc"
      },
      "execution_count": 3,
      "outputs": [
        {
          "output_type": "execute_result",
          "data": {
            "text/plain": [
              "array([1, 2, 3])"
            ]
          },
          "metadata": {},
          "execution_count": 3
        }
      ]
    },
    {
      "cell_type": "code",
      "source": [
        "lista1 = ([4, 5, 6])\n",
        "wektor=np.array(lista1)\n",
        "wektor"
      ],
      "metadata": {
        "colab": {
          "base_uri": "https://localhost:8080/"
        },
        "id": "d01r-sWvDMsm",
        "outputId": "4b0d2173-cea2-4716-c7d4-6fd80b57d1fa"
      },
      "execution_count": 4,
      "outputs": [
        {
          "output_type": "execute_result",
          "data": {
            "text/plain": [
              "array([4, 5, 6])"
            ]
          },
          "metadata": {},
          "execution_count": 4
        }
      ]
    },
    {
      "cell_type": "code",
      "source": [
        "wektor_kolumnowy = np.array([[1, 2, 3], [4, 5, 6], [7, 8, 9]])\n",
        "wektor_kolumnowy"
      ],
      "metadata": {
        "colab": {
          "base_uri": "https://localhost:8080/"
        },
        "id": "k5BmIKVKDtz3",
        "outputId": "c14a09b8-94de-4367-b620-41c7faebfa2d"
      },
      "execution_count": 6,
      "outputs": [
        {
          "output_type": "execute_result",
          "data": {
            "text/plain": [
              "array([[1, 2, 3],\n",
              "       [4, 5, 6],\n",
              "       [7, 8, 9]])"
            ]
          },
          "metadata": {},
          "execution_count": 6
        }
      ]
    },
    {
      "cell_type": "code",
      "source": [
        "macierz = np.array([[1, 2, 3], [4, 5, 6]]) \n",
        "macierz"
      ],
      "metadata": {
        "colab": {
          "base_uri": "https://localhost:8080/"
        },
        "id": "z2glF9oEEjaK",
        "outputId": "a8e69301-7ef1-4bbc-e168-ad30d50df042"
      },
      "execution_count": 9,
      "outputs": [
        {
          "output_type": "execute_result",
          "data": {
            "text/plain": [
              "array([[1, 2, 3],\n",
              "       [4, 5, 6]])"
            ]
          },
          "metadata": {},
          "execution_count": 9
        }
      ]
    },
    {
      "cell_type": "code",
      "source": [
        "np.arange(10)"
      ],
      "metadata": {
        "colab": {
          "base_uri": "https://localhost:8080/"
        },
        "id": "buFQkk6ZH5Sa",
        "outputId": "0ae95903-18ce-4d04-d228-c2b4ecaa8ca0"
      },
      "execution_count": 11,
      "outputs": [
        {
          "output_type": "execute_result",
          "data": {
            "text/plain": [
              "array([0, 1, 2, 3, 4, 5, 6, 7, 8, 9])"
            ]
          },
          "metadata": {},
          "execution_count": 11
        }
      ]
    },
    {
      "cell_type": "code",
      "source": [
        "np.arange(5, 10)"
      ],
      "metadata": {
        "colab": {
          "base_uri": "https://localhost:8080/"
        },
        "id": "wCDTz820IMvM",
        "outputId": "640cc45e-c418-4e45-e66d-88f82d1ceb14"
      },
      "execution_count": 12,
      "outputs": [
        {
          "output_type": "execute_result",
          "data": {
            "text/plain": [
              "array([5, 6, 7, 8, 9])"
            ]
          },
          "metadata": {},
          "execution_count": 12
        }
      ]
    },
    {
      "cell_type": "code",
      "source": [
        "np.arange(5, 15, 2)"
      ],
      "metadata": {
        "colab": {
          "base_uri": "https://localhost:8080/"
        },
        "id": "SY-4AfwYISJS",
        "outputId": "0f0a0d5d-3419-4a9b-e147-d73ac19a647e"
      },
      "execution_count": 14,
      "outputs": [
        {
          "output_type": "execute_result",
          "data": {
            "text/plain": [
              "array([ 5,  7,  9, 11, 13])"
            ]
          },
          "metadata": {},
          "execution_count": 14
        }
      ]
    },
    {
      "cell_type": "code",
      "source": [
        "np.linspace(1, 10, 5)"
      ],
      "metadata": {
        "colab": {
          "base_uri": "https://localhost:8080/"
        },
        "id": "bpdNCmA1I-Y-",
        "outputId": "2bd79a06-9869-4c06-fd55-a190cc0d2701"
      },
      "execution_count": 16,
      "outputs": [
        {
          "output_type": "execute_result",
          "data": {
            "text/plain": [
              "array([ 1.  ,  3.25,  5.5 ,  7.75, 10.  ])"
            ]
          },
          "metadata": {},
          "execution_count": 16
        }
      ]
    },
    {
      "cell_type": "markdown",
      "source": [
        "# Podsumowanie\n",
        "W jaki sposób tworzymy wektory:\n",
        "* np.array() - tworzymy wektro według podanych elementów\n",
        "* np.arrange() - tworzymy wektor według zadeklarowanej funkcji\n",
        "* np.linspace - wiemy ile chcemy elementów, niekonieczniej jakie mają mieć wartości, definiujemy zakres wartości i ilość elementów."
      ],
      "metadata": {
        "id": "3mWOkWmHImIK"
      }
    },
    {
      "cell_type": "code",
      "source": [
        "macierz = np.array([\n",
        "    np.linspace(0, 333, 5),\n",
        "    np.linspace(467, 874, 5),\n",
        "    np.linspace(259, 678, 5)\n",
        "])\n",
        "\n",
        "macierz"
      ],
      "metadata": {
        "colab": {
          "base_uri": "https://localhost:8080/"
        },
        "id": "3eJC1cvkJnF5",
        "outputId": "0cc1241b-9507-433e-afe1-56e8a654cd21"
      },
      "execution_count": 19,
      "outputs": [
        {
          "output_type": "execute_result",
          "data": {
            "text/plain": [
              "array([[  0.  ,  83.25, 166.5 , 249.75, 333.  ],\n",
              "       [467.  , 568.75, 670.5 , 772.25, 874.  ],\n",
              "       [259.  , 363.75, 468.5 , 573.25, 678.  ]])"
            ]
          },
          "metadata": {},
          "execution_count": 19
        }
      ]
    },
    {
      "cell_type": "code",
      "source": [
        "macierz.shape  #\".shape\", czyli atrybut \"shape\" mówia nam o tym jakie są wymairy obiektu macierz, najpierw liczba wierszy, potem liczba kolumn"
      ],
      "metadata": {
        "colab": {
          "base_uri": "https://localhost:8080/"
        },
        "id": "HuUgBaRuKski",
        "outputId": "0d83ac74-4b69-40af-abdb-f75dc3a47d3f"
      },
      "execution_count": 20,
      "outputs": [
        {
          "output_type": "execute_result",
          "data": {
            "text/plain": [
              "(3, 5)"
            ]
          },
          "metadata": {},
          "execution_count": 20
        }
      ]
    },
    {
      "cell_type": "code",
      "source": [
        "wektor.shape  #\".shape\", czyli atrybut \"shape\" mówia nam o tym jakie są wymairy obiektu wektro"
      ],
      "metadata": {
        "colab": {
          "base_uri": "https://localhost:8080/"
        },
        "outputId": "009ebb95-27cb-43e9-e9f6-e7e815ed92cb",
        "id": "NpBdx8_RMFW9"
      },
      "execution_count": 24,
      "outputs": [
        {
          "output_type": "execute_result",
          "data": {
            "text/plain": [
              "(3,)"
            ]
          },
          "metadata": {},
          "execution_count": 24
        }
      ]
    },
    {
      "cell_type": "code",
      "source": [
        "macierz.size  # rozmiar, czyli iloczyn wymiarów"
      ],
      "metadata": {
        "colab": {
          "base_uri": "https://localhost:8080/"
        },
        "id": "XDsbAsXsK_8T",
        "outputId": "4c4cc70f-b461-486e-bfcb-5829725ab246"
      },
      "execution_count": 21,
      "outputs": [
        {
          "output_type": "execute_result",
          "data": {
            "text/plain": [
              "15"
            ]
          },
          "metadata": {},
          "execution_count": 21
        }
      ]
    },
    {
      "cell_type": "code",
      "source": [
        "macierz.ndim  # liczba wymiarów"
      ],
      "metadata": {
        "colab": {
          "base_uri": "https://localhost:8080/"
        },
        "id": "TCXyyDZALYpx",
        "outputId": "8deeda91-4c31-4d94-8367-bcfe5489bed3"
      },
      "execution_count": 22,
      "outputs": [
        {
          "output_type": "execute_result",
          "data": {
            "text/plain": [
              "2"
            ]
          },
          "metadata": {},
          "execution_count": 22
        }
      ]
    },
    {
      "cell_type": "code",
      "source": [
        "wektor.ndim"
      ],
      "metadata": {
        "colab": {
          "base_uri": "https://localhost:8080/"
        },
        "id": "wMx7BedELoYp",
        "outputId": "1047acd6-ee88-47da-d8fc-8c2ac18df9b3"
      },
      "execution_count": 23,
      "outputs": [
        {
          "output_type": "execute_result",
          "data": {
            "text/plain": [
              "1"
            ]
          },
          "metadata": {},
          "execution_count": 23
        }
      ]
    },
    {
      "cell_type": "code",
      "source": [
        "# Tenosr 0D\n",
        "skalar = [1]\n",
        "skalar"
      ],
      "metadata": {
        "colab": {
          "base_uri": "https://localhost:8080/"
        },
        "id": "-iQtjdv_Lrjh",
        "outputId": "76725efb-fd38-4aae-ba5f-766493fbd4cb"
      },
      "execution_count": 25,
      "outputs": [
        {
          "output_type": "execute_result",
          "data": {
            "text/plain": [
              "[1]"
            ]
          },
          "metadata": {},
          "execution_count": 25
        }
      ]
    },
    {
      "cell_type": "code",
      "source": [
        "# Tensor 1d\n",
        "wektor = [1, 2, 3]\n",
        "wektor"
      ],
      "metadata": {
        "colab": {
          "base_uri": "https://localhost:8080/"
        },
        "id": "eQFC62cZNUir",
        "outputId": "ccce0924-70e5-425b-f893-f0b9a3a25f22"
      },
      "execution_count": 26,
      "outputs": [
        {
          "output_type": "execute_result",
          "data": {
            "text/plain": [
              "[1, 2, 3]"
            ]
          },
          "metadata": {},
          "execution_count": 26
        }
      ]
    },
    {
      "cell_type": "code",
      "source": [
        "# Tensor 2D\n",
        "macierz = np.array([[1, 2, 3], [4, 5, 6]])\n",
        "macierz"
      ],
      "metadata": {
        "colab": {
          "base_uri": "https://localhost:8080/"
        },
        "id": "HtzACmy5NbNb",
        "outputId": "c92761ee-3ba8-4b5f-d443-aeb597e8f7ea"
      },
      "execution_count": 28,
      "outputs": [
        {
          "output_type": "execute_result",
          "data": {
            "text/plain": [
              "array([[1, 2, 3],\n",
              "       [4, 5, 6]])"
            ]
          },
          "metadata": {},
          "execution_count": 28
        }
      ]
    },
    {
      "cell_type": "code",
      "source": [
        "macierz = np.array([\n",
        "    np.linspace(0, 333, 5),\n",
        "    np.linspace(467, 874, 5),\n",
        "    np.linspace(259, 678, 5)\n",
        "])\n",
        "\n",
        "macierz"
      ],
      "metadata": {
        "colab": {
          "base_uri": "https://localhost:8080/"
        },
        "id": "-mEUINWDNl6e",
        "outputId": "31469522-0a86-4b78-fd35-2b9e9ba69727"
      },
      "execution_count": 30,
      "outputs": [
        {
          "output_type": "execute_result",
          "data": {
            "text/plain": [
              "array([[  0.  ,  83.25, 166.5 , 249.75, 333.  ],\n",
              "       [467.  , 568.75, 670.5 , 772.25, 874.  ],\n",
              "       [259.  , 363.75, 468.5 , 573.25, 678.  ]])"
            ]
          },
          "metadata": {},
          "execution_count": 30
        }
      ]
    },
    {
      "cell_type": "code",
      "source": [
        "macierz.shape"
      ],
      "metadata": {
        "colab": {
          "base_uri": "https://localhost:8080/"
        },
        "id": "Sp5l3PDrO_ej",
        "outputId": "3ff53b5d-3de0-4b51-e214-12c75b0ee7ed"
      },
      "execution_count": 31,
      "outputs": [
        {
          "output_type": "execute_result",
          "data": {
            "text/plain": [
              "(3, 5)"
            ]
          },
          "metadata": {},
          "execution_count": 31
        }
      ]
    },
    {
      "cell_type": "code",
      "source": [
        "macierz [1][1]  # Numeracja od 0"
      ],
      "metadata": {
        "colab": {
          "base_uri": "https://localhost:8080/"
        },
        "id": "EG0gzldUPBEK",
        "outputId": "03efe9b0-c1d1-4907-fe70-de6c9aeacdeb"
      },
      "execution_count": 32,
      "outputs": [
        {
          "output_type": "execute_result",
          "data": {
            "text/plain": [
              "568.75"
            ]
          },
          "metadata": {},
          "execution_count": 32
        }
      ]
    },
    {
      "cell_type": "code",
      "source": [
        "macierz[1, 1]  # Numeracja od 0"
      ],
      "metadata": {
        "colab": {
          "base_uri": "https://localhost:8080/"
        },
        "id": "ikL7RujnPNiE",
        "outputId": "186e858a-6309-4884-8c24-4a5df4bbb462"
      },
      "execution_count": 33,
      "outputs": [
        {
          "output_type": "execute_result",
          "data": {
            "text/plain": [
              "568.75"
            ]
          },
          "metadata": {},
          "execution_count": 33
        }
      ]
    },
    {
      "cell_type": "code",
      "source": [
        "macierz.shape # najpier wiersze, potem kolumny"
      ],
      "metadata": {
        "colab": {
          "base_uri": "https://localhost:8080/"
        },
        "id": "0b6VK1CSPPam",
        "outputId": "40309db8-e0ba-42e0-de90-1ed16ff688aa"
      },
      "execution_count": 34,
      "outputs": [
        {
          "output_type": "execute_result",
          "data": {
            "text/plain": [
              "(3, 5)"
            ]
          },
          "metadata": {},
          "execution_count": 34
        }
      ]
    },
    {
      "cell_type": "code",
      "source": [
        "macierz[0]"
      ],
      "metadata": {
        "colab": {
          "base_uri": "https://localhost:8080/"
        },
        "id": "SURtPhZHQD37",
        "outputId": "c1acdcbb-7fb3-4eed-a051-a9de77217dea"
      },
      "execution_count": 36,
      "outputs": [
        {
          "output_type": "execute_result",
          "data": {
            "text/plain": [
              "array([  0.  ,  83.25, 166.5 , 249.75, 333.  ])"
            ]
          },
          "metadata": {},
          "execution_count": 36
        }
      ]
    },
    {
      "cell_type": "code",
      "source": [
        "macierz [0, :]  # wyświetlamy wiersz nr 0"
      ],
      "metadata": {
        "colab": {
          "base_uri": "https://localhost:8080/"
        },
        "id": "m4ndfO5cQHsP",
        "outputId": "af34287b-7284-4be7-9b04-62c86df3d030"
      },
      "execution_count": 37,
      "outputs": [
        {
          "output_type": "execute_result",
          "data": {
            "text/plain": [
              "array([  0.  ,  83.25, 166.5 , 249.75, 333.  ])"
            ]
          },
          "metadata": {},
          "execution_count": 37
        }
      ]
    },
    {
      "cell_type": "code",
      "source": [
        "macierz [:, 0] # Wyświetlamy kolumnę nr 0, nie działa tutaj zapis [][0]"
      ],
      "metadata": {
        "colab": {
          "base_uri": "https://localhost:8080/"
        },
        "id": "sLd0BF87QcNW",
        "outputId": "e66fa478-1e0b-4fd0-e630-cf424cf7bad8"
      },
      "execution_count": 38,
      "outputs": [
        {
          "output_type": "execute_result",
          "data": {
            "text/plain": [
              "array([  0., 467., 259.])"
            ]
          },
          "metadata": {},
          "execution_count": 38
        }
      ]
    },
    {
      "cell_type": "code",
      "source": [
        "macierz [:, 2:] # Zwrot wszytskich wierszy i kolumn od 1 "
      ],
      "metadata": {
        "colab": {
          "base_uri": "https://localhost:8080/"
        },
        "id": "761niBQdQlV0",
        "outputId": "9dc64821-d32c-4108-9249-74cdea43a1f3"
      },
      "execution_count": 40,
      "outputs": [
        {
          "output_type": "execute_result",
          "data": {
            "text/plain": [
              "array([[166.5 , 249.75, 333.  ],\n",
              "       [670.5 , 772.25, 874.  ],\n",
              "       [468.5 , 573.25, 678.  ]])"
            ]
          },
          "metadata": {},
          "execution_count": 40
        }
      ]
    },
    {
      "cell_type": "code",
      "source": [
        "# dostajemy elementy oznaczone przez x\n",
        "# [o o x x x]\n",
        "# [o o x x x]\n",
        "# [o o x x x]"
      ],
      "metadata": {
        "id": "k9jkITWbQ2W3"
      },
      "execution_count": null,
      "outputs": []
    },
    {
      "cell_type": "code",
      "source": [
        "np.random.random()"
      ],
      "metadata": {
        "colab": {
          "base_uri": "https://localhost:8080/"
        },
        "id": "JIPsvwcbRd65",
        "outputId": "dc122bd8-1d61-4a0b-de1b-1f459adb5a36"
      },
      "execution_count": 41,
      "outputs": [
        {
          "output_type": "execute_result",
          "data": {
            "text/plain": [
              "0.6302509785278042"
            ]
          },
          "metadata": {},
          "execution_count": 41
        }
      ]
    },
    {
      "cell_type": "code",
      "source": [
        "np.random.random(10)"
      ],
      "metadata": {
        "colab": {
          "base_uri": "https://localhost:8080/"
        },
        "id": "Mt08haIfSNOq",
        "outputId": "f5fec59e-3d1d-4837-eb73-50a532950a16"
      },
      "execution_count": 42,
      "outputs": [
        {
          "output_type": "execute_result",
          "data": {
            "text/plain": [
              "array([0.90306297, 0.56771938, 0.59931108, 0.28055586, 0.40228817,\n",
              "       0.8345941 , 0.72067202, 0.0564755 , 0.63694659, 0.64015279])"
            ]
          },
          "metadata": {},
          "execution_count": 42
        }
      ]
    },
    {
      "cell_type": "code",
      "source": [
        "np.random.random(10).ndim"
      ],
      "metadata": {
        "colab": {
          "base_uri": "https://localhost:8080/"
        },
        "id": "gJDNdER3SSAP",
        "outputId": "a30861d4-ba19-47d0-bc5a-35b83a2a2da6"
      },
      "execution_count": 44,
      "outputs": [
        {
          "output_type": "execute_result",
          "data": {
            "text/plain": [
              "1"
            ]
          },
          "metadata": {},
          "execution_count": 44
        }
      ]
    },
    {
      "cell_type": "code",
      "source": [
        "np.random.normal() # Losowa liczba z rozkladu normalnego      https://pl.wikipedia.org/wiki/Rozk%C5%82ad_normalny\n",
        "np.random.uniform() # Losowa liczba z rozkładu jednostajnego  https://pl.wikipedia.org/wiki/Rozk%C5%82ad_jednostajny_ci%C4%85g%C5%82y"
      ],
      "metadata": {
        "id": "0A75V2m5S089"
      },
      "execution_count": null,
      "outputs": []
    },
    {
      "cell_type": "code",
      "source": [
        "# Opcja dla liczb całkowitych, z powtórzeniami\n",
        "np. random.randint(0, 100, size=10)"
      ],
      "metadata": {
        "colab": {
          "base_uri": "https://localhost:8080/"
        },
        "id": "iMsFqVn8TAWi",
        "outputId": "9d152170-a049-4fbc-abff-49722a8d9b9a"
      },
      "execution_count": 45,
      "outputs": [
        {
          "output_type": "execute_result",
          "data": {
            "text/plain": [
              "array([79, 45, 26, 74, 40, 45, 62, 29, 72, 32])"
            ]
          },
          "metadata": {},
          "execution_count": 45
        }
      ]
    },
    {
      "cell_type": "code",
      "source": [
        "wektor = np.array([20, 17, 67, 456, 100, 6, 12.5])\n",
        "wektor"
      ],
      "metadata": {
        "colab": {
          "base_uri": "https://localhost:8080/"
        },
        "id": "pRtwuNlUTV1Y",
        "outputId": "4769fc71-61e6-4699-8912-aee144945242"
      },
      "execution_count": 46,
      "outputs": [
        {
          "output_type": "execute_result",
          "data": {
            "text/plain": [
              "array([ 20. ,  17. ,  67. , 456. , 100. ,   6. ,  12.5])"
            ]
          },
          "metadata": {},
          "execution_count": 46
        }
      ]
    },
    {
      "cell_type": "code",
      "source": [
        "wektor_wieksze_od_99 = np.where(wektor >99)\n",
        "wektor_wieksze_od_99"
      ],
      "metadata": {
        "colab": {
          "base_uri": "https://localhost:8080/"
        },
        "id": "FTb_kFF4UEeY",
        "outputId": "0bc81918-b1cb-4fd5-e805-d6dbbb9abb43"
      },
      "execution_count": 47,
      "outputs": [
        {
          "output_type": "execute_result",
          "data": {
            "text/plain": [
              "(array([3, 4]),)"
            ]
          },
          "metadata": {},
          "execution_count": 47
        }
      ]
    },
    {
      "cell_type": "code",
      "source": [
        "wektor[wektor_wieksze_od_99] # Stosujemy wektor jako filtr do wektora"
      ],
      "metadata": {
        "colab": {
          "base_uri": "https://localhost:8080/"
        },
        "id": "gdXZ2RL3UM2O",
        "outputId": "d2d4ec50-28db-4b2e-b96f-8917e3ece00c"
      },
      "execution_count": 48,
      "outputs": [
        {
          "output_type": "execute_result",
          "data": {
            "text/plain": [
              "array([456., 100.])"
            ]
          },
          "metadata": {},
          "execution_count": 48
        }
      ]
    },
    {
      "cell_type": "code",
      "source": [
        "# Zadanie 1.\n",
        "# Stwórz numpy array z wartosciami od 1 do 9, wyświetl a następnie odwróć tę\n",
        "# tablicę (pierwszy element zostaje ostatnim, itd.)\n",
        "\n",
        "zadanie1 = np.arange(1,10)\n",
        "print(zadanie1)\n",
        "zadanie1 = np.flip(zadanie1)\n",
        "print(zadanie1)"
      ],
      "metadata": {
        "colab": {
          "base_uri": "https://localhost:8080/"
        },
        "id": "nV-XVb20UVCm",
        "outputId": "a5cd106d-dbd6-4070-89d1-40971f5a01cd"
      },
      "execution_count": 59,
      "outputs": [
        {
          "output_type": "stream",
          "name": "stdout",
          "text": [
            "[1 2 3 4 5 6 7 8 9]\n",
            "[9 8 7 6 5 4 3 2 1]\n"
          ]
        }
      ]
    },
    {
      "cell_type": "code",
      "source": [
        "zadanie1[-1:]"
      ],
      "metadata": {
        "colab": {
          "base_uri": "https://localhost:8080/"
        },
        "id": "ZdIxrF7PaRQY",
        "outputId": "7aaf14f2-792a-4a25-8e9b-6a6ad4a5309c"
      },
      "execution_count": 60,
      "outputs": [
        {
          "output_type": "execute_result",
          "data": {
            "text/plain": [
              "array([1])"
            ]
          },
          "metadata": {},
          "execution_count": 60
        }
      ]
    },
    {
      "cell_type": "code",
      "source": [
        "zadanie1 [::-1] # https://stackoverflow.com/questions/6771428/most-efficient-way-to-reverse-a-numpy-array"
      ],
      "metadata": {
        "colab": {
          "base_uri": "https://localhost:8080/"
        },
        "id": "BTBeXeFlaWHl",
        "outputId": "8206640a-757f-4a92-b913-f5ae3f1729c0"
      },
      "execution_count": 61,
      "outputs": [
        {
          "output_type": "execute_result",
          "data": {
            "text/plain": [
              "array([1, 2, 3, 4, 5, 6, 7, 8, 9])"
            ]
          },
          "metadata": {},
          "execution_count": 61
        }
      ]
    },
    {
      "cell_type": "code",
      "source": [
        "# Zadanie 2.\n",
        "# Stwórz następujący numpy array [1, 23, 4, 31, 1, 1, 4, 23, 4, 1],\n",
        "# a następnie wypisz wszytskie unikalne (nie powtarzające sie) elementy\n",
        "\n",
        "zadanie2 = [1, 23, 4, 31, 1, 1, 4, 23, 4, 1]\n",
        "zadanie2un = np.array(zadanie2)\n",
        "np.unique(zadanie2un)"
      ],
      "metadata": {
        "colab": {
          "base_uri": "https://localhost:8080/"
        },
        "id": "8cnze8vOai-x",
        "outputId": "e83bffd3-cd86-4654-e88d-3abeaa153e31"
      },
      "execution_count": 58,
      "outputs": [
        {
          "output_type": "execute_result",
          "data": {
            "text/plain": [
              "array([ 1,  4, 23, 31])"
            ]
          },
          "metadata": {},
          "execution_count": 58
        }
      ]
    },
    {
      "cell_type": "markdown",
      "source": [
        "## Działanie na macierzach"
      ],
      "metadata": {
        "id": "EBSm0GJTc154"
      }
    },
    {
      "cell_type": "code",
      "source": [
        "matrix_a = np.array([\n",
        "    [1, 2, 3],\n",
        "    [3, 4, 5],\n",
        "    [6, 7, 8],\n",
        "])\n",
        "\n",
        "matrix_b = np.array([\n",
        "    [10, 10, 10],\n",
        "    [20, 20, 20],\n",
        "    [30, 30, 30],\n",
        "])\n"
      ],
      "metadata": {
        "id": "NYcUyNJWc6Lb"
      },
      "execution_count": 63,
      "outputs": []
    },
    {
      "cell_type": "code",
      "source": [
        "print(matrix_a)"
      ],
      "metadata": {
        "colab": {
          "base_uri": "https://localhost:8080/"
        },
        "id": "QTdaUKredUJU",
        "outputId": "df2ce80f-744d-4579-9a7e-b4412e1e3ef2"
      },
      "execution_count": 64,
      "outputs": [
        {
          "output_type": "stream",
          "name": "stdout",
          "text": [
            "[[1 2 3]\n",
            " [3 4 5]\n",
            " [6 7 8]]\n"
          ]
        }
      ]
    },
    {
      "cell_type": "code",
      "source": [
        "print(matrix_b)"
      ],
      "metadata": {
        "colab": {
          "base_uri": "https://localhost:8080/"
        },
        "id": "GDZWGDlWdU4m",
        "outputId": "d3d4a26e-5175-42e0-f361-78e08dd5b4a8"
      },
      "execution_count": 65,
      "outputs": [
        {
          "output_type": "stream",
          "name": "stdout",
          "text": [
            "[[10 10 10]\n",
            " [20 20 20]\n",
            " [30 30 30]]\n"
          ]
        }
      ]
    },
    {
      "cell_type": "code",
      "source": [
        "np.add(matrix_a, matrix_b)"
      ],
      "metadata": {
        "colab": {
          "base_uri": "https://localhost:8080/"
        },
        "id": "US5DPrrHdWY3",
        "outputId": "b5e57791-d50c-40e6-baa6-4a24cbad55d7"
      },
      "execution_count": 66,
      "outputs": [
        {
          "output_type": "execute_result",
          "data": {
            "text/plain": [
              "array([[11, 12, 13],\n",
              "       [23, 24, 25],\n",
              "       [36, 37, 38]])"
            ]
          },
          "metadata": {},
          "execution_count": 66
        }
      ]
    },
    {
      "cell_type": "code",
      "source": [
        "np.subtract(matrix_a, matrix_b)"
      ],
      "metadata": {
        "colab": {
          "base_uri": "https://localhost:8080/"
        },
        "id": "EMgvczb8dbDR",
        "outputId": "dd9c24d2-977d-47ff-88aa-baa7e661a478"
      },
      "execution_count": 68,
      "outputs": [
        {
          "output_type": "execute_result",
          "data": {
            "text/plain": [
              "array([[ -9,  -8,  -7],\n",
              "       [-17, -16, -15],\n",
              "       [-24, -23, -22]])"
            ]
          },
          "metadata": {},
          "execution_count": 68
        }
      ]
    },
    {
      "cell_type": "code",
      "source": [
        "matrix_a + matrix_b"
      ],
      "metadata": {
        "colab": {
          "base_uri": "https://localhost:8080/"
        },
        "id": "GfYYy5JQdktJ",
        "outputId": "c7d995ee-0664-4629-bafb-b5c4ca692b19"
      },
      "execution_count": 69,
      "outputs": [
        {
          "output_type": "execute_result",
          "data": {
            "text/plain": [
              "array([[11, 12, 13],\n",
              "       [23, 24, 25],\n",
              "       [36, 37, 38]])"
            ]
          },
          "metadata": {},
          "execution_count": 69
        }
      ]
    },
    {
      "cell_type": "code",
      "source": [
        "matrix_b - matrix_a"
      ],
      "metadata": {
        "colab": {
          "base_uri": "https://localhost:8080/"
        },
        "id": "Uh1FC8P5dnyi",
        "outputId": "3f7840cd-d92e-4e35-c030-90b124c49da2"
      },
      "execution_count": 70,
      "outputs": [
        {
          "output_type": "execute_result",
          "data": {
            "text/plain": [
              "array([[ 9,  8,  7],\n",
              "       [17, 16, 15],\n",
              "       [24, 23, 22]])"
            ]
          },
          "metadata": {},
          "execution_count": 70
        }
      ]
    },
    {
      "cell_type": "code",
      "source": [
        "matrix_a * matrix_b"
      ],
      "metadata": {
        "colab": {
          "base_uri": "https://localhost:8080/"
        },
        "id": "WWp_yrIFdqZI",
        "outputId": "f7a30b2e-8f9e-47f9-8784-70fb7d41c881"
      },
      "execution_count": 71,
      "outputs": [
        {
          "output_type": "execute_result",
          "data": {
            "text/plain": [
              "array([[ 10,  20,  30],\n",
              "       [ 60,  80, 100],\n",
              "       [180, 210, 240]])"
            ]
          },
          "metadata": {},
          "execution_count": 71
        }
      ]
    },
    {
      "cell_type": "code",
      "source": [
        "matrix_a * 2"
      ],
      "metadata": {
        "colab": {
          "base_uri": "https://localhost:8080/"
        },
        "id": "pxz4-Nq9dtah",
        "outputId": "6c9677c9-4d77-4f5c-8f7c-218c4ec500d0"
      },
      "execution_count": 72,
      "outputs": [
        {
          "output_type": "execute_result",
          "data": {
            "text/plain": [
              "array([[ 2,  4,  6],\n",
              "       [ 6,  8, 10],\n",
              "       [12, 14, 16]])"
            ]
          },
          "metadata": {},
          "execution_count": 72
        }
      ]
    },
    {
      "cell_type": "code",
      "source": [
        "matrix_a * np.array([10, 20, 30])"
      ],
      "metadata": {
        "colab": {
          "base_uri": "https://localhost:8080/"
        },
        "id": "ONLTwYrXdwCJ",
        "outputId": "d379e3bf-5474-44fe-aed3-2fcc84537916"
      },
      "execution_count": 73,
      "outputs": [
        {
          "output_type": "execute_result",
          "data": {
            "text/plain": [
              "array([[ 10,  40,  90],\n",
              "       [ 30,  80, 150],\n",
              "       [ 60, 140, 240]])"
            ]
          },
          "metadata": {},
          "execution_count": 73
        }
      ]
    },
    {
      "cell_type": "code",
      "source": [
        "# transpozycja macierzy\n",
        "matrix_a.T\n",
        "# Jeśli w macierzy \"i\" to wiersza a \"j\" to kolumny, to element ma indeks X_(i, j),\n",
        "# Odwrócenie macierzy polega na zamianie \"i\" oraz \"j\" miejscami\n",
        "# Transpozycja zachowuje przekątną"
      ],
      "metadata": {
        "colab": {
          "base_uri": "https://localhost:8080/"
        },
        "id": "D3SZaJ7Ad_wW",
        "outputId": "8798f4a9-40c7-4432-bb2b-d75ada4510f9"
      },
      "execution_count": 74,
      "outputs": [
        {
          "output_type": "execute_result",
          "data": {
            "text/plain": [
              "array([[1, 3, 6],\n",
              "       [2, 4, 7],\n",
              "       [3, 5, 8]])"
            ]
          },
          "metadata": {},
          "execution_count": 74
        }
      ]
    },
    {
      "cell_type": "code",
      "source": [
        "np.identity(4)"
      ],
      "metadata": {
        "colab": {
          "base_uri": "https://localhost:8080/"
        },
        "id": "l5Q6hcEef-21",
        "outputId": "ef6823e4-8369-45e8-d62c-f8472b9c1d06"
      },
      "execution_count": 76,
      "outputs": [
        {
          "output_type": "execute_result",
          "data": {
            "text/plain": [
              "array([[1., 0., 0., 0.],\n",
              "       [0., 1., 0., 0.],\n",
              "       [0., 0., 1., 0.],\n",
              "       [0., 0., 0., 1.]])"
            ]
          },
          "metadata": {},
          "execution_count": 76
        }
      ]
    },
    {
      "cell_type": "code",
      "source": [
        "# Zadanie 3.\n",
        "# Stwórz macierz 3x3 (używając reshape) z wartościami od 2 do 10.\n",
        "\n",
        "zadanie3 = np.arange(2, 11, 1)\n",
        "zadanie3 = zadanie3.reshape(3, 3)\n",
        "print(zadanie3)"
      ],
      "metadata": {
        "colab": {
          "base_uri": "https://localhost:8080/"
        },
        "id": "bzwyb1DjgDw_",
        "outputId": "ecf3af33-4a41-40da-c298-bd9a1fc2658e"
      },
      "execution_count": 83,
      "outputs": [
        {
          "output_type": "stream",
          "name": "stdout",
          "text": [
            "[[ 2  3  4]\n",
            " [ 5  6  7]\n",
            " [ 8  9 10]]\n"
          ]
        }
      ]
    },
    {
      "cell_type": "code",
      "source": [
        "# Zadanie 4.\n",
        "# Stwórz tablicę z sześcioma losowymi wartościami z przedziału od 10 do 30.\n",
        "\n",
        "zadanie4 = np.random.randint(10, 30, size=6)\n",
        "zadanie4 = zadanie4.reshape(2, 3)\n",
        "print(zadanie4)"
      ],
      "metadata": {
        "colab": {
          "base_uri": "https://localhost:8080/"
        },
        "id": "9XTtSAmZhVU0",
        "outputId": "6e7ddc2f-9745-4ecf-9865-edae0fbcd03f"
      },
      "execution_count": 88,
      "outputs": [
        {
          "output_type": "stream",
          "name": "stdout",
          "text": [
            "[[27 16 23]\n",
            " [20 17 24]]\n"
          ]
        }
      ]
    },
    {
      "cell_type": "code",
      "source": [
        "# Zadanie 5.\n",
        "# Spośród tablicy wartości: [23, 45, 112, 150, 43, 254, 95, 8] wyfiltruj te,\n",
        "# które są większe od 100\n",
        "\n",
        "zadanie5 = np.array([23, 45, 112, 150, 43, 254, 95, 8])\n",
        "zadanie5[np.where(zadanie5 > 100)]\n"
      ],
      "metadata": {
        "colab": {
          "base_uri": "https://localhost:8080/"
        },
        "id": "SNXOYAAKiXYV",
        "outputId": "a7be76da-a2cd-472e-b8ea-bfceb2d993ac"
      },
      "execution_count": 99,
      "outputs": [
        {
          "output_type": "execute_result",
          "data": {
            "text/plain": [
              "array([112, 150, 254])"
            ]
          },
          "metadata": {},
          "execution_count": 99
        }
      ]
    },
    {
      "cell_type": "code",
      "source": [
        "# Zadanie 6.\n",
        "# Stwórz poniższą macierz 4x4, a następnie:\n",
        "# (a) wyświetl element z drugiego wiersza i trzeciej kolumny,\n",
        "# (b) oblicz jej ślad (sumę elementów na głównej przekątnej), \n",
        "# (c) znajdź element największy i najmniejszy.\n",
        "\n",
        "matrix6 = np.array([\n",
        "    [1, 15, 4, 13],\n",
        "    [8, 21, 3, 12],\n",
        "    [11, 13, 11, 5],\n",
        "    [32, 13, 0, 2]\n",
        "])\n",
        "\n",
        "print(f\"2 wiersz i 3 kolumnama to: {matrix6[1, 2]}\")\n",
        "print(f\"Ślad macierzy = {matrix6.diagonal().sum()}\")\n",
        "print(f\"Min = {matrix6.min()}\")\n",
        "print(f\"Max = {matrix6.max()}\")\n"
      ],
      "metadata": {
        "colab": {
          "base_uri": "https://localhost:8080/"
        },
        "id": "9mioAxpVjQhm",
        "outputId": "6706b3e5-8b0d-4218-b583-72fb23382d1c"
      },
      "execution_count": 107,
      "outputs": [
        {
          "output_type": "stream",
          "name": "stdout",
          "text": [
            "2 wiersz i 3 kolumnama to: 3\n",
            "Ślad macierzy = 35\n",
            "Min = 0\n",
            "Max = 32\n"
          ]
        }
      ]
    }
  ]
}