{
 "cells": [
  {
   "cell_type": "markdown",
   "id": "d562559d",
   "metadata": {},
   "source": [
    "Plan działania:\n",
    "1. Powótrka, wstęp do klasyfikacji,\n",
    "2. Miary oceny modelu,\n",
    "3. Regresja logistyczna,\n",
    "    * grid search\n",
    "    * walidacja krzyżowa\n",
    "4. KNN i SVM\n",
    "    * wizualizacja wyników\n",
    "5. Naiwny klasyfikator Bayesa\n",
    "    * normalizacja / standaryzacja\n",
    "    * dyskretyzacja\n",
    "6. Drzewa decyzyjne\n",
    "    * zamknięcie wszystkiego w jedną funkcję\n",
    "7. Zespoły klasyfikatorów,\n",
    "8. Podsumowanie, krótki test\n",
    "9. Bonus"
   ]
  },
  {
   "cell_type": "code",
   "execution_count": null,
   "id": "e610dbfe",
   "metadata": {},
   "outputs": [],
   "source": []
  }
 ],
 "metadata": {
  "kernelspec": {
   "display_name": "Python 3 (ipykernel)",
   "language": "python",
   "name": "python3"
  },
  "language_info": {
   "codemirror_mode": {
    "name": "ipython",
    "version": 3
   },
   "file_extension": ".py",
   "mimetype": "text/x-python",
   "name": "python",
   "nbconvert_exporter": "python",
   "pygments_lexer": "ipython3",
   "version": "3.10.10"
  }
 },
 "nbformat": 4,
 "nbformat_minor": 5
}
