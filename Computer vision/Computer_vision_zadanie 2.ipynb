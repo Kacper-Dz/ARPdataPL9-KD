{
 "cells": [
  {
   "cell_type": "markdown",
   "id": "dff4e3f5",
   "metadata": {},
   "source": [
    "Zadanie 2. Przestrzenie barw.\n",
    "1. Wczytać kolorowy obraz - 'ML-datasets/images/gory_lc.png'.\n",
    "2. Wyświetlić osobno każdą warstwę - R, G, B.\n",
    "3. Zamienić obraz na skalę szarości przy wykorzystaniu wbudowanej metody (GRAY).\n",
    "4. Zamienić obraz na RGB (z BGR) przy wykorzystaniu wbudowanej metody.\n",
    "5. Zamienić obraz na przestrzeń barw HSV. Wyświetlić każdą warstwę osobno. Spróbować zobaczyć różnice z RGB.\n",
    "6. *Wyświetlić tylko zielone fragmenty zdjęcia.\n",
    "7:30\n",
    "https://docs.opencv.org/3.4/d8/d01/group__imgproc__color__conversions.html#ga4e0972be5de079fed4e3a10e24ef5ef0\n",
    "7:30\n",
    "https://docs.opencv.org/3.4/df/d9d/tutorial_py_colorspaces.html"
   ]
  },
  {
   "cell_type": "code",
   "execution_count": 1,
   "id": "3ca3f6e3",
   "metadata": {},
   "outputs": [],
   "source": [
    "import numpy as np\n",
    "import cv2\n",
    "import matplotlib.pyplot as plt"
   ]
  },
  {
   "cell_type": "code",
   "execution_count": 2,
   "id": "bd9db72b",
   "metadata": {},
   "outputs": [],
   "source": [
    "def cv2_imshow(img): # Funkcja dla jupytera\n",
    "    img = cv2.cvtColor(img, cv2.COLOR_BGR2RGB)\n",
    "    plt.imshow(img)\n",
    "    plt.show()"
   ]
  },
  {
   "cell_type": "code",
   "execution_count": null,
   "id": "accf4711",
   "metadata": {},
   "outputs": [],
   "source": []
  }
 ],
 "metadata": {
  "kernelspec": {
   "display_name": "Python 3 (ipykernel)",
   "language": "python",
   "name": "python3"
  },
  "language_info": {
   "codemirror_mode": {
    "name": "ipython",
    "version": 3
   },
   "file_extension": ".py",
   "mimetype": "text/x-python",
   "name": "python",
   "nbconvert_exporter": "python",
   "pygments_lexer": "ipython3",
   "version": "3.10.10"
  }
 },
 "nbformat": 4,
 "nbformat_minor": 5
}
