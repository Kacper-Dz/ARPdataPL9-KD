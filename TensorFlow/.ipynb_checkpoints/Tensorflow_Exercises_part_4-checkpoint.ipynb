{
 "cells": [
  {
   "cell_type": "markdown",
   "metadata": {
    "id": "skP3AJxrCU_T"
   },
   "source": [
    "# Tensorflow - Models training process - Fourth Exercise (25 minutes)\n",
    "@author Tomasz Skrzypczyk"
   ]
  },
  {
   "cell_type": "markdown",
   "metadata": {
    "id": "THgKUdbTDGNo"
   },
   "source": [
    "# Data import"
   ]
  },
  {
   "cell_type": "code",
   "execution_count": 1,
   "metadata": {
    "id": "f8IzBDPVCLcW"
   },
   "outputs": [],
   "source": [
    "# do not modify this cell\n",
    "import tensorflow as tf\n",
    "import numpy as np\n",
    "import pandas as pd\n",
    "from sklearn.datasets import load_iris\n",
    "from sklearn.model_selection import train_test_split\n",
    "from sklearn.preprocessing import StandardScaler\n",
    "\n",
    "data = load_iris()\n",
    "columns = data.feature_names\n",
    "\n",
    "X = data.data\n",
    "y = data.target\n",
    "\n",
    "\n",
    "X_train, X_test, y_train, y_test = train_test_split(X, y,test_size= 0.1)\n",
    "X_train, X_val, y_train, y_val = train_test_split(X_train, y_train,test_size=0.1)\n",
    "\n",
    "scaler = StandardScaler()\n",
    "X_train = scaler.fit_transform(X_train)\n",
    "X_val = scaler.transform(X_val)\n",
    "X_test = scaler.transform(X_test)"
   ]
  },
  {
   "cell_type": "markdown",
   "metadata": {
    "id": "xN4Z33qcDIy9"
   },
   "source": [
    "# Model definition"
   ]
  },
  {
   "cell_type": "code",
   "execution_count": 2,
   "metadata": {
    "id": "AUHyamxLDL1z"
   },
   "outputs": [],
   "source": [
    "# do not modify this cell\n",
    "model = tf.keras.Sequential([tf.keras.layers.Dense(3, input_shape=(4,))])"
   ]
  },
  {
   "cell_type": "markdown",
   "metadata": {
    "id": "Gks49ln5DmbX"
   },
   "source": [
    "# Model compiling"
   ]
  },
  {
   "cell_type": "markdown",
   "metadata": {
    "id": "pzpbMJzkFYOp"
   },
   "source": [
    "What you have to do first is to **compile** your model. This is different than what you are used to using sklearn or even using other DeepLearning libraries.\n",
    "\n",
    "\n",
    "The training procedure is as follows:\n",
    "* define your model\n",
    "* compile it\n",
    "* train using fit method\n",
    "\n",
    "\n",
    "```\n",
    "compile(\n",
    "    optimizer='rmsprop',\n",
    "    loss=None,\n",
    "    metrics=None,\n",
    "    loss_weights=None,\n",
    "    weighted_metrics=None,\n",
    "    run_eagerly=None,\n",
    "    steps_per_execution=None,\n",
    "    jit_compile=None,\n",
    "    **kwargs\n",
    ")\n",
    "```\n",
    "\n",
    "At this step you should at least pass the *loss* parameter. The loss function of your model. This could be 'mse' in case of a regression model or 'categorical_crossentropy' in case of the classification.\n",
    "\n",
    "What you want to pass next is the *optimizer*. Setting the optimizer to 'adam' or using the default 'rmsprop' are frequent choices. You will learn about different optimizers later on.\n",
    "\n",
    "The last important parameter to define are the *metrics*. You should always pass a list of metric's objects or strings. Ex. `metrics=[\"accuracy\"]` or `metrics = [\"mae\"]`.\n",
    "\n",
    "\n",
    "\n"
   ]
  },
  {
   "cell_type": "code",
   "execution_count": 3,
   "metadata": {
    "id": "z8WuhzrgHZbw"
   },
   "outputs": [],
   "source": [
    "# compile your model, remember that this is a classification model\n",
    "# define the 'adam' optimizer, use accuracy as a metric and set the loss to 'sparse_categorical_crossentropy'\n",
    "\n",
    "model.compile(optimizer='adam', loss='sparse_categorical_crossentropy', metrics=['accuracy'])\n"
   ]
  },
  {
   "cell_type": "markdown",
   "metadata": {
    "id": "YIx6_FaIDoyr"
   },
   "source": [
    "# Model training"
   ]
  },
  {
   "cell_type": "markdown",
   "metadata": {
    "id": "vynJum51JOqF"
   },
   "source": [
    "fit method\n",
    "\n",
    "```\n",
    "fit(\n",
    "    x=None,\n",
    "    y=None,\n",
    "    batch_size=None,\n",
    "    epochs=1,\n",
    "    verbose='auto',\n",
    "    callbacks=None,\n",
    "    validation_split=0.0,\n",
    "    validation_data=None,\n",
    "    shuffle=True,\n",
    "    class_weight=None,\n",
    "    sample_weight=None,\n",
    "    initial_epoch=0,\n",
    "    steps_per_epoch=None,\n",
    "    validation_steps=None,\n",
    "    validation_batch_size=None,\n",
    "    validation_freq=1,\n",
    "    max_queue_size=10,\n",
    "    workers=1,\n",
    "    use_multiprocessing=False\n",
    ")\n",
    "\n",
    "```\n",
    "\n",
    "You really don't need to care about all the parameters!!\n",
    "\n",
    "Tip: pass your validation data as a tuple (X,y) !!!"
   ]
  },
  {
   "cell_type": "code",
   "execution_count": 8,
   "metadata": {
    "colab": {
     "base_uri": "https://localhost:8080/"
    },
    "id": "LobE2l29IDhA",
    "outputId": "9fc3f25c-013a-4f37-9c25-df75d0c8ccd8"
   },
   "outputs": [
    {
     "name": "stdout",
     "output_type": "stream",
     "text": [
      "Epoch 1/100\n",
      "4/4 [==============================] - 0s 25ms/step - loss: 2.3111 - accuracy: 0.3636 - val_loss: 1.9791 - val_accuracy: 0.4286\n",
      "Epoch 2/100\n",
      "4/4 [==============================] - 0s 15ms/step - loss: 2.3080 - accuracy: 0.3636 - val_loss: 1.9767 - val_accuracy: 0.4286\n",
      "Epoch 3/100\n",
      "4/4 [==============================] - 0s 13ms/step - loss: 2.3047 - accuracy: 0.3636 - val_loss: 1.9744 - val_accuracy: 0.4286\n",
      "Epoch 4/100\n",
      "4/4 [==============================] - 0s 15ms/step - loss: 2.3019 - accuracy: 0.3636 - val_loss: 1.9720 - val_accuracy: 0.4286\n",
      "Epoch 5/100\n",
      "4/4 [==============================] - 0s 13ms/step - loss: 2.2983 - accuracy: 0.3636 - val_loss: 1.9695 - val_accuracy: 0.3571\n",
      "Epoch 6/100\n",
      "4/4 [==============================] - 0s 13ms/step - loss: 2.2948 - accuracy: 0.3636 - val_loss: 1.9671 - val_accuracy: 0.3571\n",
      "Epoch 7/100\n",
      "4/4 [==============================] - 0s 12ms/step - loss: 2.2918 - accuracy: 0.3636 - val_loss: 1.9644 - val_accuracy: 0.2857\n",
      "Epoch 8/100\n",
      "4/4 [==============================] - 0s 16ms/step - loss: 2.2875 - accuracy: 0.3636 - val_loss: 1.9618 - val_accuracy: 0.2857\n",
      "Epoch 9/100\n",
      "4/4 [==============================] - 0s 15ms/step - loss: 2.2840 - accuracy: 0.3636 - val_loss: 1.9590 - val_accuracy: 0.2857\n",
      "Epoch 10/100\n",
      "4/4 [==============================] - 0s 15ms/step - loss: 2.2179 - accuracy: 0.3636 - val_loss: 1.9563 - val_accuracy: 0.2857\n",
      "Epoch 11/100\n",
      "4/4 [==============================] - 0s 14ms/step - loss: 2.1765 - accuracy: 0.3636 - val_loss: 1.9535 - val_accuracy: 0.2857\n",
      "Epoch 12/100\n",
      "4/4 [==============================] - 0s 13ms/step - loss: 2.1646 - accuracy: 0.3636 - val_loss: 1.9508 - val_accuracy: 0.2857\n",
      "Epoch 13/100\n",
      "4/4 [==============================] - 0s 14ms/step - loss: 2.1497 - accuracy: 0.3636 - val_loss: 1.9479 - val_accuracy: 0.2857\n",
      "Epoch 14/100\n",
      "4/4 [==============================] - 0s 15ms/step - loss: 2.1425 - accuracy: 0.3636 - val_loss: 1.9450 - val_accuracy: 0.2857\n",
      "Epoch 15/100\n",
      "4/4 [==============================] - 0s 14ms/step - loss: 2.1375 - accuracy: 0.3636 - val_loss: 1.3596 - val_accuracy: 0.2857\n",
      "Epoch 16/100\n",
      "4/4 [==============================] - 0s 13ms/step - loss: 2.1330 - accuracy: 0.3636 - val_loss: 1.2385 - val_accuracy: 0.2857\n",
      "Epoch 17/100\n",
      "4/4 [==============================] - 0s 18ms/step - loss: 2.1277 - accuracy: 0.3636 - val_loss: 1.2035 - val_accuracy: 0.2857\n",
      "Epoch 18/100\n",
      "4/4 [==============================] - 0s 15ms/step - loss: 2.1229 - accuracy: 0.3719 - val_loss: 1.1837 - val_accuracy: 0.2857\n",
      "Epoch 19/100\n",
      "4/4 [==============================] - 0s 12ms/step - loss: 2.1182 - accuracy: 0.3802 - val_loss: 1.1691 - val_accuracy: 0.2857\n",
      "Epoch 20/100\n",
      "4/4 [==============================] - 0s 16ms/step - loss: 2.1132 - accuracy: 0.3802 - val_loss: 1.1578 - val_accuracy: 0.2857\n",
      "Epoch 21/100\n",
      "4/4 [==============================] - 0s 16ms/step - loss: 2.1079 - accuracy: 0.3884 - val_loss: 1.1482 - val_accuracy: 0.2857\n",
      "Epoch 22/100\n",
      "4/4 [==============================] - 0s 15ms/step - loss: 2.1028 - accuracy: 0.3884 - val_loss: 1.1399 - val_accuracy: 0.2857\n",
      "Epoch 23/100\n",
      "4/4 [==============================] - 0s 17ms/step - loss: 2.0964 - accuracy: 0.3884 - val_loss: 1.1318 - val_accuracy: 0.2857\n",
      "Epoch 24/100\n",
      "4/4 [==============================] - 0s 15ms/step - loss: 2.0899 - accuracy: 0.3802 - val_loss: 1.1246 - val_accuracy: 0.2857\n",
      "Epoch 25/100\n",
      "4/4 [==============================] - 0s 12ms/step - loss: 2.0832 - accuracy: 0.3802 - val_loss: 1.1171 - val_accuracy: 0.2857\n",
      "Epoch 26/100\n",
      "4/4 [==============================] - 0s 15ms/step - loss: 2.0727 - accuracy: 0.3802 - val_loss: 1.1098 - val_accuracy: 0.2857\n",
      "Epoch 27/100\n",
      "4/4 [==============================] - 0s 13ms/step - loss: 2.0646 - accuracy: 0.3884 - val_loss: 1.1020 - val_accuracy: 0.2857\n",
      "Epoch 28/100\n",
      "4/4 [==============================] - 0s 13ms/step - loss: 1.9647 - accuracy: 0.3802 - val_loss: 1.0942 - val_accuracy: 0.2857\n",
      "Epoch 29/100\n",
      "4/4 [==============================] - 0s 16ms/step - loss: 1.8778 - accuracy: 0.3636 - val_loss: 1.0871 - val_accuracy: 0.2857\n",
      "Epoch 30/100\n",
      "4/4 [==============================] - 0s 14ms/step - loss: 1.8736 - accuracy: 0.3554 - val_loss: 1.0801 - val_accuracy: 0.2857\n",
      "Epoch 31/100\n",
      "4/4 [==============================] - 0s 15ms/step - loss: 1.8687 - accuracy: 0.3554 - val_loss: 1.0729 - val_accuracy: 0.2857\n",
      "Epoch 32/100\n",
      "4/4 [==============================] - 0s 15ms/step - loss: 1.8632 - accuracy: 0.3554 - val_loss: 1.0661 - val_accuracy: 0.2857\n",
      "Epoch 33/100\n",
      "4/4 [==============================] - 0s 14ms/step - loss: 1.8578 - accuracy: 0.3554 - val_loss: 1.0595 - val_accuracy: 0.2857\n",
      "Epoch 34/100\n",
      "4/4 [==============================] - 0s 14ms/step - loss: 1.8526 - accuracy: 0.3636 - val_loss: 1.0531 - val_accuracy: 0.2857\n",
      "Epoch 35/100\n",
      "4/4 [==============================] - 0s 16ms/step - loss: 1.8474 - accuracy: 0.3636 - val_loss: 1.0471 - val_accuracy: 0.2857\n",
      "Epoch 36/100\n",
      "4/4 [==============================] - 0s 15ms/step - loss: 1.8419 - accuracy: 0.3636 - val_loss: 1.0413 - val_accuracy: 0.2857\n",
      "Epoch 37/100\n",
      "4/4 [==============================] - 0s 16ms/step - loss: 1.8371 - accuracy: 0.3884 - val_loss: 1.0355 - val_accuracy: 0.2857\n",
      "Epoch 38/100\n",
      "4/4 [==============================] - 0s 15ms/step - loss: 1.8319 - accuracy: 0.3884 - val_loss: 1.0301 - val_accuracy: 0.2857\n",
      "Epoch 39/100\n",
      "4/4 [==============================] - 0s 15ms/step - loss: 1.8283 - accuracy: 0.3802 - val_loss: 1.0244 - val_accuracy: 0.2857\n",
      "Epoch 40/100\n",
      "4/4 [==============================] - 0s 14ms/step - loss: 1.8231 - accuracy: 0.3884 - val_loss: 1.0187 - val_accuracy: 0.2857\n",
      "Epoch 41/100\n",
      "4/4 [==============================] - 0s 14ms/step - loss: 1.8184 - accuracy: 0.3967 - val_loss: 1.0129 - val_accuracy: 0.3571\n",
      "Epoch 42/100\n",
      "4/4 [==============================] - 0s 13ms/step - loss: 1.8135 - accuracy: 0.3967 - val_loss: 1.0069 - val_accuracy: 0.3571\n",
      "Epoch 43/100\n",
      "4/4 [==============================] - 0s 15ms/step - loss: 1.8082 - accuracy: 0.4050 - val_loss: 1.0019 - val_accuracy: 0.3571\n",
      "Epoch 44/100\n",
      "4/4 [==============================] - 0s 17ms/step - loss: 1.8025 - accuracy: 0.4050 - val_loss: 0.9969 - val_accuracy: 0.3571\n",
      "Epoch 45/100\n",
      "4/4 [==============================] - 0s 21ms/step - loss: 1.7971 - accuracy: 0.4050 - val_loss: 0.9914 - val_accuracy: 0.3571\n",
      "Epoch 46/100\n",
      "4/4 [==============================] - 0s 15ms/step - loss: 1.7900 - accuracy: 0.4050 - val_loss: 0.9860 - val_accuracy: 0.3571\n",
      "Epoch 47/100\n",
      "4/4 [==============================] - 0s 14ms/step - loss: 1.7826 - accuracy: 0.4132 - val_loss: 0.9806 - val_accuracy: 0.3571\n",
      "Epoch 48/100\n",
      "4/4 [==============================] - 0s 13ms/step - loss: 1.7737 - accuracy: 0.4215 - val_loss: 0.9755 - val_accuracy: 0.3571\n",
      "Epoch 49/100\n",
      "4/4 [==============================] - 0s 15ms/step - loss: 1.7669 - accuracy: 0.4298 - val_loss: 0.9697 - val_accuracy: 0.3571\n",
      "Epoch 50/100\n",
      "4/4 [==============================] - 0s 14ms/step - loss: 1.7589 - accuracy: 0.4298 - val_loss: 0.9642 - val_accuracy: 0.3571\n",
      "Epoch 51/100\n",
      "4/4 [==============================] - 0s 14ms/step - loss: 1.7515 - accuracy: 0.4215 - val_loss: 0.9579 - val_accuracy: 0.3571\n",
      "Epoch 52/100\n",
      "4/4 [==============================] - 0s 14ms/step - loss: 1.7416 - accuracy: 0.4132 - val_loss: 0.9537 - val_accuracy: 0.3571\n",
      "Epoch 53/100\n",
      "4/4 [==============================] - 0s 17ms/step - loss: 1.7366 - accuracy: 0.4050 - val_loss: 0.9491 - val_accuracy: 0.3571\n",
      "Epoch 54/100\n",
      "4/4 [==============================] - 0s 14ms/step - loss: 1.7186 - accuracy: 0.3884 - val_loss: 0.9432 - val_accuracy: 0.3571\n",
      "Epoch 55/100\n",
      "4/4 [==============================] - 0s 13ms/step - loss: 1.6089 - accuracy: 0.4050 - val_loss: 0.9376 - val_accuracy: 0.4286\n",
      "Epoch 56/100\n",
      "4/4 [==============================] - 0s 12ms/step - loss: 1.5242 - accuracy: 0.4132 - val_loss: 0.9328 - val_accuracy: 0.4286\n",
      "Epoch 57/100\n",
      "4/4 [==============================] - 0s 12ms/step - loss: 1.5124 - accuracy: 0.4215 - val_loss: 0.9290 - val_accuracy: 0.4286\n",
      "Epoch 58/100\n",
      "4/4 [==============================] - 0s 14ms/step - loss: 1.4780 - accuracy: 0.4132 - val_loss: 0.9253 - val_accuracy: 0.4286\n",
      "Epoch 59/100\n",
      "4/4 [==============================] - 0s 12ms/step - loss: 1.4104 - accuracy: 0.4050 - val_loss: 0.9225 - val_accuracy: 0.4286\n",
      "Epoch 60/100\n",
      "4/4 [==============================] - 0s 13ms/step - loss: 1.3933 - accuracy: 0.4050 - val_loss: 0.9204 - val_accuracy: 0.4286\n",
      "Epoch 61/100\n",
      "4/4 [==============================] - 0s 16ms/step - loss: 1.3040 - accuracy: 0.3884 - val_loss: 0.9189 - val_accuracy: 0.4286\n",
      "Epoch 62/100\n",
      "4/4 [==============================] - 0s 13ms/step - loss: 1.2937 - accuracy: 0.3884 - val_loss: 0.9179 - val_accuracy: 0.4286\n",
      "Epoch 63/100\n",
      "4/4 [==============================] - 0s 13ms/step - loss: 1.2063 - accuracy: 0.3967 - val_loss: 0.9173 - val_accuracy: 0.4286\n",
      "Epoch 64/100\n",
      "4/4 [==============================] - 0s 14ms/step - loss: 1.2008 - accuracy: 0.3967 - val_loss: 0.9168 - val_accuracy: 0.4286\n",
      "Epoch 65/100\n",
      "4/4 [==============================] - 0s 13ms/step - loss: 1.1904 - accuracy: 0.3967 - val_loss: 0.9164 - val_accuracy: 0.4286\n",
      "Epoch 66/100\n",
      "4/4 [==============================] - 0s 15ms/step - loss: 1.1116 - accuracy: 0.3967 - val_loss: 0.9160 - val_accuracy: 0.4286\n",
      "Epoch 67/100\n",
      "4/4 [==============================] - 0s 22ms/step - loss: 1.1111 - accuracy: 0.3967 - val_loss: 0.9158 - val_accuracy: 0.4286\n",
      "Epoch 68/100\n",
      "4/4 [==============================] - 0s 14ms/step - loss: 1.1104 - accuracy: 0.3884 - val_loss: 0.9156 - val_accuracy: 0.4286\n",
      "Epoch 69/100\n",
      "4/4 [==============================] - 0s 14ms/step - loss: 1.1096 - accuracy: 0.3967 - val_loss: 0.9151 - val_accuracy: 0.4286\n",
      "Epoch 70/100\n",
      "4/4 [==============================] - 0s 14ms/step - loss: 1.1093 - accuracy: 0.3967 - val_loss: 0.9148 - val_accuracy: 0.4286\n",
      "Epoch 71/100\n",
      "4/4 [==============================] - 0s 14ms/step - loss: 1.1086 - accuracy: 0.3967 - val_loss: 0.9144 - val_accuracy: 0.4286\n",
      "Epoch 72/100\n",
      "4/4 [==============================] - 0s 14ms/step - loss: 1.1081 - accuracy: 0.3967 - val_loss: 0.9140 - val_accuracy: 0.4286\n",
      "Epoch 73/100\n",
      "4/4 [==============================] - 0s 14ms/step - loss: 1.1076 - accuracy: 0.3967 - val_loss: 0.9135 - val_accuracy: 0.4286\n",
      "Epoch 74/100\n",
      "4/4 [==============================] - 0s 15ms/step - loss: 1.1070 - accuracy: 0.3967 - val_loss: 0.9132 - val_accuracy: 0.4286\n",
      "Epoch 75/100\n",
      "4/4 [==============================] - 0s 15ms/step - loss: 1.1065 - accuracy: 0.3967 - val_loss: 0.9128 - val_accuracy: 0.4286\n",
      "Epoch 76/100\n",
      "4/4 [==============================] - 0s 14ms/step - loss: 1.1060 - accuracy: 0.3967 - val_loss: 0.9124 - val_accuracy: 0.4286\n",
      "Epoch 77/100\n",
      "4/4 [==============================] - 0s 13ms/step - loss: 1.1055 - accuracy: 0.3967 - val_loss: 0.9120 - val_accuracy: 0.4286\n",
      "Epoch 78/100\n",
      "4/4 [==============================] - 0s 14ms/step - loss: 1.1049 - accuracy: 0.3967 - val_loss: 0.9116 - val_accuracy: 0.4286\n",
      "Epoch 79/100\n",
      "4/4 [==============================] - 0s 13ms/step - loss: 1.1044 - accuracy: 0.3967 - val_loss: 0.9111 - val_accuracy: 0.4286\n",
      "Epoch 80/100\n",
      "4/4 [==============================] - 0s 13ms/step - loss: 1.1039 - accuracy: 0.3967 - val_loss: 0.9105 - val_accuracy: 0.4286\n",
      "Epoch 81/100\n",
      "4/4 [==============================] - 0s 15ms/step - loss: 1.1034 - accuracy: 0.4050 - val_loss: 0.9101 - val_accuracy: 0.4286\n",
      "Epoch 82/100\n",
      "4/4 [==============================] - 0s 15ms/step - loss: 1.1029 - accuracy: 0.4050 - val_loss: 0.9097 - val_accuracy: 0.4286\n",
      "Epoch 83/100\n",
      "4/4 [==============================] - 0s 16ms/step - loss: 1.1024 - accuracy: 0.4050 - val_loss: 0.9094 - val_accuracy: 0.4286\n",
      "Epoch 84/100\n",
      "4/4 [==============================] - 0s 16ms/step - loss: 1.1020 - accuracy: 0.4050 - val_loss: 0.9090 - val_accuracy: 0.4286\n",
      "Epoch 85/100\n",
      "4/4 [==============================] - 0s 15ms/step - loss: 1.1015 - accuracy: 0.4050 - val_loss: 0.9086 - val_accuracy: 0.4286\n",
      "Epoch 86/100\n",
      "4/4 [==============================] - 0s 16ms/step - loss: 1.1010 - accuracy: 0.4050 - val_loss: 0.9082 - val_accuracy: 0.4286\n",
      "Epoch 87/100\n",
      "4/4 [==============================] - 0s 14ms/step - loss: 1.1005 - accuracy: 0.4050 - val_loss: 0.9078 - val_accuracy: 0.4286\n",
      "Epoch 88/100\n",
      "4/4 [==============================] - 0s 14ms/step - loss: 1.1000 - accuracy: 0.4050 - val_loss: 0.9076 - val_accuracy: 0.4286\n",
      "Epoch 89/100\n",
      "4/4 [==============================] - 0s 15ms/step - loss: 1.0996 - accuracy: 0.4050 - val_loss: 0.9074 - val_accuracy: 0.4286\n",
      "Epoch 90/100\n",
      "4/4 [==============================] - 0s 15ms/step - loss: 1.0991 - accuracy: 0.4050 - val_loss: 0.9070 - val_accuracy: 0.4286\n",
      "Epoch 91/100\n",
      "4/4 [==============================] - 0s 17ms/step - loss: 1.0986 - accuracy: 0.4050 - val_loss: 0.9067 - val_accuracy: 0.4286\n",
      "Epoch 92/100\n",
      "4/4 [==============================] - 0s 14ms/step - loss: 1.0981 - accuracy: 0.4050 - val_loss: 0.9063 - val_accuracy: 0.4286\n",
      "Epoch 93/100\n",
      "4/4 [==============================] - 0s 14ms/step - loss: 1.0976 - accuracy: 0.4050 - val_loss: 0.9061 - val_accuracy: 0.4286\n",
      "Epoch 94/100\n",
      "4/4 [==============================] - 0s 14ms/step - loss: 1.0971 - accuracy: 0.4050 - val_loss: 0.9058 - val_accuracy: 0.4286\n",
      "Epoch 95/100\n",
      "4/4 [==============================] - 0s 13ms/step - loss: 1.0966 - accuracy: 0.4050 - val_loss: 0.9055 - val_accuracy: 0.4286\n",
      "Epoch 96/100\n",
      "4/4 [==============================] - 0s 15ms/step - loss: 1.0960 - accuracy: 0.4050 - val_loss: 0.9053 - val_accuracy: 0.4286\n",
      "Epoch 97/100\n",
      "4/4 [==============================] - 0s 16ms/step - loss: 1.0957 - accuracy: 0.4050 - val_loss: 0.9052 - val_accuracy: 0.4286\n",
      "Epoch 98/100\n",
      "4/4 [==============================] - 0s 14ms/step - loss: 1.0951 - accuracy: 0.4050 - val_loss: 0.9049 - val_accuracy: 0.4286\n",
      "Epoch 99/100\n",
      "4/4 [==============================] - 0s 14ms/step - loss: 1.0946 - accuracy: 0.4050 - val_loss: 0.9047 - val_accuracy: 0.4286\n",
      "Epoch 100/100\n",
      "4/4 [==============================] - 0s 14ms/step - loss: 1.0940 - accuracy: 0.4050 - val_loss: 0.9046 - val_accuracy: 0.4286\n"
     ]
    }
   ],
   "source": [
    "# run you training, pass the training data, training labels, validation data, set batch size to 32 and epochs to 100\n",
    "\n",
    "history = model.fit(X_train, y_train, validation_data=(X_val, y_val), validation_freq=1, epochs=100, batch_size=32)"
   ]
  },
  {
   "cell_type": "code",
   "execution_count": 9,
   "metadata": {
    "colab": {
     "base_uri": "https://localhost:8080/",
     "height": 282
    },
    "id": "Cj9mpQrTI12G",
    "outputId": "0f07a3cd-aae5-43c7-a1f7-0a3ca063c6aa"
   },
   "outputs": [
    {
     "data": {
      "image/png": "[encoded data removed]",
      "text/plain": [
       "<Figure size 800x500 with 1 Axes>"
      ]
     },
     "metadata": {},
     "output_type": "display_data"
    }
   ],
   "source": [
    "# if you create a dataframe using the history.history object you can easily plot the learning curves by using the plot method.\n",
    "# Try it out\n",
    "import matplotlib.pyplot as plt\n",
    "\n",
    "df_history = pd.DataFrame(history.history)\n",
    "df_history.plot(figsize=(8, 5))\n",
    "plt.xlabel('Epochs')\n",
    "plt.ylabel('Metrics')\n",
    "plt.title('Learning Curves')\n",
    "plt.legend()\n",
    "plt.show()\n",
    "\n",
    "# if you are not sure how to do it see the tutorial:\n",
    "# https://machinelearningmastery.com/display-deep-learning-model-training-history-in-keras/"
   ]
  },
  {
   "cell_type": "markdown",
   "metadata": {
    "id": "woWBeQ2QDq0W"
   },
   "source": [
    "# Model usage"
   ]
  },
  {
   "cell_type": "markdown",
   "metadata": {
    "id": "6esCRXKyJ2U6"
   },
   "source": [
    "If you want to make predictions an the test set, simplu use the predict method.\n",
    "\n",
    "\n",
    "\n",
    "```\n",
    "predict(\n",
    "    x,\n",
    "    batch_size=None,\n",
    "    verbose='auto',\n",
    "    steps=None,\n",
    "    callbacks=None,\n",
    "    max_queue_size=10,\n",
    "    workers=1,\n",
    "    use_multiprocessing=False\n",
    ")\n",
    "```\n",
    "\n",
    "The only argument you should care about is the x - your data\n"
   ]
  },
  {
   "cell_type": "code",
   "execution_count": 12,
   "metadata": {
    "colab": {
     "base_uri": "https://localhost:8080/"
    },
    "id": "Y5yGp7jHKIRX",
    "outputId": "429909bf-86e4-41dd-e6ed-00d6dbfda17e"
   },
   "outputs": [
    {
     "name": "stdout",
     "output_type": "stream",
     "text": [
      "1/1 [==============================] - 0s 32ms/step\n"
     ]
    },
    {
     "data": {
      "text/plain": [
       "array([[-0.04252133,  0.2117816 ,  0.35597914],\n",
       "       [-0.63019234, -0.76867974, -1.1699548 ],\n",
       "       [-0.45294565, -0.35680488, -0.72017837],\n",
       "       [-0.20895413,  0.450522  ,  0.31564403],\n",
       "       [-0.28219742,  0.20848435,  0.03291407],\n",
       "       [-0.2772033 , -0.3651888 , -0.34942734],\n",
       "       [-0.18698439,  1.1996757 ,  0.85431135],\n",
       "       [-0.27490646,  0.6736951 ,  0.35210365],\n",
       "       [-0.6007513 , -0.80570173, -1.1613365 ],\n",
       "       [-0.60313797, -0.21169513, -0.78372294],\n",
       "       [-0.22931123, -0.14603266, -0.14887834],\n",
       "       [-0.5466424 ,  0.30826768, -0.38887274],\n",
       "       [-0.6272451 , -0.58001155, -1.0625755 ],\n",
       "       [-0.5473157 , -1.0563848 , -1.2618943 ],\n",
       "       [-0.28862962,  1.2633411 ,  0.80033576]], dtype=float32)"
      ]
     },
     "execution_count": 12,
     "metadata": {},
     "output_type": "execute_result"
    }
   ],
   "source": [
    "# make predictions on the test set\n",
    "\n",
    "predictions = model.predict(X_test)\n",
    "predictions #logits"
   ]
  },
  {
   "cell_type": "markdown",
   "metadata": {
    "id": "JzADOL-FDt50"
   },
   "source": [
    "# Model evaluation"
   ]
  },
  {
   "cell_type": "markdown",
   "metadata": {
    "id": "XTyQt3RWNPiM"
   },
   "source": [
    "To evaluate your model, use the evaluate method. It will print the loss function value first and the metrics you passed to the model while compiling it.\n",
    "\n",
    "\n",
    "```\n",
    "evaluate(\n",
    "    x=None,\n",
    "    y=None,\n",
    "    batch_size=None,\n",
    "    verbose='auto',\n",
    "    sample_weight=None,\n",
    "    steps=None,\n",
    "    callbacks=None,\n",
    "    max_queue_size=10,\n",
    "    workers=1,\n",
    "    use_multiprocessing=False,\n",
    "    return_dict=False,\n",
    "    **kwargs\n",
    ")\n",
    "```\n",
    "\n",
    "Again, the only parameters you need to pass, and really care baout, are x and y\n",
    "\n",
    "\n",
    "\n",
    "\n"
   ]
  },
  {
   "cell_type": "code",
   "execution_count": 11,
   "metadata": {
    "colab": {
     "base_uri": "https://localhost:8080/"
    },
    "id": "_ydHWzeNC-6s",
    "outputId": "fce895f1-22b6-44b9-b183-d8fec0244fe3"
   },
   "outputs": [
    {
     "name": "stdout",
     "output_type": "stream",
     "text": [
      "1/1 [==============================] - 0s 31ms/step - loss: 1.8158 - accuracy: 0.4667\n"
     ]
    }
   ],
   "source": [
    "# evaluate your model using the test set\n",
    "\n",
    "evaluation = model.evaluate(X_test, y_test)"
   ]
  },
  {
   "cell_type": "code",
   "execution_count": null,
   "metadata": {},
   "outputs": [],
   "source": []
  }
 ],
 "metadata": {
  "colab": {
   "provenance": []
  },
  "kernelspec": {
   "display_name": "Python 3 (ipykernel)",
   "language": "python",
   "name": "python3"
  },
  "language_info": {
   "codemirror_mode": {
    "name": "ipython",
    "version": 3
   },
   "file_extension": ".py",
   "mimetype": "text/x-python",
   "name": "python",
   "nbconvert_exporter": "python",
   "pygments_lexer": "ipython3",
   "version": "3.10.10"
  }
 },
 "nbformat": 4,
 "nbformat_minor": 1
}
