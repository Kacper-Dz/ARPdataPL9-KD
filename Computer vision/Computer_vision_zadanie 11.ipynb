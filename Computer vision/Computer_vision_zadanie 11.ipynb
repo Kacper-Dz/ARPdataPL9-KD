{
 "cells": [
  {
   "cell_type": "markdown",
   "id": "8b7e1d44",
   "metadata": {},
   "source": [
    "Zadanie 11. Augmentacje.\n",
    "Zmodyfikuj klasę generatora, żeby korzystała z innych augmentacji (dowolnych). Sprawdź, jak to wpływa na wyniki działania sieci.\n",
    "Sugestia: spróbuj dać \"za mocne\" augmentacje, które uniemożliwiają zobaczenie, co jest na zdjęciu - jak to wpływa na wyniki?\n",
    "https://github.com/aleju/imgaug#example-images"
   ]
  },
  {
   "cell_type": "code",
   "execution_count": null,
   "id": "b224b7ff",
   "metadata": {},
   "outputs": [],
   "source": []
  }
 ],
 "metadata": {
  "kernelspec": {
   "display_name": "Python 3 (ipykernel)",
   "language": "python",
   "name": "python3"
  },
  "language_info": {
   "codemirror_mode": {
    "name": "ipython",
    "version": 3
   },
   "file_extension": ".py",
   "mimetype": "text/x-python",
   "name": "python",
   "nbconvert_exporter": "python",
   "pygments_lexer": "ipython3",
   "version": "3.10.10"
  }
 },
 "nbformat": 4,
 "nbformat_minor": 5
}
