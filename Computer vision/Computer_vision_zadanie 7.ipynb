{
 "cells": [
  {
   "cell_type": "markdown",
   "id": "740d4c94",
   "metadata": {},
   "source": [
    "Zadanie 7. Sieci konwolucyjne w TF.\n",
    "https://upload.wikimedia.org/wikipedia/commons/thumb/c/cc/Comparison_image_neural_networks.svg/1024px-Comparison_image_neural_networks.svg.png\n",
    "1. Napisz architekturę sieci AlexNet (link, sieć po prawej na obrazku) w TF. (Można pominąć Dropout)."
   ]
  },
  {
   "cell_type": "code",
   "execution_count": null,
   "id": "526936a2",
   "metadata": {},
   "outputs": [],
   "source": []
  }
 ],
 "metadata": {
  "kernelspec": {
   "display_name": "Python 3 (ipykernel)",
   "language": "python",
   "name": "python3"
  },
  "language_info": {
   "codemirror_mode": {
    "name": "ipython",
    "version": 3
   },
   "file_extension": ".py",
   "mimetype": "text/x-python",
   "name": "python",
   "nbconvert_exporter": "python",
   "pygments_lexer": "ipython3",
   "version": "3.10.10"
  }
 },
 "nbformat": 4,
 "nbformat_minor": 5
}
