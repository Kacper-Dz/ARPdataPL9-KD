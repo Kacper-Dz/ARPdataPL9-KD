{
 "cells": [
  {
   "cell_type": "code",
   "execution_count": 23,
   "id": "049730d1",
   "metadata": {},
   "outputs": [],
   "source": [
    "import tensorflow as tf"
   ]
  },
  {
   "cell_type": "code",
   "execution_count": 24,
   "id": "a869a31a",
   "metadata": {},
   "outputs": [],
   "source": [
    "corpus = [\n",
    "    \"Ala ma kota. Wybierają się na wakacje.\",\n",
    "    \"Bartosz ma psa. Jego pies nazywa się Kubuś. Kubus dobrze aportuje\",\n",
    "    \"Stanisław lubi spędzać wakacje nad morzem. Stanisław ma psa Reksia\"\n",
    "]"
   ]
  },
  {
   "cell_type": "code",
   "execution_count": 25,
   "id": "4d1aff92",
   "metadata": {},
   "outputs": [],
   "source": [
    "corpus = [\n",
    "    t.replace(',','').replace('.','') for t in corpus\n",
    "]"
   ]
  },
  {
   "cell_type": "code",
   "execution_count": 26,
   "id": "2c6c855f",
   "metadata": {},
   "outputs": [
    {
     "data": {
      "text/plain": [
       "['Ala ma kota Wybierają się na wakacje',\n",
       " 'Bartosz ma psa Jego pies nazywa się Kubuś Kubus dobrze aportuje',\n",
       " 'Stanisław lubi spędzać wakacje nad morzem Stanisław ma psa Reksia']"
      ]
     },
     "execution_count": 26,
     "metadata": {},
     "output_type": "execute_result"
    }
   ],
   "source": [
    "corpus"
   ]
  },
  {
   "cell_type": "code",
   "execution_count": 27,
   "id": "f266a52d",
   "metadata": {},
   "outputs": [],
   "source": [
    "corpus = [\n",
    "    t.lower() for t in corpus\n",
    "]"
   ]
  },
  {
   "cell_type": "code",
   "execution_count": 28,
   "id": "7c1bfb65",
   "metadata": {},
   "outputs": [
    {
     "data": {
      "text/plain": [
       "['ala ma kota wybierają się na wakacje',\n",
       " 'bartosz ma psa jego pies nazywa się kubuś kubus dobrze aportuje',\n",
       " 'stanisław lubi spędzać wakacje nad morzem stanisław ma psa reksia']"
      ]
     },
     "execution_count": 28,
     "metadata": {},
     "output_type": "execute_result"
    }
   ],
   "source": [
    "corpus"
   ]
  },
  {
   "cell_type": "code",
   "execution_count": 29,
   "id": "17c8a8a9",
   "metadata": {},
   "outputs": [],
   "source": [
    "corpus_splitted = []\n",
    "for text in corpus:\n",
    "    word_list = text.split(' ')\n",
    "    corpus_splitted.append(word_list)"
   ]
  },
  {
   "cell_type": "code",
   "execution_count": 30,
   "id": "ec6f1905",
   "metadata": {},
   "outputs": [
    {
     "data": {
      "text/plain": [
       "3"
      ]
     },
     "execution_count": 30,
     "metadata": {},
     "output_type": "execute_result"
    }
   ],
   "source": [
    "len(corpus_splitted)"
   ]
  },
  {
   "cell_type": "code",
   "execution_count": 31,
   "id": "5add9635",
   "metadata": {},
   "outputs": [],
   "source": [
    "corpus = corpus_splitted"
   ]
  },
  {
   "cell_type": "code",
   "execution_count": 32,
   "id": "39bdcb2b",
   "metadata": {
    "scrolled": true
   },
   "outputs": [
    {
     "data": {
      "text/plain": [
       "[['ala', 'ma', 'kota', 'wybierają', 'się', 'na', 'wakacje'],\n",
       " ['bartosz',\n",
       "  'ma',\n",
       "  'psa',\n",
       "  'jego',\n",
       "  'pies',\n",
       "  'nazywa',\n",
       "  'się',\n",
       "  'kubuś',\n",
       "  'kubus',\n",
       "  'dobrze',\n",
       "  'aportuje'],\n",
       " ['stanisław',\n",
       "  'lubi',\n",
       "  'spędzać',\n",
       "  'wakacje',\n",
       "  'nad',\n",
       "  'morzem',\n",
       "  'stanisław',\n",
       "  'ma',\n",
       "  'psa',\n",
       "  'reksia']]"
      ]
     },
     "execution_count": 32,
     "metadata": {},
     "output_type": "execute_result"
    }
   ],
   "source": [
    "corpus"
   ]
  },
  {
   "cell_type": "code",
   "execution_count": 33,
   "id": "e8b20cfc",
   "metadata": {},
   "outputs": [],
   "source": [
    "list_of_all_words = []"
   ]
  },
  {
   "cell_type": "code",
   "execution_count": 34,
   "id": "10a94be7",
   "metadata": {},
   "outputs": [],
   "source": [
    "from itertools import chain"
   ]
  },
  {
   "cell_type": "code",
   "execution_count": 35,
   "id": "1879a042",
   "metadata": {},
   "outputs": [
    {
     "data": {
      "text/plain": [
       "['ala',\n",
       " 'ma',\n",
       " 'kota',\n",
       " 'wybierają',\n",
       " 'się',\n",
       " 'na',\n",
       " 'wakacje',\n",
       " 'bartosz',\n",
       " 'ma',\n",
       " 'psa',\n",
       " 'jego',\n",
       " 'pies',\n",
       " 'nazywa',\n",
       " 'się',\n",
       " 'kubuś',\n",
       " 'kubus',\n",
       " 'dobrze',\n",
       " 'aportuje',\n",
       " 'stanisław',\n",
       " 'lubi',\n",
       " 'spędzać',\n",
       " 'wakacje',\n",
       " 'nad',\n",
       " 'morzem',\n",
       " 'stanisław',\n",
       " 'ma',\n",
       " 'psa',\n",
       " 'reksia']"
      ]
     },
     "execution_count": 35,
     "metadata": {},
     "output_type": "execute_result"
    }
   ],
   "source": [
    "list(chain(*corpus))"
   ]
  },
  {
   "cell_type": "code",
   "execution_count": 36,
   "id": "3d519c55",
   "metadata": {},
   "outputs": [],
   "source": [
    "list_of_all_words = []\n",
    "for word_list in corpus:\n",
    "    list_of_all_words += word_list"
   ]
  },
  {
   "cell_type": "code",
   "execution_count": 37,
   "id": "bb68101f",
   "metadata": {},
   "outputs": [],
   "source": [
    "list_of_all_words = list(set(list_of_all_words))"
   ]
  },
  {
   "cell_type": "code",
   "execution_count": 38,
   "id": "58e68eba",
   "metadata": {},
   "outputs": [
    {
     "data": {
      "text/plain": [
       "['jego',\n",
       " 'ma',\n",
       " 'psa',\n",
       " 'reksia',\n",
       " 'stanisław',\n",
       " 'morzem',\n",
       " 'spędzać',\n",
       " 'pies',\n",
       " 'kubus',\n",
       " 'ala',\n",
       " 'kota',\n",
       " 'nad',\n",
       " 'nazywa',\n",
       " 'wakacje',\n",
       " 'aportuje',\n",
       " 'na',\n",
       " 'bartosz',\n",
       " 'lubi',\n",
       " 'kubuś',\n",
       " 'dobrze',\n",
       " 'się',\n",
       " 'wybierają']"
      ]
     },
     "execution_count": 38,
     "metadata": {},
     "output_type": "execute_result"
    }
   ],
   "source": [
    "list_of_all_words"
   ]
  },
  {
   "cell_type": "code",
   "execution_count": 41,
   "id": "cf5b3d93",
   "metadata": {},
   "outputs": [],
   "source": [
    "from typing import List"
   ]
  },
  {
   "cell_type": "code",
   "execution_count": 42,
   "id": "b4a270fe",
   "metadata": {},
   "outputs": [],
   "source": [
    "def num_occurances(word, text: List[str]):\n",
    "    n = 0\n",
    "    for w2 in text:\n",
    "        if w2 == word:\n",
    "            n += 1\n",
    "    return n"
   ]
  },
  {
   "cell_type": "code",
   "execution_count": 44,
   "id": "a8400cd2",
   "metadata": {},
   "outputs": [],
   "source": [
    "def bag_of_words_vectorizer(text, list_of_all_words):\n",
    "    vector = [0]*len(list_of_all_words)\n",
    "    for i, word in enumerate(list_of_all_words):\n",
    "        n = num_occurances(word, text)\n",
    "        vector[i] = n\n",
    "    return vector"
   ]
  },
  {
   "cell_type": "code",
   "execution_count": 53,
   "id": "c5112c97",
   "metadata": {},
   "outputs": [],
   "source": [
    "vector = bag_of_words_vectorizer(corpus[2], list_of_all_words)"
   ]
  },
  {
   "cell_type": "code",
   "execution_count": 54,
   "id": "34968ef6",
   "metadata": {},
   "outputs": [
    {
     "data": {
      "text/plain": [
       "[0, 1, 1, 1, 2, 1, 1, 0, 0, 0, 0, 1, 0, 1, 0, 0, 0, 1, 0, 0, 0, 0]"
      ]
     },
     "execution_count": 54,
     "metadata": {},
     "output_type": "execute_result"
    }
   ],
   "source": [
    "vector"
   ]
  },
  {
   "cell_type": "code",
   "execution_count": 62,
   "id": "d3a64148",
   "metadata": {},
   "outputs": [
    {
     "name": "stdout",
     "output_type": "stream",
     "text": [
      "1 ma\n",
      "1 psa\n",
      "1 reksia\n",
      "2 stanisław\n",
      "1 morzem\n",
      "1 spędzać\n",
      "1 nad\n",
      "1 wakacje\n",
      "1 lubi\n"
     ]
    }
   ],
   "source": [
    "for word, count in zip(list_of_all_words, vector):\n",
    "    if count > 0:\n",
    "        print(count, word)"
   ]
  },
  {
   "cell_type": "code",
   "execution_count": 63,
   "id": "48b9de77",
   "metadata": {},
   "outputs": [
    {
     "data": {
      "text/plain": [
       "['stanisław',\n",
       " 'lubi',\n",
       " 'spędzać',\n",
       " 'wakacje',\n",
       " 'nad',\n",
       " 'morzem',\n",
       " 'stanisław',\n",
       " 'ma',\n",
       " 'psa',\n",
       " 'reksia']"
      ]
     },
     "execution_count": 63,
     "metadata": {},
     "output_type": "execute_result"
    }
   ],
   "source": [
    "corpus [2]"
   ]
  },
  {
   "cell_type": "code",
   "execution_count": 64,
   "id": "60e70a4a",
   "metadata": {},
   "outputs": [],
   "source": [
    "def tf_vectorizer(text, list_of_all_words):\n",
    "    vector = bag_of_words_vectorizer(text, list_of_all_words)\n",
    "    num_words = len(text)\n",
    "    tf_vector = [n/num_words for n in vector]\n",
    "    return tf_vector"
   ]
  },
  {
   "cell_type": "code",
   "execution_count": 65,
   "id": "e2509e0f",
   "metadata": {},
   "outputs": [],
   "source": [
    "tf_vector = tf_vectorizer(corpus[2], list_of_all_words)"
   ]
  },
  {
   "cell_type": "code",
   "execution_count": 66,
   "id": "bb0f4163",
   "metadata": {},
   "outputs": [
    {
     "data": {
      "text/plain": [
       "[0.0,\n",
       " 0.1,\n",
       " 0.1,\n",
       " 0.1,\n",
       " 0.2,\n",
       " 0.1,\n",
       " 0.1,\n",
       " 0.0,\n",
       " 0.0,\n",
       " 0.0,\n",
       " 0.0,\n",
       " 0.1,\n",
       " 0.0,\n",
       " 0.1,\n",
       " 0.0,\n",
       " 0.0,\n",
       " 0.0,\n",
       " 0.1,\n",
       " 0.0,\n",
       " 0.0,\n",
       " 0.0,\n",
       " 0.0]"
      ]
     },
     "execution_count": 66,
     "metadata": {},
     "output_type": "execute_result"
    }
   ],
   "source": [
    "tf_vector"
   ]
  },
  {
   "cell_type": "code",
   "execution_count": 67,
   "id": "5263c07f",
   "metadata": {},
   "outputs": [
    {
     "data": {
      "text/plain": [
       "10"
      ]
     },
     "execution_count": 67,
     "metadata": {},
     "output_type": "execute_result"
    }
   ],
   "source": [
    "len(corpus[2])"
   ]
  },
  {
   "cell_type": "code",
   "execution_count": null,
   "id": "29b87fb0",
   "metadata": {},
   "outputs": [],
   "source": []
  }
 ],
 "metadata": {
  "kernelspec": {
   "display_name": "Python 3 (ipykernel)",
   "language": "python",
   "name": "python3"
  },
  "language_info": {
   "codemirror_mode": {
    "name": "ipython",
    "version": 3
   },
   "file_extension": ".py",
   "mimetype": "text/x-python",
   "name": "python",
   "nbconvert_exporter": "python",
   "pygments_lexer": "ipython3",
   "version": "3.10.10"
  }
 },
 "nbformat": 4,
 "nbformat_minor": 5
}
