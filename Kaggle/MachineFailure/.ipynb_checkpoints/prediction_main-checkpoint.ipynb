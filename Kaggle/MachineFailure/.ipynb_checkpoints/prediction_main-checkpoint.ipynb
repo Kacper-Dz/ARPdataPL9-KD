{
 "cells": [
  {
   "cell_type": "code",
   "execution_count": 1,
   "id": "060ee02a",
   "metadata": {},
   "outputs": [],
   "source": [
    "import ssl\n",
    "\n",
    "ssl._create_default_https_context = ssl._create_unverified_context\n",
    "\n",
    "import pandas as pd\n",
    "import numpy as np\n",
    "import matplotlib.pyplot as plt\n",
    "import seaborn as sns\n",
    "from sklearn.tree import plot_tree\n",
    "\n",
    "from sklearn.model_selection import train_test_split\n",
    "# Regression\n",
    "from sklearn.ensemble import RandomForestRegressor\n",
    "from sklearn.neighbors import KNeighborsRegressor\n",
    "from sklearn.neural_network import MLPRegressor\n",
    "from sklearn.metrics import mean_absolute_error, r2_score, mean_squared_error\n",
    "# Clasification\n",
    "from sklearn.ensemble import RandomForestClassifier\n",
    "from sklearn.metrics import f1_score, precision_score, accuracy_score\n",
    "# Best_searches\n",
    "from sklearn.model_selection import GridSearchCV\n",
    "from sklearn.model_selection import RandomizedSearchCV\n",
    "# Standarization\n",
    "from sklearn.preprocessing import StandardScaler\n",
    "\n",
    "from keras import models\n",
    "from keras.layers import Dense"
   ]
  },
  {
   "cell_type": "code",
   "execution_count": 2,
   "id": "f240293a",
   "metadata": {
    "scrolled": true
   },
   "outputs": [],
   "source": [
    "df_train = pd.read_csv('https://raw.githubusercontent.com/Mateusz-Matejko/kaggle/main/projects/competition-clasification-binary-of-machine-failures/data/train.csv', encoding='utf8')\n",
    "df_test = pd.read_csv('https://raw.githubusercontent.com/Mateusz-Matejko/kaggle/main/projects/competition-clasification-binary-of-machine-failures/data/test.csv', encoding='utf8')\n",
    "df_final = pd.read_csv('https://raw.githubusercontent.com/Mateusz-Matejko/kaggle/main/projects/competition-clasification-binary-of-machine-failures/data/sample_submission.csv', encoding='utf8')"
   ]
  },
  {
   "cell_type": "code",
   "execution_count": 3,
   "id": "ec4b4fc0",
   "metadata": {},
   "outputs": [
    {
     "data": {
      "text/html": [
       "<div>\n",
       "<style scoped>\n",
       "    .dataframe tbody tr th:only-of-type {\n",
       "        vertical-align: middle;\n",
       "    }\n",
       "\n",
       "    .dataframe tbody tr th {\n",
       "        vertical-align: top;\n",
       "    }\n",
       "\n",
       "    .dataframe thead th {\n",
       "        text-align: right;\n",
       "    }\n",
       "</style>\n",
       "<table border=\"1\" class=\"dataframe\">\n",
       "  <thead>\n",
       "    <tr style=\"text-align: right;\">\n",
       "      <th></th>\n",
       "      <th>id</th>\n",
       "      <th>Air temperature [K]</th>\n",
       "      <th>Process temperature [K]</th>\n",
       "      <th>Rotational speed [rpm]</th>\n",
       "      <th>Torque [Nm]</th>\n",
       "      <th>Tool wear [min]</th>\n",
       "      <th>Machine failure</th>\n",
       "      <th>TWF</th>\n",
       "      <th>HDF</th>\n",
       "      <th>PWF</th>\n",
       "      <th>OSF</th>\n",
       "      <th>RNF</th>\n",
       "    </tr>\n",
       "  </thead>\n",
       "  <tbody>\n",
       "    <tr>\n",
       "      <th>count</th>\n",
       "      <td>136429.000000</td>\n",
       "      <td>136429.000000</td>\n",
       "      <td>136429.000000</td>\n",
       "      <td>136429.000000</td>\n",
       "      <td>136429.000000</td>\n",
       "      <td>136429.000000</td>\n",
       "      <td>136429.000000</td>\n",
       "      <td>136429.000000</td>\n",
       "      <td>136429.000000</td>\n",
       "      <td>136429.000000</td>\n",
       "      <td>136429.000000</td>\n",
       "      <td>136429.000000</td>\n",
       "    </tr>\n",
       "    <tr>\n",
       "      <th>mean</th>\n",
       "      <td>68214.000000</td>\n",
       "      <td>299.862776</td>\n",
       "      <td>309.941070</td>\n",
       "      <td>1520.331110</td>\n",
       "      <td>40.348643</td>\n",
       "      <td>104.408901</td>\n",
       "      <td>0.015744</td>\n",
       "      <td>0.001554</td>\n",
       "      <td>0.005160</td>\n",
       "      <td>0.002397</td>\n",
       "      <td>0.003958</td>\n",
       "      <td>0.002258</td>\n",
       "    </tr>\n",
       "    <tr>\n",
       "      <th>std</th>\n",
       "      <td>39383.804275</td>\n",
       "      <td>1.862247</td>\n",
       "      <td>1.385173</td>\n",
       "      <td>138.736632</td>\n",
       "      <td>8.502229</td>\n",
       "      <td>63.965040</td>\n",
       "      <td>0.124486</td>\n",
       "      <td>0.039389</td>\n",
       "      <td>0.071649</td>\n",
       "      <td>0.048899</td>\n",
       "      <td>0.062789</td>\n",
       "      <td>0.047461</td>\n",
       "    </tr>\n",
       "    <tr>\n",
       "      <th>min</th>\n",
       "      <td>0.000000</td>\n",
       "      <td>295.300000</td>\n",
       "      <td>305.800000</td>\n",
       "      <td>1181.000000</td>\n",
       "      <td>3.800000</td>\n",
       "      <td>0.000000</td>\n",
       "      <td>0.000000</td>\n",
       "      <td>0.000000</td>\n",
       "      <td>0.000000</td>\n",
       "      <td>0.000000</td>\n",
       "      <td>0.000000</td>\n",
       "      <td>0.000000</td>\n",
       "    </tr>\n",
       "    <tr>\n",
       "      <th>25%</th>\n",
       "      <td>34107.000000</td>\n",
       "      <td>298.300000</td>\n",
       "      <td>308.700000</td>\n",
       "      <td>1432.000000</td>\n",
       "      <td>34.600000</td>\n",
       "      <td>48.000000</td>\n",
       "      <td>0.000000</td>\n",
       "      <td>0.000000</td>\n",
       "      <td>0.000000</td>\n",
       "      <td>0.000000</td>\n",
       "      <td>0.000000</td>\n",
       "      <td>0.000000</td>\n",
       "    </tr>\n",
       "    <tr>\n",
       "      <th>50%</th>\n",
       "      <td>68214.000000</td>\n",
       "      <td>300.000000</td>\n",
       "      <td>310.000000</td>\n",
       "      <td>1493.000000</td>\n",
       "      <td>40.400000</td>\n",
       "      <td>106.000000</td>\n",
       "      <td>0.000000</td>\n",
       "      <td>0.000000</td>\n",
       "      <td>0.000000</td>\n",
       "      <td>0.000000</td>\n",
       "      <td>0.000000</td>\n",
       "      <td>0.000000</td>\n",
       "    </tr>\n",
       "    <tr>\n",
       "      <th>75%</th>\n",
       "      <td>102321.000000</td>\n",
       "      <td>301.200000</td>\n",
       "      <td>310.900000</td>\n",
       "      <td>1580.000000</td>\n",
       "      <td>46.100000</td>\n",
       "      <td>159.000000</td>\n",
       "      <td>0.000000</td>\n",
       "      <td>0.000000</td>\n",
       "      <td>0.000000</td>\n",
       "      <td>0.000000</td>\n",
       "      <td>0.000000</td>\n",
       "      <td>0.000000</td>\n",
       "    </tr>\n",
       "    <tr>\n",
       "      <th>max</th>\n",
       "      <td>136428.000000</td>\n",
       "      <td>304.400000</td>\n",
       "      <td>313.800000</td>\n",
       "      <td>2886.000000</td>\n",
       "      <td>76.600000</td>\n",
       "      <td>253.000000</td>\n",
       "      <td>1.000000</td>\n",
       "      <td>1.000000</td>\n",
       "      <td>1.000000</td>\n",
       "      <td>1.000000</td>\n",
       "      <td>1.000000</td>\n",
       "      <td>1.000000</td>\n",
       "    </tr>\n",
       "  </tbody>\n",
       "</table>\n",
       "</div>"
      ],
      "text/plain": [
       "                  id  Air temperature [K]  Process temperature [K]  \\\n",
       "count  136429.000000        136429.000000            136429.000000   \n",
       "mean    68214.000000           299.862776               309.941070   \n",
       "std     39383.804275             1.862247                 1.385173   \n",
       "min         0.000000           295.300000               305.800000   \n",
       "25%     34107.000000           298.300000               308.700000   \n",
       "50%     68214.000000           300.000000               310.000000   \n",
       "75%    102321.000000           301.200000               310.900000   \n",
       "max    136428.000000           304.400000               313.800000   \n",
       "\n",
       "       Rotational speed [rpm]    Torque [Nm]  Tool wear [min]  \\\n",
       "count           136429.000000  136429.000000    136429.000000   \n",
       "mean              1520.331110      40.348643       104.408901   \n",
       "std                138.736632       8.502229        63.965040   \n",
       "min               1181.000000       3.800000         0.000000   \n",
       "25%               1432.000000      34.600000        48.000000   \n",
       "50%               1493.000000      40.400000       106.000000   \n",
       "75%               1580.000000      46.100000       159.000000   \n",
       "max               2886.000000      76.600000       253.000000   \n",
       "\n",
       "       Machine failure            TWF            HDF            PWF  \\\n",
       "count    136429.000000  136429.000000  136429.000000  136429.000000   \n",
       "mean          0.015744       0.001554       0.005160       0.002397   \n",
       "std           0.124486       0.039389       0.071649       0.048899   \n",
       "min           0.000000       0.000000       0.000000       0.000000   \n",
       "25%           0.000000       0.000000       0.000000       0.000000   \n",
       "50%           0.000000       0.000000       0.000000       0.000000   \n",
       "75%           0.000000       0.000000       0.000000       0.000000   \n",
       "max           1.000000       1.000000       1.000000       1.000000   \n",
       "\n",
       "                 OSF            RNF  \n",
       "count  136429.000000  136429.000000  \n",
       "mean        0.003958       0.002258  \n",
       "std         0.062789       0.047461  \n",
       "min         0.000000       0.000000  \n",
       "25%         0.000000       0.000000  \n",
       "50%         0.000000       0.000000  \n",
       "75%         0.000000       0.000000  \n",
       "max         1.000000       1.000000  "
      ]
     },
     "execution_count": 3,
     "metadata": {},
     "output_type": "execute_result"
    }
   ],
   "source": [
    "df_train.describe()"
   ]
  },
  {
   "cell_type": "code",
   "execution_count": 4,
   "id": "17a34429",
   "metadata": {},
   "outputs": [
    {
     "data": {
      "text/html": [
       "<div>\n",
       "<style scoped>\n",
       "    .dataframe tbody tr th:only-of-type {\n",
       "        vertical-align: middle;\n",
       "    }\n",
       "\n",
       "    .dataframe tbody tr th {\n",
       "        vertical-align: top;\n",
       "    }\n",
       "\n",
       "    .dataframe thead th {\n",
       "        text-align: right;\n",
       "    }\n",
       "</style>\n",
       "<table border=\"1\" class=\"dataframe\">\n",
       "  <thead>\n",
       "    <tr style=\"text-align: right;\">\n",
       "      <th></th>\n",
       "      <th>id</th>\n",
       "      <th>Product ID</th>\n",
       "      <th>Type</th>\n",
       "      <th>Air temperature [K]</th>\n",
       "      <th>Process temperature [K]</th>\n",
       "      <th>Rotational speed [rpm]</th>\n",
       "      <th>Torque [Nm]</th>\n",
       "      <th>Tool wear [min]</th>\n",
       "      <th>TWF</th>\n",
       "      <th>HDF</th>\n",
       "      <th>PWF</th>\n",
       "      <th>OSF</th>\n",
       "      <th>RNF</th>\n",
       "    </tr>\n",
       "  </thead>\n",
       "  <tbody>\n",
       "    <tr>\n",
       "      <th>405</th>\n",
       "      <td>136834</td>\n",
       "      <td>L47380</td>\n",
       "      <td>L</td>\n",
       "      <td>298.4</td>\n",
       "      <td>308.6</td>\n",
       "      <td>2636</td>\n",
       "      <td>12.8</td>\n",
       "      <td>103</td>\n",
       "      <td>0</td>\n",
       "      <td>0</td>\n",
       "      <td>1</td>\n",
       "      <td>0</td>\n",
       "      <td>0</td>\n",
       "    </tr>\n",
       "    <tr>\n",
       "      <th>576</th>\n",
       "      <td>137005</td>\n",
       "      <td>L56355</td>\n",
       "      <td>L</td>\n",
       "      <td>297.9</td>\n",
       "      <td>309.0</td>\n",
       "      <td>1403</td>\n",
       "      <td>64.2</td>\n",
       "      <td>0</td>\n",
       "      <td>0</td>\n",
       "      <td>0</td>\n",
       "      <td>1</td>\n",
       "      <td>0</td>\n",
       "      <td>0</td>\n",
       "    </tr>\n",
       "    <tr>\n",
       "      <th>950</th>\n",
       "      <td>137379</td>\n",
       "      <td>L49935</td>\n",
       "      <td>L</td>\n",
       "      <td>299.7</td>\n",
       "      <td>309.3</td>\n",
       "      <td>1478</td>\n",
       "      <td>38.8</td>\n",
       "      <td>8</td>\n",
       "      <td>0</td>\n",
       "      <td>0</td>\n",
       "      <td>1</td>\n",
       "      <td>0</td>\n",
       "      <td>0</td>\n",
       "    </tr>\n",
       "    <tr>\n",
       "      <th>1570</th>\n",
       "      <td>137999</td>\n",
       "      <td>L55609</td>\n",
       "      <td>L</td>\n",
       "      <td>299.0</td>\n",
       "      <td>310.4</td>\n",
       "      <td>2861</td>\n",
       "      <td>4.6</td>\n",
       "      <td>92</td>\n",
       "      <td>0</td>\n",
       "      <td>0</td>\n",
       "      <td>1</td>\n",
       "      <td>0</td>\n",
       "      <td>0</td>\n",
       "    </tr>\n",
       "    <tr>\n",
       "      <th>2653</th>\n",
       "      <td>139082</td>\n",
       "      <td>L53074</td>\n",
       "      <td>L</td>\n",
       "      <td>301.2</td>\n",
       "      <td>311.0</td>\n",
       "      <td>1267</td>\n",
       "      <td>69.3</td>\n",
       "      <td>164</td>\n",
       "      <td>0</td>\n",
       "      <td>0</td>\n",
       "      <td>1</td>\n",
       "      <td>0</td>\n",
       "      <td>0</td>\n",
       "    </tr>\n",
       "    <tr>\n",
       "      <th>...</th>\n",
       "      <td>...</td>\n",
       "      <td>...</td>\n",
       "      <td>...</td>\n",
       "      <td>...</td>\n",
       "      <td>...</td>\n",
       "      <td>...</td>\n",
       "      <td>...</td>\n",
       "      <td>...</td>\n",
       "      <td>...</td>\n",
       "      <td>...</td>\n",
       "      <td>...</td>\n",
       "      <td>...</td>\n",
       "      <td>...</td>\n",
       "    </tr>\n",
       "    <tr>\n",
       "      <th>86883</th>\n",
       "      <td>223312</td>\n",
       "      <td>M20301</td>\n",
       "      <td>M</td>\n",
       "      <td>303.0</td>\n",
       "      <td>312.6</td>\n",
       "      <td>1363</td>\n",
       "      <td>62.9</td>\n",
       "      <td>119</td>\n",
       "      <td>0</td>\n",
       "      <td>0</td>\n",
       "      <td>1</td>\n",
       "      <td>0</td>\n",
       "      <td>0</td>\n",
       "    </tr>\n",
       "    <tr>\n",
       "      <th>87045</th>\n",
       "      <td>223474</td>\n",
       "      <td>L49512</td>\n",
       "      <td>L</td>\n",
       "      <td>299.2</td>\n",
       "      <td>308.5</td>\n",
       "      <td>2232</td>\n",
       "      <td>15.9</td>\n",
       "      <td>220</td>\n",
       "      <td>0</td>\n",
       "      <td>0</td>\n",
       "      <td>1</td>\n",
       "      <td>0</td>\n",
       "      <td>0</td>\n",
       "    </tr>\n",
       "    <tr>\n",
       "      <th>89247</th>\n",
       "      <td>225676</td>\n",
       "      <td>M18633</td>\n",
       "      <td>M</td>\n",
       "      <td>302.4</td>\n",
       "      <td>311.1</td>\n",
       "      <td>2659</td>\n",
       "      <td>10.8</td>\n",
       "      <td>139</td>\n",
       "      <td>0</td>\n",
       "      <td>0</td>\n",
       "      <td>1</td>\n",
       "      <td>0</td>\n",
       "      <td>0</td>\n",
       "    </tr>\n",
       "    <tr>\n",
       "      <th>90239</th>\n",
       "      <td>226668</td>\n",
       "      <td>L51961</td>\n",
       "      <td>L</td>\n",
       "      <td>303.4</td>\n",
       "      <td>311.7</td>\n",
       "      <td>1374</td>\n",
       "      <td>63.7</td>\n",
       "      <td>121</td>\n",
       "      <td>0</td>\n",
       "      <td>0</td>\n",
       "      <td>1</td>\n",
       "      <td>0</td>\n",
       "      <td>0</td>\n",
       "    </tr>\n",
       "    <tr>\n",
       "      <th>90665</th>\n",
       "      <td>227094</td>\n",
       "      <td>M18884</td>\n",
       "      <td>M</td>\n",
       "      <td>302.1</td>\n",
       "      <td>311.0</td>\n",
       "      <td>1479</td>\n",
       "      <td>60.3</td>\n",
       "      <td>31</td>\n",
       "      <td>0</td>\n",
       "      <td>0</td>\n",
       "      <td>1</td>\n",
       "      <td>0</td>\n",
       "      <td>0</td>\n",
       "    </tr>\n",
       "  </tbody>\n",
       "</table>\n",
       "<p>214 rows × 13 columns</p>\n",
       "</div>"
      ],
      "text/plain": [
       "           id Product ID Type  Air temperature [K]  Process temperature [K]  \\\n",
       "405    136834     L47380    L                298.4                    308.6   \n",
       "576    137005     L56355    L                297.9                    309.0   \n",
       "950    137379     L49935    L                299.7                    309.3   \n",
       "1570   137999     L55609    L                299.0                    310.4   \n",
       "2653   139082     L53074    L                301.2                    311.0   \n",
       "...       ...        ...  ...                  ...                      ...   \n",
       "86883  223312     M20301    M                303.0                    312.6   \n",
       "87045  223474     L49512    L                299.2                    308.5   \n",
       "89247  225676     M18633    M                302.4                    311.1   \n",
       "90239  226668     L51961    L                303.4                    311.7   \n",
       "90665  227094     M18884    M                302.1                    311.0   \n",
       "\n",
       "       Rotational speed [rpm]  Torque [Nm]  Tool wear [min]  TWF  HDF  PWF  \\\n",
       "405                      2636         12.8              103    0    0    1   \n",
       "576                      1403         64.2                0    0    0    1   \n",
       "950                      1478         38.8                8    0    0    1   \n",
       "1570                     2861          4.6               92    0    0    1   \n",
       "2653                     1267         69.3              164    0    0    1   \n",
       "...                       ...          ...              ...  ...  ...  ...   \n",
       "86883                    1363         62.9              119    0    0    1   \n",
       "87045                    2232         15.9              220    0    0    1   \n",
       "89247                    2659         10.8              139    0    0    1   \n",
       "90239                    1374         63.7              121    0    0    1   \n",
       "90665                    1479         60.3               31    0    0    1   \n",
       "\n",
       "       OSF  RNF  \n",
       "405      0    0  \n",
       "576      0    0  \n",
       "950      0    0  \n",
       "1570     0    0  \n",
       "2653     0    0  \n",
       "...    ...  ...  \n",
       "86883    0    0  \n",
       "87045    0    0  \n",
       "89247    0    0  \n",
       "90239    0    0  \n",
       "90665    0    0  \n",
       "\n",
       "[214 rows x 13 columns]"
      ]
     },
     "execution_count": 4,
     "metadata": {},
     "output_type": "execute_result"
    }
   ],
   "source": [
    "df_test[df_test['PWF'] != 0]"
   ]
  },
  {
   "cell_type": "code",
   "execution_count": 5,
   "id": "219f86ad",
   "metadata": {},
   "outputs": [
    {
     "data": {
      "text/plain": [
       "(136429, 14)"
      ]
     },
     "execution_count": 5,
     "metadata": {},
     "output_type": "execute_result"
    }
   ],
   "source": [
    "df_train.shape"
   ]
  },
  {
   "cell_type": "code",
   "execution_count": 6,
   "id": "360c8a6a",
   "metadata": {},
   "outputs": [
    {
     "data": {
      "text/plain": [
       "(2148, 14)"
      ]
     },
     "execution_count": 6,
     "metadata": {},
     "output_type": "execute_result"
    }
   ],
   "source": [
    "df_train[df_train['Machine failure'] != 0].shape"
   ]
  },
  {
   "cell_type": "markdown",
   "id": "e7c795ac",
   "metadata": {},
   "source": [
    "## Opis danych: \n",
    "\n",
    "id - \n",
    "    Wiemy o co chodzi\n",
    "    \n",
    "Podcut ID - \n",
    "    Pomysły: Zmapować konkretny produkt id, jako taki z dużą lub małą szansą na uszkodzenie. \n",
    "    \n",
    "### Zrobione \n",
    "Type - ( H, M, L )(High, Medium, Low) - \n",
    "    Im wyższy tym mniejsza szansa na uszkodzenie i większa tolerancja na długotrwałą pracę\n",
    "\n",
    "\n",
    "Air temparture - temperatura powietrza\n",
    "    zakres: 295 - 304 stopnie, median 300\n",
    "    Różnica między tą temperaturą a temperaturą procesu może wskazywać na przegrzewanie.\n",
    "    \n",
    "### Zrobione\n",
    "<i>Pomysły: Zakodować różnicę między temperaturami.</i>\n",
    "    \n",
    "Process temperature - temperatura pracy\n",
    "    zakres 305 - 314, median 310.\n",
    "    Pomysły: Sprawdzić zależność między awariami a tą temperaturą, DLA WSZYSTKICH TYPU AWARII\n",
    "\n",
    "### Zrobione \n",
    "<i> Note: ZAPYTAĆ KACPRA CZY WARTO SPRAWDZIĆ TO NA WARUNKU + 0.5C </i>\n",
    "<i>Jeżeli Air Temprature będzie równe Process temp lub większe, użądzenie nie będzie się w stanie schłodzić i się nagrzeje.</i> \n",
    "\n",
    "### In progress\n",
    "Rotational speed rpm - prędkość rotacji/obrotu\n",
    "    zakres 1181 - 2886, 996 unikalnych\n",
    "    \n",
    "Torque Nm - Moment obrotowy \n",
    "    Pomysł: użyć wzór, spróbować oszacować błąd. Power (kW) = Torque (N.m) x Speed (RPM) z TWF\n",
    "    Możliwe: powiązanie OSF\n",
    "    \n",
    "Tool wear - Czas sesji użycia narzędzia\n",
    "    Zakres 0 - 253\n",
    "    Pomysł: Im większy tool wear, może powodować awarie\n",
    "    \n",
    "Typy awarii:\n",
    "    TWF - Zużycie\n",
    "    HDF - Przegrzanie\n",
    "    OSF - Przeciążenie mechaniczne\n",
    "    RNF - Losowe\n",
    "    Pomysły: Zobaczyć zależności pomiędzy tymi typami awarii i dokładnie je zbadać.\n",
    "    \n",
    "Zbadać: outliersy dlaczego min czas sesji = 0"
   ]
  },
  {
   "cell_type": "code",
   "execution_count": null,
   "id": "0b870639",
   "metadata": {},
   "outputs": [],
   "source": [
    "df_train.describe(include='all')"
   ]
  },
  {
   "cell_type": "code",
   "execution_count": null,
   "id": "c0e2727c",
   "metadata": {},
   "outputs": [],
   "source": [
    "df_train.isnull().sum().sum()"
   ]
  },
  {
   "cell_type": "markdown",
   "id": "76098c24",
   "metadata": {},
   "source": [
    "### Power (kW) = Torque (N.m) x Speed (RPM)"
   ]
  },
  {
   "cell_type": "markdown",
   "id": "ab17c52a",
   "metadata": {},
   "source": [
    "## Get to know your data"
   ]
  },
  {
   "cell_type": "code",
   "execution_count": null,
   "id": "aaf38990",
   "metadata": {},
   "outputs": [],
   "source": [
    "df_train['Product ID'].unique().shape #(9976,)\n",
    "df_train['Type'].unique() #array(['L', 'M', 'H'], dtype=object)\n",
    "df_train['Air temperature [K]'] #(95,)\n",
    "df_train['Process temperature [K]'].unique().shape #(81,)\n",
    "df_train['Tool wear [min]'].unique().shape #(246,)\n",
    "df_train['Rotational speed [rpm]'].unique().shape #(952,)\n",
    "df_train['Torque [Nm]'].unique().shape #(611,)\n",
    "df_train['Tool wear [min]'].unique().shape #(246,)"
   ]
  },
  {
   "cell_type": "code",
   "execution_count": null,
   "id": "0c751401",
   "metadata": {},
   "outputs": [],
   "source": [
    "# Dataset shape\n",
    "print(df_train.shape, \"\\n\") # (74051, 10)\n",
    "\n",
    "# Find out any Null values\n",
    "df_train.isnull().sum() # 0 null values"
   ]
  },
  {
   "cell_type": "code",
   "execution_count": null,
   "id": "9ab8d2a7",
   "metadata": {},
   "outputs": [],
   "source": [
    "df_train.head()"
   ]
  },
  {
   "cell_type": "code",
   "execution_count": null,
   "id": "49aae750",
   "metadata": {},
   "outputs": [],
   "source": [
    "df_train.groupby('Type')['Machine failure'].mean()"
   ]
  },
  {
   "cell_type": "code",
   "execution_count": null,
   "id": "95461e37",
   "metadata": {},
   "outputs": [],
   "source": [
    "type_dict = {\n",
    "    'H': 0.013000,\n",
    "    'M': 0.013592,\n",
    "    'L': 0.016727\n",
    "}"
   ]
  },
  {
   "cell_type": "markdown",
   "id": "7a1e066c",
   "metadata": {},
   "source": [
    "<i>Jeżeli Air Temprature będzie równe Process temp lub większe, użądzenie nie będzie się w stanie schłodzić i się nagrzeje.</i> "
   ]
  },
  {
   "cell_type": "markdown",
   "id": "df13e4fa",
   "metadata": {},
   "source": [
    "1. Potrzebne dane:\n",
    "    - Air temprature = 6\n",
    "    - Process temperature = 4\n",
    "2. Porównanie:\n",
    "    - "
   ]
  },
  {
   "cell_type": "code",
   "execution_count": null,
   "id": "7fa1e8ed",
   "metadata": {},
   "outputs": [],
   "source": [
    "df_train = pd.read_csv('https://raw.githubusercontent.com/Mateusz-Matejko/kaggle/main/projects/competition-clasification-binary-of-machine-failures/data/train.csv', encoding='utf8')\n",
    "\n",
    "def process_data(df:pd.DataFrame):\n",
    "    df['Power [KW]'] = (df['Torque [Nm]'] * df['Rotational speed [rpm]'])/1000\n",
    "    df['Type'] = df['Type'].map(type_dict)\n",
    "    df['Air temperature [C]'] = df['Air temperature [K]'] - 272.15\n",
    "    df['Process temperature [C]'] = df['Process temperature [K]'] - 272.15\n",
    "    df = df.drop(labels=['Air temperature [K]', 'Process temperature [K]'], axis=1)\n",
    "    df['Temperature difference'] = df['Process temperature [C]'] - df['Air temperature [C]']\n",
    "\n",
    "    return df"
   ]
  },
  {
   "cell_type": "code",
   "execution_count": null,
   "id": "8f599a7a",
   "metadata": {},
   "outputs": [],
   "source": [
    "df_train=process_data(df_train)"
   ]
  },
  {
   "cell_type": "code",
   "execution_count": null,
   "id": "1d17fc65",
   "metadata": {},
   "outputs": [],
   "source": [
    "df_test=process_data(df_test)"
   ]
  },
  {
   "cell_type": "code",
   "execution_count": null,
   "id": "5372f9d6",
   "metadata": {},
   "outputs": [],
   "source": [
    "df_train.head()"
   ]
  },
  {
   "cell_type": "code",
   "execution_count": null,
   "id": "2ec0dd00",
   "metadata": {},
   "outputs": [],
   "source": [
    "df_train['Machine failure']"
   ]
  },
  {
   "cell_type": "code",
   "execution_count": null,
   "id": "0f3c46a0",
   "metadata": {},
   "outputs": [],
   "source": [
    "pd.DataFrame(index=[df_train.groupby('Tool wear [min]')['Machine failure']])"
   ]
  },
  {
   "cell_type": "code",
   "execution_count": null,
   "id": "8cc6a197",
   "metadata": {},
   "outputs": [],
   "source": [
    "# pd.DataFrame(index=[df_train.groupby('Tool wear [min]')['Machine failure'].mean(),\n",
    "#                    df_train['Product ID'].unique()])"
   ]
  },
  {
   "cell_type": "code",
   "execution_count": null,
   "id": "c425a6a6",
   "metadata": {},
   "outputs": [],
   "source": [
    "df_train.shape"
   ]
  },
  {
   "cell_type": "markdown",
   "id": "8b2a63fe",
   "metadata": {},
   "source": [
    "# OUTLIERSY "
   ]
  },
  {
   "cell_type": "markdown",
   "id": "2b4cfbae",
   "metadata": {},
   "source": [
    "### Zbior treningowy "
   ]
  },
  {
   "cell_type": "code",
   "execution_count": null,
   "id": "5321ce1d",
   "metadata": {},
   "outputs": [],
   "source": [
    "pip install plotly"
   ]
  },
  {
   "cell_type": "code",
   "execution_count": null,
   "id": "d8ac2638",
   "metadata": {},
   "outputs": [],
   "source": [
    "import plotly.express as pxim"
   ]
  },
  {
   "cell_type": "code",
   "execution_count": null,
   "id": "b3d75953",
   "metadata": {},
   "outputs": [],
   "source": []
  },
  {
   "cell_type": "code",
   "execution_count": null,
   "id": "f0db6b69",
   "metadata": {},
   "outputs": [],
   "source": [
    "data = df_train\n",
    "for col in data.columns:\n",
    "\n",
    "    if pd.api.types.is_numeric_dtype(data[col]) and col != 'Product ID':\n",
    "        fig = pxim.box(data, y=col)\n",
    "        fig.show()"
   ]
  },
  {
   "cell_type": "code",
   "execution_count": null,
   "id": "b6a30331",
   "metadata": {
    "scrolled": true
   },
   "outputs": [],
   "source": [
    "df_train[df_train['Rotational speed [rpm]'] < 1200]['Rotational speed [rpm]'].mean()"
   ]
  },
  {
   "cell_type": "code",
   "execution_count": null,
   "id": "3e7a102f",
   "metadata": {},
   "outputs": [],
   "source": [
    "df_test[df_test['Rotational speed [rpm]'] < 1200]['Rotational speed [rpm]'].mean()"
   ]
  },
  {
   "cell_type": "code",
   "execution_count": null,
   "id": "db633da0",
   "metadata": {},
   "outputs": [],
   "source": [
    "df_train[df_train['Rotational speed [rpm]'] > 1800]['Rotational speed [rpm]'].median()"
   ]
  },
  {
   "cell_type": "code",
   "execution_count": null,
   "id": "1d311cb7",
   "metadata": {},
   "outputs": [],
   "source": [
    "df_test[df_test['Rotational speed [rpm]'] > 1800]['Rotational speed [rpm]'].median()"
   ]
  },
  {
   "cell_type": "code",
   "execution_count": null,
   "id": "9ab40cc7",
   "metadata": {
    "scrolled": false
   },
   "outputs": [],
   "source": [
    "data = df_test\n",
    "for col in data.columns:\n",
    "\n",
    "    if pd.api.types.is_numeric_dtype(data[col]) and col != 'Product ID':\n",
    "        fig = pxim.box(data, y=col)\n",
    "        fig.show()"
   ]
  },
  {
   "cell_type": "code",
   "execution_count": null,
   "id": "c2163e2b",
   "metadata": {},
   "outputs": [],
   "source": [
    "df_train.isna().sum()"
   ]
  },
  {
   "cell_type": "code",
   "execution_count": null,
   "id": "7eeba31c",
   "metadata": {
    "scrolled": true
   },
   "outputs": [],
   "source": [
    "df = df_train\n",
    "col = 'Power [KW]'\n",
    "#calculate upper and lower limits\n",
    "upper_limit = df[col].mean() + 3 * df[col].std()\n",
    "lower_limit = df[col].mean() -3 * df[col].std()\n",
    "\n",
    "#select outliers\n",
    "display(df[~((df[col] < upper_limit) & (df[col] > lower_limit))])\n",
    "\n",
    "#outliers removed\n",
    "display(df[(df[col] < upper_limit) & (df[col] > lower_limit)])"
   ]
  },
  {
   "cell_type": "code",
   "execution_count": null,
   "id": "453ead0e",
   "metadata": {
    "scrolled": true
   },
   "outputs": [],
   "source": [
    "df = df_train.select_dtypes(include='number')\n",
    "\n",
    "def count_outliers(column):\n",
    "    q1 = column.quantile(0.25)\n",
    "    q3 = column.quantile(0.75)\n",
    "    iqr = q3 - q1\n",
    "    lower_bound = q1 - 1.5 * iqr\n",
    "    upper_bound = q3 + 1.5 * iqr\n",
    "    outliers = column[(column < lower_bound) | (column > upper_bound)]\n",
    "    return outliers.count()\n",
    "\n",
    "outliers_counts = df.apply(count_outliers)\n",
    "\n",
    "result = pd.DataFrame({'Nazwa kolumny': outliers_counts.index, 'Ilość outliersów': outliers_counts.values, \n",
    "                      'Procent outliersów w zbiorze': (outliers_counts/df.shape[0])*100})\n",
    "print(result)"
   ]
  },
  {
   "cell_type": "code",
   "execution_count": null,
   "id": "53a1a188",
   "metadata": {
    "scrolled": true
   },
   "outputs": [],
   "source": [
    "df = df_test.select_dtypes(include='number')\n",
    "\n",
    "def count_outliers(column):\n",
    "    q1 = column.quantile(0.25)\n",
    "    q3 = column.quantile(0.75)\n",
    "    iqr = q3 - q1\n",
    "    lower_bound = q1 - 1.5 * iqr\n",
    "    upper_bound = q3 + 1.5 * iqr\n",
    "    outliers = column[(column < lower_bound) | (column > upper_bound)]\n",
    "    return outliers.count()\n",
    "\n",
    "outliers_counts = df.apply(count_outliers)\n",
    "\n",
    "result = pd.DataFrame({'Nazwa kolumny': outliers_counts.index, 'Ilość outliersów': outliers_counts.values, \n",
    "                      'Procent outliersów w zbiorze': (outliers_counts/df.shape[0])*100})\n",
    "print(result)"
   ]
  },
  {
   "cell_type": "code",
   "execution_count": null,
   "id": "bb7baf88",
   "metadata": {},
   "outputs": [],
   "source": [
    "df_train[(df_train['RNF'] == 1) & (df_train['Machine failure'] == 1)]"
   ]
  },
  {
   "cell_type": "code",
   "execution_count": null,
   "id": "175e27f6",
   "metadata": {},
   "outputs": [],
   "source": [
    "df_train['RNF'].sum() #308\n",
    "df_train['OSF'].sum() #540\n",
    "df_train['PWF'].sum() #327\n",
    "df_train['HDF'].sum() #704\n",
    "df_train['TWF'].sum() #212"
   ]
  },
  {
   "cell_type": "code",
   "execution_count": null,
   "id": "bb1f25f5",
   "metadata": {
    "scrolled": true
   },
   "outputs": [],
   "source": [
    "df_train.head()"
   ]
  },
  {
   "cell_type": "code",
   "execution_count": null,
   "id": "ca375db9",
   "metadata": {},
   "outputs": [],
   "source": [
    "pd.DataFrame(df_train.groupby('Tool wear [min]')['Machine failure'].mean()).describe()"
   ]
  },
  {
   "cell_type": "code",
   "execution_count": null,
   "id": "f866827c",
   "metadata": {},
   "outputs": [],
   "source": [
    "pd.DataFrame(df_train.groupby('Rotational speed [rpm]')['Machine failure'].mean()).describe()"
   ]
  },
  {
   "cell_type": "code",
   "execution_count": null,
   "id": "654b2a9d",
   "metadata": {},
   "outputs": [],
   "source": [
    "corr = df_train.corr(numeric_only=True)\n",
    "corr = corr.round(2)\n",
    "\n",
    "\n",
    "sns.set (rc = {'figure.figsize':(10, 10)})\n",
    "sns.heatmap(corr, cmap='coolwarm', annot=True, fmt=',.2f')\n",
    "\n",
    "plt.savefig('Correlogram_sns.png')"
   ]
  },
  {
   "cell_type": "code",
   "execution_count": null,
   "id": "13c6ebef",
   "metadata": {},
   "outputs": [],
   "source": [
    "df_train.columns"
   ]
  },
  {
   "cell_type": "code",
   "execution_count": null,
   "id": "9f2ef06c",
   "metadata": {},
   "outputs": [],
   "source": [
    "df_train.head()"
   ]
  },
  {
   "cell_type": "code",
   "execution_count": null,
   "id": "327b6654",
   "metadata": {},
   "outputs": [],
   "source": [
    "X = df_train[['Type', 'Rotational speed [rpm]', 'Torque [Nm]',\n",
    "       'Tool wear [min]', 'TWF', 'HDF', 'PWF', 'OSF',\n",
    "       'Power [KW]', 'Air temperature [C]', 'Process temperature [C]', 'Temperature difference']]\n",
    "\n",
    "y = df_train['Machine failure']"
   ]
  },
  {
   "cell_type": "code",
   "execution_count": null,
   "id": "68ffab93",
   "metadata": {},
   "outputs": [],
   "source": [
    " X_train, X_test, y_train, y_test = train_test_split(X, y, random_state=42)"
   ]
  },
  {
   "cell_type": "code",
   "execution_count": null,
   "id": "37e32c9b",
   "metadata": {},
   "outputs": [],
   "source": [
    "# Define the parameter grid for grid search\n",
    "param_dist = {\n",
    "    'n_estimators': np.arange(100, 500, 100),\n",
    "    'max_depth': np.arange(1, 70, 7),\n",
    "    'min_samples_leaf': (1, 70, 7),\n",
    "    'min_samples_split':(1, 70, 7),\n",
    "    'max_features': ['sqrt', 'log2']}\n",
    "\n",
    "# Create the Random Forest regressor\n",
    "rf = RandomForestClassifier()\n",
    "\n",
    "# Create the randomized search object\n",
    "random_search = RandomizedSearchCV(rf, param_distributions=param_dist, cv=5, n_iter=10)\n",
    "\n",
    "# Perform randomized search on the training data\n",
    "random_search.fit(X, y)\n",
    "\n",
    "# Get the best estimator and its corresponding parameters\n",
    "best_rf = random_search.best_estimator_\n",
    "print('Best Params: ', random_search.best_params_)\n",
    "\n",
    "# Fit the best estimator on the training data\n",
    "best_rf.fit(X, y)"
   ]
  },
  {
   "cell_type": "code",
   "execution_count": null,
   "id": "97902f2e",
   "metadata": {},
   "outputs": [],
   "source": [
    "from sklearn.ensemble import RandomForestRegressor\n",
    "from sklearn.metrics import mean_squared_error, mean_absolute_error\n",
    "\n",
    "# Define the parameter grid for grid search\n",
    "param_dist = {\n",
    "    'n_estimators': np.arange(100, 500, 100),\n",
    "    'max_depth': np.arange(1, 70, 7),\n",
    "    'min_samples_leaf': np.arange(1, 70, 7),\n",
    "    'min_samples_split': np.arange(1, 70, 7),\n",
    "    'max_features': ['sqrt', 'log2']\n",
    "}\n",
    "\n",
    "# Create the Random Forest regressor\n",
    "rf = RandomForestRegressor()\n",
    "\n",
    "# Create the randomized search object\n",
    "random_search = RandomizedSearchCV(rf, param_distributions=param_dist, cv=5, n_iter=10)\n",
    "\n",
    "# Perform randomized search on the training data\n",
    "random_search.fit(X, y)\n",
    "\n",
    "# Get the best estimator and its corresponding parameters\n",
    "best_rf = random_search.best_estimator_\n",
    "print('Best Params: ', random_search.best_params_)\n",
    "\n",
    "# Fit the best estimator on the training data\n",
    "best_rf.fit(X_train, y_train)\n",
    "\n",
    "# Predict on the training and test data using the best estimator\n",
    "y_pred_train = best_rf.predict(X_train)\n",
    "\n",
    "# Calculate the evaluation metrics\n",
    "\n",
    "# Training set\n",
    "print('Training Set Metrics:')\n",
    "print('Mean Squared Error:', mean_squared_error(y, y_pred_train))\n",
    "print('Mean Absolute Error:', mean_absolute_error(y, y_pred_train))"
   ]
  },
  {
   "cell_type": "code",
   "execution_count": null,
   "id": "ede1d545",
   "metadata": {},
   "outputs": [],
   "source": [
    "# # Define the parameter grid for grid search\n",
    "# param_dist = {\n",
    "#     'n_estimators': np.arange(100, 500, 100),\n",
    "#     'max_depth': np.arange(1, 70, 7),\n",
    "#     'min_samples_leaf': (1, 70, 7),\n",
    "#     'min_samples_split':(1, 70, 7),\n",
    "#     'max_features': ['sqrt', 'log2']}\n",
    "\n",
    "# # Create the Random Forest regressor\n",
    "# rf = RandomForestClassifier()\n",
    "\n",
    "# # Create the randomized search object\n",
    "# random_search = RandomizedSearchCV(rf, param_distributions=param_dist, cv=5, n_iter=10)\n",
    "\n",
    "# # Perform randomized search on the training data\n",
    "# random_search.fit(X_train, y_train)\n",
    "\n",
    "# # Get the best estimator and its corresponding parameters\n",
    "# best_rf = random_search.best_estimator_\n",
    "# print('Best Params: ', random_search.best_params_)\n",
    "\n",
    "# # Fit the best estimator on the training data\n",
    "# best_rf.fit(X_train, y_train)\n",
    "\n",
    "# # Predict on the training and test data using the best estimator\n",
    "# y_pred_train = best_rf.predict(X_train)\n",
    "# y_pred = best_rf.predict(X_test)\n",
    "\n",
    "# # Calculate the evaluation metrics\n",
    "\n",
    "# # Training set\n",
    "# print('Training Set Metrics:')\n",
    "# print('f1_score:', f1_score(y_train, y_pred_train, average='weighted'))\n",
    "# print('precision_score:', precision_score(y_train, y_pred_train, average='weighted'))\n",
    "# print('accuracy_score:', accuracy_score(y_train, y_pred_train))\n",
    "\n",
    "# # Test set\n",
    "# print('Test Set Metrics:')\n",
    "# print('f1_score:', f1_score(y_test, y_pred, average='weighted'))\n",
    "# print('precision_score:', precision_score(y_test, y_pred, average='weighted'))\n",
    "# print('accuracy_score:', accuracy_score(y_test, y_pred))"
   ]
  },
  {
   "cell_type": "markdown",
   "id": "21b7a87a",
   "metadata": {},
   "source": [
    "## FINALNE WYSYŁANKO"
   ]
  },
  {
   "cell_type": "code",
   "execution_count": null,
   "id": "ee8b02dd",
   "metadata": {},
   "outputs": [],
   "source": [
    "df_test = pd.read_csv('https://raw.githubusercontent.com/Mateusz-Matejko/kaggle/main/projects/competition-clasification-binary-of-machine-failures/data/test.csv', encoding='utf8')\n",
    "df_final = pd.read_csv('https://raw.githubusercontent.com/Mateusz-Matejko/kaggle/main/projects/competition-clasification-binary-of-machine-failures/data/sample_submission.csv', encoding='utf8')"
   ]
  },
  {
   "cell_type": "code",
   "execution_count": null,
   "id": "ccf54ac3",
   "metadata": {},
   "outputs": [],
   "source": [
    "# TU UZUPEŁNIĆ NAZWE PLIKU\n",
    "submission_name = 'try2.csv'\n",
    "\n",
    "df_test = process_data(df_test)\n",
    "X_final = df_test[['Type', 'Rotational speed [rpm]', 'Torque [Nm]',\n",
    "       'Tool wear [min]', 'TWF', 'HDF', 'PWF', 'OSF', 'RNF',\n",
    "       'Power [KW]', 'Air temperature [C]', 'Process temperature [C]', 'Temperature difference']]\n",
    "\n",
    "# TU IMIE MODELU \n",
    "y_pred_final = best_rf.predict(X_final)  #podmienić nazwę modelu\n",
    "df_final['Machine failure'] = y_pred_final\n",
    "\n",
    "# TU LOKALIZACJA\n",
    "\n",
    "df_final.to_csv(submission_name, index=False)"
   ]
  },
  {
   "cell_type": "markdown",
   "id": "fc4ac797",
   "metadata": {},
   "source": [
    "### LOG WYSŁANYCH\n",
    "\n",
    "1 - PROBA NA RF CLASSIFIER\n",
    "Best Params:  {'n_estimators': 300, 'min_samples_split': 7, 'min_samples_leaf': 7, 'max_features': 'log2', 'max_depth': 8}\n",
    "Training Set Metrics:\n",
    "f1_score: 0.9959673390406616\n",
    "precision_score: 0.9961925744319663\n",
    "accuracy_score: 0.9962080120405391\n",
    "Test Set Metrics:\n",
    "f1_score: 0.9958417247915688\n",
    "precision_score: 0.9960876066450631\n",
    "accuracy_score: 0.9961006215550604\n",
    "\n",
    "2- PROBA NA TYM SAMYM MODELU, TRENOWANYM NA WSZYSTKICH DANYCH\n",
    "Best Params:  {'n_estimators': 200, 'min_samples_split': 70, 'min_samples_leaf': 70, 'max_features': 'log2', 'max_depth': 36}"
   ]
  },
  {
   "cell_type": "code",
   "execution_count": null,
   "id": "f47e3e1f",
   "metadata": {},
   "outputs": [],
   "source": []
  }
 ],
 "metadata": {
  "kernelspec": {
   "display_name": "Python 3 (ipykernel)",
   "language": "python",
   "name": "python3"
  },
  "language_info": {
   "codemirror_mode": {
    "name": "ipython",
    "version": 3
   },
   "file_extension": ".py",
   "mimetype": "text/x-python",
   "name": "python",
   "nbconvert_exporter": "python",
   "pygments_lexer": "ipython3",
   "version": "3.10.10"
  }
 },
 "nbformat": 4,
 "nbformat_minor": 5
}
