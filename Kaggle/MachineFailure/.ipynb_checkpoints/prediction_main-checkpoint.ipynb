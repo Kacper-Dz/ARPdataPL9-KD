{
 "cells": [
  {
   "cell_type": "code",
   "execution_count": null,
   "id": "060ee02a",
   "metadata": {},
   "outputs": [],
   "source": [
    "import ssl\n",
    "\n",
    "ssl._create_default_https_context = ssl._create_unverified_context\n",
    "\n",
    "import pandas as pd\n",
    "import numpy as np\n",
    "import matplotlib.pyplot as plt\n",
    "import seaborn as sns\n",
    "from sklearn.tree import plot_tree\n",
    "\n",
    "from sklearn.model_selection import train_test_split\n",
    "# Regression\n",
    "from sklearn.ensemble import RandomForestRegressor\n",
    "from sklearn.neighbors import KNeighborsRegressor\n",
    "from sklearn.neural_network import MLPRegressor\n",
    "from sklearn.metrics import mean_absolute_error, r2_score, mean_squared_error\n",
    "# Clasification\n",
    "from sklearn.ensemble import RandomForestClassifier\n",
    "from sklearn.metrics import f1_score, precision_score, accuracy_score\n",
    "# Best_searches\n",
    "from sklearn.model_selection import GridSearchCV\n",
    "from sklearn.model_selection import RandomizedSearchCV\n",
    "# Standarization\n",
    "from sklearn.preprocessing import StandardScaler\n",
    "\n",
    "from keras import models\n",
    "from keras.layers import Dense"
   ]
  },
  {
   "cell_type": "code",
   "execution_count": null,
   "id": "f240293a",
   "metadata": {
    "scrolled": true
   },
   "outputs": [],
   "source": [
    "df_train = pd.read_csv('https://raw.githubusercontent.com/Mateusz-Matejko/kaggle/main/projects/competition-clasification-binary-of-machine-failures/data/train.csv', encoding='utf8')\n",
    "df_test = pd.read_csv('https://raw.githubusercontent.com/Mateusz-Matejko/kaggle/main/projects/competition-clasification-binary-of-machine-failures/data/test.csv', encoding='utf8')\n",
    "df_final = pd.read_csv('https://raw.githubusercontent.com/Mateusz-Matejko/kaggle/main/projects/competition-clasification-binary-of-machine-failures/data/sample_submission.csv', encoding='utf8')"
   ]
  },
  {
   "cell_type": "code",
   "execution_count": null,
   "id": "ec4b4fc0",
   "metadata": {},
   "outputs": [],
   "source": [
    "df_train.describe()"
   ]
  },
  {
   "cell_type": "code",
   "execution_count": null,
   "id": "17a34429",
   "metadata": {},
   "outputs": [],
   "source": [
    "df_test[df_test['PWF'] != 0]"
   ]
  },
  {
   "cell_type": "code",
   "execution_count": null,
   "id": "219f86ad",
   "metadata": {},
   "outputs": [],
   "source": [
    "df_train.shape"
   ]
  },
  {
   "cell_type": "code",
   "execution_count": null,
   "id": "360c8a6a",
   "metadata": {},
   "outputs": [],
   "source": [
    "df_train[df_train['Machine failure'] != 0].shape"
   ]
  },
  {
   "cell_type": "markdown",
   "id": "e7c795ac",
   "metadata": {},
   "source": [
    "## Opis danych: \n",
    "\n",
    "id - \n",
    "    Wiemy o co chodzi\n",
    "    \n",
    "Podcut ID - \n",
    "    Pomysły: Zmapować konkretny produkt id, jako taki z dużą lub małą szansą na uszkodzenie. \n",
    "    \n",
    "### Zrobione \n",
    "Type - ( H, M, L )(High, Medium, Low) - \n",
    "    Im wyższy tym mniejsza szansa na uszkodzenie i większa tolerancja na długotrwałą pracę\n",
    "\n",
    "\n",
    "Air temparture - temperatura powietrza\n",
    "    zakres: 295 - 304 stopnie, median 300\n",
    "    Różnica między tą temperaturą a temperaturą procesu może wskazywać na przegrzewanie.\n",
    "    \n",
    "### Zrobione\n",
    "<i>Pomysły: Zakodować różnicę między temperaturami.</i>\n",
    "    \n",
    "Process temperature - temperatura pracy\n",
    "    zakres 305 - 314, median 310.\n",
    "    Pomysły: Sprawdzić zależność między awariami a tą temperaturą, DLA WSZYSTKICH TYPU AWARII\n",
    "\n",
    "### Zrobione \n",
    "<i> Note: ZAPYTAĆ KACPRA CZY WARTO SPRAWDZIĆ TO NA WARUNKU + 0.5C </i>\n",
    "<i>Jeżeli Air Temprature będzie równe Process temp lub większe, użądzenie nie będzie się w stanie schłodzić i się nagrzeje.</i> \n",
    "\n",
    "### In progress\n",
    "Rotational speed rpm - prędkość rotacji/obrotu\n",
    "    zakres 1181 - 2886, 996 unikalnych\n",
    "    \n",
    "Torque Nm - Moment obrotowy \n",
    "    Pomysł: użyć wzór, spróbować oszacować błąd. Power (kW) = Torque (N.m) x Speed (RPM) z TWF\n",
    "    Możliwe: powiązanie OSF\n",
    "    \n",
    "Tool wear - Czas sesji użycia narzędzia\n",
    "    Zakres 0 - 253\n",
    "    Pomysł: Im większy tool wear, może powodować awarie\n",
    "    \n",
    "Typy awarii:\n",
    "    TWF - Zużycie\n",
    "    HDF - Przegrzanie\n",
    "    OSF - Przeciążenie mechaniczne\n",
    "    RNF - Losowe\n",
    "    Pomysły: Zobaczyć zależności pomiędzy tymi typami awarii i dokładnie je zbadać.\n",
    "    \n",
    "Zbadać: outliersy dlaczego min czas sesji = 0"
   ]
  },
  {
   "cell_type": "code",
   "execution_count": null,
   "id": "0b870639",
   "metadata": {},
   "outputs": [],
   "source": [
    "df_train.describe(include='all')"
   ]
  },
  {
   "cell_type": "code",
   "execution_count": null,
   "id": "c0e2727c",
   "metadata": {},
   "outputs": [],
   "source": [
    "df_train.isnull().sum().sum()"
   ]
  },
  {
   "cell_type": "markdown",
   "id": "76098c24",
   "metadata": {},
   "source": [
    "### Power (kW) = Torque (N.m) x Speed (RPM)"
   ]
  },
  {
   "cell_type": "markdown",
   "id": "ab17c52a",
   "metadata": {},
   "source": [
    "## Get to know your data"
   ]
  },
  {
   "cell_type": "code",
   "execution_count": null,
   "id": "aaf38990",
   "metadata": {},
   "outputs": [],
   "source": [
    "df_train['Product ID'].unique().shape #(9976,)\n",
    "df_train['Type'].unique() #array(['L', 'M', 'H'], dtype=object)\n",
    "df_train['Air temperature [K]'] #(95,)\n",
    "df_train['Process temperature [K]'].unique().shape #(81,)\n",
    "df_train['Tool wear [min]'].unique().shape #(246,)\n",
    "df_train['Rotational speed [rpm]'].unique().shape #(952,)\n",
    "df_train['Torque [Nm]'].unique().shape #(611,)\n",
    "df_train['Tool wear [min]'].unique().shape #(246,)"
   ]
  },
  {
   "cell_type": "code",
   "execution_count": null,
   "id": "0c751401",
   "metadata": {},
   "outputs": [],
   "source": [
    "# Dataset shape\n",
    "print(df_train.shape, \"\\n\") # (74051, 10)\n",
    "\n",
    "# Find out any Null values\n",
    "df_train.isnull().sum() # 0 null values"
   ]
  },
  {
   "cell_type": "code",
   "execution_count": null,
   "id": "9ab8d2a7",
   "metadata": {},
   "outputs": [],
   "source": [
    "df_train.head()"
   ]
  },
  {
   "cell_type": "code",
   "execution_count": null,
   "id": "49aae750",
   "metadata": {},
   "outputs": [],
   "source": [
    "df_train.groupby('Type')['Machine failure'].mean()"
   ]
  },
  {
   "cell_type": "code",
   "execution_count": null,
   "id": "95461e37",
   "metadata": {},
   "outputs": [],
   "source": [
    "type_dict = {\n",
    "    'H': 0.013000,\n",
    "    'M': 0.013592,\n",
    "    'L': 0.016727\n",
    "}"
   ]
  },
  {
   "cell_type": "markdown",
   "id": "7a1e066c",
   "metadata": {},
   "source": [
    "<i>Jeżeli Air Temprature będzie równe Process temp lub większe, użądzenie nie będzie się w stanie schłodzić i się nagrzeje.</i> "
   ]
  },
  {
   "cell_type": "markdown",
   "id": "df13e4fa",
   "metadata": {},
   "source": [
    "1. Potrzebne dane:\n",
    "    - Air temprature = 6\n",
    "    - Process temperature = 4\n",
    "2. Porównanie:\n",
    "    - "
   ]
  },
  {
   "cell_type": "code",
   "execution_count": null,
   "id": "7fa1e8ed",
   "metadata": {},
   "outputs": [],
   "source": [
    "df_train = pd.read_csv('https://raw.githubusercontent.com/Mateusz-Matejko/kaggle/main/projects/competition-clasification-binary-of-machine-failures/data/train.csv', encoding='utf8')\n",
    "\n",
    "def process_data(df:pd.DataFrame):\n",
    "    df['Power [KW]'] = (df['Torque [Nm]'] * df['Rotational speed [rpm]'])/1000\n",
    "    df['Type'] = df['Type'].map(type_dict)\n",
    "    df['Air temperature [C]'] = df['Air temperature [K]'] - 272.15\n",
    "    df['Process temperature [C]'] = df['Process temperature [K]'] - 272.15\n",
    "    df = df.drop(labels=['Air temperature [K]', 'Process temperature [K]'], axis=1)\n",
    "    df['Temperature difference'] = df['Process temperature [C]'] - df['Air temperature [C]']\n",
    "\n",
    "    return df"
   ]
  },
  {
   "cell_type": "code",
   "execution_count": null,
   "id": "8f599a7a",
   "metadata": {},
   "outputs": [],
   "source": [
    "df_train=process_data(df_train)"
   ]
  },
  {
   "cell_type": "code",
   "execution_count": null,
   "id": "1d17fc65",
   "metadata": {},
   "outputs": [],
   "source": [
    "df_test=process_data(df_test)"
   ]
  },
  {
   "cell_type": "code",
   "execution_count": null,
   "id": "5372f9d6",
   "metadata": {},
   "outputs": [],
   "source": [
    "df_train.head()"
   ]
  },
  {
   "cell_type": "code",
   "execution_count": null,
   "id": "2ec0dd00",
   "metadata": {},
   "outputs": [],
   "source": [
    "df_train['Machine failure']"
   ]
  },
  {
   "cell_type": "code",
   "execution_count": null,
   "id": "0f3c46a0",
   "metadata": {},
   "outputs": [],
   "source": [
    "pd.DataFrame(index=[df_train.groupby('Tool wear [min]')['Machine failure']])"
   ]
  },
  {
   "cell_type": "code",
   "execution_count": null,
   "id": "8cc6a197",
   "metadata": {},
   "outputs": [],
   "source": [
    "# pd.DataFrame(index=[df_train.groupby('Tool wear [min]')['Machine failure'].mean(),\n",
    "#                    df_train['Product ID'].unique()])"
   ]
  },
  {
   "cell_type": "code",
   "execution_count": null,
   "id": "c425a6a6",
   "metadata": {},
   "outputs": [],
   "source": [
    "df_train.shape"
   ]
  },
  {
   "cell_type": "markdown",
   "id": "8b2a63fe",
   "metadata": {},
   "source": [
    "# OUTLIERSY "
   ]
  },
  {
   "cell_type": "markdown",
   "id": "2b4cfbae",
   "metadata": {},
   "source": [
    "### Zbior treningowy "
   ]
  },
  {
   "cell_type": "code",
   "execution_count": null,
   "id": "5321ce1d",
   "metadata": {},
   "outputs": [],
   "source": [
    "pip install plotly"
   ]
  },
  {
   "cell_type": "code",
   "execution_count": null,
   "id": "d8ac2638",
   "metadata": {},
   "outputs": [],
   "source": [
    "import plotly.express as pxim"
   ]
  },
  {
   "cell_type": "code",
   "execution_count": null,
   "id": "b3d75953",
   "metadata": {},
   "outputs": [],
   "source": []
  },
  {
   "cell_type": "code",
   "execution_count": null,
   "id": "f0db6b69",
   "metadata": {},
   "outputs": [],
   "source": [
    "data = df_train\n",
    "for col in data.columns:\n",
    "\n",
    "    if pd.api.types.is_numeric_dtype(data[col]) and col != 'Product ID':\n",
    "        fig = pxim.box(data, y=col)\n",
    "        fig.show()"
   ]
  },
  {
   "cell_type": "code",
   "execution_count": null,
   "id": "b6a30331",
   "metadata": {
    "scrolled": true
   },
   "outputs": [],
   "source": [
    "df_train[df_train['Rotational speed [rpm]'] < 1200]['Rotational speed [rpm]'].mean()"
   ]
  },
  {
   "cell_type": "code",
   "execution_count": null,
   "id": "3e7a102f",
   "metadata": {},
   "outputs": [],
   "source": [
    "df_test[df_test['Rotational speed [rpm]'] < 1200]['Rotational speed [rpm]'].mean()"
   ]
  },
  {
   "cell_type": "code",
   "execution_count": null,
   "id": "db633da0",
   "metadata": {},
   "outputs": [],
   "source": [
    "df_train[df_train['Rotational speed [rpm]'] > 1800]['Rotational speed [rpm]'].median()"
   ]
  },
  {
   "cell_type": "code",
   "execution_count": null,
   "id": "1d311cb7",
   "metadata": {},
   "outputs": [],
   "source": [
    "df_test[df_test['Rotational speed [rpm]'] > 1800]['Rotational speed [rpm]'].median()"
   ]
  },
  {
   "cell_type": "code",
   "execution_count": null,
   "id": "9ab40cc7",
   "metadata": {
    "scrolled": false
   },
   "outputs": [],
   "source": [
    "data = df_test\n",
    "for col in data.columns:\n",
    "\n",
    "    if pd.api.types.is_numeric_dtype(data[col]) and col != 'Product ID':\n",
    "        fig = pxim.box(data, y=col)\n",
    "        fig.show()"
   ]
  },
  {
   "cell_type": "code",
   "execution_count": null,
   "id": "c2163e2b",
   "metadata": {},
   "outputs": [],
   "source": [
    "df_train.isna().sum()"
   ]
  },
  {
   "cell_type": "code",
   "execution_count": null,
   "id": "7eeba31c",
   "metadata": {
    "scrolled": true
   },
   "outputs": [],
   "source": [
    "df = df_train\n",
    "col = 'Power [KW]'\n",
    "#calculate upper and lower limits\n",
    "upper_limit = df[col].mean() + 3 * df[col].std()\n",
    "lower_limit = df[col].mean() -3 * df[col].std()\n",
    "\n",
    "#select outliers\n",
    "display(df[~((df[col] < upper_limit) & (df[col] > lower_limit))])\n",
    "\n",
    "#outliers removed\n",
    "display(df[(df[col] < upper_limit) & (df[col] > lower_limit)])"
   ]
  },
  {
   "cell_type": "code",
   "execution_count": null,
   "id": "453ead0e",
   "metadata": {
    "scrolled": true
   },
   "outputs": [],
   "source": [
    "df = df_train.select_dtypes(include='number')\n",
    "\n",
    "def count_outliers(column):\n",
    "    q1 = column.quantile(0.25)\n",
    "    q3 = column.quantile(0.75)\n",
    "    iqr = q3 - q1\n",
    "    lower_bound = q1 - 1.5 * iqr\n",
    "    upper_bound = q3 + 1.5 * iqr\n",
    "    outliers = column[(column < lower_bound) | (column > upper_bound)]\n",
    "    return outliers.count()\n",
    "\n",
    "outliers_counts = df.apply(count_outliers)\n",
    "\n",
    "result = pd.DataFrame({'Nazwa kolumny': outliers_counts.index, 'Ilość outliersów': outliers_counts.values, \n",
    "                      'Procent outliersów w zbiorze': (outliers_counts/df.shape[0])*100})\n",
    "print(result)"
   ]
  },
  {
   "cell_type": "code",
   "execution_count": null,
   "id": "53a1a188",
   "metadata": {
    "scrolled": true
   },
   "outputs": [],
   "source": [
    "df = df_test.select_dtypes(include='number')\n",
    "\n",
    "def count_outliers(column):\n",
    "    q1 = column.quantile(0.25)\n",
    "    q3 = column.quantile(0.75)\n",
    "    iqr = q3 - q1\n",
    "    lower_bound = q1 - 1.5 * iqr\n",
    "    upper_bound = q3 + 1.5 * iqr\n",
    "    outliers = column[(column < lower_bound) | (column > upper_bound)]\n",
    "    return outliers.count()\n",
    "\n",
    "outliers_counts = df.apply(count_outliers)\n",
    "\n",
    "result = pd.DataFrame({'Nazwa kolumny': outliers_counts.index, 'Ilość outliersów': outliers_counts.values, \n",
    "                      'Procent outliersów w zbiorze': (outliers_counts/df.shape[0])*100})\n",
    "print(result)"
   ]
  },
  {
   "cell_type": "code",
   "execution_count": null,
   "id": "bb7baf88",
   "metadata": {},
   "outputs": [],
   "source": [
    "df_train[(df_train['RNF'] == 1) & (df_train['Machine failure'] == 1)]"
   ]
  },
  {
   "cell_type": "code",
   "execution_count": null,
   "id": "175e27f6",
   "metadata": {},
   "outputs": [],
   "source": [
    "df_train['RNF'].sum() #308\n",
    "df_train['OSF'].sum() #540\n",
    "df_train['PWF'].sum() #327\n",
    "df_train['HDF'].sum() #704\n",
    "df_train['TWF'].sum() #212"
   ]
  },
  {
   "cell_type": "code",
   "execution_count": null,
   "id": "bb1f25f5",
   "metadata": {
    "scrolled": true
   },
   "outputs": [],
   "source": [
    "df_train.head()"
   ]
  },
  {
   "cell_type": "code",
   "execution_count": null,
   "id": "ca375db9",
   "metadata": {},
   "outputs": [],
   "source": [
    "pd.DataFrame(df_train.groupby('Tool wear [min]')['Machine failure'].mean()).describe()"
   ]
  },
  {
   "cell_type": "code",
   "execution_count": null,
   "id": "f866827c",
   "metadata": {},
   "outputs": [],
   "source": [
    "pd.DataFrame(df_train.groupby('Rotational speed [rpm]')['Machine failure'].mean()).describe()"
   ]
  },
  {
   "cell_type": "code",
   "execution_count": null,
   "id": "654b2a9d",
   "metadata": {},
   "outputs": [],
   "source": [
    "corr = df_train.corr(numeric_only=True)\n",
    "corr = corr.round(2)\n",
    "\n",
    "\n",
    "sns.set (rc = {'figure.figsize':(10, 10)})\n",
    "sns.heatmap(corr, cmap='coolwarm', annot=True, fmt=',.2f')\n",
    "\n",
    "plt.savefig('Correlogram_sns.png')"
   ]
  },
  {
   "cell_type": "code",
   "execution_count": null,
   "id": "13c6ebef",
   "metadata": {},
   "outputs": [],
   "source": [
    "df_train.columns"
   ]
  },
  {
   "cell_type": "code",
   "execution_count": null,
   "id": "9f2ef06c",
   "metadata": {},
   "outputs": [],
   "source": [
    "df_train.head()"
   ]
  },
  {
   "cell_type": "code",
   "execution_count": null,
   "id": "327b6654",
   "metadata": {},
   "outputs": [],
   "source": [
    "X = df_train[['Type', 'Rotational speed [rpm]', 'Torque [Nm]',\n",
    "       'Tool wear [min]', 'TWF', 'HDF', 'PWF', 'OSF', 'RNF',\n",
    "       'Power [KW]', 'Air temperature [C]', 'Process temperature [C]', 'Temperature difference']]\n",
    "\n",
    "y = df_train['Machine failure']"
   ]
  },
  {
   "cell_type": "code",
   "execution_count": null,
   "id": "68ffab93",
   "metadata": {},
   "outputs": [],
   "source": [
    " X_train, X_test, y_train, y_test = train_test_split(X, y, stratify = y,random_state=42)"
   ]
  },
  {
   "cell_type": "code",
   "execution_count": null,
   "id": "17fbb2b8",
   "metadata": {},
   "outputs": [],
   "source": [
    "from imblearn.ensemble import BalancedRandomForestClassifier\n",
    "from sklearn.model_selection import GridSearchCV\n",
    "from sklearn.datasets import make_classification\n",
    "from sklearn.metrics import classification_report"
   ]
  },
  {
   "cell_type": "code",
   "execution_count": null,
   "id": "97902f2e",
   "metadata": {},
   "outputs": [],
   "source": [
    "# Define the parameter grid for grid search\n",
    "param_grid = {\n",
    "    'n_estimators': [100, 200, 300, 400],\n",
    "    'max_depth': [None, 5, 10, 20],\n",
    "    'min_samples_split': [1, 2, 5, 10],\n",
    "    'min_samples_leaf': [1, 2, 4],\n",
    "}\n",
    "\n",
    "# Create the Random Forest regressor\n",
    "brf = BalancedRandomForestClassifier()\n",
    "\n",
    "# Create the randomized search object\n",
    "random_search = RandomizedSearchCV(brf, param_distributions=param_grid, cv=5, n_iter=15)\n",
    "\n",
    "# Perform randomized search on the training data\n",
    "random_search.fit(X, y)\n",
    "\n",
    "# Get the best estimator and its corresponding parameters\n",
    "best_rf = random_search.best_estimator_\n",
    "print('Best Params: ', random_search.best_params_)"
   ]
  },
  {
   "cell_type": "code",
   "execution_count": null,
   "id": "6e8b16a0",
   "metadata": {
    "scrolled": false
   },
   "outputs": [],
   "source": [
    "# Fit the best estimator on the training data\n",
    "best_rf.fit(X_train, y_train)\n",
    "\n",
    "# Predict on the training and test data using the best estimator\n",
    "y_pred_train = best_rf.predict(X_train)\n",
    "y_pred = best_rf.predict(X_test)\n",
    "\n",
    "# Calculate the evaluation metrics\n",
    "\n",
    "# Training set\n",
    "print('Training Set Metrics:')\n",
    "print('f1_score:', f1_score(y_train, y_pred_train, average='weighted'))\n",
    "print('precision_score:', precision_score(y_train, y_pred_train, average='weighted'))\n",
    "print('accuracy_score:', accuracy_score(y_train, y_pred_train))\n",
    "\n",
    "# Test set\n",
    "print('Test Set Metrics:')\n",
    "print('f1_score:', f1_score(y_test, y_pred, average='weighted'))\n",
    "print('precision_score:', precision_score(y_test, y_pred, average='weighted'))\n",
    "print('accuracy_score:', accuracy_score(y_test, y_pred))"
   ]
  },
  {
   "cell_type": "code",
   "execution_count": null,
   "id": "ede1d545",
   "metadata": {},
   "outputs": [],
   "source": [
    "# # Define the parameter grid for grid search\n",
    "# param_dist = {\n",
    "#     'n_estimators': np.arange(100, 500, 100),\n",
    "#     'max_depth': np.arange(1, 70, 7),\n",
    "#     'min_samples_leaf': (1, 70, 7),\n",
    "#     'min_samples_split':(1, 70, 7),\n",
    "#     'max_features': ['sqrt', 'log2']}\n",
    "\n",
    "# # Create the Random Forest regressor\n",
    "# rf = RandomForestClassifier()\n",
    "\n",
    "# # Create the randomized search object\n",
    "# random_search = RandomizedSearchCV(rf, param_distributions=param_dist, cv=5, n_iter=10)\n",
    "\n",
    "# # Perform randomized search on the training data\n",
    "# random_search.fit(X_train, y_train)\n",
    "\n",
    "# # Get the best estimator and its corresponding parameters\n",
    "# best_rf = random_search.best_estimator_\n",
    "# print('Best Params: ', random_search.best_params_)\n",
    "\n",
    "# # Fit the best estimator on the training data\n",
    "# best_rf.fit(X_train, y_train)\n",
    "\n",
    "# # Predict on the training and test data using the best estimator\n",
    "# y_pred_train = best_rf.predict(X_train)\n",
    "# y_pred = best_rf.predict(X_test)\n",
    "\n",
    "# # Calculate the evaluation metrics\n",
    "\n",
    "# # Training set\n",
    "# print('Training Set Metrics:')\n",
    "# print('f1_score:', f1_score(y_train, y_pred_train, average='weighted'))\n",
    "# print('precision_score:', precision_score(y_train, y_pred_train, average='weighted'))\n",
    "# print('accuracy_score:', accuracy_score(y_train, y_pred_train))\n",
    "\n",
    "# # Test set\n",
    "# print('Test Set Metrics:')\n",
    "# print('f1_score:', f1_score(y_test, y_pred, average='weighted'))\n",
    "# print('precision_score:', precision_score(y_test, y_pred, average='weighted'))\n",
    "# print('accuracy_score:', accuracy_score(y_test, y_pred))"
   ]
  },
  {
   "cell_type": "markdown",
   "id": "21b7a87a",
   "metadata": {},
   "source": [
    "## FINALNE WYSYŁANKO"
   ]
  },
  {
   "cell_type": "code",
   "execution_count": null,
   "id": "ee8b02dd",
   "metadata": {},
   "outputs": [],
   "source": [
    "df_test = pd.read_csv('https://raw.githubusercontent.com/Mateusz-Matejko/kaggle/main/projects/competition-clasification-binary-of-machine-failures/data/test.csv', encoding='utf8')\n",
    "df_final = pd.read_csv('https://raw.githubusercontent.com/Mateusz-Matejko/kaggle/main/projects/competition-clasification-binary-of-machine-failures/data/sample_submission.csv', encoding='utf8')"
   ]
  },
  {
   "cell_type": "code",
   "execution_count": null,
   "id": "ccf54ac3",
   "metadata": {},
   "outputs": [],
   "source": [
    "# TU UZUPEŁNIĆ NAZWE PLIKU\n",
    "submission_name = 'try2.csv'\n",
    "\n",
    "df_test = process_data(df_test)\n",
    "X_final = df_test[['Type', 'Rotational speed [rpm]', 'Torque [Nm]',\n",
    "       'Tool wear [min]', 'TWF', 'HDF', 'PWF', 'OSF', 'RNF',\n",
    "       'Power [KW]', 'Air temperature [C]', 'Process temperature [C]', 'Temperature difference']]\n",
    "\n",
    "# TU IMIE MODELU \n",
    "y_pred_final = best_rf.predict(X_final)  #podmienić nazwę modelu\n",
    "df_final['Machine failure'] = y_pred_final\n",
    "\n",
    "# TU LOKALIZACJA\n",
    "\n",
    "df_final.to_csv(submission_name, index=False)"
   ]
  },
  {
   "cell_type": "markdown",
   "id": "fc4ac797",
   "metadata": {},
   "source": [
    "### LOG WYSŁANYCH\n",
    "\n",
    "1 - PROBA NA RF CLASSIFIER\n",
    "Best Params:  {'n_estimators': 300, 'min_samples_split': 7, 'min_samples_leaf': 7, 'max_features': 'log2', 'max_depth': 8}\n",
    "Training Set Metrics:\n",
    "f1_score: 0.9959673390406616\n",
    "precision_score: 0.9961925744319663\n",
    "accuracy_score: 0.9962080120405391\n",
    "Test Set Metrics:\n",
    "f1_score: 0.9958417247915688\n",
    "precision_score: 0.9960876066450631\n",
    "accuracy_score: 0.9961006215550604\n",
    "\n",
    "2- PROBA NA TYM SAMYM MODELU, TRENOWANYM NA WSZYSTKICH DANYCH\n",
    "Best Params:  {'n_estimators': 200, 'min_samples_split': 70, 'min_samples_leaf': 70, 'max_features': 'log2', 'max_depth': 36}"
   ]
  },
  {
   "cell_type": "code",
   "execution_count": null,
   "id": "f47e3e1f",
   "metadata": {},
   "outputs": [],
   "source": []
  }
 ],
 "metadata": {
  "kernelspec": {
   "display_name": "Python 3 (ipykernel)",
   "language": "python",
   "name": "python3"
  },
  "language_info": {
   "codemirror_mode": {
    "name": "ipython",
    "version": 3
   },
   "file_extension": ".py",
   "mimetype": "text/x-python",
   "name": "python",
   "nbconvert_exporter": "python",
   "pygments_lexer": "ipython3",
   "version": "3.10.10"
  }
 },
 "nbformat": 4,
 "nbformat_minor": 5
}
