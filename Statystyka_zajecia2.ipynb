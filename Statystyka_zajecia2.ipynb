{
  "nbformat": 4,
  "nbformat_minor": 0,
  "metadata": {
    "colab": {
      "provenance": [],
      "authorship_tag": "ABX9TyMeftBMKDRvWVArz1J7a5us",
      "include_colab_link": true
    },
    "kernelspec": {
      "name": "python3",
      "display_name": "Python 3"
    },
    "language_info": {
      "name": "python"
    }
  },
  "cells": [
    {
      "cell_type": "markdown",
      "metadata": {
        "id": "view-in-github",
        "colab_type": "text"
      },
      "source": [
        "<a href=\"https://colab.research.google.com/github/Kacper-Dz/APRdataPL9-KD/blob/main/Statystyka_zajecia2.ipynb\" target=\"_parent\"><img src=\"https://colab.research.google.com/assets/colab-badge.svg\" alt=\"Open In Colab\"/></a>"
      ]
    },
    {
      "cell_type": "code",
      "source": [
        "import numpy as np"
      ],
      "metadata": {
        "id": "6ZTZAE36Hl6D"
      },
      "execution_count": null,
      "outputs": []
    },
    {
      "cell_type": "code",
      "execution_count": null,
      "metadata": {
        "colab": {
          "base_uri": "https://localhost:8080/"
        },
        "id": "-cxDksPxD8Sp",
        "outputId": "c21ee6dc-7174-4591-8d42-946a73daa236"
      },
      "outputs": [
        {
          "output_type": "stream",
          "name": "stdout",
          "text": [
            "5.333333333333333\n",
            "5.0\n"
          ]
        }
      ],
      "source": [
        "# Zadanie 7\n",
        "# Stwórz dowolną tablicę wartości, a następnie oblicz średnią i medianę\n",
        "\n",
        "tablica = np.array([1, 2, 4, 5, 7, 8, 4, 8, 9])\n",
        "print(tablica.mean())\n",
        "print(np.median(tablica))"
      ]
    },
    {
      "cell_type": "code",
      "source": [
        "# Zadanie 8\n",
        "# Stwórz dowolną tablicę wartości, a następnie je znormalizuj - tj. od każdego\n",
        "# elementu tablicy odejmij średnią i podziel przez odchylenie standardowe\n",
        "\n",
        "tablica = np.array([1, 2, 4, 5, 7, 8, 4, 8, 9])\n",
        "srednia = tablica.mean()\n",
        "odchylenie = np.std(tablica)\n",
        "print(tablica)\n",
        "print(srednia)\n",
        "print(odchylenie)\n",
        "tablica8 = (tablica - srednia) / odchylenie\n",
        "print(tablica8)"
      ],
      "metadata": {
        "colab": {
          "base_uri": "https://localhost:8080/"
        },
        "id": "JaXXEFGdJGf2",
        "outputId": "5ab581e2-2bcd-4686-8a30-65ad7e86cc5f"
      },
      "execution_count": null,
      "outputs": [
        {
          "output_type": "stream",
          "name": "stdout",
          "text": [
            "[1 2 4 5 7 8 4 8 9]\n",
            "5.333333333333333\n",
            "2.6666666666666665\n",
            "[-1.625 -1.25  -0.5   -0.125  0.625  1.    -0.5    1.     1.375]\n"
          ]
        }
      ]
    },
    {
      "cell_type": "code",
      "source": [
        "# Zadanie 9.\n",
        "# Stwórz funkcję, która przyjmuje dwa wektory (oba o tym samym wymiarze) w\n",
        "# postaci numpy tablicy, a zwróci odległość euklidesową między nimi\n",
        "\n",
        "tablicaa = np.array([3, 2, 4, 17, 7, 28, 4, 8, 9])\n",
        "tablicab = np.array([1, 5, 20, 5, 17, 8, 34, 8, 34])\n",
        "\n",
        "tablica_roznica = (tablicaa - tablicab) ** 2\n",
        "odl_eukl = sum(tablica_roznica) ** 0.5\n",
        "print(odl_eukl)"
      ],
      "metadata": {
        "colab": {
          "base_uri": "https://localhost:8080/"
        },
        "id": "5LROIAt8KvV9",
        "outputId": "9702bf26-2697-49d1-bad7-1648d09759f1"
      },
      "execution_count": null,
      "outputs": [
        {
          "output_type": "stream",
          "name": "stdout",
          "text": [
            "49.37610758251404\n"
          ]
        }
      ]
    },
    {
      "cell_type": "code",
      "source": [
        "import scipy.stats as stats"
      ],
      "metadata": {
        "id": "5rQQ5eaupps_"
      },
      "execution_count": null,
      "outputs": []
    },
    {
      "cell_type": "code",
      "source": [
        "data1 = [5.01, 5.02, 5.00, 4.99, 4.97]\n",
        "data2 = [1.01, 1.02, 1.00, 2.99, 0.97]\n",
        "\n",
        "data1 = np.array(data1)\n",
        "data2 = np.array(data2)\n",
        "\n",
        "print(data1.mean(), data2.mean())"
      ],
      "metadata": {
        "colab": {
          "base_uri": "https://localhost:8080/"
        },
        "id": "XWP7wbZypzXr",
        "outputId": "39cc1214-d4de-4e7c-a66e-8eebed388f41"
      },
      "execution_count": null,
      "outputs": [
        {
          "output_type": "stream",
          "name": "stdout",
          "text": [
            "4.997999999999999 1.3980000000000001\n"
          ]
        }
      ]
    },
    {
      "cell_type": "code",
      "source": [
        "stats.ttest_1samp(data1, popmean=5)"
      ],
      "metadata": {
        "colab": {
          "base_uri": "https://localhost:8080/"
        },
        "id": "CrCBhMVaqc1B",
        "outputId": "2d8aadcc-5d4a-49ce-ecd1-e366fedca834"
      },
      "execution_count": null,
      "outputs": [
        {
          "output_type": "execute_result",
          "data": {
            "text/plain": [
              "TtestResult(statistic=-0.23249527748771723, pvalue=0.8275647196019748, df=4)"
            ]
          },
          "metadata": {},
          "execution_count": 18
        }
      ]
    },
    {
      "cell_type": "code",
      "source": [
        "stats.ttest_1samp(data2, popmean=5)"
      ],
      "metadata": {
        "colab": {
          "base_uri": "https://localhost:8080/"
        },
        "id": "1rgpOXb9rK9C",
        "outputId": "5d732e89-393b-4cf2-f60c-878763444b50"
      },
      "execution_count": null,
      "outputs": [
        {
          "output_type": "execute_result",
          "data": {
            "text/plain": [
              "TtestResult(statistic=-9.048252229432814, pvalue=0.0008266670779309136, df=4)"
            ]
          },
          "metadata": {},
          "execution_count": 21
        }
      ]
    },
    {
      "cell_type": "code",
      "source": [
        "stats.ttest_ind(data1, data2)"
      ],
      "metadata": {
        "colab": {
          "base_uri": "https://localhost:8080/"
        },
        "id": "Mong4CurrLcJ",
        "outputId": "87486f80-1bdc-4839-b587-5145c02de52c"
      },
      "execution_count": null,
      "outputs": [
        {
          "output_type": "execute_result",
          "data": {
            "text/plain": [
              "Ttest_indResult(statistic=9.04111756906167, pvalue=1.7920256632910602e-05)"
            ]
          },
          "metadata": {},
          "execution_count": 22
        }
      ]
    },
    {
      "cell_type": "code",
      "source": [
        "data3 = np.arange(1, 100, 1)"
      ],
      "metadata": {
        "id": "Rws6mPlPrkSb"
      },
      "execution_count": null,
      "outputs": []
    },
    {
      "cell_type": "code",
      "source": [
        "stats.normaltest(data3)"
      ],
      "metadata": {
        "colab": {
          "base_uri": "https://localhost:8080/"
        },
        "id": "nfw2fBwZui19",
        "outputId": "0b2338b4-d253-4627-b07f-79175e3f0fe9"
      },
      "execution_count": null,
      "outputs": [
        {
          "output_type": "execute_result",
          "data": {
            "text/plain": [
              "NormaltestResult(statistic=34.173457336415495, pvalue=3.79601592424177e-08)"
            ]
          },
          "metadata": {},
          "execution_count": 26
        }
      ]
    },
    {
      "cell_type": "code",
      "source": [
        "# Jeśli p-value < 0.05 to odrzucamy H0 (Hipoteże zerową), która mówi, że to jest rozkłąd normalny\n",
        "# Więc nasze dane nie są z rozkłądu normalnego"
      ],
      "metadata": {
        "id": "QTwmSvhUutLl"
      },
      "execution_count": null,
      "outputs": []
    },
    {
      "cell_type": "code",
      "source": [
        "data4 = np.random.normal(size = 1000)"
      ],
      "metadata": {
        "id": "f6A7QHGzu3xw"
      },
      "execution_count": null,
      "outputs": []
    },
    {
      "cell_type": "code",
      "source": [
        "stats.normaltest(data4)"
      ],
      "metadata": {
        "colab": {
          "base_uri": "https://localhost:8080/"
        },
        "id": "t7WwVky6vK-O",
        "outputId": "9a73ca82-c662-4e92-8129-03a70e316cfb"
      },
      "execution_count": null,
      "outputs": [
        {
          "output_type": "execute_result",
          "data": {
            "text/plain": [
              "NormaltestResult(statistic=0.9045034107888179, pvalue=0.6361940161044233)"
            ]
          },
          "metadata": {},
          "execution_count": 29
        }
      ]
    },
    {
      "cell_type": "code",
      "source": [
        "normal_data = stats.norm.rvs(size=1000)\n",
        "ks_results = stats.kstest(normal_data, 'norm') \n",
        "print(ks_results)"
      ],
      "metadata": {
        "colab": {
          "base_uri": "https://localhost:8080/"
        },
        "id": "xBkcTqmJvmLB",
        "outputId": "1f850fc1-1bb8-4b47-b58b-8bc3183b87c4"
      },
      "execution_count": null,
      "outputs": [
        {
          "output_type": "stream",
          "name": "stdout",
          "text": [
            "KstestResult(statistic=0.01810988849689793, pvalue=0.8921892513518976, statistic_location=-1.5641590428752719, statistic_sign=1)\n"
          ]
        }
      ]
    },
    {
      "cell_type": "code",
      "source": [
        "normal_data = stats.norm.rvs(size=1000) \n",
        "shapiro_test_results = stats.shapiro(normal_data)\n",
        "print(shapiro_test_results)"
      ],
      "metadata": {
        "colab": {
          "base_uri": "https://localhost:8080/"
        },
        "id": "-PuBC9vivOKW",
        "outputId": "e31c6e63-3f6f-4075-c5f3-ded3e263ad1c"
      },
      "execution_count": null,
      "outputs": [
        {
          "output_type": "stream",
          "name": "stdout",
          "text": [
            "ShapiroResult(statistic=0.9987868666648865, pvalue=0.7463374733924866)\n"
          ]
        }
      ]
    },
    {
      "cell_type": "code",
      "source": [
        "stats.levene(data1, data2)"
      ],
      "metadata": {
        "colab": {
          "base_uri": "https://localhost:8080/"
        },
        "id": "YS7FEfxpvWAF",
        "outputId": "ee213f16-2196-4537-b86c-7ad738932ce3"
      },
      "execution_count": null,
      "outputs": [
        {
          "output_type": "execute_result",
          "data": {
            "text/plain": [
              "LeveneResult(statistic=1.004633704374839, pvalue=0.3455412784983709)"
            ]
          },
          "metadata": {},
          "execution_count": 35
        }
      ]
    },
    {
      "cell_type": "code",
      "source": [
        "# Zadanie 10\n",
        "# Korzystając z testu Shapiro-Wilka sprawdź, czy podana próba ma rozkład normalny: [0.873, 2.817, 0.121, -0.945, -0.055, -1.436, 0.360, -1.478, -1.637, -1.869]. "
      ],
      "metadata": {
        "id": "E3fGjnUxwQ3f"
      },
      "execution_count": null,
      "outputs": []
    }
  ]
}