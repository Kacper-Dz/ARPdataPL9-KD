{
  "nbformat": 4,
  "nbformat_minor": 0,
  "metadata": {
    "colab": {
      "provenance": []
    },
    "kernelspec": {
      "name": "python3",
      "display_name": "Python 3"
    },
    "language_info": {
      "name": "python"
    }
  },
  "cells": [
    {
      "cell_type": "markdown",
      "source": [
        "# Tensorflow - podstawy\n",
        "\n",
        "\n",
        "Podstawowym typem danych są Tensory.\n",
        "\n",
        "Definiowanie tensorów na najniższym poziomie nie wiele różni się od definiowania tablic biblioteki numpy.\n",
        "\n",
        "\n",
        "Biblioteka Tensorflow udostępnia narzędzia do automatycznego liczenia pochodnej, co pomaga w optymalizacji modeli.\n",
        "\n",
        "\n",
        "# Definiowanie Modeli\n",
        "\n",
        "Mamy 3 podstawowe metody definiowania modeli.\n",
        "\n",
        "Sequential API:\n",
        "* modele sekwencyjne - buidowanie sieci z warstw o strukturze listy.\n",
        "\n",
        "Functional API\n",
        "* model funkcyjny - tutaj mamy już większą dowolność w łączeniu warstw. \n",
        "* jest też nieco trudniej ale elastyczniej\n",
        "* modele przyjmują niemal każdą strukturę\n",
        "* warstwy sieci traktujemy jak funkcje - stąd nazwa\n",
        "* każda wartwa musi być zapisana do zmiennej\n",
        "\n",
        "Model subclassing\n",
        "\n",
        "* najtrudniejsza opcja, ale też dająca pełen zakres możliwości\n",
        "* polega na tworzeniu własnej klasy np. `MyModel` dziedziczącej po `tf.keras.Model`\n",
        "* umożliwa np. wielokrotne użycie tej samej warstwy\n",
        "* bardzo często używane w praktyce podejście, wiodące w innych bibliotekach do definiowania sieci neuronowych\n",
        "\n",
        "# Pewne użyteczne metody/fukcje dla modeli\n",
        "\n",
        "* `model.summary()` drukuje schemat sieci w postaci bloku z informacjami o nazwach warstw, strukturze połączeń, liczbie wag i rozmiarach między warstwami.\n",
        "* `tf.keras.utils.plot_model()` grafika reprezuntująca strukturę modelu\n",
        "\n",
        "# Cykl życia modelu\n",
        "\n",
        "1. **Definiowanie** modelu (na jeden z opisanych wyżej sposobów)\n",
        "2. **Kompilowanie** modelu - za pomocą metody `model.compile(...)`. Na tym etapie powinniśmy:\n",
        "* podać odpowiednią funkcję straty\n",
        "* określić jak będziemy optymalizować model podając wybrany optymalizator\n",
        "* określić metryki dla modelu\n",
        "3. **Trenowanie** modelu - za pomocą metody `model.fit()`. Na tym etapie podajemy:\n",
        "* dane treningowe - x i y osobno lub razem w postaci obiektu `tf.data.Dataset`\n",
        "* dane walidacyjne - zawsze razem, albo w postaci tupli albo w postaci obiektu\n",
        "* liczbę epok\n",
        "* rozmiar batcha, jeśli nasze dane nie są już podzielone na batche\n",
        "* dodatkowe funkcje do wykonania w trakcie treningu\n",
        "* można też podać wiele więcej\n",
        "4. **Evaluacja** modelu na zbiorze testowym metodą `model.evaluate(...)`\n",
        "5. **Inferencja** metodą `model.predict(...)`\n",
        "\n"
      ],
      "metadata": {
        "id": "eH96vadX2Nww"
      }
    },
    {
      "cell_type": "code",
      "source": [],
      "metadata": {
        "id": "0EJQ-kQN7-Io"
      },
      "execution_count": null,
      "outputs": []
    }
  ]
}