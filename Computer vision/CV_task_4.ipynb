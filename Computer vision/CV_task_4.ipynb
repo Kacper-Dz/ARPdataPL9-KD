{
 "cells": [
  {
   "cell_type": "code",
   "execution_count": 1,
   "id": "4062d85f",
   "metadata": {},
   "outputs": [],
   "source": [
    "import cv2\n",
    "# from google.colab.patches import cv2_imshow\n",
    "import matplotlib.pyplot as plt\n",
    "import numpy as np"
   ]
  },
  {
   "cell_type": "code",
   "execution_count": 19,
   "id": "4b3130d8",
   "metadata": {},
   "outputs": [],
   "source": [
    "def cv2_imshow(img):\n",
    "#     img = cv2.cvtColor(img, cv2.COLOR_BGR2RGB)\n",
    "    plt.imshow(img, cmap='Greys')\n",
    "    plt.show()"
   ]
  },
  {
   "cell_type": "markdown",
   "id": "38ae7875",
   "metadata": {},
   "source": [
    "# Zadanie 4. Klasyfikacja\n",
    "\n",
    "1. Wczytaj dane MNIST z Sklearn: https://scikit-learn.org/stable/auto_examples/classification/plot_digits_classification.html\n",
    "```py\n",
    "from sklearn import datasets\n",
    "\n",
    "digits = datasets.load_digits()\n",
    "# dane są w digits.images, klasy w digits.target\n",
    "```\n",
    "2. Dla każdego obrazka stwórz wektor cech (podobnie jak w przykładzie ze slajdów - nie jak w przykładzie z Sklearn). Można dodać własne cechy.\n",
    "3. Dokonaj klasyfikacji powstałego datasetu przy użyciu dowolnego klasyfikatora.\n",
    "4. Wyświetl raport klasyfikacji i confusion matrix.\n",
    "```py\n",
    "print(\n",
    "    f\"Classification report for classifier {clf}:\\n\"\n",
    "    f\"{metrics.classification_report(y_test, predicted)}\\n\"\n",
    ")\n",
    "disp = metrics.ConfusionMatrixDisplay.from_predictions(y_test, predicted)\n",
    "disp.figure_.suptitle(\"Confusion Matrix\")\n",
    "plt.show()\n",
    "```\n",
    "5. *Poeksperymentuj z cechami i klasyfikatorami - jaki najlepszy wynik uda Ci się osiągnąć?"
   ]
  },
  {
   "cell_type": "code",
   "execution_count": 3,
   "id": "4ead5413",
   "metadata": {},
   "outputs": [],
   "source": [
    "from sklearn import datasets, svm, metrics\n",
    "from sklearn.ensemble import GradientBoostingClassifier\n",
    "from sklearn.model_selection import train_test_split\n",
    "from sklearn import preprocessing\n",
    "\n",
    "import pandas as pd"
   ]
  },
  {
   "cell_type": "code",
   "execution_count": 4,
   "id": "dc7b05e6",
   "metadata": {},
   "outputs": [],
   "source": [
    "digits = datasets.load_digits()"
   ]
  },
  {
   "cell_type": "code",
   "execution_count": 9,
   "id": "a0d8b6b3",
   "metadata": {},
   "outputs": [
    {
     "data": {
      "text/plain": [
       "array([0, 1, 2, ..., 8, 9, 8])"
      ]
     },
     "execution_count": 9,
     "metadata": {},
     "output_type": "execute_result"
    }
   ],
   "source": [
    "digits.target"
   ]
  },
  {
   "cell_type": "code",
   "execution_count": null,
   "id": "83730286",
   "metadata": {},
   "outputs": [],
   "source": []
  },
  {
   "cell_type": "code",
   "execution_count": 10,
   "id": "40323b61",
   "metadata": {},
   "outputs": [
    {
     "data": {
      "image/png": "[encoded data removed]",
      "text/plain": [
       "<Figure size 1000x300 with 4 Axes>"
      ]
     },
     "metadata": {},
     "output_type": "display_data"
    }
   ],
   "source": [
    "_, axes = plt.subplots(nrows=1, ncols=4, figsize=(10, 3))\n",
    "for ax, image, label in zip(axes, digits.images, digits.target):\n",
    "    ax.set_axis_off()\n",
    "    ax.imshow(image, cmap=plt.cm.gray_r, interpolation=\"nearest\")\n",
    "    ax.set_title(\"Training: %i\" % label)"
   ]
  },
  {
   "cell_type": "code",
   "execution_count": 25,
   "id": "83222be0",
   "metadata": {},
   "outputs": [],
   "source": [
    "image = digits.images[0]"
   ]
  },
  {
   "cell_type": "code",
   "execution_count": 36,
   "id": "405fd85f",
   "metadata": {},
   "outputs": [],
   "source": [
    "def count_features(image):\n",
    "    ret, thresh = cv2.threshold(image, 3, 15, cv2.THRESH_BINARY)\n",
    "    thresh = thresh.astype('uint8')\n",
    "    contours, hierarchy = cv2.findContours(thresh, cv2.RETR_TREE, cv2.CHAIN_APPROX_SIMPLE)\n",
    "    \n",
    "    # odrzucamy kontury wewnętrzne, bierzemy informacje o \"potomkach\"\n",
    "\n",
    "    filtered_contours = []\n",
    "    has_a_child = []\n",
    "\n",
    "    for contour, h in zip(contours, hierarchy[0]):\n",
    "      if h[3] == -1:\n",
    "        filtered_contours.append(contour)\n",
    "        if h[2] != -1:\n",
    "          has_a_child.append(1)\n",
    "        else:\n",
    "          has_a_child.append(0)\n",
    "\n",
    "    # zbieranie cech\n",
    "\n",
    "    features_list = []\n",
    "\n",
    "    for contour, child in zip(filtered_contours, has_a_child):\n",
    "      moments = cv2.moments(contour)\n",
    "      hu_moments = cv2.HuMoments(moments)\n",
    "\n",
    "      area = cv2.contourArea(contour)\n",
    "      lenght = cv2.arcLength(contour, True)\n",
    "\n",
    "      if lenght > 0:\n",
    "        features = {x: hu[0] for x, hu in enumerate(hu_moments)}\n",
    "        features['circularity'] = 4 * np.pi * area / lenght ** 2\n",
    "        features['has_child'] = child\n",
    "        features_list.append(features)\n",
    "\n",
    "    return features_list[0]"
   ]
  },
  {
   "cell_type": "code",
   "execution_count": 37,
   "id": "7a805abd",
   "metadata": {},
   "outputs": [],
   "source": [
    "features = []\n",
    "for image in digits.images:\n",
    "    features.append(count_features(image))"
   ]
  },
  {
   "cell_type": "code",
   "execution_count": 39,
   "id": "5373bc35",
   "metadata": {},
   "outputs": [],
   "source": [
    "data = pd.DataFrame(features)"
   ]
  },
  {
   "cell_type": "code",
   "execution_count": 40,
   "id": "7949af6b",
   "metadata": {},
   "outputs": [
    {
     "data": {
      "text/html": [
       "<div>\n",
       "<style scoped>\n",
       "    .dataframe tbody tr th:only-of-type {\n",
       "        vertical-align: middle;\n",
       "    }\n",
       "\n",
       "    .dataframe tbody tr th {\n",
       "        vertical-align: top;\n",
       "    }\n",
       "\n",
       "    .dataframe thead th {\n",
       "        text-align: right;\n",
       "    }\n",
       "</style>\n",
       "<table border=\"1\" class=\"dataframe\">\n",
       "  <thead>\n",
       "    <tr style=\"text-align: right;\">\n",
       "      <th></th>\n",
       "      <th>0</th>\n",
       "      <th>1</th>\n",
       "      <th>2</th>\n",
       "      <th>3</th>\n",
       "      <th>4</th>\n",
       "      <th>5</th>\n",
       "      <th>6</th>\n",
       "      <th>circularity</th>\n",
       "      <th>has_child</th>\n",
       "    </tr>\n",
       "  </thead>\n",
       "  <tbody>\n",
       "    <tr>\n",
       "      <th>0</th>\n",
       "      <td>0.172928</td>\n",
       "      <td>0.003447</td>\n",
       "      <td>0.000047</td>\n",
       "      <td>0.000003</td>\n",
       "      <td>9.074549e-12</td>\n",
       "      <td>-6.171537e-08</td>\n",
       "      <td>3.056466e-11</td>\n",
       "      <td>0.778340</td>\n",
       "      <td>1</td>\n",
       "    </tr>\n",
       "    <tr>\n",
       "      <th>1</th>\n",
       "      <td>0.366371</td>\n",
       "      <td>0.093070</td>\n",
       "      <td>0.002526</td>\n",
       "      <td>0.000339</td>\n",
       "      <td>-7.007427e-08</td>\n",
       "      <td>-4.814193e-05</td>\n",
       "      <td>3.056740e-07</td>\n",
       "      <td>0.348307</td>\n",
       "      <td>0</td>\n",
       "    </tr>\n",
       "    <tr>\n",
       "      <th>2</th>\n",
       "      <td>0.291585</td>\n",
       "      <td>0.032192</td>\n",
       "      <td>0.006579</td>\n",
       "      <td>0.000424</td>\n",
       "      <td>-4.826692e-07</td>\n",
       "      <td>-7.568018e-05</td>\n",
       "      <td>5.170084e-07</td>\n",
       "      <td>0.393039</td>\n",
       "      <td>0</td>\n",
       "    </tr>\n",
       "    <tr>\n",
       "      <th>3</th>\n",
       "      <td>0.530079</td>\n",
       "      <td>0.154874</td>\n",
       "      <td>0.007195</td>\n",
       "      <td>0.000967</td>\n",
       "      <td>-1.135156e-06</td>\n",
       "      <td>-3.729894e-04</td>\n",
       "      <td>-2.284972e-06</td>\n",
       "      <td>0.239040</td>\n",
       "      <td>0</td>\n",
       "    </tr>\n",
       "    <tr>\n",
       "      <th>4</th>\n",
       "      <td>0.209218</td>\n",
       "      <td>0.002271</td>\n",
       "      <td>0.001524</td>\n",
       "      <td>0.000005</td>\n",
       "      <td>3.760609e-10</td>\n",
       "      <td>2.000585e-08</td>\n",
       "      <td>-2.417371e-10</td>\n",
       "      <td>0.449177</td>\n",
       "      <td>1</td>\n",
       "    </tr>\n",
       "    <tr>\n",
       "      <th>...</th>\n",
       "      <td>...</td>\n",
       "      <td>...</td>\n",
       "      <td>...</td>\n",
       "      <td>...</td>\n",
       "      <td>...</td>\n",
       "      <td>...</td>\n",
       "      <td>...</td>\n",
       "      <td>...</td>\n",
       "      <td>...</td>\n",
       "    </tr>\n",
       "    <tr>\n",
       "      <th>1792</th>\n",
       "      <td>0.246197</td>\n",
       "      <td>0.017655</td>\n",
       "      <td>0.001511</td>\n",
       "      <td>0.000985</td>\n",
       "      <td>1.051330e-06</td>\n",
       "      <td>8.715762e-05</td>\n",
       "      <td>-5.817445e-07</td>\n",
       "      <td>0.411830</td>\n",
       "      <td>1</td>\n",
       "    </tr>\n",
       "    <tr>\n",
       "      <th>1793</th>\n",
       "      <td>0.175311</td>\n",
       "      <td>0.004413</td>\n",
       "      <td>0.000032</td>\n",
       "      <td>0.000003</td>\n",
       "      <td>2.372712e-11</td>\n",
       "      <td>1.553177e-07</td>\n",
       "      <td>2.521061e-11</td>\n",
       "      <td>0.750200</td>\n",
       "      <td>1</td>\n",
       "    </tr>\n",
       "    <tr>\n",
       "      <th>1794</th>\n",
       "      <td>0.217476</td>\n",
       "      <td>0.019500</td>\n",
       "      <td>0.000024</td>\n",
       "      <td>0.000005</td>\n",
       "      <td>2.323559e-11</td>\n",
       "      <td>7.200247e-07</td>\n",
       "      <td>-5.280548e-11</td>\n",
       "      <td>0.617925</td>\n",
       "      <td>0</td>\n",
       "    </tr>\n",
       "    <tr>\n",
       "      <th>1795</th>\n",
       "      <td>0.239410</td>\n",
       "      <td>0.008527</td>\n",
       "      <td>0.002398</td>\n",
       "      <td>0.001817</td>\n",
       "      <td>3.700430e-06</td>\n",
       "      <td>1.531566e-04</td>\n",
       "      <td>-8.361332e-07</td>\n",
       "      <td>0.392219</td>\n",
       "      <td>1</td>\n",
       "    </tr>\n",
       "    <tr>\n",
       "      <th>1796</th>\n",
       "      <td>0.207509</td>\n",
       "      <td>0.010950</td>\n",
       "      <td>0.002262</td>\n",
       "      <td>0.000229</td>\n",
       "      <td>1.602544e-07</td>\n",
       "      <td>2.361191e-05</td>\n",
       "      <td>3.939761e-08</td>\n",
       "      <td>0.665127</td>\n",
       "      <td>0</td>\n",
       "    </tr>\n",
       "  </tbody>\n",
       "</table>\n",
       "<p>1797 rows × 9 columns</p>\n",
       "</div>"
      ],
      "text/plain": [
       "             0         1         2         3             4             5  \\\n",
       "0     0.172928  0.003447  0.000047  0.000003  9.074549e-12 -6.171537e-08   \n",
       "1     0.366371  0.093070  0.002526  0.000339 -7.007427e-08 -4.814193e-05   \n",
       "2     0.291585  0.032192  0.006579  0.000424 -4.826692e-07 -7.568018e-05   \n",
       "3     0.530079  0.154874  0.007195  0.000967 -1.135156e-06 -3.729894e-04   \n",
       "4     0.209218  0.002271  0.001524  0.000005  3.760609e-10  2.000585e-08   \n",
       "...        ...       ...       ...       ...           ...           ...   \n",
       "1792  0.246197  0.017655  0.001511  0.000985  1.051330e-06  8.715762e-05   \n",
       "1793  0.175311  0.004413  0.000032  0.000003  2.372712e-11  1.553177e-07   \n",
       "1794  0.217476  0.019500  0.000024  0.000005  2.323559e-11  7.200247e-07   \n",
       "1795  0.239410  0.008527  0.002398  0.001817  3.700430e-06  1.531566e-04   \n",
       "1796  0.207509  0.010950  0.002262  0.000229  1.602544e-07  2.361191e-05   \n",
       "\n",
       "                 6  circularity  has_child  \n",
       "0     3.056466e-11     0.778340          1  \n",
       "1     3.056740e-07     0.348307          0  \n",
       "2     5.170084e-07     0.393039          0  \n",
       "3    -2.284972e-06     0.239040          0  \n",
       "4    -2.417371e-10     0.449177          1  \n",
       "...            ...          ...        ...  \n",
       "1792 -5.817445e-07     0.411830          1  \n",
       "1793  2.521061e-11     0.750200          1  \n",
       "1794 -5.280548e-11     0.617925          0  \n",
       "1795 -8.361332e-07     0.392219          1  \n",
       "1796  3.939761e-08     0.665127          0  \n",
       "\n",
       "[1797 rows x 9 columns]"
      ]
     },
     "execution_count": 40,
     "metadata": {},
     "output_type": "execute_result"
    }
   ],
   "source": [
    "data"
   ]
  },
  {
   "cell_type": "code",
   "execution_count": null,
   "id": "1c2fc835",
   "metadata": {},
   "outputs": [],
   "source": []
  },
  {
   "cell_type": "code",
   "execution_count": null,
   "id": "92f90fa4",
   "metadata": {},
   "outputs": [],
   "source": []
  },
  {
   "cell_type": "code",
   "execution_count": null,
   "id": "bdc53243",
   "metadata": {},
   "outputs": [],
   "source": []
  },
  {
   "cell_type": "code",
   "execution_count": null,
   "id": "ac2a677f",
   "metadata": {},
   "outputs": [],
   "source": []
  },
  {
   "cell_type": "code",
   "execution_count": null,
   "id": "50b373e1",
   "metadata": {},
   "outputs": [],
   "source": [
    "def get_features(sample):\n",
    "    sample = sample.astype('uint8')\n",
    "    ret, thresh = cv2.threshold(sample, 5, 255, cv2.THRESH_BINARY)\n",
    "    thresh = thresh.astype('uint8')\n",
    "    contours, hierarchy = cv2.findContours(thresh, cv2.RETR_TREE, cv2.CHAIN_APPROX_SIMPLE)\n",
    "    #odrzucamy kontury wewnętrzne, bierzemy informacje o \"potomkach\"\n",
    "\n",
    "    filtered_contours = []\n",
    "    has_a_child = []\n",
    "\n",
    "    for contour, h in zip(contours, hierarchy[0]):\n",
    "      if h[3] == -1:\n",
    "        filtered_contours.append(contour)\n",
    "        if h[2] != -1:\n",
    "          has_a_child.append(1)\n",
    "        else:\n",
    "          has_a_child.append(0)\n",
    "\n",
    "    #zbieranie cech\n",
    "\n",
    "    features_list = []\n",
    "\n",
    "    for contour, child in zip(filtered_contours, has_a_child):\n",
    "      moments = cv2.moments(contour)\n",
    "      hu_moments = cv2.HuMoments(moments)\n",
    "\n",
    "      area = cv2.contourArea(contour)\n",
    "      lenght = cv2.arcLength(contour, True)\n",
    "\n",
    "      if lenght > 0:\n",
    "        features = {x: hu[0] for x, hu in enumerate(hu_moments)}\n",
    "        features['circularity'] = 4 * np.pi * area / lenght ** 2\n",
    "        features['has_child'] = child\n",
    "        features_list.append(features)\n",
    "\n",
    "#     print(features_list)\n",
    "    \n",
    "    if len(features_list) > 1:\n",
    "        new_features_list = [{}]\n",
    "        for key in features_list[0].keys():\n",
    "            new_features_list[0][key] = np.mean([feat[key] for feat in features_list])\n",
    "        features_list = new_features_list\n",
    "    return features_list[0]"
   ]
  },
  {
   "cell_type": "code",
   "execution_count": null,
   "id": "27c255cc",
   "metadata": {},
   "outputs": [],
   "source": [
    "features = []\n",
    "for sample in digits.images:\n",
    "    feats = get_features(sample)\n",
    "    features.append(feats)"
   ]
  },
  {
   "cell_type": "code",
   "execution_count": null,
   "id": "d3b813aa",
   "metadata": {},
   "outputs": [],
   "source": [
    "data = pd.DataFrame(features)\n",
    "\n",
    "data.columns = data.columns.astype(str)\n",
    "data"
   ]
  },
  {
   "cell_type": "code",
   "execution_count": null,
   "id": "dd078781",
   "metadata": {},
   "outputs": [],
   "source": [
    "# Create a classifier: a support vector classifier\n",
    "clf = GradientBoostingClassifier()\n",
    "\n",
    "X_train, X_test, y_train, y_test = train_test_split(\n",
    "    data, digits.target, test_size=0.2, stratify=digits.target\n",
    ")"
   ]
  },
  {
   "cell_type": "code",
   "execution_count": null,
   "id": "f7dc4bde",
   "metadata": {},
   "outputs": [],
   "source": [
    "#normalizacja\n",
    "normalizer = preprocessing.Normalizer()\n",
    "X_train = normalizer.fit_transform(X_train)\n",
    "X_test = normalizer.transform(X_test)\n",
    "\n",
    "# Learn the digits on the train subset\n",
    "clf.fit(X_train, y_train)\n",
    "\n",
    "# Predict the value of the digit on the test subset\n",
    "predicted = clf.predict(X_test)"
   ]
  },
  {
   "cell_type": "code",
   "execution_count": null,
   "id": "9f81da65",
   "metadata": {},
   "outputs": [],
   "source": [
    "print(\n",
    "    f\"Classification report for classifier {clf}:\\n\"\n",
    "    f\"{metrics.classification_report(y_test, predicted)}\\n\"\n",
    ")"
   ]
  },
  {
   "cell_type": "code",
   "execution_count": null,
   "id": "99416344",
   "metadata": {},
   "outputs": [],
   "source": [
    "disp = metrics.ConfusionMatrixDisplay.from_predictions(y_test, predicted)\n",
    "disp.figure_.suptitle(\"Confusion Matrix\")\n",
    "# print(f\"Confusion matrix:\\n{disp.confusion_matrix}\")\n",
    "\n",
    "plt.show()"
   ]
  },
  {
   "cell_type": "code",
   "execution_count": 3,
   "id": "20ffa5a7",
   "metadata": {},
   "outputs": [
    {
     "name": "stdout",
     "output_type": "stream",
     "text": [
      "Length of list: 8\n",
      "Length of set: 8\n",
      "[['MateuszM', 'PatrycjaK', 'KacperD'],\n",
      " ['MiłaD', 'EwelinaU', 'PatrykS'],\n",
      " ['PawelA', 'PawelŻ'],\n",
      " ['Mikołaj', 'MateuszB']]\n"
     ]
    }
   ],
   "source": [
    "import random\n",
    "import pprint\n",
    "\n",
    "list_of_participants = [\"EwelinaU\", \"MateuszM\", \"MateuszB\",\n",
    "                        \"Mikołaj\", \"MiłaD\", \"PatrycjaK\", \"PawelA\", \"PawelŻ\"]\n",
    "print(\"Length of list:\",len(list_of_participants))\n",
    "print(\"Length of set:\",len(set(list_of_participants)))\n",
    "\n",
    "random.shuffle(list_of_participants)\n",
    "\n",
    "groups_of_three = []\n",
    "group = []\n",
    "\n",
    "for participant in list_of_participants:\n",
    "    group.append(participant)\n",
    "    if len(group) == 2:\n",
    "        groups_of_three.append(group)\n",
    "        group = []\n",
    "    if not list_of_participants:\n",
    "        break\n",
    "\n",
    "groups_of_three[0].append('KacperD')\n",
    "groups_of_three[1].append('PatrykS')\n",
    "\n",
    "pprint.pprint(groups_of_three) "
   ]
  },
  {
   "cell_type": "code",
   "execution_count": null,
   "id": "00e54d9c",
   "metadata": {},
   "outputs": [],
   "source": []
  }
 ],
 "metadata": {
  "kernelspec": {
   "display_name": "Python 3 (ipykernel)",
   "language": "python",
   "name": "python3"
  },
  "language_info": {
   "codemirror_mode": {
    "name": "ipython",
    "version": 3
   },
   "file_extension": ".py",
   "mimetype": "text/x-python",
   "name": "python",
   "nbconvert_exporter": "python",
   "pygments_lexer": "ipython3",
   "version": "3.10.10"
  }
 },
 "nbformat": 4,
 "nbformat_minor": 5
}
